{
    "metadata": {
        "kernelspec": {
            "name": "SQL",
            "display_name": "SQL",
            "language": "sql"
        },
        "language_info": {
            "name": "sql",
            "version": ""
        }
    },
    "nbformat_minor": 2,
    "nbformat": 4,
    "cells": [
        {
            "cell_type": "markdown",
            "source": [
                "# **/\\*\\*\\*\\*\\*\\*\\*\\*\\*\\*\\*\\*\\*\\*\\*\\*\\*\\*\\*\\*\\*\\*\\*\\*\\*\\*\\*\\*\\*\\*\\*\\*\\*INTERMEDIATE SQL\\*\\*\\*\\*\\*\\*\\*\\*\\*\\*\\*\\*\\*\\*\\*\\*\\*\\*\\*\\*\\*\\*\\*\\*\\*\\*\\*\\*\\*\\*\\*\\*\\*\\*\\*\\*\\*\\*\\*\\*\\*/**"
            ],
            "metadata": {
                "azdata_cell_guid": "6e9c6a05-8580-4163-820f-0b995a1e64e9"
            }
        },
        {
            "cell_type": "markdown",
            "source": [
                "## **INNER JOIN , LEFT/RIGHT/FULL  OUTER JOIN**"
            ],
            "metadata": {
                "azdata_cell_guid": "283eb0bc-c6af-4d05-817b-12bd547c2306"
            }
        },
        {
            "cell_type": "markdown",
            "source": [
                "### **Add new rows in** **EmployDemographics**"
            ],
            "metadata": {
                "azdata_cell_guid": "3acd241c-fc59-41ce-b1e9-0a47b5aec6b9"
            }
        },
        {
            "cell_type": "code",
            "source": [
                "Insert into EmployeeDemographics VALUES\r\n",
                "(1011, 'Ryan', 'Howard', 26, 'Male'),\r\n",
                "(NULL, 'Holly', 'Flax', NULL, NULL),\r\n",
                "(1013, 'Darryl', 'Philbin', NULL, 'Male')"
            ],
            "metadata": {
                "azdata_cell_guid": "3d97086a-c843-4e06-9133-8d0f6a15ad07"
            },
            "outputs": [
                {
                    "output_type": "display_data",
                    "data": {
                        "text/html": "(3 rows affected)"
                    },
                    "metadata": {}
                },
                {
                    "output_type": "display_data",
                    "data": {
                        "text/html": "Total execution time: 00:00:03.981"
                    },
                    "metadata": {}
                }
            ],
            "execution_count": 1
        },
        {
            "cell_type": "markdown",
            "source": [
                "## Create new  Table called **WareHouseEmployeeDemograhics**"
            ],
            "metadata": {
                "azdata_cell_guid": "2c18bb18-9020-4777-a749-1e1f337482bf"
            }
        },
        {
            "cell_type": "code",
            "source": [
                "Create Table WareHouseEmployeeDemographics \r\n",
                "(EmployeeID int, \r\n",
                "FirstName varchar(50), \r\n",
                "LastName varchar(50), \r\n",
                "Age int, \r\n",
                "Gender varchar(50)\r\n",
                ")"
            ],
            "metadata": {
                "azdata_cell_guid": "d25cefb8-0183-47f9-8744-0a74c2c8fd4a"
            },
            "outputs": [
                {
                    "output_type": "display_data",
                    "data": {
                        "text/html": "Commands completed successfully."
                    },
                    "metadata": {}
                },
                {
                    "output_type": "display_data",
                    "data": {
                        "text/html": "Total execution time: 00:00:03.320"
                    },
                    "metadata": {}
                }
            ],
            "execution_count": 2
        },
        {
            "cell_type": "markdown",
            "source": [
                "### **Add new rows in WareHouseEmployeeDemographics**"
            ],
            "metadata": {
                "azdata_cell_guid": "a28cd161-c265-41a6-af78-70f43fb717b9"
            }
        },
        {
            "cell_type": "code",
            "source": [
                "Insert into WareHouseEmployeeDemographics VALUES\r\n",
                "(1013, 'Darryl', 'Philbin', NULL, 'Male'),\r\n",
                "(1050, 'Roy', 'Anderson', 31, 'Male'),\r\n",
                "(1051, 'Hidetoshi', 'Hasagawa', 40, 'Male'),\r\n",
                "(1052, 'Val', 'Johnson', 31, 'Female')"
            ],
            "metadata": {
                "azdata_cell_guid": "20a2e407-48cb-4706-b84c-6b5ba9754190"
            },
            "outputs": [
                {
                    "output_type": "display_data",
                    "data": {
                        "text/html": "(4 rows affected)"
                    },
                    "metadata": {}
                },
                {
                    "output_type": "display_data",
                    "data": {
                        "text/html": "Total execution time: 00:00:03.180"
                    },
                    "metadata": {}
                }
            ],
            "execution_count": 3
        },
        {
            "cell_type": "markdown",
            "source": [
                "### **Add new rows in EmployeeSalary**"
            ],
            "metadata": {
                "azdata_cell_guid": "7c456cd5-1a9a-4f3c-9379-f12d95dd7352"
            }
        },
        {
            "cell_type": "code",
            "source": [
                "INSERT INTO EmployeeSalary VALUES\r\n",
                "(NULL,'HR',35000)"
            ],
            "metadata": {
                "azdata_cell_guid": "2851cd19-1ffd-46bd-b205-0ed1bcdb3180"
            },
            "outputs": [
                {
                    "output_type": "display_data",
                    "data": {
                        "text/html": "(3 rows affected)"
                    },
                    "metadata": {}
                },
                {
                    "output_type": "display_data",
                    "data": {
                        "text/html": "Total execution time: 00:00:00.141"
                    },
                    "metadata": {}
                }
            ],
            "execution_count": 11
        },
        {
            "cell_type": "markdown",
            "source": [
                "### **Select both Table EmployeeDemographics and EmployeeSalary**"
            ],
            "metadata": {
                "azdata_cell_guid": "ab0f7c0b-4610-4a94-981a-07335662aca5"
            }
        },
        {
            "cell_type": "code",
            "source": [
                "SELECT *\r\n",
                "FROM EmployeeSalary\r\n",
                "SELECT *\r\n",
                "FROM EmployeeDemographics"
            ],
            "metadata": {
                "azdata_cell_guid": "64e28310-33d3-4bcb-b56d-38b56fa4965c",
                "tags": []
            },
            "outputs": [
                {
                    "output_type": "display_data",
                    "data": {
                        "text/html": "(12 rows affected)"
                    },
                    "metadata": {}
                },
                {
                    "output_type": "display_data",
                    "data": {
                        "text/html": "(12 rows affected)"
                    },
                    "metadata": {}
                },
                {
                    "output_type": "display_data",
                    "data": {
                        "text/html": "Total execution time: 00:00:00.080"
                    },
                    "metadata": {}
                },
                {
                    "output_type": "execute_result",
                    "execution_count": 22,
                    "data": {
                        "application/vnd.dataresource+json": {
                            "schema": {
                                "fields": [
                                    {
                                        "name": "EmployeeID"
                                    },
                                    {
                                        "name": "JobTitle"
                                    },
                                    {
                                        "name": "Salary"
                                    }
                                ]
                            },
                            "data": [
                                {
                                    "0": "1001",
                                    "1": "Salesman",
                                    "2": "45000"
                                },
                                {
                                    "0": "1002",
                                    "1": "Receptionist",
                                    "2": "36000"
                                },
                                {
                                    "0": "1003",
                                    "1": "Salesman",
                                    "2": "63000"
                                },
                                {
                                    "0": "1004",
                                    "1": "Accountant",
                                    "2": "47000"
                                },
                                {
                                    "0": "1005",
                                    "1": "HR",
                                    "2": "50000"
                                },
                                {
                                    "0": "1006",
                                    "1": "Regional Manager",
                                    "2": "65000"
                                },
                                {
                                    "0": "1007",
                                    "1": "Supplier Relations",
                                    "2": "41000"
                                },
                                {
                                    "0": "1008",
                                    "1": "Salesman",
                                    "2": "48000"
                                },
                                {
                                    "0": "1009",
                                    "1": "Accountant",
                                    "2": "42000"
                                },
                                {
                                    "0": "1010",
                                    "1": "NULL",
                                    "2": "47000"
                                },
                                {
                                    "0": "1011",
                                    "1": "Salesman",
                                    "2": "43000"
                                },
                                {
                                    "0": "NULL",
                                    "1": "HR",
                                    "2": "35000"
                                }
                            ]
                        },
                        "text/html": "<table><tr><th>EmployeeID</th><th>JobTitle</th><th>Salary</th></tr><tr><td>1001</td><td>Salesman</td><td>45000</td></tr><tr><td>1002</td><td>Receptionist</td><td>36000</td></tr><tr><td>1003</td><td>Salesman</td><td>63000</td></tr><tr><td>1004</td><td>Accountant</td><td>47000</td></tr><tr><td>1005</td><td>HR</td><td>50000</td></tr><tr><td>1006</td><td>Regional Manager</td><td>65000</td></tr><tr><td>1007</td><td>Supplier Relations</td><td>41000</td></tr><tr><td>1008</td><td>Salesman</td><td>48000</td></tr><tr><td>1009</td><td>Accountant</td><td>42000</td></tr><tr><td>1010</td><td>NULL</td><td>47000</td></tr><tr><td>1011</td><td>Salesman</td><td>43000</td></tr><tr><td>NULL</td><td>HR</td><td>35000</td></tr></table>"
                    },
                    "metadata": {}
                },
                {
                    "output_type": "execute_result",
                    "execution_count": 22,
                    "data": {
                        "application/vnd.dataresource+json": {
                            "schema": {
                                "fields": [
                                    {
                                        "name": "EmployeeID"
                                    },
                                    {
                                        "name": "FirstName"
                                    },
                                    {
                                        "name": "LastName"
                                    },
                                    {
                                        "name": "Age"
                                    },
                                    {
                                        "name": "Gender"
                                    }
                                ]
                            },
                            "data": [
                                {
                                    "0": "1001",
                                    "1": "Jim",
                                    "2": "Harin",
                                    "3": "32",
                                    "4": "Male"
                                },
                                {
                                    "0": "1002",
                                    "1": "John",
                                    "2": "Mark",
                                    "3": "35",
                                    "4": "Male"
                                },
                                {
                                    "0": "1003",
                                    "1": "Riya",
                                    "2": "Ray",
                                    "3": "28",
                                    "4": "Female"
                                },
                                {
                                    "0": "1004",
                                    "1": "Harry",
                                    "2": "pal",
                                    "3": "36",
                                    "4": "Male"
                                },
                                {
                                    "0": "1005",
                                    "1": "Ram",
                                    "2": "Singh",
                                    "3": "38",
                                    "4": "Male"
                                },
                                {
                                    "0": "1006",
                                    "1": "Harry",
                                    "2": "pal",
                                    "3": "36",
                                    "4": "Male"
                                },
                                {
                                    "0": "1007",
                                    "1": "Meredith",
                                    "2": "Palmer",
                                    "3": "32",
                                    "4": "Female"
                                },
                                {
                                    "0": "1008",
                                    "1": "Stanley",
                                    "2": "Hudson",
                                    "3": "38",
                                    "4": "Male"
                                },
                                {
                                    "0": "1009",
                                    "1": "Kevin",
                                    "2": "Malone",
                                    "3": "31",
                                    "4": "Male"
                                },
                                {
                                    "0": "1011",
                                    "1": "Ryan",
                                    "2": "Howard",
                                    "3": "26",
                                    "4": "Male"
                                },
                                {
                                    "0": "NULL",
                                    "1": "Holly",
                                    "2": "Flax",
                                    "3": "NULL",
                                    "4": "NULL"
                                },
                                {
                                    "0": "1013",
                                    "1": "Darryl",
                                    "2": "Philbin",
                                    "3": "NULL",
                                    "4": "Male"
                                }
                            ]
                        },
                        "text/html": "<table><tr><th>EmployeeID</th><th>FirstName</th><th>LastName</th><th>Age</th><th>Gender</th></tr><tr><td>1001</td><td>Jim</td><td>Harin</td><td>32</td><td>Male</td></tr><tr><td>1002</td><td>John</td><td>Mark</td><td>35</td><td>Male</td></tr><tr><td>1003</td><td>Riya</td><td>Ray</td><td>28</td><td>Female</td></tr><tr><td>1004</td><td>Harry</td><td>pal</td><td>36</td><td>Male</td></tr><tr><td>1005</td><td>Ram</td><td>Singh</td><td>38</td><td>Male</td></tr><tr><td>1006</td><td>Harry</td><td>pal</td><td>36</td><td>Male</td></tr><tr><td>1007</td><td>Meredith</td><td>Palmer</td><td>32</td><td>Female</td></tr><tr><td>1008</td><td>Stanley</td><td>Hudson</td><td>38</td><td>Male</td></tr><tr><td>1009</td><td>Kevin</td><td>Malone</td><td>31</td><td>Male</td></tr><tr><td>1011</td><td>Ryan</td><td>Howard</td><td>26</td><td>Male</td></tr><tr><td>NULL</td><td>Holly</td><td>Flax</td><td>NULL</td><td>NULL</td></tr><tr><td>1013</td><td>Darryl</td><td>Philbin</td><td>NULL</td><td>Male</td></tr></table>"
                    },
                    "metadata": {}
                }
            ],
            "execution_count": 22
        },
        {
            "cell_type": "markdown",
            "source": [
                "## **DELETE** the row"
            ],
            "metadata": {
                "azdata_cell_guid": "e23be362-d043-4dde-9c34-b0e027b3c0be"
            }
        },
        {
            "cell_type": "code",
            "source": [
                "DELETE FROM EmployeeSalary\r\n",
                "WHERE EmployeeID IN (1010,1011)\r\n",
                "\r\n",
                "SELECT*FROM EmployeeSalary"
            ],
            "metadata": {
                "azdata_cell_guid": "8b11a67a-d28a-4b63-9758-c0615c10fffb",
                "tags": []
            },
            "outputs": [
                {
                    "output_type": "display_data",
                    "data": {
                        "text/html": "(2 rows affected)"
                    },
                    "metadata": {}
                },
                {
                    "output_type": "display_data",
                    "data": {
                        "text/html": "(10 rows affected)"
                    },
                    "metadata": {}
                },
                {
                    "output_type": "display_data",
                    "data": {
                        "text/html": "Total execution time: 00:00:00.085"
                    },
                    "metadata": {}
                },
                {
                    "output_type": "execute_result",
                    "execution_count": 23,
                    "data": {
                        "application/vnd.dataresource+json": {
                            "schema": {
                                "fields": [
                                    {
                                        "name": "EmployeeID"
                                    },
                                    {
                                        "name": "JobTitle"
                                    },
                                    {
                                        "name": "Salary"
                                    }
                                ]
                            },
                            "data": [
                                {
                                    "0": "1001",
                                    "1": "Salesman",
                                    "2": "45000"
                                },
                                {
                                    "0": "1002",
                                    "1": "Receptionist",
                                    "2": "36000"
                                },
                                {
                                    "0": "1003",
                                    "1": "Salesman",
                                    "2": "63000"
                                },
                                {
                                    "0": "1004",
                                    "1": "Accountant",
                                    "2": "47000"
                                },
                                {
                                    "0": "1005",
                                    "1": "HR",
                                    "2": "50000"
                                },
                                {
                                    "0": "1006",
                                    "1": "Regional Manager",
                                    "2": "65000"
                                },
                                {
                                    "0": "1007",
                                    "1": "Supplier Relations",
                                    "2": "41000"
                                },
                                {
                                    "0": "1008",
                                    "1": "Salesman",
                                    "2": "48000"
                                },
                                {
                                    "0": "1009",
                                    "1": "Accountant",
                                    "2": "42000"
                                },
                                {
                                    "0": "NULL",
                                    "1": "HR",
                                    "2": "35000"
                                }
                            ]
                        },
                        "text/html": "<table><tr><th>EmployeeID</th><th>JobTitle</th><th>Salary</th></tr><tr><td>1001</td><td>Salesman</td><td>45000</td></tr><tr><td>1002</td><td>Receptionist</td><td>36000</td></tr><tr><td>1003</td><td>Salesman</td><td>63000</td></tr><tr><td>1004</td><td>Accountant</td><td>47000</td></tr><tr><td>1005</td><td>HR</td><td>50000</td></tr><tr><td>1006</td><td>Regional Manager</td><td>65000</td></tr><tr><td>1007</td><td>Supplier Relations</td><td>41000</td></tr><tr><td>1008</td><td>Salesman</td><td>48000</td></tr><tr><td>1009</td><td>Accountant</td><td>42000</td></tr><tr><td>NULL</td><td>HR</td><td>35000</td></tr></table>"
                    },
                    "metadata": {}
                }
            ],
            "execution_count": 23
        },
        {
            "cell_type": "markdown",
            "source": [
                "### \n",
                "\n",
                "- Insert new rows in **EmployeeSalary**"
            ],
            "metadata": {
                "azdata_cell_guid": "7ae09646-47cf-4cfd-9d39-035e0c1f7b52"
            }
        },
        {
            "cell_type": "code",
            "source": [
                "INSERT INTO EmployeeSalary VALUES\r\n",
                "(1010,NULL,47000),\r\n",
                "(1011,'Salesman',43000)\r\n",
                "\r\n",
                "SELECT*FROM EmployeeSalary"
            ],
            "metadata": {
                "azdata_cell_guid": "274ad7fe-5cc3-4d41-be9b-52419bba081a"
            },
            "outputs": [
                {
                    "output_type": "display_data",
                    "data": {
                        "text/html": "(2 rows affected)"
                    },
                    "metadata": {}
                },
                {
                    "output_type": "display_data",
                    "data": {
                        "text/html": "(12 rows affected)"
                    },
                    "metadata": {}
                },
                {
                    "output_type": "display_data",
                    "data": {
                        "text/html": "Total execution time: 00:00:00.029"
                    },
                    "metadata": {}
                },
                {
                    "output_type": "execute_result",
                    "execution_count": 24,
                    "data": {
                        "application/vnd.dataresource+json": {
                            "schema": {
                                "fields": [
                                    {
                                        "name": "EmployeeID"
                                    },
                                    {
                                        "name": "JobTitle"
                                    },
                                    {
                                        "name": "Salary"
                                    }
                                ]
                            },
                            "data": [
                                {
                                    "0": "1001",
                                    "1": "Salesman",
                                    "2": "45000"
                                },
                                {
                                    "0": "1002",
                                    "1": "Receptionist",
                                    "2": "36000"
                                },
                                {
                                    "0": "1003",
                                    "1": "Salesman",
                                    "2": "63000"
                                },
                                {
                                    "0": "1004",
                                    "1": "Accountant",
                                    "2": "47000"
                                },
                                {
                                    "0": "1005",
                                    "1": "HR",
                                    "2": "50000"
                                },
                                {
                                    "0": "1006",
                                    "1": "Regional Manager",
                                    "2": "65000"
                                },
                                {
                                    "0": "1007",
                                    "1": "Supplier Relations",
                                    "2": "41000"
                                },
                                {
                                    "0": "1008",
                                    "1": "Salesman",
                                    "2": "48000"
                                },
                                {
                                    "0": "1009",
                                    "1": "Accountant",
                                    "2": "42000"
                                },
                                {
                                    "0": "1010",
                                    "1": "NULL",
                                    "2": "47000"
                                },
                                {
                                    "0": "1011",
                                    "1": "Salesman",
                                    "2": "43000"
                                },
                                {
                                    "0": "NULL",
                                    "1": "HR",
                                    "2": "35000"
                                }
                            ]
                        },
                        "text/html": "<table><tr><th>EmployeeID</th><th>JobTitle</th><th>Salary</th></tr><tr><td>1001</td><td>Salesman</td><td>45000</td></tr><tr><td>1002</td><td>Receptionist</td><td>36000</td></tr><tr><td>1003</td><td>Salesman</td><td>63000</td></tr><tr><td>1004</td><td>Accountant</td><td>47000</td></tr><tr><td>1005</td><td>HR</td><td>50000</td></tr><tr><td>1006</td><td>Regional Manager</td><td>65000</td></tr><tr><td>1007</td><td>Supplier Relations</td><td>41000</td></tr><tr><td>1008</td><td>Salesman</td><td>48000</td></tr><tr><td>1009</td><td>Accountant</td><td>42000</td></tr><tr><td>1010</td><td>NULL</td><td>47000</td></tr><tr><td>1011</td><td>Salesman</td><td>43000</td></tr><tr><td>NULL</td><td>HR</td><td>35000</td></tr></table>"
                    },
                    "metadata": {}
                }
            ],
            "execution_count": 24
        },
        {
            "cell_type": "markdown",
            "source": [
                "## **INNER  JOIN**"
            ],
            "metadata": {
                "azdata_cell_guid": "1bc7a5ba-0a09-4784-9eee-e37cdaa8ef17"
            }
        },
        {
            "cell_type": "code",
            "source": [
                "SELECT *\r\n",
                "FROM EmployeeDemographics\r\n",
                "INNER JOIN EmployeeSalary\r\n",
                "ON EmployeeDemographics.EmployeeID=EmployeeSalary.EmployeeID"
            ],
            "metadata": {
                "azdata_cell_guid": "1f5947c9-cfa4-4043-a5a9-603642837ace"
            },
            "outputs": [
                {
                    "output_type": "display_data",
                    "data": {
                        "text/html": "(10 rows affected)"
                    },
                    "metadata": {}
                },
                {
                    "output_type": "display_data",
                    "data": {
                        "text/html": "Total execution time: 00:00:00.025"
                    },
                    "metadata": {}
                },
                {
                    "output_type": "execute_result",
                    "execution_count": 25,
                    "data": {
                        "application/vnd.dataresource+json": {
                            "schema": {
                                "fields": [
                                    {
                                        "name": "EmployeeID"
                                    },
                                    {
                                        "name": "FirstName"
                                    },
                                    {
                                        "name": "LastName"
                                    },
                                    {
                                        "name": "Age"
                                    },
                                    {
                                        "name": "Gender"
                                    },
                                    {
                                        "name": "EmployeeID"
                                    },
                                    {
                                        "name": "JobTitle"
                                    },
                                    {
                                        "name": "Salary"
                                    }
                                ]
                            },
                            "data": [
                                {
                                    "0": "1001",
                                    "1": "Jim",
                                    "2": "Harin",
                                    "3": "32",
                                    "4": "Male",
                                    "5": "1001",
                                    "6": "Salesman",
                                    "7": "45000"
                                },
                                {
                                    "0": "1002",
                                    "1": "John",
                                    "2": "Mark",
                                    "3": "35",
                                    "4": "Male",
                                    "5": "1002",
                                    "6": "Receptionist",
                                    "7": "36000"
                                },
                                {
                                    "0": "1003",
                                    "1": "Riya",
                                    "2": "Ray",
                                    "3": "28",
                                    "4": "Female",
                                    "5": "1003",
                                    "6": "Salesman",
                                    "7": "63000"
                                },
                                {
                                    "0": "1004",
                                    "1": "Harry",
                                    "2": "pal",
                                    "3": "36",
                                    "4": "Male",
                                    "5": "1004",
                                    "6": "Accountant",
                                    "7": "47000"
                                },
                                {
                                    "0": "1005",
                                    "1": "Ram",
                                    "2": "Singh",
                                    "3": "38",
                                    "4": "Male",
                                    "5": "1005",
                                    "6": "HR",
                                    "7": "50000"
                                },
                                {
                                    "0": "1006",
                                    "1": "Harry",
                                    "2": "pal",
                                    "3": "36",
                                    "4": "Male",
                                    "5": "1006",
                                    "6": "Regional Manager",
                                    "7": "65000"
                                },
                                {
                                    "0": "1007",
                                    "1": "Meredith",
                                    "2": "Palmer",
                                    "3": "32",
                                    "4": "Female",
                                    "5": "1007",
                                    "6": "Supplier Relations",
                                    "7": "41000"
                                },
                                {
                                    "0": "1008",
                                    "1": "Stanley",
                                    "2": "Hudson",
                                    "3": "38",
                                    "4": "Male",
                                    "5": "1008",
                                    "6": "Salesman",
                                    "7": "48000"
                                },
                                {
                                    "0": "1009",
                                    "1": "Kevin",
                                    "2": "Malone",
                                    "3": "31",
                                    "4": "Male",
                                    "5": "1009",
                                    "6": "Accountant",
                                    "7": "42000"
                                },
                                {
                                    "0": "1011",
                                    "1": "Ryan",
                                    "2": "Howard",
                                    "3": "26",
                                    "4": "Male",
                                    "5": "1011",
                                    "6": "Salesman",
                                    "7": "43000"
                                }
                            ]
                        },
                        "text/html": "<table><tr><th>EmployeeID</th><th>FirstName</th><th>LastName</th><th>Age</th><th>Gender</th><th>EmployeeID</th><th>JobTitle</th><th>Salary</th></tr><tr><td>1001</td><td>Jim</td><td>Harin</td><td>32</td><td>Male</td><td>1001</td><td>Salesman</td><td>45000</td></tr><tr><td>1002</td><td>John</td><td>Mark</td><td>35</td><td>Male</td><td>1002</td><td>Receptionist</td><td>36000</td></tr><tr><td>1003</td><td>Riya</td><td>Ray</td><td>28</td><td>Female</td><td>1003</td><td>Salesman</td><td>63000</td></tr><tr><td>1004</td><td>Harry</td><td>pal</td><td>36</td><td>Male</td><td>1004</td><td>Accountant</td><td>47000</td></tr><tr><td>1005</td><td>Ram</td><td>Singh</td><td>38</td><td>Male</td><td>1005</td><td>HR</td><td>50000</td></tr><tr><td>1006</td><td>Harry</td><td>pal</td><td>36</td><td>Male</td><td>1006</td><td>Regional Manager</td><td>65000</td></tr><tr><td>1007</td><td>Meredith</td><td>Palmer</td><td>32</td><td>Female</td><td>1007</td><td>Supplier Relations</td><td>41000</td></tr><tr><td>1008</td><td>Stanley</td><td>Hudson</td><td>38</td><td>Male</td><td>1008</td><td>Salesman</td><td>48000</td></tr><tr><td>1009</td><td>Kevin</td><td>Malone</td><td>31</td><td>Male</td><td>1009</td><td>Accountant</td><td>42000</td></tr><tr><td>1011</td><td>Ryan</td><td>Howard</td><td>26</td><td>Male</td><td>1011</td><td>Salesman</td><td>43000</td></tr></table>"
                    },
                    "metadata": {}
                }
            ],
            "execution_count": 25
        },
        {
            "cell_type": "markdown",
            "source": [
                "## **FULL OUTER JOIN**"
            ],
            "metadata": {
                "azdata_cell_guid": "5ada94ac-68e2-43b9-a837-92cae812846a"
            }
        },
        {
            "cell_type": "code",
            "source": [
                "SELECT *\r\n",
                "FROM EmployeeDemographics\r\n",
                "FULL OUTER JOIN EmployeeSalary\r\n",
                "ON EmployeeDemographics.EmployeeID=EmployeeSalary.EmployeeID"
            ],
            "metadata": {
                "azdata_cell_guid": "1c87f701-ff87-4b9b-a80c-749867ac05f1"
            },
            "outputs": [
                {
                    "output_type": "display_data",
                    "data": {
                        "text/html": "(14 rows affected)"
                    },
                    "metadata": {}
                },
                {
                    "output_type": "display_data",
                    "data": {
                        "text/html": "Total execution time: 00:00:00.040"
                    },
                    "metadata": {}
                },
                {
                    "output_type": "execute_result",
                    "execution_count": 26,
                    "data": {
                        "application/vnd.dataresource+json": {
                            "schema": {
                                "fields": [
                                    {
                                        "name": "EmployeeID"
                                    },
                                    {
                                        "name": "FirstName"
                                    },
                                    {
                                        "name": "LastName"
                                    },
                                    {
                                        "name": "Age"
                                    },
                                    {
                                        "name": "Gender"
                                    },
                                    {
                                        "name": "EmployeeID"
                                    },
                                    {
                                        "name": "JobTitle"
                                    },
                                    {
                                        "name": "Salary"
                                    }
                                ]
                            },
                            "data": [
                                {
                                    "0": "1001",
                                    "1": "Jim",
                                    "2": "Harin",
                                    "3": "32",
                                    "4": "Male",
                                    "5": "1001",
                                    "6": "Salesman",
                                    "7": "45000"
                                },
                                {
                                    "0": "1002",
                                    "1": "John",
                                    "2": "Mark",
                                    "3": "35",
                                    "4": "Male",
                                    "5": "1002",
                                    "6": "Receptionist",
                                    "7": "36000"
                                },
                                {
                                    "0": "1003",
                                    "1": "Riya",
                                    "2": "Ray",
                                    "3": "28",
                                    "4": "Female",
                                    "5": "1003",
                                    "6": "Salesman",
                                    "7": "63000"
                                },
                                {
                                    "0": "1004",
                                    "1": "Harry",
                                    "2": "pal",
                                    "3": "36",
                                    "4": "Male",
                                    "5": "1004",
                                    "6": "Accountant",
                                    "7": "47000"
                                },
                                {
                                    "0": "1005",
                                    "1": "Ram",
                                    "2": "Singh",
                                    "3": "38",
                                    "4": "Male",
                                    "5": "1005",
                                    "6": "HR",
                                    "7": "50000"
                                },
                                {
                                    "0": "1006",
                                    "1": "Harry",
                                    "2": "pal",
                                    "3": "36",
                                    "4": "Male",
                                    "5": "1006",
                                    "6": "Regional Manager",
                                    "7": "65000"
                                },
                                {
                                    "0": "1007",
                                    "1": "Meredith",
                                    "2": "Palmer",
                                    "3": "32",
                                    "4": "Female",
                                    "5": "1007",
                                    "6": "Supplier Relations",
                                    "7": "41000"
                                },
                                {
                                    "0": "1008",
                                    "1": "Stanley",
                                    "2": "Hudson",
                                    "3": "38",
                                    "4": "Male",
                                    "5": "1008",
                                    "6": "Salesman",
                                    "7": "48000"
                                },
                                {
                                    "0": "1009",
                                    "1": "Kevin",
                                    "2": "Malone",
                                    "3": "31",
                                    "4": "Male",
                                    "5": "1009",
                                    "6": "Accountant",
                                    "7": "42000"
                                },
                                {
                                    "0": "1011",
                                    "1": "Ryan",
                                    "2": "Howard",
                                    "3": "26",
                                    "4": "Male",
                                    "5": "1011",
                                    "6": "Salesman",
                                    "7": "43000"
                                },
                                {
                                    "0": "NULL",
                                    "1": "Holly",
                                    "2": "Flax",
                                    "3": "NULL",
                                    "4": "NULL",
                                    "5": "NULL",
                                    "6": "NULL",
                                    "7": "NULL"
                                },
                                {
                                    "0": "1013",
                                    "1": "Darryl",
                                    "2": "Philbin",
                                    "3": "NULL",
                                    "4": "Male",
                                    "5": "NULL",
                                    "6": "NULL",
                                    "7": "NULL"
                                },
                                {
                                    "0": "NULL",
                                    "1": "NULL",
                                    "2": "NULL",
                                    "3": "NULL",
                                    "4": "NULL",
                                    "5": "1010",
                                    "6": "NULL",
                                    "7": "47000"
                                },
                                {
                                    "0": "NULL",
                                    "1": "NULL",
                                    "2": "NULL",
                                    "3": "NULL",
                                    "4": "NULL",
                                    "5": "NULL",
                                    "6": "HR",
                                    "7": "35000"
                                }
                            ]
                        },
                        "text/html": "<table><tr><th>EmployeeID</th><th>FirstName</th><th>LastName</th><th>Age</th><th>Gender</th><th>EmployeeID</th><th>JobTitle</th><th>Salary</th></tr><tr><td>1001</td><td>Jim</td><td>Harin</td><td>32</td><td>Male</td><td>1001</td><td>Salesman</td><td>45000</td></tr><tr><td>1002</td><td>John</td><td>Mark</td><td>35</td><td>Male</td><td>1002</td><td>Receptionist</td><td>36000</td></tr><tr><td>1003</td><td>Riya</td><td>Ray</td><td>28</td><td>Female</td><td>1003</td><td>Salesman</td><td>63000</td></tr><tr><td>1004</td><td>Harry</td><td>pal</td><td>36</td><td>Male</td><td>1004</td><td>Accountant</td><td>47000</td></tr><tr><td>1005</td><td>Ram</td><td>Singh</td><td>38</td><td>Male</td><td>1005</td><td>HR</td><td>50000</td></tr><tr><td>1006</td><td>Harry</td><td>pal</td><td>36</td><td>Male</td><td>1006</td><td>Regional Manager</td><td>65000</td></tr><tr><td>1007</td><td>Meredith</td><td>Palmer</td><td>32</td><td>Female</td><td>1007</td><td>Supplier Relations</td><td>41000</td></tr><tr><td>1008</td><td>Stanley</td><td>Hudson</td><td>38</td><td>Male</td><td>1008</td><td>Salesman</td><td>48000</td></tr><tr><td>1009</td><td>Kevin</td><td>Malone</td><td>31</td><td>Male</td><td>1009</td><td>Accountant</td><td>42000</td></tr><tr><td>1011</td><td>Ryan</td><td>Howard</td><td>26</td><td>Male</td><td>1011</td><td>Salesman</td><td>43000</td></tr><tr><td>NULL</td><td>Holly</td><td>Flax</td><td>NULL</td><td>NULL</td><td>NULL</td><td>NULL</td><td>NULL</td></tr><tr><td>1013</td><td>Darryl</td><td>Philbin</td><td>NULL</td><td>Male</td><td>NULL</td><td>NULL</td><td>NULL</td></tr><tr><td>NULL</td><td>NULL</td><td>NULL</td><td>NULL</td><td>NULL</td><td>1010</td><td>NULL</td><td>47000</td></tr><tr><td>NULL</td><td>NULL</td><td>NULL</td><td>NULL</td><td>NULL</td><td>NULL</td><td>HR</td><td>35000</td></tr></table>"
                    },
                    "metadata": {}
                }
            ],
            "execution_count": 26
        },
        {
            "cell_type": "markdown",
            "source": [
                "## **LEFT OUTER JOIN**"
            ],
            "metadata": {
                "azdata_cell_guid": "ae043879-95e2-44f6-be2b-48e7d552a651"
            }
        },
        {
            "cell_type": "code",
            "source": [
                "SELECT *\r\n",
                "FROM EmployeeDemographics\r\n",
                "LEFT OUTER JOIN EmployeeSalary\r\n",
                "ON EmployeeDemographics.EmployeeID=EmployeeSalary.EmployeeID"
            ],
            "metadata": {
                "azdata_cell_guid": "5341a3d8-2962-433d-a56b-24fb478ba115"
            },
            "outputs": [
                {
                    "output_type": "display_data",
                    "data": {
                        "text/html": "(12 rows affected)"
                    },
                    "metadata": {}
                },
                {
                    "output_type": "display_data",
                    "data": {
                        "text/html": "Total execution time: 00:00:00.012"
                    },
                    "metadata": {}
                },
                {
                    "output_type": "execute_result",
                    "execution_count": 27,
                    "data": {
                        "application/vnd.dataresource+json": {
                            "schema": {
                                "fields": [
                                    {
                                        "name": "EmployeeID"
                                    },
                                    {
                                        "name": "FirstName"
                                    },
                                    {
                                        "name": "LastName"
                                    },
                                    {
                                        "name": "Age"
                                    },
                                    {
                                        "name": "Gender"
                                    },
                                    {
                                        "name": "EmployeeID"
                                    },
                                    {
                                        "name": "JobTitle"
                                    },
                                    {
                                        "name": "Salary"
                                    }
                                ]
                            },
                            "data": [
                                {
                                    "0": "1001",
                                    "1": "Jim",
                                    "2": "Harin",
                                    "3": "32",
                                    "4": "Male",
                                    "5": "1001",
                                    "6": "Salesman",
                                    "7": "45000"
                                },
                                {
                                    "0": "1002",
                                    "1": "John",
                                    "2": "Mark",
                                    "3": "35",
                                    "4": "Male",
                                    "5": "1002",
                                    "6": "Receptionist",
                                    "7": "36000"
                                },
                                {
                                    "0": "1003",
                                    "1": "Riya",
                                    "2": "Ray",
                                    "3": "28",
                                    "4": "Female",
                                    "5": "1003",
                                    "6": "Salesman",
                                    "7": "63000"
                                },
                                {
                                    "0": "1004",
                                    "1": "Harry",
                                    "2": "pal",
                                    "3": "36",
                                    "4": "Male",
                                    "5": "1004",
                                    "6": "Accountant",
                                    "7": "47000"
                                },
                                {
                                    "0": "1005",
                                    "1": "Ram",
                                    "2": "Singh",
                                    "3": "38",
                                    "4": "Male",
                                    "5": "1005",
                                    "6": "HR",
                                    "7": "50000"
                                },
                                {
                                    "0": "1006",
                                    "1": "Harry",
                                    "2": "pal",
                                    "3": "36",
                                    "4": "Male",
                                    "5": "1006",
                                    "6": "Regional Manager",
                                    "7": "65000"
                                },
                                {
                                    "0": "1007",
                                    "1": "Meredith",
                                    "2": "Palmer",
                                    "3": "32",
                                    "4": "Female",
                                    "5": "1007",
                                    "6": "Supplier Relations",
                                    "7": "41000"
                                },
                                {
                                    "0": "1008",
                                    "1": "Stanley",
                                    "2": "Hudson",
                                    "3": "38",
                                    "4": "Male",
                                    "5": "1008",
                                    "6": "Salesman",
                                    "7": "48000"
                                },
                                {
                                    "0": "1009",
                                    "1": "Kevin",
                                    "2": "Malone",
                                    "3": "31",
                                    "4": "Male",
                                    "5": "1009",
                                    "6": "Accountant",
                                    "7": "42000"
                                },
                                {
                                    "0": "1011",
                                    "1": "Ryan",
                                    "2": "Howard",
                                    "3": "26",
                                    "4": "Male",
                                    "5": "1011",
                                    "6": "Salesman",
                                    "7": "43000"
                                },
                                {
                                    "0": "NULL",
                                    "1": "Holly",
                                    "2": "Flax",
                                    "3": "NULL",
                                    "4": "NULL",
                                    "5": "NULL",
                                    "6": "NULL",
                                    "7": "NULL"
                                },
                                {
                                    "0": "1013",
                                    "1": "Darryl",
                                    "2": "Philbin",
                                    "3": "NULL",
                                    "4": "Male",
                                    "5": "NULL",
                                    "6": "NULL",
                                    "7": "NULL"
                                }
                            ]
                        },
                        "text/html": "<table><tr><th>EmployeeID</th><th>FirstName</th><th>LastName</th><th>Age</th><th>Gender</th><th>EmployeeID</th><th>JobTitle</th><th>Salary</th></tr><tr><td>1001</td><td>Jim</td><td>Harin</td><td>32</td><td>Male</td><td>1001</td><td>Salesman</td><td>45000</td></tr><tr><td>1002</td><td>John</td><td>Mark</td><td>35</td><td>Male</td><td>1002</td><td>Receptionist</td><td>36000</td></tr><tr><td>1003</td><td>Riya</td><td>Ray</td><td>28</td><td>Female</td><td>1003</td><td>Salesman</td><td>63000</td></tr><tr><td>1004</td><td>Harry</td><td>pal</td><td>36</td><td>Male</td><td>1004</td><td>Accountant</td><td>47000</td></tr><tr><td>1005</td><td>Ram</td><td>Singh</td><td>38</td><td>Male</td><td>1005</td><td>HR</td><td>50000</td></tr><tr><td>1006</td><td>Harry</td><td>pal</td><td>36</td><td>Male</td><td>1006</td><td>Regional Manager</td><td>65000</td></tr><tr><td>1007</td><td>Meredith</td><td>Palmer</td><td>32</td><td>Female</td><td>1007</td><td>Supplier Relations</td><td>41000</td></tr><tr><td>1008</td><td>Stanley</td><td>Hudson</td><td>38</td><td>Male</td><td>1008</td><td>Salesman</td><td>48000</td></tr><tr><td>1009</td><td>Kevin</td><td>Malone</td><td>31</td><td>Male</td><td>1009</td><td>Accountant</td><td>42000</td></tr><tr><td>1011</td><td>Ryan</td><td>Howard</td><td>26</td><td>Male</td><td>1011</td><td>Salesman</td><td>43000</td></tr><tr><td>NULL</td><td>Holly</td><td>Flax</td><td>NULL</td><td>NULL</td><td>NULL</td><td>NULL</td><td>NULL</td></tr><tr><td>1013</td><td>Darryl</td><td>Philbin</td><td>NULL</td><td>Male</td><td>NULL</td><td>NULL</td><td>NULL</td></tr></table>"
                    },
                    "metadata": {}
                }
            ],
            "execution_count": 27
        },
        {
            "cell_type": "markdown",
            "source": [
                "## \n",
                "\n",
                "- **RIGHT OUTER JOIN**"
            ],
            "metadata": {
                "azdata_cell_guid": "f7aee020-ff1a-4b3a-88fd-68426456b561"
            }
        },
        {
            "cell_type": "code",
            "source": [
                "SELECT *\r\n",
                "FROM EmployeeDemographics\r\n",
                "RIGHT OUTER JOIN EmployeeSalary\r\n",
                "ON EmployeeDemographics.EmployeeID=EmployeeSalary.EmployeeID"
            ],
            "metadata": {
                "azdata_cell_guid": "482b7ea0-2e2f-478a-bb14-b185014ca80a"
            },
            "outputs": [
                {
                    "output_type": "display_data",
                    "data": {
                        "text/html": "(12 rows affected)"
                    },
                    "metadata": {}
                },
                {
                    "output_type": "display_data",
                    "data": {
                        "text/html": "Total execution time: 00:00:00.015"
                    },
                    "metadata": {}
                },
                {
                    "output_type": "execute_result",
                    "execution_count": 28,
                    "data": {
                        "application/vnd.dataresource+json": {
                            "schema": {
                                "fields": [
                                    {
                                        "name": "EmployeeID"
                                    },
                                    {
                                        "name": "FirstName"
                                    },
                                    {
                                        "name": "LastName"
                                    },
                                    {
                                        "name": "Age"
                                    },
                                    {
                                        "name": "Gender"
                                    },
                                    {
                                        "name": "EmployeeID"
                                    },
                                    {
                                        "name": "JobTitle"
                                    },
                                    {
                                        "name": "Salary"
                                    }
                                ]
                            },
                            "data": [
                                {
                                    "0": "1001",
                                    "1": "Jim",
                                    "2": "Harin",
                                    "3": "32",
                                    "4": "Male",
                                    "5": "1001",
                                    "6": "Salesman",
                                    "7": "45000"
                                },
                                {
                                    "0": "1002",
                                    "1": "John",
                                    "2": "Mark",
                                    "3": "35",
                                    "4": "Male",
                                    "5": "1002",
                                    "6": "Receptionist",
                                    "7": "36000"
                                },
                                {
                                    "0": "1003",
                                    "1": "Riya",
                                    "2": "Ray",
                                    "3": "28",
                                    "4": "Female",
                                    "5": "1003",
                                    "6": "Salesman",
                                    "7": "63000"
                                },
                                {
                                    "0": "1004",
                                    "1": "Harry",
                                    "2": "pal",
                                    "3": "36",
                                    "4": "Male",
                                    "5": "1004",
                                    "6": "Accountant",
                                    "7": "47000"
                                },
                                {
                                    "0": "1005",
                                    "1": "Ram",
                                    "2": "Singh",
                                    "3": "38",
                                    "4": "Male",
                                    "5": "1005",
                                    "6": "HR",
                                    "7": "50000"
                                },
                                {
                                    "0": "1006",
                                    "1": "Harry",
                                    "2": "pal",
                                    "3": "36",
                                    "4": "Male",
                                    "5": "1006",
                                    "6": "Regional Manager",
                                    "7": "65000"
                                },
                                {
                                    "0": "1007",
                                    "1": "Meredith",
                                    "2": "Palmer",
                                    "3": "32",
                                    "4": "Female",
                                    "5": "1007",
                                    "6": "Supplier Relations",
                                    "7": "41000"
                                },
                                {
                                    "0": "1008",
                                    "1": "Stanley",
                                    "2": "Hudson",
                                    "3": "38",
                                    "4": "Male",
                                    "5": "1008",
                                    "6": "Salesman",
                                    "7": "48000"
                                },
                                {
                                    "0": "1009",
                                    "1": "Kevin",
                                    "2": "Malone",
                                    "3": "31",
                                    "4": "Male",
                                    "5": "1009",
                                    "6": "Accountant",
                                    "7": "42000"
                                },
                                {
                                    "0": "NULL",
                                    "1": "NULL",
                                    "2": "NULL",
                                    "3": "NULL",
                                    "4": "NULL",
                                    "5": "1010",
                                    "6": "NULL",
                                    "7": "47000"
                                },
                                {
                                    "0": "1011",
                                    "1": "Ryan",
                                    "2": "Howard",
                                    "3": "26",
                                    "4": "Male",
                                    "5": "1011",
                                    "6": "Salesman",
                                    "7": "43000"
                                },
                                {
                                    "0": "NULL",
                                    "1": "NULL",
                                    "2": "NULL",
                                    "3": "NULL",
                                    "4": "NULL",
                                    "5": "NULL",
                                    "6": "HR",
                                    "7": "35000"
                                }
                            ]
                        },
                        "text/html": "<table><tr><th>EmployeeID</th><th>FirstName</th><th>LastName</th><th>Age</th><th>Gender</th><th>EmployeeID</th><th>JobTitle</th><th>Salary</th></tr><tr><td>1001</td><td>Jim</td><td>Harin</td><td>32</td><td>Male</td><td>1001</td><td>Salesman</td><td>45000</td></tr><tr><td>1002</td><td>John</td><td>Mark</td><td>35</td><td>Male</td><td>1002</td><td>Receptionist</td><td>36000</td></tr><tr><td>1003</td><td>Riya</td><td>Ray</td><td>28</td><td>Female</td><td>1003</td><td>Salesman</td><td>63000</td></tr><tr><td>1004</td><td>Harry</td><td>pal</td><td>36</td><td>Male</td><td>1004</td><td>Accountant</td><td>47000</td></tr><tr><td>1005</td><td>Ram</td><td>Singh</td><td>38</td><td>Male</td><td>1005</td><td>HR</td><td>50000</td></tr><tr><td>1006</td><td>Harry</td><td>pal</td><td>36</td><td>Male</td><td>1006</td><td>Regional Manager</td><td>65000</td></tr><tr><td>1007</td><td>Meredith</td><td>Palmer</td><td>32</td><td>Female</td><td>1007</td><td>Supplier Relations</td><td>41000</td></tr><tr><td>1008</td><td>Stanley</td><td>Hudson</td><td>38</td><td>Male</td><td>1008</td><td>Salesman</td><td>48000</td></tr><tr><td>1009</td><td>Kevin</td><td>Malone</td><td>31</td><td>Male</td><td>1009</td><td>Accountant</td><td>42000</td></tr><tr><td>NULL</td><td>NULL</td><td>NULL</td><td>NULL</td><td>NULL</td><td>1010</td><td>NULL</td><td>47000</td></tr><tr><td>1011</td><td>Ryan</td><td>Howard</td><td>26</td><td>Male</td><td>1011</td><td>Salesman</td><td>43000</td></tr><tr><td>NULL</td><td>NULL</td><td>NULL</td><td>NULL</td><td>NULL</td><td>NULL</td><td>HR</td><td>35000</td></tr></table>"
                    },
                    "metadata": {}
                }
            ],
            "execution_count": 28
        },
        {
            "cell_type": "markdown",
            "source": [
                "### Joining two table with specific column not all column (<span style=\"color: rgb(255, 255, 255); font-family: Consolas, &quot;Courier New&quot;, monospace; font-size: 16px; white-space: pre;\">EmployeeID,FirstName,LastName,JobTitle,Salary</span>)"
            ],
            "metadata": {
                "azdata_cell_guid": "c151250d-b163-494d-939b-8c6a62e8a993"
            }
        },
        {
            "cell_type": "markdown",
            "source": [
                "**INNER JOIN** base on <span style=\"color: rgb(255, 255, 255); font-family: Consolas, &quot;Courier New&quot;, monospace; font-size: 16px; white-space: pre;\">EmployeeDemographics.EmployeeID</span>"
            ],
            "metadata": {
                "azdata_cell_guid": "41a3f32f-cc74-4921-9884-823571d2c160"
            }
        },
        {
            "cell_type": "code",
            "source": [
                "SELECT EmployeeDemographics.EmployeeID,FirstName,LastName,JobTitle,Salary\r\n",
                "FROM EmployeeDemographics\r\n",
                "INNER JOIN EmployeeSalary\r\n",
                "ON EmployeeDemographics.EmployeeID=EmployeeSalary.EmployeeID"
            ],
            "metadata": {
                "azdata_cell_guid": "4ae90cdc-46b2-4647-acca-5703404bfe7b"
            },
            "outputs": [
                {
                    "output_type": "display_data",
                    "data": {
                        "text/html": "(10 rows affected)"
                    },
                    "metadata": {}
                },
                {
                    "output_type": "display_data",
                    "data": {
                        "text/html": "Total execution time: 00:00:00.064"
                    },
                    "metadata": {}
                },
                {
                    "output_type": "execute_result",
                    "execution_count": 29,
                    "data": {
                        "application/vnd.dataresource+json": {
                            "schema": {
                                "fields": [
                                    {
                                        "name": "EmployeeID"
                                    },
                                    {
                                        "name": "FirstName"
                                    },
                                    {
                                        "name": "LastName"
                                    },
                                    {
                                        "name": "JobTitle"
                                    },
                                    {
                                        "name": "Salary"
                                    }
                                ]
                            },
                            "data": [
                                {
                                    "0": "1001",
                                    "1": "Jim",
                                    "2": "Harin",
                                    "3": "Salesman",
                                    "4": "45000"
                                },
                                {
                                    "0": "1002",
                                    "1": "John",
                                    "2": "Mark",
                                    "3": "Receptionist",
                                    "4": "36000"
                                },
                                {
                                    "0": "1003",
                                    "1": "Riya",
                                    "2": "Ray",
                                    "3": "Salesman",
                                    "4": "63000"
                                },
                                {
                                    "0": "1004",
                                    "1": "Harry",
                                    "2": "pal",
                                    "3": "Accountant",
                                    "4": "47000"
                                },
                                {
                                    "0": "1005",
                                    "1": "Ram",
                                    "2": "Singh",
                                    "3": "HR",
                                    "4": "50000"
                                },
                                {
                                    "0": "1006",
                                    "1": "Harry",
                                    "2": "pal",
                                    "3": "Regional Manager",
                                    "4": "65000"
                                },
                                {
                                    "0": "1007",
                                    "1": "Meredith",
                                    "2": "Palmer",
                                    "3": "Supplier Relations",
                                    "4": "41000"
                                },
                                {
                                    "0": "1008",
                                    "1": "Stanley",
                                    "2": "Hudson",
                                    "3": "Salesman",
                                    "4": "48000"
                                },
                                {
                                    "0": "1009",
                                    "1": "Kevin",
                                    "2": "Malone",
                                    "3": "Accountant",
                                    "4": "42000"
                                },
                                {
                                    "0": "1011",
                                    "1": "Ryan",
                                    "2": "Howard",
                                    "3": "Salesman",
                                    "4": "43000"
                                }
                            ]
                        },
                        "text/html": "<table><tr><th>EmployeeID</th><th>FirstName</th><th>LastName</th><th>JobTitle</th><th>Salary</th></tr><tr><td>1001</td><td>Jim</td><td>Harin</td><td>Salesman</td><td>45000</td></tr><tr><td>1002</td><td>John</td><td>Mark</td><td>Receptionist</td><td>36000</td></tr><tr><td>1003</td><td>Riya</td><td>Ray</td><td>Salesman</td><td>63000</td></tr><tr><td>1004</td><td>Harry</td><td>pal</td><td>Accountant</td><td>47000</td></tr><tr><td>1005</td><td>Ram</td><td>Singh</td><td>HR</td><td>50000</td></tr><tr><td>1006</td><td>Harry</td><td>pal</td><td>Regional Manager</td><td>65000</td></tr><tr><td>1007</td><td>Meredith</td><td>Palmer</td><td>Supplier Relations</td><td>41000</td></tr><tr><td>1008</td><td>Stanley</td><td>Hudson</td><td>Salesman</td><td>48000</td></tr><tr><td>1009</td><td>Kevin</td><td>Malone</td><td>Accountant</td><td>42000</td></tr><tr><td>1011</td><td>Ryan</td><td>Howard</td><td>Salesman</td><td>43000</td></tr></table>"
                    },
                    "metadata": {}
                }
            ],
            "execution_count": 29
        },
        {
            "cell_type": "markdown",
            "source": [
                "**INNER JOIN** base on <span style=\"color: rgb(255, 255, 255); font-family: Consolas, &quot;Courier New&quot;, monospace; font-size: 16px; white-space: pre;\"><b>EmployeeSalary.EmployeeID</b></span>"
            ],
            "metadata": {
                "azdata_cell_guid": "dbfd653c-fbd0-4736-b255-48a19fa2ea62"
            }
        },
        {
            "cell_type": "code",
            "source": [
                "SELECT EmployeeSalary.EmployeeID,FirstName,LastName,JobTitle,Salary\r\n",
                "FROM EmployeeDemographics\r\n",
                "INNER JOIN EmployeeSalary\r\n",
                "ON EmployeeDemographics.EmployeeID=EmployeeSalary.EmployeeID"
            ],
            "metadata": {
                "azdata_cell_guid": "38924dd4-615b-46e7-ae87-b66fb9d2a864"
            },
            "outputs": [
                {
                    "output_type": "display_data",
                    "data": {
                        "text/html": "(10 rows affected)"
                    },
                    "metadata": {}
                },
                {
                    "output_type": "display_data",
                    "data": {
                        "text/html": "Total execution time: 00:00:00.061"
                    },
                    "metadata": {}
                },
                {
                    "output_type": "execute_result",
                    "execution_count": 30,
                    "data": {
                        "application/vnd.dataresource+json": {
                            "schema": {
                                "fields": [
                                    {
                                        "name": "EmployeeID"
                                    },
                                    {
                                        "name": "FirstName"
                                    },
                                    {
                                        "name": "LastName"
                                    },
                                    {
                                        "name": "JobTitle"
                                    },
                                    {
                                        "name": "Salary"
                                    }
                                ]
                            },
                            "data": [
                                {
                                    "0": "1001",
                                    "1": "Jim",
                                    "2": "Harin",
                                    "3": "Salesman",
                                    "4": "45000"
                                },
                                {
                                    "0": "1002",
                                    "1": "John",
                                    "2": "Mark",
                                    "3": "Receptionist",
                                    "4": "36000"
                                },
                                {
                                    "0": "1003",
                                    "1": "Riya",
                                    "2": "Ray",
                                    "3": "Salesman",
                                    "4": "63000"
                                },
                                {
                                    "0": "1004",
                                    "1": "Harry",
                                    "2": "pal",
                                    "3": "Accountant",
                                    "4": "47000"
                                },
                                {
                                    "0": "1005",
                                    "1": "Ram",
                                    "2": "Singh",
                                    "3": "HR",
                                    "4": "50000"
                                },
                                {
                                    "0": "1006",
                                    "1": "Harry",
                                    "2": "pal",
                                    "3": "Regional Manager",
                                    "4": "65000"
                                },
                                {
                                    "0": "1007",
                                    "1": "Meredith",
                                    "2": "Palmer",
                                    "3": "Supplier Relations",
                                    "4": "41000"
                                },
                                {
                                    "0": "1008",
                                    "1": "Stanley",
                                    "2": "Hudson",
                                    "3": "Salesman",
                                    "4": "48000"
                                },
                                {
                                    "0": "1009",
                                    "1": "Kevin",
                                    "2": "Malone",
                                    "3": "Accountant",
                                    "4": "42000"
                                },
                                {
                                    "0": "1011",
                                    "1": "Ryan",
                                    "2": "Howard",
                                    "3": "Salesman",
                                    "4": "43000"
                                }
                            ]
                        },
                        "text/html": "<table><tr><th>EmployeeID</th><th>FirstName</th><th>LastName</th><th>JobTitle</th><th>Salary</th></tr><tr><td>1001</td><td>Jim</td><td>Harin</td><td>Salesman</td><td>45000</td></tr><tr><td>1002</td><td>John</td><td>Mark</td><td>Receptionist</td><td>36000</td></tr><tr><td>1003</td><td>Riya</td><td>Ray</td><td>Salesman</td><td>63000</td></tr><tr><td>1004</td><td>Harry</td><td>pal</td><td>Accountant</td><td>47000</td></tr><tr><td>1005</td><td>Ram</td><td>Singh</td><td>HR</td><td>50000</td></tr><tr><td>1006</td><td>Harry</td><td>pal</td><td>Regional Manager</td><td>65000</td></tr><tr><td>1007</td><td>Meredith</td><td>Palmer</td><td>Supplier Relations</td><td>41000</td></tr><tr><td>1008</td><td>Stanley</td><td>Hudson</td><td>Salesman</td><td>48000</td></tr><tr><td>1009</td><td>Kevin</td><td>Malone</td><td>Accountant</td><td>42000</td></tr><tr><td>1011</td><td>Ryan</td><td>Howard</td><td>Salesman</td><td>43000</td></tr></table>"
                    },
                    "metadata": {}
                }
            ],
            "execution_count": 30
        },
        {
            "cell_type": "markdown",
            "source": [
                "RIGHT OUTER JOIN  Base on <span style=\"color: rgb(255, 255, 255); font-family: Consolas, &quot;Courier New&quot;, monospace; font-size: 16px; white-space: pre;\">EmployeeSalary.EmployeeID</span>"
            ],
            "metadata": {
                "azdata_cell_guid": "ee7e3dd3-19c0-42f2-bd6f-367b9362debb"
            }
        },
        {
            "cell_type": "code",
            "source": [
                "SELECT EmployeeSalary.EmployeeID,FirstName,LastName,JobTitle,Salary\r\n",
                "FROM EmployeeDemographics\r\n",
                "RIGHT OUTER JOIN EmployeeSalary\r\n",
                "ON EmployeeDemographics.EmployeeID=EmployeeSalary.EmployeeID"
            ],
            "metadata": {
                "azdata_cell_guid": "0b77a92f-9710-4341-864e-aa7f5a2950ed"
            },
            "outputs": [
                {
                    "output_type": "display_data",
                    "data": {
                        "text/html": "(12 rows affected)"
                    },
                    "metadata": {}
                },
                {
                    "output_type": "display_data",
                    "data": {
                        "text/html": "Total execution time: 00:00:00.053"
                    },
                    "metadata": {}
                },
                {
                    "output_type": "execute_result",
                    "execution_count": 31,
                    "data": {
                        "application/vnd.dataresource+json": {
                            "schema": {
                                "fields": [
                                    {
                                        "name": "EmployeeID"
                                    },
                                    {
                                        "name": "FirstName"
                                    },
                                    {
                                        "name": "LastName"
                                    },
                                    {
                                        "name": "JobTitle"
                                    },
                                    {
                                        "name": "Salary"
                                    }
                                ]
                            },
                            "data": [
                                {
                                    "0": "1001",
                                    "1": "Jim",
                                    "2": "Harin",
                                    "3": "Salesman",
                                    "4": "45000"
                                },
                                {
                                    "0": "1002",
                                    "1": "John",
                                    "2": "Mark",
                                    "3": "Receptionist",
                                    "4": "36000"
                                },
                                {
                                    "0": "1003",
                                    "1": "Riya",
                                    "2": "Ray",
                                    "3": "Salesman",
                                    "4": "63000"
                                },
                                {
                                    "0": "1004",
                                    "1": "Harry",
                                    "2": "pal",
                                    "3": "Accountant",
                                    "4": "47000"
                                },
                                {
                                    "0": "1005",
                                    "1": "Ram",
                                    "2": "Singh",
                                    "3": "HR",
                                    "4": "50000"
                                },
                                {
                                    "0": "1006",
                                    "1": "Harry",
                                    "2": "pal",
                                    "3": "Regional Manager",
                                    "4": "65000"
                                },
                                {
                                    "0": "1007",
                                    "1": "Meredith",
                                    "2": "Palmer",
                                    "3": "Supplier Relations",
                                    "4": "41000"
                                },
                                {
                                    "0": "1008",
                                    "1": "Stanley",
                                    "2": "Hudson",
                                    "3": "Salesman",
                                    "4": "48000"
                                },
                                {
                                    "0": "1009",
                                    "1": "Kevin",
                                    "2": "Malone",
                                    "3": "Accountant",
                                    "4": "42000"
                                },
                                {
                                    "0": "1010",
                                    "1": "NULL",
                                    "2": "NULL",
                                    "3": "NULL",
                                    "4": "47000"
                                },
                                {
                                    "0": "1011",
                                    "1": "Ryan",
                                    "2": "Howard",
                                    "3": "Salesman",
                                    "4": "43000"
                                },
                                {
                                    "0": "NULL",
                                    "1": "NULL",
                                    "2": "NULL",
                                    "3": "HR",
                                    "4": "35000"
                                }
                            ]
                        },
                        "text/html": "<table><tr><th>EmployeeID</th><th>FirstName</th><th>LastName</th><th>JobTitle</th><th>Salary</th></tr><tr><td>1001</td><td>Jim</td><td>Harin</td><td>Salesman</td><td>45000</td></tr><tr><td>1002</td><td>John</td><td>Mark</td><td>Receptionist</td><td>36000</td></tr><tr><td>1003</td><td>Riya</td><td>Ray</td><td>Salesman</td><td>63000</td></tr><tr><td>1004</td><td>Harry</td><td>pal</td><td>Accountant</td><td>47000</td></tr><tr><td>1005</td><td>Ram</td><td>Singh</td><td>HR</td><td>50000</td></tr><tr><td>1006</td><td>Harry</td><td>pal</td><td>Regional Manager</td><td>65000</td></tr><tr><td>1007</td><td>Meredith</td><td>Palmer</td><td>Supplier Relations</td><td>41000</td></tr><tr><td>1008</td><td>Stanley</td><td>Hudson</td><td>Salesman</td><td>48000</td></tr><tr><td>1009</td><td>Kevin</td><td>Malone</td><td>Accountant</td><td>42000</td></tr><tr><td>1010</td><td>NULL</td><td>NULL</td><td>NULL</td><td>47000</td></tr><tr><td>1011</td><td>Ryan</td><td>Howard</td><td>Salesman</td><td>43000</td></tr><tr><td>NULL</td><td>NULL</td><td>NULL</td><td>HR</td><td>35000</td></tr></table>"
                    },
                    "metadata": {}
                }
            ],
            "execution_count": 31
        },
        {
            "cell_type": "markdown",
            "source": [
                "**LEFT OUTER JOIN** base on <span style=\"color: rgb(255, 255, 255); font-family: Consolas, &quot;Courier New&quot;, monospace; font-size: 16px; white-space: pre;\"><b style=\"\">EmployeeSalary.EmployeeID</b></span>"
            ],
            "metadata": {
                "azdata_cell_guid": "1d43851e-6b6a-4d75-85f6-8e1ead5e9b18"
            }
        },
        {
            "cell_type": "code",
            "source": [
                "SELECT EmployeeSalary.EmployeeID,FirstName,LastName,JobTitle,Salary\r\n",
                "FROM EmployeeDemographics\r\n",
                "LEFT OUTER JOIN EmployeeSalary\r\n",
                "ON EmployeeDemographics.EmployeeID=EmployeeSalary.EmployeeID"
            ],
            "metadata": {
                "azdata_cell_guid": "ebb286c3-5f9e-432e-9156-e055ca2cda2b"
            },
            "outputs": [
                {
                    "output_type": "display_data",
                    "data": {
                        "text/html": "(12 rows affected)"
                    },
                    "metadata": {}
                },
                {
                    "output_type": "display_data",
                    "data": {
                        "text/html": "Total execution time: 00:00:00.069"
                    },
                    "metadata": {}
                },
                {
                    "output_type": "execute_result",
                    "execution_count": 35,
                    "data": {
                        "application/vnd.dataresource+json": {
                            "schema": {
                                "fields": [
                                    {
                                        "name": "EmployeeID"
                                    },
                                    {
                                        "name": "FirstName"
                                    },
                                    {
                                        "name": "LastName"
                                    },
                                    {
                                        "name": "JobTitle"
                                    },
                                    {
                                        "name": "Salary"
                                    }
                                ]
                            },
                            "data": [
                                {
                                    "0": "1001",
                                    "1": "Jim",
                                    "2": "Harin",
                                    "3": "Salesman",
                                    "4": "45000"
                                },
                                {
                                    "0": "1002",
                                    "1": "John",
                                    "2": "Mark",
                                    "3": "Receptionist",
                                    "4": "36000"
                                },
                                {
                                    "0": "1003",
                                    "1": "Riya",
                                    "2": "Ray",
                                    "3": "Salesman",
                                    "4": "63000"
                                },
                                {
                                    "0": "1004",
                                    "1": "Harry",
                                    "2": "pal",
                                    "3": "Accountant",
                                    "4": "47000"
                                },
                                {
                                    "0": "1005",
                                    "1": "Ram",
                                    "2": "Singh",
                                    "3": "HR",
                                    "4": "50000"
                                },
                                {
                                    "0": "1006",
                                    "1": "Harry",
                                    "2": "pal",
                                    "3": "Regional Manager",
                                    "4": "65000"
                                },
                                {
                                    "0": "1007",
                                    "1": "Meredith",
                                    "2": "Palmer",
                                    "3": "Supplier Relations",
                                    "4": "41000"
                                },
                                {
                                    "0": "1008",
                                    "1": "Stanley",
                                    "2": "Hudson",
                                    "3": "Salesman",
                                    "4": "48000"
                                },
                                {
                                    "0": "1009",
                                    "1": "Kevin",
                                    "2": "Malone",
                                    "3": "Accountant",
                                    "4": "42000"
                                },
                                {
                                    "0": "1011",
                                    "1": "Ryan",
                                    "2": "Howard",
                                    "3": "Salesman",
                                    "4": "43000"
                                },
                                {
                                    "0": "NULL",
                                    "1": "Holly",
                                    "2": "Flax",
                                    "3": "NULL",
                                    "4": "NULL"
                                },
                                {
                                    "0": "NULL",
                                    "1": "Darryl",
                                    "2": "Philbin",
                                    "3": "NULL",
                                    "4": "NULL"
                                }
                            ]
                        },
                        "text/html": "<table><tr><th>EmployeeID</th><th>FirstName</th><th>LastName</th><th>JobTitle</th><th>Salary</th></tr><tr><td>1001</td><td>Jim</td><td>Harin</td><td>Salesman</td><td>45000</td></tr><tr><td>1002</td><td>John</td><td>Mark</td><td>Receptionist</td><td>36000</td></tr><tr><td>1003</td><td>Riya</td><td>Ray</td><td>Salesman</td><td>63000</td></tr><tr><td>1004</td><td>Harry</td><td>pal</td><td>Accountant</td><td>47000</td></tr><tr><td>1005</td><td>Ram</td><td>Singh</td><td>HR</td><td>50000</td></tr><tr><td>1006</td><td>Harry</td><td>pal</td><td>Regional Manager</td><td>65000</td></tr><tr><td>1007</td><td>Meredith</td><td>Palmer</td><td>Supplier Relations</td><td>41000</td></tr><tr><td>1008</td><td>Stanley</td><td>Hudson</td><td>Salesman</td><td>48000</td></tr><tr><td>1009</td><td>Kevin</td><td>Malone</td><td>Accountant</td><td>42000</td></tr><tr><td>1011</td><td>Ryan</td><td>Howard</td><td>Salesman</td><td>43000</td></tr><tr><td>NULL</td><td>Holly</td><td>Flax</td><td>NULL</td><td>NULL</td></tr><tr><td>NULL</td><td>Darryl</td><td>Philbin</td><td>NULL</td><td>NULL</td></tr></table>"
                    },
                    "metadata": {}
                }
            ],
            "execution_count": 35
        },
        {
            "cell_type": "markdown",
            "source": [
                "### Join two table base on EmployeeId  and find  all employee salary except Whose  salary 65000"
            ],
            "metadata": {
                "azdata_cell_guid": "6f7b2c82-1294-48f2-bef1-325d744ec712"
            }
        },
        {
            "cell_type": "code",
            "source": [
                "SELECT EmployeeDemographics.EmployeeID,FirstName,LastName,Salary\r\n",
                "FROM EmployeeDemographics\r\n",
                "INNER JOIN EmployeeSalary\r\n",
                "ON EmployeeDemographics.EmployeeID=EmployeeSalary.EmployeeID\r\n",
                "WHERE (Salary <> 65000  )\r\n",
                "ORDER by Salary DESC"
            ],
            "metadata": {
                "azdata_cell_guid": "6a22b967-ea2c-4ed5-bfa6-a8864f5ffe3c",
                "tags": []
            },
            "outputs": [
                {
                    "output_type": "display_data",
                    "data": {
                        "text/html": "(9 rows affected)"
                    },
                    "metadata": {}
                },
                {
                    "output_type": "display_data",
                    "data": {
                        "text/html": "Total execution time: 00:00:00.008"
                    },
                    "metadata": {}
                },
                {
                    "output_type": "execute_result",
                    "execution_count": 48,
                    "data": {
                        "application/vnd.dataresource+json": {
                            "schema": {
                                "fields": [
                                    {
                                        "name": "EmployeeID"
                                    },
                                    {
                                        "name": "FirstName"
                                    },
                                    {
                                        "name": "LastName"
                                    },
                                    {
                                        "name": "Salary"
                                    }
                                ]
                            },
                            "data": [
                                {
                                    "0": "1003",
                                    "1": "Riya",
                                    "2": "Ray",
                                    "3": "63000"
                                },
                                {
                                    "0": "1005",
                                    "1": "Ram",
                                    "2": "Singh",
                                    "3": "50000"
                                },
                                {
                                    "0": "1008",
                                    "1": "Stanley",
                                    "2": "Hudson",
                                    "3": "48000"
                                },
                                {
                                    "0": "1004",
                                    "1": "Harry",
                                    "2": "pal",
                                    "3": "47000"
                                },
                                {
                                    "0": "1001",
                                    "1": "Jim",
                                    "2": "Harin",
                                    "3": "45000"
                                },
                                {
                                    "0": "1011",
                                    "1": "Ryan",
                                    "2": "Howard",
                                    "3": "43000"
                                },
                                {
                                    "0": "1009",
                                    "1": "Kevin",
                                    "2": "Malone",
                                    "3": "42000"
                                },
                                {
                                    "0": "1007",
                                    "1": "Meredith",
                                    "2": "Palmer",
                                    "3": "41000"
                                },
                                {
                                    "0": "1002",
                                    "1": "John",
                                    "2": "Mark",
                                    "3": "36000"
                                }
                            ]
                        },
                        "text/html": "<table><tr><th>EmployeeID</th><th>FirstName</th><th>LastName</th><th>Salary</th></tr><tr><td>1003</td><td>Riya</td><td>Ray</td><td>63000</td></tr><tr><td>1005</td><td>Ram</td><td>Singh</td><td>50000</td></tr><tr><td>1008</td><td>Stanley</td><td>Hudson</td><td>48000</td></tr><tr><td>1004</td><td>Harry</td><td>pal</td><td>47000</td></tr><tr><td>1001</td><td>Jim</td><td>Harin</td><td>45000</td></tr><tr><td>1011</td><td>Ryan</td><td>Howard</td><td>43000</td></tr><tr><td>1009</td><td>Kevin</td><td>Malone</td><td>42000</td></tr><tr><td>1007</td><td>Meredith</td><td>Palmer</td><td>41000</td></tr><tr><td>1002</td><td>John</td><td>Mark</td><td>36000</td></tr></table>"
                    },
                    "metadata": {}
                }
            ],
            "execution_count": 48
        },
        {
            "cell_type": "markdown",
            "source": [
                "### **Need to find the Aveage Salary of Jobtilte 'Salesman'**"
            ],
            "metadata": {
                "azdata_cell_guid": "afbb2ccc-9434-47d1-bce6-50e1e4602036"
            }
        },
        {
            "cell_type": "code",
            "source": [
                "SELECT JobTitle,AVG(Salary) AS 'Aveage_salary' \r\n",
                "FROM EmployeeDemographics\r\n",
                "INNER JOIN EmployeeSalary\r\n",
                "ON EmployeeDemographics.EmployeeID=EmployeeSalary.EmployeeID\r\n",
                "WHERE JobTitle='Salesman'\r\n",
                "GROUP BY JobTitle "
            ],
            "metadata": {
                "azdata_cell_guid": "8cfc8e39-dd9b-49bd-992c-31507970eb80",
                "tags": []
            },
            "outputs": [
                {
                    "output_type": "display_data",
                    "data": {
                        "text/html": "(1 row affected)"
                    },
                    "metadata": {}
                },
                {
                    "output_type": "display_data",
                    "data": {
                        "text/html": "Total execution time: 00:00:00.014"
                    },
                    "metadata": {}
                },
                {
                    "output_type": "execute_result",
                    "execution_count": 56,
                    "data": {
                        "application/vnd.dataresource+json": {
                            "schema": {
                                "fields": [
                                    {
                                        "name": "JobTitle"
                                    },
                                    {
                                        "name": "Aveage_salary"
                                    }
                                ]
                            },
                            "data": [
                                {
                                    "0": "Salesman",
                                    "1": "49750"
                                }
                            ]
                        },
                        "text/html": "<table><tr><th>JobTitle</th><th>Aveage_salary</th></tr><tr><td>Salesman</td><td>49750</td></tr></table>"
                    },
                    "metadata": {}
                }
            ],
            "execution_count": 56
        },
        {
            "cell_type": "markdown",
            "source": [
                "## **/\\*\\*\\*\\*\\*\\*\\*\\*\\*\\*\\*\\*\\*\\*\\*\\*\\*\\*\\*\\*\\*\\*\\*\\*\\*    UNION ,    UNION ALL   \\*\\*\\*\\*\\*\\*\\*\\*\\*\\*\\*\\*\\*\\*\\*\\*\\*\\*\\*\\*\\*\\*\\*\\*\\*/**"
            ],
            "metadata": {
                "azdata_cell_guid": "316111cc-8934-44ee-88e2-8c7111e42a60"
            }
        },
        {
            "cell_type": "code",
            "source": [
                "SELECT *\r\n",
                "FROM EmployeeDemographics\r\n",
                "SELECT*\r\n",
                "FROM WareHouseEmployeeDemographics"
            ],
            "metadata": {
                "azdata_cell_guid": "19771d38-6bae-4a5b-b61b-b0e578346973"
            },
            "outputs": [
                {
                    "output_type": "display_data",
                    "data": {
                        "text/html": "(12 rows affected)"
                    },
                    "metadata": {}
                },
                {
                    "output_type": "display_data",
                    "data": {
                        "text/html": "(4 rows affected)"
                    },
                    "metadata": {}
                },
                {
                    "output_type": "display_data",
                    "data": {
                        "text/html": "Total execution time: 00:00:00.096"
                    },
                    "metadata": {}
                },
                {
                    "output_type": "execute_result",
                    "execution_count": 57,
                    "data": {
                        "application/vnd.dataresource+json": {
                            "schema": {
                                "fields": [
                                    {
                                        "name": "EmployeeID"
                                    },
                                    {
                                        "name": "FirstName"
                                    },
                                    {
                                        "name": "LastName"
                                    },
                                    {
                                        "name": "Age"
                                    },
                                    {
                                        "name": "Gender"
                                    }
                                ]
                            },
                            "data": [
                                {
                                    "0": "1001",
                                    "1": "Jim",
                                    "2": "Harin",
                                    "3": "32",
                                    "4": "Male"
                                },
                                {
                                    "0": "1002",
                                    "1": "John",
                                    "2": "Mark",
                                    "3": "35",
                                    "4": "Male"
                                },
                                {
                                    "0": "1003",
                                    "1": "Riya",
                                    "2": "Ray",
                                    "3": "28",
                                    "4": "Female"
                                },
                                {
                                    "0": "1004",
                                    "1": "Harry",
                                    "2": "pal",
                                    "3": "36",
                                    "4": "Male"
                                },
                                {
                                    "0": "1005",
                                    "1": "Ram",
                                    "2": "Singh",
                                    "3": "38",
                                    "4": "Male"
                                },
                                {
                                    "0": "1006",
                                    "1": "Harry",
                                    "2": "pal",
                                    "3": "36",
                                    "4": "Male"
                                },
                                {
                                    "0": "1007",
                                    "1": "Meredith",
                                    "2": "Palmer",
                                    "3": "32",
                                    "4": "Female"
                                },
                                {
                                    "0": "1008",
                                    "1": "Stanley",
                                    "2": "Hudson",
                                    "3": "38",
                                    "4": "Male"
                                },
                                {
                                    "0": "1009",
                                    "1": "Kevin",
                                    "2": "Malone",
                                    "3": "31",
                                    "4": "Male"
                                },
                                {
                                    "0": "1011",
                                    "1": "Ryan",
                                    "2": "Howard",
                                    "3": "26",
                                    "4": "Male"
                                },
                                {
                                    "0": "NULL",
                                    "1": "Holly",
                                    "2": "Flax",
                                    "3": "NULL",
                                    "4": "NULL"
                                },
                                {
                                    "0": "1013",
                                    "1": "Darryl",
                                    "2": "Philbin",
                                    "3": "NULL",
                                    "4": "Male"
                                }
                            ]
                        },
                        "text/html": "<table><tr><th>EmployeeID</th><th>FirstName</th><th>LastName</th><th>Age</th><th>Gender</th></tr><tr><td>1001</td><td>Jim</td><td>Harin</td><td>32</td><td>Male</td></tr><tr><td>1002</td><td>John</td><td>Mark</td><td>35</td><td>Male</td></tr><tr><td>1003</td><td>Riya</td><td>Ray</td><td>28</td><td>Female</td></tr><tr><td>1004</td><td>Harry</td><td>pal</td><td>36</td><td>Male</td></tr><tr><td>1005</td><td>Ram</td><td>Singh</td><td>38</td><td>Male</td></tr><tr><td>1006</td><td>Harry</td><td>pal</td><td>36</td><td>Male</td></tr><tr><td>1007</td><td>Meredith</td><td>Palmer</td><td>32</td><td>Female</td></tr><tr><td>1008</td><td>Stanley</td><td>Hudson</td><td>38</td><td>Male</td></tr><tr><td>1009</td><td>Kevin</td><td>Malone</td><td>31</td><td>Male</td></tr><tr><td>1011</td><td>Ryan</td><td>Howard</td><td>26</td><td>Male</td></tr><tr><td>NULL</td><td>Holly</td><td>Flax</td><td>NULL</td><td>NULL</td></tr><tr><td>1013</td><td>Darryl</td><td>Philbin</td><td>NULL</td><td>Male</td></tr></table>"
                    },
                    "metadata": {}
                },
                {
                    "output_type": "execute_result",
                    "execution_count": 57,
                    "data": {
                        "application/vnd.dataresource+json": {
                            "schema": {
                                "fields": [
                                    {
                                        "name": "EmployeeID"
                                    },
                                    {
                                        "name": "FirstName"
                                    },
                                    {
                                        "name": "LastName"
                                    },
                                    {
                                        "name": "Age"
                                    },
                                    {
                                        "name": "Gender"
                                    }
                                ]
                            },
                            "data": [
                                {
                                    "0": "1013",
                                    "1": "Darryl",
                                    "2": "Philbin",
                                    "3": "NULL",
                                    "4": "Male"
                                },
                                {
                                    "0": "1050",
                                    "1": "Roy",
                                    "2": "Anderson",
                                    "3": "31",
                                    "4": "Male"
                                },
                                {
                                    "0": "1051",
                                    "1": "Hidetoshi",
                                    "2": "Hasagawa",
                                    "3": "40",
                                    "4": "Male"
                                },
                                {
                                    "0": "1052",
                                    "1": "Val",
                                    "2": "Johnson",
                                    "3": "31",
                                    "4": "Female"
                                }
                            ]
                        },
                        "text/html": "<table><tr><th>EmployeeID</th><th>FirstName</th><th>LastName</th><th>Age</th><th>Gender</th></tr><tr><td>1013</td><td>Darryl</td><td>Philbin</td><td>NULL</td><td>Male</td></tr><tr><td>1050</td><td>Roy</td><td>Anderson</td><td>31</td><td>Male</td></tr><tr><td>1051</td><td>Hidetoshi</td><td>Hasagawa</td><td>40</td><td>Male</td></tr><tr><td>1052</td><td>Val</td><td>Johnson</td><td>31</td><td>Female</td></tr></table>"
                    },
                    "metadata": {}
                }
            ],
            "execution_count": 57
        },
        {
            "cell_type": "markdown",
            "source": [
                "## FULL OUTER JOIN of EmployeeDemographics and WarehouseEmployeeDemographics"
            ],
            "metadata": {
                "azdata_cell_guid": "0f4d9c68-4921-4e4e-a5fb-01da22c3a13c"
            }
        },
        {
            "cell_type": "code",
            "source": [
                "SELECT * \r\n",
                "FROM EmployeeDemographics\r\n",
                "FULL OUTER JOIN WareHouseEmployeeDemographics\r\n",
                "ON EmployeeDemographics.EmployeeID =WareHouseEmployeeDemographics.EmployeeID"
            ],
            "metadata": {
                "azdata_cell_guid": "a8b14b58-cf23-4e87-95c2-e4955b5170ee",
                "tags": []
            },
            "outputs": [
                {
                    "output_type": "display_data",
                    "data": {
                        "text/html": "(15 rows affected)"
                    },
                    "metadata": {}
                },
                {
                    "output_type": "display_data",
                    "data": {
                        "text/html": "Total execution time: 00:00:01.378"
                    },
                    "metadata": {}
                },
                {
                    "output_type": "execute_result",
                    "execution_count": 58,
                    "data": {
                        "application/vnd.dataresource+json": {
                            "schema": {
                                "fields": [
                                    {
                                        "name": "EmployeeID"
                                    },
                                    {
                                        "name": "FirstName"
                                    },
                                    {
                                        "name": "LastName"
                                    },
                                    {
                                        "name": "Age"
                                    },
                                    {
                                        "name": "Gender"
                                    },
                                    {
                                        "name": "EmployeeID"
                                    },
                                    {
                                        "name": "FirstName"
                                    },
                                    {
                                        "name": "LastName"
                                    },
                                    {
                                        "name": "Age"
                                    },
                                    {
                                        "name": "Gender"
                                    }
                                ]
                            },
                            "data": [
                                {
                                    "0": "1001",
                                    "1": "Jim",
                                    "2": "Harin",
                                    "3": "32",
                                    "4": "Male",
                                    "5": "NULL",
                                    "6": "NULL",
                                    "7": "NULL",
                                    "8": "NULL",
                                    "9": "NULL"
                                },
                                {
                                    "0": "1002",
                                    "1": "John",
                                    "2": "Mark",
                                    "3": "35",
                                    "4": "Male",
                                    "5": "NULL",
                                    "6": "NULL",
                                    "7": "NULL",
                                    "8": "NULL",
                                    "9": "NULL"
                                },
                                {
                                    "0": "1003",
                                    "1": "Riya",
                                    "2": "Ray",
                                    "3": "28",
                                    "4": "Female",
                                    "5": "NULL",
                                    "6": "NULL",
                                    "7": "NULL",
                                    "8": "NULL",
                                    "9": "NULL"
                                },
                                {
                                    "0": "1004",
                                    "1": "Harry",
                                    "2": "pal",
                                    "3": "36",
                                    "4": "Male",
                                    "5": "NULL",
                                    "6": "NULL",
                                    "7": "NULL",
                                    "8": "NULL",
                                    "9": "NULL"
                                },
                                {
                                    "0": "1005",
                                    "1": "Ram",
                                    "2": "Singh",
                                    "3": "38",
                                    "4": "Male",
                                    "5": "NULL",
                                    "6": "NULL",
                                    "7": "NULL",
                                    "8": "NULL",
                                    "9": "NULL"
                                },
                                {
                                    "0": "1006",
                                    "1": "Harry",
                                    "2": "pal",
                                    "3": "36",
                                    "4": "Male",
                                    "5": "NULL",
                                    "6": "NULL",
                                    "7": "NULL",
                                    "8": "NULL",
                                    "9": "NULL"
                                },
                                {
                                    "0": "1007",
                                    "1": "Meredith",
                                    "2": "Palmer",
                                    "3": "32",
                                    "4": "Female",
                                    "5": "NULL",
                                    "6": "NULL",
                                    "7": "NULL",
                                    "8": "NULL",
                                    "9": "NULL"
                                },
                                {
                                    "0": "1008",
                                    "1": "Stanley",
                                    "2": "Hudson",
                                    "3": "38",
                                    "4": "Male",
                                    "5": "NULL",
                                    "6": "NULL",
                                    "7": "NULL",
                                    "8": "NULL",
                                    "9": "NULL"
                                },
                                {
                                    "0": "1009",
                                    "1": "Kevin",
                                    "2": "Malone",
                                    "3": "31",
                                    "4": "Male",
                                    "5": "NULL",
                                    "6": "NULL",
                                    "7": "NULL",
                                    "8": "NULL",
                                    "9": "NULL"
                                },
                                {
                                    "0": "1011",
                                    "1": "Ryan",
                                    "2": "Howard",
                                    "3": "26",
                                    "4": "Male",
                                    "5": "NULL",
                                    "6": "NULL",
                                    "7": "NULL",
                                    "8": "NULL",
                                    "9": "NULL"
                                },
                                {
                                    "0": "NULL",
                                    "1": "Holly",
                                    "2": "Flax",
                                    "3": "NULL",
                                    "4": "NULL",
                                    "5": "NULL",
                                    "6": "NULL",
                                    "7": "NULL",
                                    "8": "NULL",
                                    "9": "NULL"
                                },
                                {
                                    "0": "1013",
                                    "1": "Darryl",
                                    "2": "Philbin",
                                    "3": "NULL",
                                    "4": "Male",
                                    "5": "1013",
                                    "6": "Darryl",
                                    "7": "Philbin",
                                    "8": "NULL",
                                    "9": "Male"
                                },
                                {
                                    "0": "NULL",
                                    "1": "NULL",
                                    "2": "NULL",
                                    "3": "NULL",
                                    "4": "NULL",
                                    "5": "1050",
                                    "6": "Roy",
                                    "7": "Anderson",
                                    "8": "31",
                                    "9": "Male"
                                },
                                {
                                    "0": "NULL",
                                    "1": "NULL",
                                    "2": "NULL",
                                    "3": "NULL",
                                    "4": "NULL",
                                    "5": "1051",
                                    "6": "Hidetoshi",
                                    "7": "Hasagawa",
                                    "8": "40",
                                    "9": "Male"
                                },
                                {
                                    "0": "NULL",
                                    "1": "NULL",
                                    "2": "NULL",
                                    "3": "NULL",
                                    "4": "NULL",
                                    "5": "1052",
                                    "6": "Val",
                                    "7": "Johnson",
                                    "8": "31",
                                    "9": "Female"
                                }
                            ]
                        },
                        "text/html": "<table><tr><th>EmployeeID</th><th>FirstName</th><th>LastName</th><th>Age</th><th>Gender</th><th>EmployeeID</th><th>FirstName</th><th>LastName</th><th>Age</th><th>Gender</th></tr><tr><td>1001</td><td>Jim</td><td>Harin</td><td>32</td><td>Male</td><td>NULL</td><td>NULL</td><td>NULL</td><td>NULL</td><td>NULL</td></tr><tr><td>1002</td><td>John</td><td>Mark</td><td>35</td><td>Male</td><td>NULL</td><td>NULL</td><td>NULL</td><td>NULL</td><td>NULL</td></tr><tr><td>1003</td><td>Riya</td><td>Ray</td><td>28</td><td>Female</td><td>NULL</td><td>NULL</td><td>NULL</td><td>NULL</td><td>NULL</td></tr><tr><td>1004</td><td>Harry</td><td>pal</td><td>36</td><td>Male</td><td>NULL</td><td>NULL</td><td>NULL</td><td>NULL</td><td>NULL</td></tr><tr><td>1005</td><td>Ram</td><td>Singh</td><td>38</td><td>Male</td><td>NULL</td><td>NULL</td><td>NULL</td><td>NULL</td><td>NULL</td></tr><tr><td>1006</td><td>Harry</td><td>pal</td><td>36</td><td>Male</td><td>NULL</td><td>NULL</td><td>NULL</td><td>NULL</td><td>NULL</td></tr><tr><td>1007</td><td>Meredith</td><td>Palmer</td><td>32</td><td>Female</td><td>NULL</td><td>NULL</td><td>NULL</td><td>NULL</td><td>NULL</td></tr><tr><td>1008</td><td>Stanley</td><td>Hudson</td><td>38</td><td>Male</td><td>NULL</td><td>NULL</td><td>NULL</td><td>NULL</td><td>NULL</td></tr><tr><td>1009</td><td>Kevin</td><td>Malone</td><td>31</td><td>Male</td><td>NULL</td><td>NULL</td><td>NULL</td><td>NULL</td><td>NULL</td></tr><tr><td>1011</td><td>Ryan</td><td>Howard</td><td>26</td><td>Male</td><td>NULL</td><td>NULL</td><td>NULL</td><td>NULL</td><td>NULL</td></tr><tr><td>NULL</td><td>Holly</td><td>Flax</td><td>NULL</td><td>NULL</td><td>NULL</td><td>NULL</td><td>NULL</td><td>NULL</td><td>NULL</td></tr><tr><td>1013</td><td>Darryl</td><td>Philbin</td><td>NULL</td><td>Male</td><td>1013</td><td>Darryl</td><td>Philbin</td><td>NULL</td><td>Male</td></tr><tr><td>NULL</td><td>NULL</td><td>NULL</td><td>NULL</td><td>NULL</td><td>1050</td><td>Roy</td><td>Anderson</td><td>31</td><td>Male</td></tr><tr><td>NULL</td><td>NULL</td><td>NULL</td><td>NULL</td><td>NULL</td><td>1051</td><td>Hidetoshi</td><td>Hasagawa</td><td>40</td><td>Male</td></tr><tr><td>NULL</td><td>NULL</td><td>NULL</td><td>NULL</td><td>NULL</td><td>1052</td><td>Val</td><td>Johnson</td><td>31</td><td>Female</td></tr></table>"
                    },
                    "metadata": {}
                }
            ],
            "execution_count": 58
        },
        {
            "cell_type": "markdown",
            "source": [
                "## UNION of EmployeeDemographics and WarehouseEmployeeDemographics(Show only unique recard discard duplicate)"
            ],
            "metadata": {
                "azdata_cell_guid": "836f5ba9-dc05-4e6c-954b-ee67d6513ec8"
            }
        },
        {
            "cell_type": "code",
            "source": [
                "SELECT *\r\n",
                "FROM EmployeeDemographics\r\n",
                "UNION\r\n",
                "SELECT * \r\n",
                "FROM WareHouseEmployeeDemographics"
            ],
            "metadata": {
                "azdata_cell_guid": "bf7b5a9d-1392-4bd1-ae3f-e2d68350a5e6"
            },
            "outputs": [
                {
                    "output_type": "display_data",
                    "data": {
                        "text/html": "(15 rows affected)"
                    },
                    "metadata": {}
                },
                {
                    "output_type": "display_data",
                    "data": {
                        "text/html": "Total execution time: 00:00:00.682"
                    },
                    "metadata": {}
                },
                {
                    "output_type": "execute_result",
                    "execution_count": 59,
                    "data": {
                        "application/vnd.dataresource+json": {
                            "schema": {
                                "fields": [
                                    {
                                        "name": "EmployeeID"
                                    },
                                    {
                                        "name": "FirstName"
                                    },
                                    {
                                        "name": "LastName"
                                    },
                                    {
                                        "name": "Age"
                                    },
                                    {
                                        "name": "Gender"
                                    }
                                ]
                            },
                            "data": [
                                {
                                    "0": "NULL",
                                    "1": "Holly",
                                    "2": "Flax",
                                    "3": "NULL",
                                    "4": "NULL"
                                },
                                {
                                    "0": "1001",
                                    "1": "Jim",
                                    "2": "Harin",
                                    "3": "32",
                                    "4": "Male"
                                },
                                {
                                    "0": "1002",
                                    "1": "John",
                                    "2": "Mark",
                                    "3": "35",
                                    "4": "Male"
                                },
                                {
                                    "0": "1003",
                                    "1": "Riya",
                                    "2": "Ray",
                                    "3": "28",
                                    "4": "Female"
                                },
                                {
                                    "0": "1004",
                                    "1": "Harry",
                                    "2": "pal",
                                    "3": "36",
                                    "4": "Male"
                                },
                                {
                                    "0": "1005",
                                    "1": "Ram",
                                    "2": "Singh",
                                    "3": "38",
                                    "4": "Male"
                                },
                                {
                                    "0": "1006",
                                    "1": "Harry",
                                    "2": "pal",
                                    "3": "36",
                                    "4": "Male"
                                },
                                {
                                    "0": "1007",
                                    "1": "Meredith",
                                    "2": "Palmer",
                                    "3": "32",
                                    "4": "Female"
                                },
                                {
                                    "0": "1008",
                                    "1": "Stanley",
                                    "2": "Hudson",
                                    "3": "38",
                                    "4": "Male"
                                },
                                {
                                    "0": "1009",
                                    "1": "Kevin",
                                    "2": "Malone",
                                    "3": "31",
                                    "4": "Male"
                                },
                                {
                                    "0": "1011",
                                    "1": "Ryan",
                                    "2": "Howard",
                                    "3": "26",
                                    "4": "Male"
                                },
                                {
                                    "0": "1013",
                                    "1": "Darryl",
                                    "2": "Philbin",
                                    "3": "NULL",
                                    "4": "Male"
                                },
                                {
                                    "0": "1050",
                                    "1": "Roy",
                                    "2": "Anderson",
                                    "3": "31",
                                    "4": "Male"
                                },
                                {
                                    "0": "1051",
                                    "1": "Hidetoshi",
                                    "2": "Hasagawa",
                                    "3": "40",
                                    "4": "Male"
                                },
                                {
                                    "0": "1052",
                                    "1": "Val",
                                    "2": "Johnson",
                                    "3": "31",
                                    "4": "Female"
                                }
                            ]
                        },
                        "text/html": "<table><tr><th>EmployeeID</th><th>FirstName</th><th>LastName</th><th>Age</th><th>Gender</th></tr><tr><td>NULL</td><td>Holly</td><td>Flax</td><td>NULL</td><td>NULL</td></tr><tr><td>1001</td><td>Jim</td><td>Harin</td><td>32</td><td>Male</td></tr><tr><td>1002</td><td>John</td><td>Mark</td><td>35</td><td>Male</td></tr><tr><td>1003</td><td>Riya</td><td>Ray</td><td>28</td><td>Female</td></tr><tr><td>1004</td><td>Harry</td><td>pal</td><td>36</td><td>Male</td></tr><tr><td>1005</td><td>Ram</td><td>Singh</td><td>38</td><td>Male</td></tr><tr><td>1006</td><td>Harry</td><td>pal</td><td>36</td><td>Male</td></tr><tr><td>1007</td><td>Meredith</td><td>Palmer</td><td>32</td><td>Female</td></tr><tr><td>1008</td><td>Stanley</td><td>Hudson</td><td>38</td><td>Male</td></tr><tr><td>1009</td><td>Kevin</td><td>Malone</td><td>31</td><td>Male</td></tr><tr><td>1011</td><td>Ryan</td><td>Howard</td><td>26</td><td>Male</td></tr><tr><td>1013</td><td>Darryl</td><td>Philbin</td><td>NULL</td><td>Male</td></tr><tr><td>1050</td><td>Roy</td><td>Anderson</td><td>31</td><td>Male</td></tr><tr><td>1051</td><td>Hidetoshi</td><td>Hasagawa</td><td>40</td><td>Male</td></tr><tr><td>1052</td><td>Val</td><td>Johnson</td><td>31</td><td>Female</td></tr></table>"
                    },
                    "metadata": {}
                }
            ],
            "execution_count": 59
        },
        {
            "cell_type": "markdown",
            "source": [
                "## UNION ALL of EmployeeDemographics and WarehouseEmployeeDemographics(Show all record include duplicate)"
            ],
            "metadata": {
                "azdata_cell_guid": "aa8bad97-21f7-4be7-a7b4-cfadc6971496"
            }
        },
        {
            "cell_type": "code",
            "source": [
                "SELECT *\r\n",
                "FROM EmployeeDemographics\r\n",
                "UNION ALL\r\n",
                "SELECT * \r\n",
                "FROM WareHouseEmployeeDemographics\r\n",
                "ORDER BY EmployeeID"
            ],
            "metadata": {
                "azdata_cell_guid": "64d43b17-8964-4a2a-ac3c-011f088bf343"
            },
            "outputs": [
                {
                    "output_type": "display_data",
                    "data": {
                        "text/html": "(16 rows affected)"
                    },
                    "metadata": {}
                },
                {
                    "output_type": "display_data",
                    "data": {
                        "text/html": "Total execution time: 00:00:00.181"
                    },
                    "metadata": {}
                },
                {
                    "output_type": "execute_result",
                    "execution_count": 61,
                    "data": {
                        "application/vnd.dataresource+json": {
                            "schema": {
                                "fields": [
                                    {
                                        "name": "EmployeeID"
                                    },
                                    {
                                        "name": "FirstName"
                                    },
                                    {
                                        "name": "LastName"
                                    },
                                    {
                                        "name": "Age"
                                    },
                                    {
                                        "name": "Gender"
                                    }
                                ]
                            },
                            "data": [
                                {
                                    "0": "NULL",
                                    "1": "Holly",
                                    "2": "Flax",
                                    "3": "NULL",
                                    "4": "NULL"
                                },
                                {
                                    "0": "1001",
                                    "1": "Jim",
                                    "2": "Harin",
                                    "3": "32",
                                    "4": "Male"
                                },
                                {
                                    "0": "1002",
                                    "1": "John",
                                    "2": "Mark",
                                    "3": "35",
                                    "4": "Male"
                                },
                                {
                                    "0": "1003",
                                    "1": "Riya",
                                    "2": "Ray",
                                    "3": "28",
                                    "4": "Female"
                                },
                                {
                                    "0": "1004",
                                    "1": "Harry",
                                    "2": "pal",
                                    "3": "36",
                                    "4": "Male"
                                },
                                {
                                    "0": "1005",
                                    "1": "Ram",
                                    "2": "Singh",
                                    "3": "38",
                                    "4": "Male"
                                },
                                {
                                    "0": "1006",
                                    "1": "Harry",
                                    "2": "pal",
                                    "3": "36",
                                    "4": "Male"
                                },
                                {
                                    "0": "1007",
                                    "1": "Meredith",
                                    "2": "Palmer",
                                    "3": "32",
                                    "4": "Female"
                                },
                                {
                                    "0": "1008",
                                    "1": "Stanley",
                                    "2": "Hudson",
                                    "3": "38",
                                    "4": "Male"
                                },
                                {
                                    "0": "1009",
                                    "1": "Kevin",
                                    "2": "Malone",
                                    "3": "31",
                                    "4": "Male"
                                },
                                {
                                    "0": "1011",
                                    "1": "Ryan",
                                    "2": "Howard",
                                    "3": "26",
                                    "4": "Male"
                                },
                                {
                                    "0": "1013",
                                    "1": "Darryl",
                                    "2": "Philbin",
                                    "3": "NULL",
                                    "4": "Male"
                                },
                                {
                                    "0": "1013",
                                    "1": "Darryl",
                                    "2": "Philbin",
                                    "3": "NULL",
                                    "4": "Male"
                                },
                                {
                                    "0": "1050",
                                    "1": "Roy",
                                    "2": "Anderson",
                                    "3": "31",
                                    "4": "Male"
                                },
                                {
                                    "0": "1051",
                                    "1": "Hidetoshi",
                                    "2": "Hasagawa",
                                    "3": "40",
                                    "4": "Male"
                                },
                                {
                                    "0": "1052",
                                    "1": "Val",
                                    "2": "Johnson",
                                    "3": "31",
                                    "4": "Female"
                                }
                            ]
                        },
                        "text/html": "<table><tr><th>EmployeeID</th><th>FirstName</th><th>LastName</th><th>Age</th><th>Gender</th></tr><tr><td>NULL</td><td>Holly</td><td>Flax</td><td>NULL</td><td>NULL</td></tr><tr><td>1001</td><td>Jim</td><td>Harin</td><td>32</td><td>Male</td></tr><tr><td>1002</td><td>John</td><td>Mark</td><td>35</td><td>Male</td></tr><tr><td>1003</td><td>Riya</td><td>Ray</td><td>28</td><td>Female</td></tr><tr><td>1004</td><td>Harry</td><td>pal</td><td>36</td><td>Male</td></tr><tr><td>1005</td><td>Ram</td><td>Singh</td><td>38</td><td>Male</td></tr><tr><td>1006</td><td>Harry</td><td>pal</td><td>36</td><td>Male</td></tr><tr><td>1007</td><td>Meredith</td><td>Palmer</td><td>32</td><td>Female</td></tr><tr><td>1008</td><td>Stanley</td><td>Hudson</td><td>38</td><td>Male</td></tr><tr><td>1009</td><td>Kevin</td><td>Malone</td><td>31</td><td>Male</td></tr><tr><td>1011</td><td>Ryan</td><td>Howard</td><td>26</td><td>Male</td></tr><tr><td>1013</td><td>Darryl</td><td>Philbin</td><td>NULL</td><td>Male</td></tr><tr><td>1013</td><td>Darryl</td><td>Philbin</td><td>NULL</td><td>Male</td></tr><tr><td>1050</td><td>Roy</td><td>Anderson</td><td>31</td><td>Male</td></tr><tr><td>1051</td><td>Hidetoshi</td><td>Hasagawa</td><td>40</td><td>Male</td></tr><tr><td>1052</td><td>Val</td><td>Johnson</td><td>31</td><td>Female</td></tr></table>"
                    },
                    "metadata": {}
                }
            ],
            "execution_count": 61
        },
        {
            "cell_type": "markdown",
            "source": [
                "## \n",
                "\n",
                "- UNION of EmployeeDemographics and EmployeeSalary(union see the datatype of both table and match acc. to it below example are wrong as it  combine firstname with jobtilte and salary with age as both datatype same (varchar and int)"
            ],
            "metadata": {
                "azdata_cell_guid": "328738a5-2258-4447-9e1e-8a745e47a5d5"
            }
        },
        {
            "cell_type": "code",
            "source": [
                "SELECT EmployeeID,FirstName,Age\r\n",
                "FROM EmployeeDemographics\r\n",
                "UNION \r\n",
                "SELECT EmployeeID,JobTitle,Salary\r\n",
                "FROM EmployeeSalary\r\n",
                "ORDER BY EmployeeID"
            ],
            "metadata": {
                "azdata_cell_guid": "70fc7e82-fa34-4823-b28d-bf17003b84c1"
            },
            "outputs": [
                {
                    "output_type": "display_data",
                    "data": {
                        "text/html": "(24 rows affected)"
                    },
                    "metadata": {}
                },
                {
                    "output_type": "display_data",
                    "data": {
                        "text/html": "Total execution time: 00:00:00.270"
                    },
                    "metadata": {}
                },
                {
                    "output_type": "execute_result",
                    "execution_count": 63,
                    "data": {
                        "application/vnd.dataresource+json": {
                            "schema": {
                                "fields": [
                                    {
                                        "name": "EmployeeID"
                                    },
                                    {
                                        "name": "FirstName"
                                    },
                                    {
                                        "name": "Age"
                                    }
                                ]
                            },
                            "data": [
                                {
                                    "0": "NULL",
                                    "1": "Holly",
                                    "2": "NULL"
                                },
                                {
                                    "0": "NULL",
                                    "1": "HR",
                                    "2": "35000"
                                },
                                {
                                    "0": "1001",
                                    "1": "Jim",
                                    "2": "32"
                                },
                                {
                                    "0": "1001",
                                    "1": "Salesman",
                                    "2": "45000"
                                },
                                {
                                    "0": "1002",
                                    "1": "John",
                                    "2": "35"
                                },
                                {
                                    "0": "1002",
                                    "1": "Receptionist",
                                    "2": "36000"
                                },
                                {
                                    "0": "1003",
                                    "1": "Riya",
                                    "2": "28"
                                },
                                {
                                    "0": "1003",
                                    "1": "Salesman",
                                    "2": "63000"
                                },
                                {
                                    "0": "1004",
                                    "1": "Accountant",
                                    "2": "47000"
                                },
                                {
                                    "0": "1004",
                                    "1": "Harry",
                                    "2": "36"
                                },
                                {
                                    "0": "1005",
                                    "1": "HR",
                                    "2": "50000"
                                },
                                {
                                    "0": "1005",
                                    "1": "Ram",
                                    "2": "38"
                                },
                                {
                                    "0": "1006",
                                    "1": "Harry",
                                    "2": "36"
                                },
                                {
                                    "0": "1006",
                                    "1": "Regional Manager",
                                    "2": "65000"
                                },
                                {
                                    "0": "1007",
                                    "1": "Meredith",
                                    "2": "32"
                                },
                                {
                                    "0": "1007",
                                    "1": "Supplier Relations",
                                    "2": "41000"
                                },
                                {
                                    "0": "1008",
                                    "1": "Salesman",
                                    "2": "48000"
                                },
                                {
                                    "0": "1008",
                                    "1": "Stanley",
                                    "2": "38"
                                },
                                {
                                    "0": "1009",
                                    "1": "Accountant",
                                    "2": "42000"
                                },
                                {
                                    "0": "1009",
                                    "1": "Kevin",
                                    "2": "31"
                                },
                                {
                                    "0": "1010",
                                    "1": "NULL",
                                    "2": "47000"
                                },
                                {
                                    "0": "1011",
                                    "1": "Ryan",
                                    "2": "26"
                                },
                                {
                                    "0": "1011",
                                    "1": "Salesman",
                                    "2": "43000"
                                },
                                {
                                    "0": "1013",
                                    "1": "Darryl",
                                    "2": "NULL"
                                }
                            ]
                        },
                        "text/html": "<table><tr><th>EmployeeID</th><th>FirstName</th><th>Age</th></tr><tr><td>NULL</td><td>Holly</td><td>NULL</td></tr><tr><td>NULL</td><td>HR</td><td>35000</td></tr><tr><td>1001</td><td>Jim</td><td>32</td></tr><tr><td>1001</td><td>Salesman</td><td>45000</td></tr><tr><td>1002</td><td>John</td><td>35</td></tr><tr><td>1002</td><td>Receptionist</td><td>36000</td></tr><tr><td>1003</td><td>Riya</td><td>28</td></tr><tr><td>1003</td><td>Salesman</td><td>63000</td></tr><tr><td>1004</td><td>Accountant</td><td>47000</td></tr><tr><td>1004</td><td>Harry</td><td>36</td></tr><tr><td>1005</td><td>HR</td><td>50000</td></tr><tr><td>1005</td><td>Ram</td><td>38</td></tr><tr><td>1006</td><td>Harry</td><td>36</td></tr><tr><td>1006</td><td>Regional Manager</td><td>65000</td></tr><tr><td>1007</td><td>Meredith</td><td>32</td></tr><tr><td>1007</td><td>Supplier Relations</td><td>41000</td></tr><tr><td>1008</td><td>Salesman</td><td>48000</td></tr><tr><td>1008</td><td>Stanley</td><td>38</td></tr><tr><td>1009</td><td>Accountant</td><td>42000</td></tr><tr><td>1009</td><td>Kevin</td><td>31</td></tr><tr><td>1010</td><td>NULL</td><td>47000</td></tr><tr><td>1011</td><td>Ryan</td><td>26</td></tr><tr><td>1011</td><td>Salesman</td><td>43000</td></tr><tr><td>1013</td><td>Darryl</td><td>NULL</td></tr></table>"
                    },
                    "metadata": {}
                }
            ],
            "execution_count": 63
        },
        {
            "cell_type": "markdown",
            "source": [
                "# **/\\*\\*\\*\\*\\*\\*\\*\\*\\*\\*\\*\\*\\*\\*\\*\\*\\*\\*\\*\\*\\*\\*\\*\\*\\*\\*\\*\\*\\*\\*\\*\\*\\*\\*\\*\\*HAVING CLAUSE\\*\\*\\*\\*\\*\\*\\*\\*\\*\\*\\*\\*\\*\\*\\*\\*\\*\\*\\*\\*\\*\\*\\*\\*\\*\\*\\*\\*\\*\\*\\*/**"
            ],
            "metadata": {
                "azdata_cell_guid": "20889aef-432b-4c95-8d6c-31bf19841df7"
            }
        },
        {
            "cell_type": "code",
            "source": [
                "SELECT JobTitle ,COUNT(JobTitle) AS 'Count_of_jobtitle'\r\n",
                "FROM EmployeeDemographics\r\n",
                "JOIN EmployeeSalary\r\n",
                "ON EmployeeDemographics.EmployeeID=EmployeeSalary.EmployeeID\r\n",
                "GROUP BY JobTitle"
            ],
            "metadata": {
                "azdata_cell_guid": "31e66d69-5ed2-4d67-8e99-c72c64afcb75",
                "tags": []
            },
            "outputs": [
                {
                    "output_type": "display_data",
                    "data": {
                        "text/html": "(6 rows affected)"
                    },
                    "metadata": {}
                },
                {
                    "output_type": "display_data",
                    "data": {
                        "text/html": "Total execution time: 00:00:01.078"
                    },
                    "metadata": {}
                },
                {
                    "output_type": "execute_result",
                    "execution_count": 64,
                    "data": {
                        "application/vnd.dataresource+json": {
                            "schema": {
                                "fields": [
                                    {
                                        "name": "JobTitle"
                                    },
                                    {
                                        "name": "Count_of_jobtitle"
                                    }
                                ]
                            },
                            "data": [
                                {
                                    "0": "Accountant",
                                    "1": "2"
                                },
                                {
                                    "0": "HR",
                                    "1": "1"
                                },
                                {
                                    "0": "Receptionist",
                                    "1": "1"
                                },
                                {
                                    "0": "Regional Manager",
                                    "1": "1"
                                },
                                {
                                    "0": "Salesman",
                                    "1": "4"
                                },
                                {
                                    "0": "Supplier Relations",
                                    "1": "1"
                                }
                            ]
                        },
                        "text/html": "<table><tr><th>JobTitle</th><th>Count_of_jobtitle</th></tr><tr><td>Accountant</td><td>2</td></tr><tr><td>HR</td><td>1</td></tr><tr><td>Receptionist</td><td>1</td></tr><tr><td>Regional Manager</td><td>1</td></tr><tr><td>Salesman</td><td>4</td></tr><tr><td>Supplier Relations</td><td>1</td></tr></table>"
                    },
                    "metadata": {}
                }
            ],
            "execution_count": 64
        },
        {
            "cell_type": "code",
            "source": [
                "SELECT JobTitle ,COUNT(JobTitle) AS 'Count_of_jobtitle'\r\n",
                "FROM EmployeeDemographics\r\n",
                "JOIN EmployeeSalary\r\n",
                "ON EmployeeDemographics.EmployeeID=EmployeeSalary.EmployeeID\r\n",
                "WHERE COUNT(JobTitle)>1\r\n",
                "GROUP BY JobTitle"
            ],
            "metadata": {
                "azdata_cell_guid": "e26b4dc9-bcd3-4e66-ae0d-e527e9890614"
            },
            "outputs": [
                {
                    "output_type": "error",
                    "ename": "",
                    "evalue": "Msg 147, Level 15, State 1, Line 5\r\nAn aggregate may not appear in the WHERE clause unless it is in a subquery contained in a HAVING clause or a select list, and the column being aggregated is an outer reference.",
                    "traceback": []
                },
                {
                    "output_type": "display_data",
                    "data": {
                        "text/html": "Total execution time: 00:00:00.279"
                    },
                    "metadata": {}
                }
            ],
            "execution_count": 65
        },
        {
            "cell_type": "markdown",
            "source": [
                "**HAVING CLAUSE**"
            ],
            "metadata": {
                "azdata_cell_guid": "6ae02ac8-ea2d-4d83-b6d7-b8dc9fe58466"
            }
        },
        {
            "cell_type": "code",
            "source": [
                "SELECT JobTitle ,COUNT(JobTitle) AS 'Count_of_jobtitle'\r\n",
                "FROM EmployeeDemographics\r\n",
                "JOIN EmployeeSalary\r\n",
                "ON EmployeeDemographics.EmployeeID=EmployeeSalary.EmployeeID\r\n",
                "GROUP BY JobTitle\r\n",
                "HAVING COUNT(JobTitle)>1"
            ],
            "metadata": {
                "azdata_cell_guid": "f7e01534-d7fa-4d5e-aff8-fac2cf977ee3"
            },
            "outputs": [
                {
                    "output_type": "display_data",
                    "data": {
                        "text/html": "(2 rows affected)"
                    },
                    "metadata": {}
                },
                {
                    "output_type": "display_data",
                    "data": {
                        "text/html": "Total execution time: 00:00:00.490"
                    },
                    "metadata": {}
                },
                {
                    "output_type": "execute_result",
                    "execution_count": 67,
                    "data": {
                        "application/vnd.dataresource+json": {
                            "schema": {
                                "fields": [
                                    {
                                        "name": "JobTitle"
                                    },
                                    {
                                        "name": "Count_of_jobtitle"
                                    }
                                ]
                            },
                            "data": [
                                {
                                    "0": "Accountant",
                                    "1": "2"
                                },
                                {
                                    "0": "Salesman",
                                    "1": "4"
                                }
                            ]
                        },
                        "text/html": "<table><tr><th>JobTitle</th><th>Count_of_jobtitle</th></tr><tr><td>Accountant</td><td>2</td></tr><tr><td>Salesman</td><td>4</td></tr></table>"
                    },
                    "metadata": {}
                }
            ],
            "execution_count": 67
        },
        {
            "cell_type": "code",
            "source": [
                "SELECT JobTitle ,AVG(Salary) AS 'Average_of_Salary'\r\n",
                "FROM EmployeeDemographics\r\n",
                "JOIN EmployeeSalary\r\n",
                "ON EmployeeDemographics.EmployeeID=EmployeeSalary.EmployeeID\r\n",
                "GROUP BY JobTitle\r\n",
                "HAVING AVG(Salary) > 44500\r\n",
                "ORDER by AVG(Salary)\r\n",
                ""
            ],
            "metadata": {
                "azdata_cell_guid": "08f65159-9e21-4017-8ceb-bcbc83c08535"
            },
            "outputs": [
                {
                    "output_type": "display_data",
                    "data": {
                        "text/html": "(3 rows affected)"
                    },
                    "metadata": {}
                },
                {
                    "output_type": "display_data",
                    "data": {
                        "text/html": "Total execution time: 00:00:00.090"
                    },
                    "metadata": {}
                },
                {
                    "output_type": "execute_result",
                    "execution_count": 71,
                    "data": {
                        "application/vnd.dataresource+json": {
                            "schema": {
                                "fields": [
                                    {
                                        "name": "JobTitle"
                                    },
                                    {
                                        "name": "Average_of_Salary"
                                    }
                                ]
                            },
                            "data": [
                                {
                                    "0": "Salesman",
                                    "1": "49750"
                                },
                                {
                                    "0": "HR",
                                    "1": "50000"
                                },
                                {
                                    "0": "Regional Manager",
                                    "1": "65000"
                                }
                            ]
                        },
                        "text/html": "<table><tr><th>JobTitle</th><th>Average_of_Salary</th></tr><tr><td>Salesman</td><td>49750</td></tr><tr><td>HR</td><td>50000</td></tr><tr><td>Regional Manager</td><td>65000</td></tr></table>"
                    },
                    "metadata": {}
                }
            ],
            "execution_count": 71
        },
        {
            "cell_type": "markdown",
            "source": [
                "## **/\\*\\*\\*\\*\\*\\*\\*\\*\\*\\*\\*\\*\\*\\*\\*\\*\\*\\*\\*\\*\\*\\*\\*\\*\\*\\*\\*\\*\\*\\*\\*\\*\\*\\*\\*\\*\\* UPDATING  And DELETING DATA \\*\\*\\*\\*\\*\\*\\*\\*\\*\\*\\*\\*\\*\\*\\*\\*\\*\\*\\*\\*\\*\\*\\*\\*\\*\\*\\*\\*\\*\\*\\*\\*\\*\\*\\*\\*\\*\\*/**"
            ],
            "metadata": {
                "azdata_cell_guid": "7e5ce645-da38-4470-b494-fc65479d9e87"
            }
        },
        {
            "cell_type": "code",
            "source": [
                "SELECT * \r\n",
                "FROM EmployeeDemographics"
            ],
            "metadata": {
                "azdata_cell_guid": "a71ae449-5717-4362-9551-8a7f69645792"
            },
            "outputs": [
                {
                    "output_type": "display_data",
                    "data": {
                        "text/html": "(12 rows affected)"
                    },
                    "metadata": {}
                },
                {
                    "output_type": "display_data",
                    "data": {
                        "text/html": "Total execution time: 00:00:00.151"
                    },
                    "metadata": {}
                },
                {
                    "output_type": "execute_result",
                    "execution_count": 72,
                    "data": {
                        "application/vnd.dataresource+json": {
                            "schema": {
                                "fields": [
                                    {
                                        "name": "EmployeeID"
                                    },
                                    {
                                        "name": "FirstName"
                                    },
                                    {
                                        "name": "LastName"
                                    },
                                    {
                                        "name": "Age"
                                    },
                                    {
                                        "name": "Gender"
                                    }
                                ]
                            },
                            "data": [
                                {
                                    "0": "1001",
                                    "1": "Jim",
                                    "2": "Harin",
                                    "3": "32",
                                    "4": "Male"
                                },
                                {
                                    "0": "1002",
                                    "1": "John",
                                    "2": "Mark",
                                    "3": "35",
                                    "4": "Male"
                                },
                                {
                                    "0": "1003",
                                    "1": "Riya",
                                    "2": "Ray",
                                    "3": "28",
                                    "4": "Female"
                                },
                                {
                                    "0": "1004",
                                    "1": "Harry",
                                    "2": "pal",
                                    "3": "36",
                                    "4": "Male"
                                },
                                {
                                    "0": "1005",
                                    "1": "Ram",
                                    "2": "Singh",
                                    "3": "38",
                                    "4": "Male"
                                },
                                {
                                    "0": "1006",
                                    "1": "Harry",
                                    "2": "pal",
                                    "3": "36",
                                    "4": "Male"
                                },
                                {
                                    "0": "1007",
                                    "1": "Meredith",
                                    "2": "Palmer",
                                    "3": "32",
                                    "4": "Female"
                                },
                                {
                                    "0": "1008",
                                    "1": "Stanley",
                                    "2": "Hudson",
                                    "3": "38",
                                    "4": "Male"
                                },
                                {
                                    "0": "1009",
                                    "1": "Kevin",
                                    "2": "Malone",
                                    "3": "31",
                                    "4": "Male"
                                },
                                {
                                    "0": "1011",
                                    "1": "Ryan",
                                    "2": "Howard",
                                    "3": "26",
                                    "4": "Male"
                                },
                                {
                                    "0": "NULL",
                                    "1": "Holly",
                                    "2": "Flax",
                                    "3": "NULL",
                                    "4": "NULL"
                                },
                                {
                                    "0": "1013",
                                    "1": "Darryl",
                                    "2": "Philbin",
                                    "3": "NULL",
                                    "4": "Male"
                                }
                            ]
                        },
                        "text/html": "<table><tr><th>EmployeeID</th><th>FirstName</th><th>LastName</th><th>Age</th><th>Gender</th></tr><tr><td>1001</td><td>Jim</td><td>Harin</td><td>32</td><td>Male</td></tr><tr><td>1002</td><td>John</td><td>Mark</td><td>35</td><td>Male</td></tr><tr><td>1003</td><td>Riya</td><td>Ray</td><td>28</td><td>Female</td></tr><tr><td>1004</td><td>Harry</td><td>pal</td><td>36</td><td>Male</td></tr><tr><td>1005</td><td>Ram</td><td>Singh</td><td>38</td><td>Male</td></tr><tr><td>1006</td><td>Harry</td><td>pal</td><td>36</td><td>Male</td></tr><tr><td>1007</td><td>Meredith</td><td>Palmer</td><td>32</td><td>Female</td></tr><tr><td>1008</td><td>Stanley</td><td>Hudson</td><td>38</td><td>Male</td></tr><tr><td>1009</td><td>Kevin</td><td>Malone</td><td>31</td><td>Male</td></tr><tr><td>1011</td><td>Ryan</td><td>Howard</td><td>26</td><td>Male</td></tr><tr><td>NULL</td><td>Holly</td><td>Flax</td><td>NULL</td><td>NULL</td></tr><tr><td>1013</td><td>Darryl</td><td>Philbin</td><td>NULL</td><td>Male</td></tr></table>"
                    },
                    "metadata": {}
                }
            ],
            "execution_count": 72
        },
        {
            "cell_type": "markdown",
            "source": [
                "**UPDATE THE DATA**"
            ],
            "metadata": {
                "azdata_cell_guid": "a640e111-1139-44ea-a9d6-88091bdffc10"
            }
        },
        {
            "cell_type": "code",
            "source": [
                "UPDATE EmployeeDemographics\r\n",
                "SET EmployeeID =1012,Age=33,Gender='Male'\r\n",
                "WHERE FirstName='Holly' AND LastName='Flax'"
            ],
            "metadata": {
                "azdata_cell_guid": "44a8cd6f-c647-4728-9edf-54bbffb01bce"
            },
            "outputs": [
                {
                    "output_type": "display_data",
                    "data": {
                        "text/html": "(1 row affected)"
                    },
                    "metadata": {}
                },
                {
                    "output_type": "display_data",
                    "data": {
                        "text/html": "Total execution time: 00:00:00.218"
                    },
                    "metadata": {}
                }
            ],
            "execution_count": 75
        },
        {
            "cell_type": "code",
            "source": [
                "SELECT * \r\n",
                "FROM EmployeeDemographics"
            ],
            "metadata": {
                "azdata_cell_guid": "579daf3c-3d01-45d9-bbe8-6a2d7a79aca0"
            },
            "outputs": [
                {
                    "output_type": "display_data",
                    "data": {
                        "text/html": "(12 rows affected)"
                    },
                    "metadata": {}
                },
                {
                    "output_type": "display_data",
                    "data": {
                        "text/html": "Total execution time: 00:00:00.069"
                    },
                    "metadata": {}
                },
                {
                    "output_type": "execute_result",
                    "execution_count": 76,
                    "data": {
                        "application/vnd.dataresource+json": {
                            "schema": {
                                "fields": [
                                    {
                                        "name": "EmployeeID"
                                    },
                                    {
                                        "name": "FirstName"
                                    },
                                    {
                                        "name": "LastName"
                                    },
                                    {
                                        "name": "Age"
                                    },
                                    {
                                        "name": "Gender"
                                    }
                                ]
                            },
                            "data": [
                                {
                                    "0": "1001",
                                    "1": "Jim",
                                    "2": "Harin",
                                    "3": "32",
                                    "4": "Male"
                                },
                                {
                                    "0": "1002",
                                    "1": "John",
                                    "2": "Mark",
                                    "3": "35",
                                    "4": "Male"
                                },
                                {
                                    "0": "1003",
                                    "1": "Riya",
                                    "2": "Ray",
                                    "3": "28",
                                    "4": "Female"
                                },
                                {
                                    "0": "1004",
                                    "1": "Harry",
                                    "2": "pal",
                                    "3": "36",
                                    "4": "Male"
                                },
                                {
                                    "0": "1005",
                                    "1": "Ram",
                                    "2": "Singh",
                                    "3": "38",
                                    "4": "Male"
                                },
                                {
                                    "0": "1006",
                                    "1": "Harry",
                                    "2": "pal",
                                    "3": "36",
                                    "4": "Male"
                                },
                                {
                                    "0": "1007",
                                    "1": "Meredith",
                                    "2": "Palmer",
                                    "3": "32",
                                    "4": "Female"
                                },
                                {
                                    "0": "1008",
                                    "1": "Stanley",
                                    "2": "Hudson",
                                    "3": "38",
                                    "4": "Male"
                                },
                                {
                                    "0": "1009",
                                    "1": "Kevin",
                                    "2": "Malone",
                                    "3": "31",
                                    "4": "Male"
                                },
                                {
                                    "0": "1011",
                                    "1": "Ryan",
                                    "2": "Howard",
                                    "3": "26",
                                    "4": "Male"
                                },
                                {
                                    "0": "1012",
                                    "1": "Holly",
                                    "2": "Flax",
                                    "3": "33",
                                    "4": "Male"
                                },
                                {
                                    "0": "1013",
                                    "1": "Darryl",
                                    "2": "Philbin",
                                    "3": "NULL",
                                    "4": "Male"
                                }
                            ]
                        },
                        "text/html": "<table><tr><th>EmployeeID</th><th>FirstName</th><th>LastName</th><th>Age</th><th>Gender</th></tr><tr><td>1001</td><td>Jim</td><td>Harin</td><td>32</td><td>Male</td></tr><tr><td>1002</td><td>John</td><td>Mark</td><td>35</td><td>Male</td></tr><tr><td>1003</td><td>Riya</td><td>Ray</td><td>28</td><td>Female</td></tr><tr><td>1004</td><td>Harry</td><td>pal</td><td>36</td><td>Male</td></tr><tr><td>1005</td><td>Ram</td><td>Singh</td><td>38</td><td>Male</td></tr><tr><td>1006</td><td>Harry</td><td>pal</td><td>36</td><td>Male</td></tr><tr><td>1007</td><td>Meredith</td><td>Palmer</td><td>32</td><td>Female</td></tr><tr><td>1008</td><td>Stanley</td><td>Hudson</td><td>38</td><td>Male</td></tr><tr><td>1009</td><td>Kevin</td><td>Malone</td><td>31</td><td>Male</td></tr><tr><td>1011</td><td>Ryan</td><td>Howard</td><td>26</td><td>Male</td></tr><tr><td>1012</td><td>Holly</td><td>Flax</td><td>33</td><td>Male</td></tr><tr><td>1013</td><td>Darryl</td><td>Philbin</td><td>NULL</td><td>Male</td></tr></table>"
                    },
                    "metadata": {}
                }
            ],
            "execution_count": 76
        },
        {
            "cell_type": "markdown",
            "source": [
                "### **DELETE Statement**"
            ],
            "metadata": {
                "azdata_cell_guid": "aad33545-68ae-4847-95a9-fccd1c03c831"
            }
        },
        {
            "cell_type": "code",
            "source": [
                "DELETE \r\n",
                "FROM EmployeeDemographics\r\n",
                "WHERE EmployeeID=1006\r\n",
                "\r\n",
                "SELECT*\r\n",
                "FROM EmployeeDemographics"
            ],
            "metadata": {
                "azdata_cell_guid": "08fe325a-5091-4c87-807f-43d7fc52a894"
            },
            "outputs": [
                {
                    "output_type": "display_data",
                    "data": {
                        "text/html": "(0 rows affected)"
                    },
                    "metadata": {}
                },
                {
                    "output_type": "display_data",
                    "data": {
                        "text/html": "(11 rows affected)"
                    },
                    "metadata": {}
                },
                {
                    "output_type": "display_data",
                    "data": {
                        "text/html": "Total execution time: 00:00:00.074"
                    },
                    "metadata": {}
                },
                {
                    "output_type": "execute_result",
                    "execution_count": 79,
                    "data": {
                        "application/vnd.dataresource+json": {
                            "schema": {
                                "fields": [
                                    {
                                        "name": "EmployeeID"
                                    },
                                    {
                                        "name": "FirstName"
                                    },
                                    {
                                        "name": "LastName"
                                    },
                                    {
                                        "name": "Age"
                                    },
                                    {
                                        "name": "Gender"
                                    }
                                ]
                            },
                            "data": [
                                {
                                    "0": "1001",
                                    "1": "Jim",
                                    "2": "Harin",
                                    "3": "32",
                                    "4": "Male"
                                },
                                {
                                    "0": "1002",
                                    "1": "John",
                                    "2": "Mark",
                                    "3": "35",
                                    "4": "Male"
                                },
                                {
                                    "0": "1003",
                                    "1": "Riya",
                                    "2": "Ray",
                                    "3": "28",
                                    "4": "Female"
                                },
                                {
                                    "0": "1004",
                                    "1": "Harry",
                                    "2": "pal",
                                    "3": "36",
                                    "4": "Male"
                                },
                                {
                                    "0": "1005",
                                    "1": "Ram",
                                    "2": "Singh",
                                    "3": "38",
                                    "4": "Male"
                                },
                                {
                                    "0": "1007",
                                    "1": "Meredith",
                                    "2": "Palmer",
                                    "3": "32",
                                    "4": "Female"
                                },
                                {
                                    "0": "1008",
                                    "1": "Stanley",
                                    "2": "Hudson",
                                    "3": "38",
                                    "4": "Male"
                                },
                                {
                                    "0": "1009",
                                    "1": "Kevin",
                                    "2": "Malone",
                                    "3": "31",
                                    "4": "Male"
                                },
                                {
                                    "0": "1011",
                                    "1": "Ryan",
                                    "2": "Howard",
                                    "3": "26",
                                    "4": "Male"
                                },
                                {
                                    "0": "1012",
                                    "1": "Holly",
                                    "2": "Flax",
                                    "3": "33",
                                    "4": "Male"
                                },
                                {
                                    "0": "1013",
                                    "1": "Darryl",
                                    "2": "Philbin",
                                    "3": "NULL",
                                    "4": "Male"
                                }
                            ]
                        },
                        "text/html": "<table><tr><th>EmployeeID</th><th>FirstName</th><th>LastName</th><th>Age</th><th>Gender</th></tr><tr><td>1001</td><td>Jim</td><td>Harin</td><td>32</td><td>Male</td></tr><tr><td>1002</td><td>John</td><td>Mark</td><td>35</td><td>Male</td></tr><tr><td>1003</td><td>Riya</td><td>Ray</td><td>28</td><td>Female</td></tr><tr><td>1004</td><td>Harry</td><td>pal</td><td>36</td><td>Male</td></tr><tr><td>1005</td><td>Ram</td><td>Singh</td><td>38</td><td>Male</td></tr><tr><td>1007</td><td>Meredith</td><td>Palmer</td><td>32</td><td>Female</td></tr><tr><td>1008</td><td>Stanley</td><td>Hudson</td><td>38</td><td>Male</td></tr><tr><td>1009</td><td>Kevin</td><td>Malone</td><td>31</td><td>Male</td></tr><tr><td>1011</td><td>Ryan</td><td>Howard</td><td>26</td><td>Male</td></tr><tr><td>1012</td><td>Holly</td><td>Flax</td><td>33</td><td>Male</td></tr><tr><td>1013</td><td>Darryl</td><td>Philbin</td><td>NULL</td><td>Male</td></tr></table>"
                    },
                    "metadata": {}
                }
            ],
            "execution_count": 79
        },
        {
            "cell_type": "code",
            "source": [
                "SELECT/*DELETE*/ *\r\n",
                "FROM EmployeeDemographics\r\n",
                "WHERE EmployeeID=1009"
            ],
            "metadata": {
                "azdata_cell_guid": "ce998310-e2bf-4118-a880-7545fc2c7b31"
            },
            "outputs": [
                {
                    "output_type": "display_data",
                    "data": {
                        "text/html": "(1 row affected)"
                    },
                    "metadata": {}
                },
                {
                    "output_type": "display_data",
                    "data": {
                        "text/html": "Total execution time: 00:00:00.173"
                    },
                    "metadata": {}
                },
                {
                    "output_type": "execute_result",
                    "execution_count": 82,
                    "data": {
                        "application/vnd.dataresource+json": {
                            "schema": {
                                "fields": [
                                    {
                                        "name": "EmployeeID"
                                    },
                                    {
                                        "name": "FirstName"
                                    },
                                    {
                                        "name": "LastName"
                                    },
                                    {
                                        "name": "Age"
                                    },
                                    {
                                        "name": "Gender"
                                    }
                                ]
                            },
                            "data": [
                                {
                                    "0": "1009",
                                    "1": "Kevin",
                                    "2": "Malone",
                                    "3": "31",
                                    "4": "Male"
                                }
                            ]
                        },
                        "text/html": "<table><tr><th>EmployeeID</th><th>FirstName</th><th>LastName</th><th>Age</th><th>Gender</th></tr><tr><td>1009</td><td>Kevin</td><td>Malone</td><td>31</td><td>Male</td></tr></table>"
                    },
                    "metadata": {}
                }
            ],
            "execution_count": 82
        },
        {
            "cell_type": "markdown",
            "source": [
                "## **/\\*\\*\\*\\*\\*\\*\\*\\*\\*\\*\\*\\*\\*\\*\\*\\*\\*\\*\\*\\*\\*\\*\\*\\*\\*\\*\\*\\* ALIASING \\*\\*\\*\\*\\*\\*\\*\\*\\*\\*\\*\\*\\*\\*\\*\\*\\*\\*\\*\\*\\*\\*\\*\\*/**"
            ],
            "metadata": {
                "azdata_cell_guid": "537fc831-56bf-48f7-b240-a38c44507a23"
            }
        },
        {
            "cell_type": "markdown",
            "source": [
                "### \n",
                "\n",
                "- Aliasing(AS) used to temporary  rename of columne"
            ],
            "metadata": {
                "azdata_cell_guid": "9256f1a6-5f55-4a11-a08b-bc07ffce8d22"
            }
        },
        {
            "cell_type": "code",
            "source": [
                "SELECT FirstName  FName  ---- Can used AS (FirstName AS FName) OR Just Space(FirstName  FName)\r\n",
                "FROM EmployeeDemographics"
            ],
            "metadata": {
                "azdata_cell_guid": "1da7c66a-0f81-4ebb-b2e6-9e7bf0a3c0a8"
            },
            "outputs": [
                {
                    "output_type": "display_data",
                    "data": {
                        "text/html": "(11 rows affected)"
                    },
                    "metadata": {}
                },
                {
                    "output_type": "display_data",
                    "data": {
                        "text/html": "Total execution time: 00:00:00.263"
                    },
                    "metadata": {}
                },
                {
                    "output_type": "execute_result",
                    "execution_count": 86,
                    "data": {
                        "application/vnd.dataresource+json": {
                            "schema": {
                                "fields": [
                                    {
                                        "name": "FName"
                                    }
                                ]
                            },
                            "data": [
                                {
                                    "0": "Jim"
                                },
                                {
                                    "0": "John"
                                },
                                {
                                    "0": "Riya"
                                },
                                {
                                    "0": "Harry"
                                },
                                {
                                    "0": "Ram"
                                },
                                {
                                    "0": "Meredith"
                                },
                                {
                                    "0": "Stanley"
                                },
                                {
                                    "0": "Kevin"
                                },
                                {
                                    "0": "Ryan"
                                },
                                {
                                    "0": "Holly"
                                },
                                {
                                    "0": "Darryl"
                                }
                            ]
                        },
                        "text/html": "<table><tr><th>FName</th></tr><tr><td>Jim</td></tr><tr><td>John</td></tr><tr><td>Riya</td></tr><tr><td>Harry</td></tr><tr><td>Ram</td></tr><tr><td>Meredith</td></tr><tr><td>Stanley</td></tr><tr><td>Kevin</td></tr><tr><td>Ryan</td></tr><tr><td>Holly</td></tr><tr><td>Darryl</td></tr></table>"
                    },
                    "metadata": {}
                }
            ],
            "execution_count": 86
        },
        {
            "cell_type": "markdown",
            "source": [
                "### **Adding First Name And Last Name and Make it Full Name**"
            ],
            "metadata": {
                "azdata_cell_guid": "0bc04246-7c9e-4e17-b91e-7b16e5f58f85"
            }
        },
        {
            "cell_type": "code",
            "source": [
                "SELECT FirstName + ' ' + LastName AS FullName\r\n",
                "FROM EmployeeDemographics"
            ],
            "metadata": {
                "azdata_cell_guid": "470e74fb-0a23-4858-a33e-8b0cdc352e16"
            },
            "outputs": [
                {
                    "output_type": "display_data",
                    "data": {
                        "text/html": "(11 rows affected)"
                    },
                    "metadata": {}
                },
                {
                    "output_type": "display_data",
                    "data": {
                        "text/html": "Total execution time: 00:00:00.193"
                    },
                    "metadata": {}
                },
                {
                    "output_type": "execute_result",
                    "execution_count": 87,
                    "data": {
                        "application/vnd.dataresource+json": {
                            "schema": {
                                "fields": [
                                    {
                                        "name": "FullName"
                                    }
                                ]
                            },
                            "data": [
                                {
                                    "0": "Jim Harin"
                                },
                                {
                                    "0": "John Mark"
                                },
                                {
                                    "0": "Riya Ray"
                                },
                                {
                                    "0": "Harry pal"
                                },
                                {
                                    "0": "Ram Singh"
                                },
                                {
                                    "0": "Meredith Palmer"
                                },
                                {
                                    "0": "Stanley Hudson"
                                },
                                {
                                    "0": "Kevin Malone"
                                },
                                {
                                    "0": "Ryan Howard"
                                },
                                {
                                    "0": "Holly Flax"
                                },
                                {
                                    "0": "Darryl Philbin"
                                }
                            ]
                        },
                        "text/html": "<table><tr><th>FullName</th></tr><tr><td>Jim Harin</td></tr><tr><td>John Mark</td></tr><tr><td>Riya Ray</td></tr><tr><td>Harry pal</td></tr><tr><td>Ram Singh</td></tr><tr><td>Meredith Palmer</td></tr><tr><td>Stanley Hudson</td></tr><tr><td>Kevin Malone</td></tr><tr><td>Ryan Howard</td></tr><tr><td>Holly Flax</td></tr><tr><td>Darryl Philbin</td></tr></table>"
                    },
                    "metadata": {}
                }
            ],
            "execution_count": 87
        },
        {
            "cell_type": "markdown",
            "source": [
                "### ALIASING our Table"
            ],
            "metadata": {
                "azdata_cell_guid": "aab3ea07-233f-4f6f-8052-6dda9db81e17"
            }
        },
        {
            "cell_type": "code",
            "source": [
                "SELECT DEMO.EmployeeID,DEMO.FirstName,SAL.Salary,WARE.Gender\r\n",
                "FROM EmployeeDemographics AS DEMO\r\n",
                "JOIN EmployeeSalary AS SAL \r\n",
                "ON DEMO.EmployeeID=SAL.EmployeeID\r\n",
                "JOIN WareHouseEmployeeDemographics AS WARE\r\n",
                "ON DEMO.EmployeeID=WARE.EmployeeID\r\n",
                "\r\n",
                "SELECT*FROM WareHouseEmployeeDemographics"
            ],
            "metadata": {
                "azdata_cell_guid": "024d41f3-5d90-4dc0-90b5-b0abd2d31bf1"
            },
            "outputs": [
                {
                    "output_type": "display_data",
                    "data": {
                        "text/html": "(0 rows affected)"
                    },
                    "metadata": {}
                },
                {
                    "output_type": "display_data",
                    "data": {
                        "text/html": "(4 rows affected)"
                    },
                    "metadata": {}
                },
                {
                    "output_type": "display_data",
                    "data": {
                        "text/html": "Total execution time: 00:00:00.201"
                    },
                    "metadata": {}
                },
                {
                    "output_type": "execute_result",
                    "execution_count": 95,
                    "data": {
                        "application/vnd.dataresource+json": {
                            "schema": {
                                "fields": [
                                    {
                                        "name": "EmployeeID"
                                    },
                                    {
                                        "name": "FirstName"
                                    },
                                    {
                                        "name": "Salary"
                                    },
                                    {
                                        "name": "Gender"
                                    }
                                ]
                            },
                            "data": []
                        },
                        "text/html": "<table><tr><th>EmployeeID</th><th>FirstName</th><th>Salary</th><th>Gender</th></tr></table>"
                    },
                    "metadata": {}
                },
                {
                    "output_type": "execute_result",
                    "execution_count": 95,
                    "data": {
                        "application/vnd.dataresource+json": {
                            "schema": {
                                "fields": [
                                    {
                                        "name": "EmployeeID"
                                    },
                                    {
                                        "name": "FirstName"
                                    },
                                    {
                                        "name": "LastName"
                                    },
                                    {
                                        "name": "Age"
                                    },
                                    {
                                        "name": "Gender"
                                    }
                                ]
                            },
                            "data": [
                                {
                                    "0": "1013",
                                    "1": "Darryl",
                                    "2": "Philbin",
                                    "3": "NULL",
                                    "4": "Male"
                                },
                                {
                                    "0": "1050",
                                    "1": "Roy",
                                    "2": "Anderson",
                                    "3": "31",
                                    "4": "Male"
                                },
                                {
                                    "0": "1051",
                                    "1": "Hidetoshi",
                                    "2": "Hasagawa",
                                    "3": "40",
                                    "4": "Male"
                                },
                                {
                                    "0": "1052",
                                    "1": "Val",
                                    "2": "Johnson",
                                    "3": "31",
                                    "4": "Female"
                                }
                            ]
                        },
                        "text/html": "<table><tr><th>EmployeeID</th><th>FirstName</th><th>LastName</th><th>Age</th><th>Gender</th></tr><tr><td>1013</td><td>Darryl</td><td>Philbin</td><td>NULL</td><td>Male</td></tr><tr><td>1050</td><td>Roy</td><td>Anderson</td><td>31</td><td>Male</td></tr><tr><td>1051</td><td>Hidetoshi</td><td>Hasagawa</td><td>40</td><td>Male</td></tr><tr><td>1052</td><td>Val</td><td>Johnson</td><td>31</td><td>Female</td></tr></table>"
                    },
                    "metadata": {}
                }
            ],
            "execution_count": 95
        },
        {
            "cell_type": "code",
            "source": [
                "UPDATE EmployeeDemographics\r\n",
                "SET Age=34\r\n",
                "WHERE EmployeeID=1013\r\n",
                "\r\n",
                "INSERT INTO EmployeeDemographics VALUES\r\n",
                "(1010,'Reema','Sharma',36,'Female')\r\n",
                "\r\n",
                "UPDATE EmployeeSalary\r\n",
                "SET JobTitle='Accountant'\r\n",
                "WHERE EmployeeID =1010\r\n",
                "\r\n",
                "UPDATE EmployeeSalary\r\n",
                "SET EmployeeID='1013'\r\n",
                "WHERE Salary =35000 AND JobTitle='HR'\r\n",
                "\r\n",
                "INSERT INTO EmployeeSalary VALUES\r\n",
                "(1012,'Regional Manager',49000)\r\n",
                "\r\n",
                "  /*  DELETE\r\n",
                "    FROM EmployeeSalary\r\n",
                "    WHERE EmployeeID=1006*/\r\n",
                ""
            ],
            "metadata": {
                "azdata_cell_guid": "227a8a35-1a82-4831-971b-3ca3a8e9a6bf"
            },
            "outputs": [
                {
                    "output_type": "display_data",
                    "data": {
                        "text/html": "(0 rows affected)"
                    },
                    "metadata": {}
                },
                {
                    "output_type": "display_data",
                    "data": {
                        "text/html": "(1 row affected)"
                    },
                    "metadata": {}
                },
                {
                    "output_type": "display_data",
                    "data": {
                        "text/html": "(0 rows affected)"
                    },
                    "metadata": {}
                },
                {
                    "output_type": "display_data",
                    "data": {
                        "text/html": "(0 rows affected)"
                    },
                    "metadata": {}
                },
                {
                    "output_type": "display_data",
                    "data": {
                        "text/html": "(1 row affected)"
                    },
                    "metadata": {}
                },
                {
                    "output_type": "display_data",
                    "data": {
                        "text/html": "Total execution time: 00:00:00.119"
                    },
                    "metadata": {}
                }
            ],
            "execution_count": 105
        },
        {
            "cell_type": "code",
            "source": [
                "DELETE\r\n",
                "    FROM EmployeeSalary\r\n",
                "    WHERE EmployeeID IN(1010,1012,1013)\r\n",
                "\r\n",
                "DELETE\r\n",
                "    FROM EmployeeDemographics\r\n",
                "    WHERE EmployeeID IN(1010,1013)"
            ],
            "metadata": {
                "azdata_cell_guid": "c0ed7305-994d-4232-8d7b-c0f5162bf428"
            },
            "outputs": [
                {
                    "output_type": "display_data",
                    "data": {
                        "text/html": "(5 rows affected)"
                    },
                    "metadata": {}
                },
                {
                    "output_type": "display_data",
                    "data": {
                        "text/html": "(4 rows affected)"
                    },
                    "metadata": {}
                },
                {
                    "output_type": "display_data",
                    "data": {
                        "text/html": "Total execution time: 00:00:00.179"
                    },
                    "metadata": {}
                }
            ],
            "execution_count": 103
        },
        {
            "cell_type": "code",
            "source": [
                "INSERT INTO EmployeeSalary VALUES\r\n",
                "(1010,'Regional Manager',52000)"
            ],
            "metadata": {
                "azdata_cell_guid": "b3cdf3b1-83aa-4545-b789-215e488dc6b3"
            },
            "outputs": [
                {
                    "output_type": "display_data",
                    "data": {
                        "text/html": "(1 row affected)"
                    },
                    "metadata": {}
                },
                {
                    "output_type": "display_data",
                    "data": {
                        "text/html": "Total execution time: 00:00:00.122"
                    },
                    "metadata": {}
                }
            ],
            "execution_count": 108
        },
        {
            "cell_type": "code",
            "source": [
                "SELECT*\r\n",
                "FROM EmployeeDemographics\r\n",
                "ORDER BY EmployeeID\r\n",
                "SELECT*\r\n",
                "FROM EmployeeSalary\r\n",
                "ORDER BY EmployeeID"
            ],
            "metadata": {
                "azdata_cell_guid": "51cf814a-5a18-4db3-a735-21729b4826d8"
            },
            "outputs": [
                {
                    "output_type": "display_data",
                    "data": {
                        "text/html": "(11 rows affected)"
                    },
                    "metadata": {}
                },
                {
                    "output_type": "display_data",
                    "data": {
                        "text/html": "(11 rows affected)"
                    },
                    "metadata": {}
                },
                {
                    "output_type": "display_data",
                    "data": {
                        "text/html": "Total execution time: 00:00:00.077"
                    },
                    "metadata": {}
                },
                {
                    "output_type": "execute_result",
                    "execution_count": 109,
                    "data": {
                        "application/vnd.dataresource+json": {
                            "schema": {
                                "fields": [
                                    {
                                        "name": "EmployeeID"
                                    },
                                    {
                                        "name": "FirstName"
                                    },
                                    {
                                        "name": "LastName"
                                    },
                                    {
                                        "name": "Age"
                                    },
                                    {
                                        "name": "Gender"
                                    }
                                ]
                            },
                            "data": [
                                {
                                    "0": "1001",
                                    "1": "Jim",
                                    "2": "Harin",
                                    "3": "32",
                                    "4": "Male"
                                },
                                {
                                    "0": "1002",
                                    "1": "John",
                                    "2": "Mark",
                                    "3": "35",
                                    "4": "Male"
                                },
                                {
                                    "0": "1003",
                                    "1": "Riya",
                                    "2": "Ray",
                                    "3": "28",
                                    "4": "Female"
                                },
                                {
                                    "0": "1004",
                                    "1": "Harry",
                                    "2": "pal",
                                    "3": "36",
                                    "4": "Male"
                                },
                                {
                                    "0": "1005",
                                    "1": "Ram",
                                    "2": "Singh",
                                    "3": "38",
                                    "4": "Male"
                                },
                                {
                                    "0": "1007",
                                    "1": "Meredith",
                                    "2": "Palmer",
                                    "3": "32",
                                    "4": "Female"
                                },
                                {
                                    "0": "1008",
                                    "1": "Stanley",
                                    "2": "Hudson",
                                    "3": "38",
                                    "4": "Male"
                                },
                                {
                                    "0": "1009",
                                    "1": "Kevin",
                                    "2": "Malone",
                                    "3": "31",
                                    "4": "Male"
                                },
                                {
                                    "0": "1010",
                                    "1": "Reema",
                                    "2": "Sharma",
                                    "3": "36",
                                    "4": "Female"
                                },
                                {
                                    "0": "1011",
                                    "1": "Ryan",
                                    "2": "Howard",
                                    "3": "26",
                                    "4": "Male"
                                },
                                {
                                    "0": "1012",
                                    "1": "Holly",
                                    "2": "Flax",
                                    "3": "33",
                                    "4": "Male"
                                }
                            ]
                        },
                        "text/html": "<table><tr><th>EmployeeID</th><th>FirstName</th><th>LastName</th><th>Age</th><th>Gender</th></tr><tr><td>1001</td><td>Jim</td><td>Harin</td><td>32</td><td>Male</td></tr><tr><td>1002</td><td>John</td><td>Mark</td><td>35</td><td>Male</td></tr><tr><td>1003</td><td>Riya</td><td>Ray</td><td>28</td><td>Female</td></tr><tr><td>1004</td><td>Harry</td><td>pal</td><td>36</td><td>Male</td></tr><tr><td>1005</td><td>Ram</td><td>Singh</td><td>38</td><td>Male</td></tr><tr><td>1007</td><td>Meredith</td><td>Palmer</td><td>32</td><td>Female</td></tr><tr><td>1008</td><td>Stanley</td><td>Hudson</td><td>38</td><td>Male</td></tr><tr><td>1009</td><td>Kevin</td><td>Malone</td><td>31</td><td>Male</td></tr><tr><td>1010</td><td>Reema</td><td>Sharma</td><td>36</td><td>Female</td></tr><tr><td>1011</td><td>Ryan</td><td>Howard</td><td>26</td><td>Male</td></tr><tr><td>1012</td><td>Holly</td><td>Flax</td><td>33</td><td>Male</td></tr></table>"
                    },
                    "metadata": {}
                },
                {
                    "output_type": "execute_result",
                    "execution_count": 109,
                    "data": {
                        "application/vnd.dataresource+json": {
                            "schema": {
                                "fields": [
                                    {
                                        "name": "EmployeeID"
                                    },
                                    {
                                        "name": "JobTitle"
                                    },
                                    {
                                        "name": "Salary"
                                    }
                                ]
                            },
                            "data": [
                                {
                                    "0": "1001",
                                    "1": "Salesman",
                                    "2": "45000"
                                },
                                {
                                    "0": "1002",
                                    "1": "Receptionist",
                                    "2": "36000"
                                },
                                {
                                    "0": "1003",
                                    "1": "Salesman",
                                    "2": "63000"
                                },
                                {
                                    "0": "1004",
                                    "1": "Accountant",
                                    "2": "47000"
                                },
                                {
                                    "0": "1005",
                                    "1": "HR",
                                    "2": "50000"
                                },
                                {
                                    "0": "1007",
                                    "1": "Supplier Relations",
                                    "2": "41000"
                                },
                                {
                                    "0": "1008",
                                    "1": "Salesman",
                                    "2": "48000"
                                },
                                {
                                    "0": "1009",
                                    "1": "Accountant",
                                    "2": "42000"
                                },
                                {
                                    "0": "1010",
                                    "1": "Regional Manager",
                                    "2": "52000"
                                },
                                {
                                    "0": "1011",
                                    "1": "Salesman",
                                    "2": "43000"
                                },
                                {
                                    "0": "1012",
                                    "1": "Regional Manager",
                                    "2": "49000"
                                }
                            ]
                        },
                        "text/html": "<table><tr><th>EmployeeID</th><th>JobTitle</th><th>Salary</th></tr><tr><td>1001</td><td>Salesman</td><td>45000</td></tr><tr><td>1002</td><td>Receptionist</td><td>36000</td></tr><tr><td>1003</td><td>Salesman</td><td>63000</td></tr><tr><td>1004</td><td>Accountant</td><td>47000</td></tr><tr><td>1005</td><td>HR</td><td>50000</td></tr><tr><td>1007</td><td>Supplier Relations</td><td>41000</td></tr><tr><td>1008</td><td>Salesman</td><td>48000</td></tr><tr><td>1009</td><td>Accountant</td><td>42000</td></tr><tr><td>1010</td><td>Regional Manager</td><td>52000</td></tr><tr><td>1011</td><td>Salesman</td><td>43000</td></tr><tr><td>1012</td><td>Regional Manager</td><td>49000</td></tr></table>"
                    },
                    "metadata": {}
                }
            ],
            "execution_count": 109
        },
        {
            "cell_type": "markdown",
            "source": [
                "# **/\\*\\*\\*\\*\\*\\*\\*\\*\\*\\*\\*\\*\\*\\*\\*\\*\\*\\*\\*\\*\\*\\*\\*\\*\\*\\*\\*\\*\\*\\*\\*\\*\\*\\*\\*\\*\\*\\*\\*\\*\\* PARTITION BY \\*\\*\\*\\*\\*\\*\\*\\*\\*\\*\\*\\*\\*\\*\\*\\*\\*\\*\\*\\*\\*\\*\\*\\*\\*\\*\\*\\*\\*\\*\\*\\*\\*/**"
            ],
            "metadata": {
                "azdata_cell_guid": "9970ccc5-ff06-496a-a70a-45d3be379b3a"
            }
        },
        {
            "cell_type": "code",
            "source": [
                "SELECT FirstName,LastName,Gender,Salary,COUNT(Gender) OVER (PARTITION BY Gender) AS TOTAL_GENDER\r\n",
                "FROM EmployeeDemographics\r\n",
                "JOIN EmployeeSalary\r\n",
                "ON EmployeeDemographics.EmployeeID=EmployeeSalary.EmployeeID"
            ],
            "metadata": {
                "azdata_cell_guid": "eba90863-7cc3-4d35-b192-0077123240ec"
            },
            "outputs": [
                {
                    "output_type": "display_data",
                    "data": {
                        "text/html": "(11 rows affected)"
                    },
                    "metadata": {}
                },
                {
                    "output_type": "display_data",
                    "data": {
                        "text/html": "Total execution time: 00:00:00.281"
                    },
                    "metadata": {}
                },
                {
                    "output_type": "execute_result",
                    "execution_count": 113,
                    "data": {
                        "application/vnd.dataresource+json": {
                            "schema": {
                                "fields": [
                                    {
                                        "name": "FirstName"
                                    },
                                    {
                                        "name": "LastName"
                                    },
                                    {
                                        "name": "Gender"
                                    },
                                    {
                                        "name": "Salary"
                                    },
                                    {
                                        "name": "TOTAL_GENDER"
                                    }
                                ]
                            },
                            "data": [
                                {
                                    "0": "Riya",
                                    "1": "Ray",
                                    "2": "Female",
                                    "3": "63000",
                                    "4": "3"
                                },
                                {
                                    "0": "Meredith",
                                    "1": "Palmer",
                                    "2": "Female",
                                    "3": "41000",
                                    "4": "3"
                                },
                                {
                                    "0": "Reema",
                                    "1": "Sharma",
                                    "2": "Female",
                                    "3": "52000",
                                    "4": "3"
                                },
                                {
                                    "0": "Stanley",
                                    "1": "Hudson",
                                    "2": "Male",
                                    "3": "48000",
                                    "4": "8"
                                },
                                {
                                    "0": "Kevin",
                                    "1": "Malone",
                                    "2": "Male",
                                    "3": "42000",
                                    "4": "8"
                                },
                                {
                                    "0": "Ryan",
                                    "1": "Howard",
                                    "2": "Male",
                                    "3": "43000",
                                    "4": "8"
                                },
                                {
                                    "0": "Holly",
                                    "1": "Flax",
                                    "2": "Male",
                                    "3": "49000",
                                    "4": "8"
                                },
                                {
                                    "0": "Harry",
                                    "1": "pal",
                                    "2": "Male",
                                    "3": "47000",
                                    "4": "8"
                                },
                                {
                                    "0": "Ram",
                                    "1": "Singh",
                                    "2": "Male",
                                    "3": "50000",
                                    "4": "8"
                                },
                                {
                                    "0": "Jim",
                                    "1": "Harin",
                                    "2": "Male",
                                    "3": "45000",
                                    "4": "8"
                                },
                                {
                                    "0": "John",
                                    "1": "Mark",
                                    "2": "Male",
                                    "3": "36000",
                                    "4": "8"
                                }
                            ]
                        },
                        "text/html": "<table><tr><th>FirstName</th><th>LastName</th><th>Gender</th><th>Salary</th><th>TOTAL_GENDER</th></tr><tr><td>Riya</td><td>Ray</td><td>Female</td><td>63000</td><td>3</td></tr><tr><td>Meredith</td><td>Palmer</td><td>Female</td><td>41000</td><td>3</td></tr><tr><td>Reema</td><td>Sharma</td><td>Female</td><td>52000</td><td>3</td></tr><tr><td>Stanley</td><td>Hudson</td><td>Male</td><td>48000</td><td>8</td></tr><tr><td>Kevin</td><td>Malone</td><td>Male</td><td>42000</td><td>8</td></tr><tr><td>Ryan</td><td>Howard</td><td>Male</td><td>43000</td><td>8</td></tr><tr><td>Holly</td><td>Flax</td><td>Male</td><td>49000</td><td>8</td></tr><tr><td>Harry</td><td>pal</td><td>Male</td><td>47000</td><td>8</td></tr><tr><td>Ram</td><td>Singh</td><td>Male</td><td>50000</td><td>8</td></tr><tr><td>Jim</td><td>Harin</td><td>Male</td><td>45000</td><td>8</td></tr><tr><td>John</td><td>Mark</td><td>Male</td><td>36000</td><td>8</td></tr></table>"
                    },
                    "metadata": {}
                }
            ],
            "execution_count": 113
        },
        {
            "cell_type": "code",
            "source": [
                "SELECT FirstName,LastName,Gender,Salary,COUNT(Gender)  AS TOTAL_GENDER\r\n",
                "FROM EmployeeDemographics\r\n",
                "JOIN EmployeeSalary\r\n",
                "ON EmployeeDemographics.EmployeeID=EmployeeSalary.EmployeeID\r\n",
                "GROUP BY FirstName,LastName,Gender,Salary"
            ],
            "metadata": {
                "azdata_cell_guid": "ac0d9005-484e-40bb-b76f-c23e83f2067f"
            },
            "outputs": [
                {
                    "output_type": "display_data",
                    "data": {
                        "text/html": "(11 rows affected)"
                    },
                    "metadata": {}
                },
                {
                    "output_type": "display_data",
                    "data": {
                        "text/html": "Total execution time: 00:00:00.093"
                    },
                    "metadata": {}
                },
                {
                    "output_type": "execute_result",
                    "execution_count": 114,
                    "data": {
                        "application/vnd.dataresource+json": {
                            "schema": {
                                "fields": [
                                    {
                                        "name": "FirstName"
                                    },
                                    {
                                        "name": "LastName"
                                    },
                                    {
                                        "name": "Gender"
                                    },
                                    {
                                        "name": "Salary"
                                    },
                                    {
                                        "name": "TOTAL_GENDER"
                                    }
                                ]
                            },
                            "data": [
                                {
                                    "0": "Harry",
                                    "1": "pal",
                                    "2": "Male",
                                    "3": "47000",
                                    "4": "1"
                                },
                                {
                                    "0": "Holly",
                                    "1": "Flax",
                                    "2": "Male",
                                    "3": "49000",
                                    "4": "1"
                                },
                                {
                                    "0": "Jim",
                                    "1": "Harin",
                                    "2": "Male",
                                    "3": "45000",
                                    "4": "1"
                                },
                                {
                                    "0": "John",
                                    "1": "Mark",
                                    "2": "Male",
                                    "3": "36000",
                                    "4": "1"
                                },
                                {
                                    "0": "Kevin",
                                    "1": "Malone",
                                    "2": "Male",
                                    "3": "42000",
                                    "4": "1"
                                },
                                {
                                    "0": "Meredith",
                                    "1": "Palmer",
                                    "2": "Female",
                                    "3": "41000",
                                    "4": "1"
                                },
                                {
                                    "0": "Ram",
                                    "1": "Singh",
                                    "2": "Male",
                                    "3": "50000",
                                    "4": "1"
                                },
                                {
                                    "0": "Reema",
                                    "1": "Sharma",
                                    "2": "Female",
                                    "3": "52000",
                                    "4": "1"
                                },
                                {
                                    "0": "Riya",
                                    "1": "Ray",
                                    "2": "Female",
                                    "3": "63000",
                                    "4": "1"
                                },
                                {
                                    "0": "Ryan",
                                    "1": "Howard",
                                    "2": "Male",
                                    "3": "43000",
                                    "4": "1"
                                },
                                {
                                    "0": "Stanley",
                                    "1": "Hudson",
                                    "2": "Male",
                                    "3": "48000",
                                    "4": "1"
                                }
                            ]
                        },
                        "text/html": "<table><tr><th>FirstName</th><th>LastName</th><th>Gender</th><th>Salary</th><th>TOTAL_GENDER</th></tr><tr><td>Harry</td><td>pal</td><td>Male</td><td>47000</td><td>1</td></tr><tr><td>Holly</td><td>Flax</td><td>Male</td><td>49000</td><td>1</td></tr><tr><td>Jim</td><td>Harin</td><td>Male</td><td>45000</td><td>1</td></tr><tr><td>John</td><td>Mark</td><td>Male</td><td>36000</td><td>1</td></tr><tr><td>Kevin</td><td>Malone</td><td>Male</td><td>42000</td><td>1</td></tr><tr><td>Meredith</td><td>Palmer</td><td>Female</td><td>41000</td><td>1</td></tr><tr><td>Ram</td><td>Singh</td><td>Male</td><td>50000</td><td>1</td></tr><tr><td>Reema</td><td>Sharma</td><td>Female</td><td>52000</td><td>1</td></tr><tr><td>Riya</td><td>Ray</td><td>Female</td><td>63000</td><td>1</td></tr><tr><td>Ryan</td><td>Howard</td><td>Male</td><td>43000</td><td>1</td></tr><tr><td>Stanley</td><td>Hudson</td><td>Male</td><td>48000</td><td>1</td></tr></table>"
                    },
                    "metadata": {}
                }
            ],
            "execution_count": 114
        },
        {
            "cell_type": "code",
            "source": [
                "SELECT Gender,COUNT(Gender)  AS TOTAL_GENDER\r\n",
                "FROM EmployeeDemographics\r\n",
                "JOIN EmployeeSalary\r\n",
                "ON EmployeeDemographics.EmployeeID=EmployeeSalary.EmployeeID\r\n",
                "GROUP BY Gender"
            ],
            "metadata": {
                "azdata_cell_guid": "15777bb3-7df5-4be7-b932-cfc6e5b76175"
            },
            "outputs": [
                {
                    "output_type": "display_data",
                    "data": {
                        "text/html": "(2 rows affected)"
                    },
                    "metadata": {}
                },
                {
                    "output_type": "display_data",
                    "data": {
                        "text/html": "Total execution time: 00:00:00.132"
                    },
                    "metadata": {}
                },
                {
                    "output_type": "execute_result",
                    "execution_count": 115,
                    "data": {
                        "application/vnd.dataresource+json": {
                            "schema": {
                                "fields": [
                                    {
                                        "name": "Gender"
                                    },
                                    {
                                        "name": "TOTAL_GENDER"
                                    }
                                ]
                            },
                            "data": [
                                {
                                    "0": "Female",
                                    "1": "3"
                                },
                                {
                                    "0": "Male",
                                    "1": "8"
                                }
                            ]
                        },
                        "text/html": "<table><tr><th>Gender</th><th>TOTAL_GENDER</th></tr><tr><td>Female</td><td>3</td></tr><tr><td>Male</td><td>8</td></tr></table>"
                    },
                    "metadata": {}
                }
            ],
            "execution_count": 115
        }
    ]
}