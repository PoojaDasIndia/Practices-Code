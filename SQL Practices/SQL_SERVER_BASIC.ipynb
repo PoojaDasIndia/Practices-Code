{
    "metadata": {
        "kernelspec": {
            "name": "SQL",
            "display_name": "SQL",
            "language": "sql"
        },
        "language_info": {
            "name": "sql",
            "version": ""
        }
    },
    "nbformat_minor": 2,
    "nbformat": 4,
    "cells": [
        {
            "cell_type": "code",
            "source": [
                "CREATE TABLE EmployeeDemo\r\n",
                "(\r\n",
                "    EmployeeId INT,\r\n",
                "    FirstName VARCHAR(50),\r\n",
                "    LastName VARCHAR(50),\r\n",
                "    Age INT,\r\n",
                "    Gender VARCHAR(50)\r\n",
                ")"
            ],
            "metadata": {
                "azdata_cell_guid": "42ba7fee-5217-4713-bb4f-49afb3491b1d",
                "language": "sql",
                "tags": []
            },
            "outputs": [
                {
                    "output_type": "error",
                    "ename": "",
                    "evalue": "Msg 2714, Level 16, State 6, Line 1\r\nThere is already an object named 'EmployeeDemo' in the database.",
                    "traceback": []
                },
                {
                    "output_type": "display_data",
                    "data": {
                        "text/html": "Total execution time: 00:00:01.716"
                    },
                    "metadata": {}
                }
            ],
            "execution_count": 6
        },
        {
            "cell_type": "code",
            "source": [
                "create table EmployeeSalary\r\n",
                "(\r\n",
                "    EmployeeID int,\r\n",
                "    JobTitle Varchar(50),\r\n",
                "    Employee_Salary int\r\n",
                ")"
            ],
            "metadata": {
                "language": "sql",
                "azdata_cell_guid": "fab9f18a-00c9-4a1d-8834-6a9fba3d4e72",
                "tags": []
            },
            "outputs": [
                {
                    "output_type": "display_data",
                    "data": {
                        "text/html": "Commands completed successfully."
                    },
                    "metadata": {}
                },
                {
                    "output_type": "display_data",
                    "data": {
                        "text/html": "Total execution time: 00:00:00.029"
                    },
                    "metadata": {}
                }
            ],
            "execution_count": 2
        },
        {
            "cell_type": "code",
            "source": [
                "INSERT  INTO EmployeeDemo VALUES\r\n",
                "(1001,'Pooja' ,'Das',28,'Female')"
            ],
            "metadata": {
                "azdata_cell_guid": "9438fde0-1e3e-45e2-a5dc-18b7bf01b15e",
                "language": "sql",
                "tags": []
            },
            "outputs": [
                {
                    "output_type": "display_data",
                    "data": {
                        "text/html": "(1 row affected)"
                    },
                    "metadata": {}
                },
                {
                    "output_type": "display_data",
                    "data": {
                        "text/html": "Total execution time: 00:00:00.190"
                    },
                    "metadata": {}
                }
            ],
            "execution_count": 3
        },
        {
            "cell_type": "code",
            "source": [
                "INSERT  INTO [dbo].[EmployeeDemo] VALUES\r\n",
                "(1002, 'Pam', 'Beasley', 30, 'Female'),\r\n",
                "(1003, 'Dwight', 'Schrute', 29, 'Male'),\r\n",
                "(1004, 'Angela', 'Martin', 31, 'Female'),\r\n",
                "(1005, 'Toby', 'Flenderson', 32, 'Male'),\r\n",
                "(1006, 'Michael', 'Scott', 35, 'Male'),\r\n",
                "(1007, 'Meredith', 'Palmer', 32, 'Female'),\r\n",
                "(1008, 'Stanley', 'Hudson', 38, 'Male'),\r\n",
                "(1009, 'Kevin', 'Malone', 31, 'Male')"
            ],
            "metadata": {
                "azdata_cell_guid": "a66c423c-7a7e-4e19-87ac-23e55e2f7099",
                "language": "sql"
            },
            "outputs": [
                {
                    "output_type": "display_data",
                    "data": {
                        "text/html": "(8 rows affected)"
                    },
                    "metadata": {}
                },
                {
                    "output_type": "display_data",
                    "data": {
                        "text/html": "Total execution time: 00:00:00.245"
                    },
                    "metadata": {}
                }
            ],
            "execution_count": 7
        },
        {
            "cell_type": "code",
            "source": [
                "INSERT INTO [dbo].[EmployeeSalary] VALUES\r\n",
                "(1001,'DataScience',50000),\r\n",
                "(1002, 'Receptionist', 36000),\r\n",
                "(1003, 'Salesman', 63000),\r\n",
                "(1004, 'Accountant', 47000),\r\n",
                "(1005, 'HR', 50000),\r\n",
                "(1006, 'Regional Manager', 65000),\r\n",
                "(1007, 'Supplier Relations', 41000),\r\n",
                "(1008, 'Salesman', 48000),\r\n",
                "(1009, 'Accountant', 42000)"
            ],
            "metadata": {
                "azdata_cell_guid": "fca84371-fac6-4153-9781-f94d9dccc1aa",
                "language": "sql"
            },
            "outputs": [
                {
                    "output_type": "display_data",
                    "data": {
                        "text/html": "(9 rows affected)"
                    },
                    "metadata": {}
                },
                {
                    "output_type": "display_data",
                    "data": {
                        "text/html": "Total execution time: 00:00:00.144"
                    },
                    "metadata": {}
                }
            ],
            "execution_count": 8
        },
        {
            "cell_type": "markdown",
            "source": [
                "#  **SELECT** Statement **(\\* , Top , Distinct,  Count, As   ,Max,  Min,   Avg)**"
            ],
            "metadata": {
                "azdata_cell_guid": "ef536ee0-eca7-44fe-9c8c-f4482da6df5f"
            },
            "attachments": {}
        },
        {
            "cell_type": "code",
            "source": [
                "SELECT * FROM EmployeeSalary"
            ],
            "metadata": {
                "azdata_cell_guid": "07331dd1-abfc-4459-9090-62a22b12f552",
                "language": "sql"
            },
            "outputs": [
                {
                    "output_type": "display_data",
                    "data": {
                        "text/html": "(11 rows affected)"
                    },
                    "metadata": {}
                },
                {
                    "output_type": "display_data",
                    "data": {
                        "text/html": "Total execution time: 00:00:00.326"
                    },
                    "metadata": {}
                },
                {
                    "output_type": "execute_result",
                    "metadata": {},
                    "execution_count": 1,
                    "data": {
                        "application/vnd.dataresource+json": {
                            "schema": {
                                "fields": [
                                    {
                                        "name": "EmployeeID"
                                    },
                                    {
                                        "name": "JobTitle"
                                    },
                                    {
                                        "name": "Employee_Salary"
                                    }
                                ]
                            },
                            "data": [
                                {
                                    "0": "1001",
                                    "1": "DataScience",
                                    "2": "50000"
                                },
                                {
                                    "0": "1002",
                                    "1": "Receptionist",
                                    "2": "36000"
                                },
                                {
                                    "0": "1003",
                                    "1": "Salesman",
                                    "2": "63000"
                                },
                                {
                                    "0": "1004",
                                    "1": "Accountant",
                                    "2": "47000"
                                },
                                {
                                    "0": "1005",
                                    "1": "HR",
                                    "2": "50000"
                                },
                                {
                                    "0": "1006",
                                    "1": "Regional Manager",
                                    "2": "65000"
                                },
                                {
                                    "0": "1007",
                                    "1": "Supplier Relations",
                                    "2": "41000"
                                },
                                {
                                    "0": "1010",
                                    "1": "NULL",
                                    "2": "47000"
                                },
                                {
                                    "0": "1009",
                                    "1": "Accountant",
                                    "2": "42000"
                                },
                                {
                                    "0": "NULL",
                                    "1": "HR",
                                    "2": "350000"
                                },
                                {
                                    "0": "1011",
                                    "1": "Salesman",
                                    "2": "43000"
                                }
                            ]
                        },
                        "text/html": [
                            "<table>",
                            "<tr><th>EmployeeID</th><th>JobTitle</th><th>Employee_Salary</th></tr>",
                            "<tr><td>1001</td><td>DataScience</td><td>50000</td></tr>",
                            "<tr><td>1002</td><td>Receptionist</td><td>36000</td></tr>",
                            "<tr><td>1003</td><td>Salesman</td><td>63000</td></tr>",
                            "<tr><td>1004</td><td>Accountant</td><td>47000</td></tr>",
                            "<tr><td>1005</td><td>HR</td><td>50000</td></tr>",
                            "<tr><td>1006</td><td>Regional Manager</td><td>65000</td></tr>",
                            "<tr><td>1007</td><td>Supplier Relations</td><td>41000</td></tr>",
                            "<tr><td>1010</td><td>NULL</td><td>47000</td></tr>",
                            "<tr><td>1009</td><td>Accountant</td><td>42000</td></tr>",
                            "<tr><td>NULL</td><td>HR</td><td>350000</td></tr>",
                            "<tr><td>1011</td><td>Salesman</td><td>43000</td></tr>",
                            "</table>"
                        ]
                    }
                }
            ],
            "execution_count": 1
        },
        {
            "cell_type": "code",
            "source": [
                "select * from EmployeeDemo"
            ],
            "metadata": {
                "azdata_cell_guid": "20f5d432-da45-46ca-9db5-966455fb696d",
                "language": "sql"
            },
            "outputs": [
                {
                    "output_type": "display_data",
                    "data": {
                        "text/html": "(11 rows affected)"
                    },
                    "metadata": {}
                },
                {
                    "output_type": "display_data",
                    "data": {
                        "text/html": "Total execution time: 00:00:00.218"
                    },
                    "metadata": {}
                },
                {
                    "output_type": "execute_result",
                    "metadata": {},
                    "execution_count": 2,
                    "data": {
                        "application/vnd.dataresource+json": {
                            "schema": {
                                "fields": [
                                    {
                                        "name": "EmployeeId"
                                    },
                                    {
                                        "name": "FirstName"
                                    },
                                    {
                                        "name": "LastName"
                                    },
                                    {
                                        "name": "Age"
                                    },
                                    {
                                        "name": "Gender"
                                    }
                                ]
                            },
                            "data": [
                                {
                                    "0": "1001",
                                    "1": "Pooja",
                                    "2": "Das",
                                    "3": "28",
                                    "4": "Female"
                                },
                                {
                                    "0": "1002",
                                    "1": "Pam",
                                    "2": "Beasley",
                                    "3": "30",
                                    "4": "Female"
                                },
                                {
                                    "0": "1003",
                                    "1": "Dwight",
                                    "2": "Schrute",
                                    "3": "29",
                                    "4": "Male"
                                },
                                {
                                    "0": "1004",
                                    "1": "Angela",
                                    "2": "Martin",
                                    "3": "31",
                                    "4": "Female"
                                },
                                {
                                    "0": "1006",
                                    "1": "Michael",
                                    "2": "Scott",
                                    "3": "35",
                                    "4": "Male"
                                },
                                {
                                    "0": "1007",
                                    "1": "Meredith",
                                    "2": "Palmer",
                                    "3": "32",
                                    "4": "Female"
                                },
                                {
                                    "0": "1008",
                                    "1": "Stanley",
                                    "2": "Hudson",
                                    "3": "38",
                                    "4": "Male"
                                },
                                {
                                    "0": "1009",
                                    "1": "Kevin",
                                    "2": "Malone",
                                    "3": "31",
                                    "4": "Male"
                                },
                                {
                                    "0": "1011",
                                    "1": "Ryan",
                                    "2": "Howard",
                                    "3": "26",
                                    "4": "Male"
                                },
                                {
                                    "0": "1012",
                                    "1": "Holly",
                                    "2": "Flax",
                                    "3": "35",
                                    "4": "Male"
                                },
                                {
                                    "0": "1013",
                                    "1": "Darryl",
                                    "2": "Philbin",
                                    "3": "NULL",
                                    "4": "Male"
                                }
                            ]
                        },
                        "text/html": [
                            "<table>",
                            "<tr><th>EmployeeId</th><th>FirstName</th><th>LastName</th><th>Age</th><th>Gender</th></tr>",
                            "<tr><td>1001</td><td>Pooja</td><td>Das</td><td>28</td><td>Female</td></tr>",
                            "<tr><td>1002</td><td>Pam</td><td>Beasley</td><td>30</td><td>Female</td></tr>",
                            "<tr><td>1003</td><td>Dwight</td><td>Schrute</td><td>29</td><td>Male</td></tr>",
                            "<tr><td>1004</td><td>Angela</td><td>Martin</td><td>31</td><td>Female</td></tr>",
                            "<tr><td>1006</td><td>Michael</td><td>Scott</td><td>35</td><td>Male</td></tr>",
                            "<tr><td>1007</td><td>Meredith</td><td>Palmer</td><td>32</td><td>Female</td></tr>",
                            "<tr><td>1008</td><td>Stanley</td><td>Hudson</td><td>38</td><td>Male</td></tr>",
                            "<tr><td>1009</td><td>Kevin</td><td>Malone</td><td>31</td><td>Male</td></tr>",
                            "<tr><td>1011</td><td>Ryan</td><td>Howard</td><td>26</td><td>Male</td></tr>",
                            "<tr><td>1012</td><td>Holly</td><td>Flax</td><td>35</td><td>Male</td></tr>",
                            "<tr><td>1013</td><td>Darryl</td><td>Philbin</td><td>NULL</td><td>Male</td></tr>",
                            "</table>"
                        ]
                    }
                }
            ],
            "execution_count": 2
        },
        {
            "cell_type": "markdown",
            "source": [
                "If Need to select only **FirstName and Age**\n",
                "\n",
                "  \n",
                "\n",
                "## **\\*** is used to select all row and all column\n",
                "\n",
                "I"
            ],
            "metadata": {
                "language": "sql",
                "azdata_cell_guid": "258c9fbb-4998-447f-8b21-e33af0f0e6e1"
            },
            "attachments": {}
        },
        {
            "cell_type": "code",
            "source": [
                "SELECT FirstName ,age  from EmployeeDemo"
            ],
            "metadata": {
                "azdata_cell_guid": "61b0981e-4ed1-4e8c-a68d-68b475f5c4b2",
                "language": "sql"
            },
            "outputs": [
                {
                    "output_type": "display_data",
                    "data": {
                        "text/html": "(9 rows affected)"
                    },
                    "metadata": {}
                },
                {
                    "output_type": "display_data",
                    "data": {
                        "text/html": "Total execution time: 00:00:00.231"
                    },
                    "metadata": {}
                },
                {
                    "output_type": "execute_result",
                    "execution_count": 12,
                    "data": {
                        "application/vnd.dataresource+json": {
                            "schema": {
                                "fields": [
                                    {
                                        "name": "FirstName"
                                    },
                                    {
                                        "name": "age"
                                    }
                                ]
                            },
                            "data": [
                                {
                                    "0": "Pooja",
                                    "1": "28"
                                },
                                {
                                    "0": "Pam",
                                    "1": "30"
                                },
                                {
                                    "0": "Dwight",
                                    "1": "29"
                                },
                                {
                                    "0": "Angela",
                                    "1": "31"
                                },
                                {
                                    "0": "Toby",
                                    "1": "32"
                                },
                                {
                                    "0": "Michael",
                                    "1": "35"
                                },
                                {
                                    "0": "Meredith",
                                    "1": "32"
                                },
                                {
                                    "0": "Stanley",
                                    "1": "38"
                                },
                                {
                                    "0": "Kevin",
                                    "1": "31"
                                }
                            ]
                        },
                        "text/html": "<table><tr><th>FirstName</th><th>age</th></tr><tr><td>Pooja</td><td>28</td></tr><tr><td>Pam</td><td>30</td></tr><tr><td>Dwight</td><td>29</td></tr><tr><td>Angela</td><td>31</td></tr><tr><td>Toby</td><td>32</td></tr><tr><td>Michael</td><td>35</td></tr><tr><td>Meredith</td><td>32</td></tr><tr><td>Stanley</td><td>38</td></tr><tr><td>Kevin</td><td>31</td></tr></table>"
                    },
                    "metadata": {}
                }
            ],
            "execution_count": 12
        },
        {
            "cell_type": "markdown",
            "source": [
                "## If need to Select TOP 5 records of all (\\*) employee"
            ],
            "metadata": {
                "language": "sql",
                "azdata_cell_guid": "285a00ef-6fb6-4229-b6c8-e04319cf22c5"
            },
            "attachments": {}
        },
        {
            "cell_type": "code",
            "source": [
                "SELECT Top 5 * FROM EmployeeDemo"
            ],
            "metadata": {
                "azdata_cell_guid": "3b717ef4-cdfe-451c-843b-8ff27b2ac754",
                "language": "sql"
            },
            "outputs": [
                {
                    "output_type": "display_data",
                    "data": {
                        "text/html": "(5 rows affected)"
                    },
                    "metadata": {}
                },
                {
                    "output_type": "display_data",
                    "data": {
                        "text/html": "Total execution time: 00:00:00.069"
                    },
                    "metadata": {}
                },
                {
                    "output_type": "execute_result",
                    "execution_count": 16,
                    "data": {
                        "application/vnd.dataresource+json": {
                            "schema": {
                                "fields": [
                                    {
                                        "name": "EmployeeId"
                                    },
                                    {
                                        "name": "FirstName"
                                    },
                                    {
                                        "name": "LastName"
                                    },
                                    {
                                        "name": "Age"
                                    },
                                    {
                                        "name": "Gender"
                                    }
                                ]
                            },
                            "data": [
                                {
                                    "0": "1001",
                                    "1": "Pooja",
                                    "2": "Das",
                                    "3": "28",
                                    "4": "Female"
                                },
                                {
                                    "0": "1002",
                                    "1": "Pam",
                                    "2": "Beasley",
                                    "3": "30",
                                    "4": "Female"
                                },
                                {
                                    "0": "1003",
                                    "1": "Dwight",
                                    "2": "Schrute",
                                    "3": "29",
                                    "4": "Male"
                                },
                                {
                                    "0": "1004",
                                    "1": "Angela",
                                    "2": "Martin",
                                    "3": "31",
                                    "4": "Female"
                                },
                                {
                                    "0": "1005",
                                    "1": "Toby",
                                    "2": "Flenderson",
                                    "3": "32",
                                    "4": "Male"
                                }
                            ]
                        },
                        "text/html": "<table><tr><th>EmployeeId</th><th>FirstName</th><th>LastName</th><th>Age</th><th>Gender</th></tr><tr><td>1001</td><td>Pooja</td><td>Das</td><td>28</td><td>Female</td></tr><tr><td>1002</td><td>Pam</td><td>Beasley</td><td>30</td><td>Female</td></tr><tr><td>1003</td><td>Dwight</td><td>Schrute</td><td>29</td><td>Male</td></tr><tr><td>1004</td><td>Angela</td><td>Martin</td><td>31</td><td>Female</td></tr><tr><td>1005</td><td>Toby</td><td>Flenderson</td><td>32</td><td>Male</td></tr></table>"
                    },
                    "metadata": {}
                }
            ],
            "execution_count": 16
        },
        {
            "cell_type": "markdown",
            "source": [
                "## If need to Select TOP 5 records of FirstName and LastName of employee"
            ],
            "metadata": {
                "azdata_cell_guid": "e6987575-b64f-44a6-8408-820a3db23306"
            },
            "attachments": {}
        },
        {
            "cell_type": "code",
            "source": [
                "Select top 5 FirstName ,LastName from EmployeeDemo"
            ],
            "metadata": {
                "azdata_cell_guid": "2dc51c96-f49e-4c55-bed4-641ffc2af5ed",
                "language": "sql"
            },
            "outputs": [
                {
                    "output_type": "display_data",
                    "data": {
                        "text/html": "(5 rows affected)"
                    },
                    "metadata": {}
                },
                {
                    "output_type": "display_data",
                    "data": {
                        "text/html": "Total execution time: 00:00:00.079"
                    },
                    "metadata": {}
                },
                {
                    "output_type": "execute_result",
                    "execution_count": 17,
                    "data": {
                        "application/vnd.dataresource+json": {
                            "schema": {
                                "fields": [
                                    {
                                        "name": "FirstName"
                                    },
                                    {
                                        "name": "LastName"
                                    }
                                ]
                            },
                            "data": [
                                {
                                    "0": "Pooja",
                                    "1": "Das"
                                },
                                {
                                    "0": "Pam",
                                    "1": "Beasley"
                                },
                                {
                                    "0": "Dwight",
                                    "1": "Schrute"
                                },
                                {
                                    "0": "Angela",
                                    "1": "Martin"
                                },
                                {
                                    "0": "Toby",
                                    "1": "Flenderson"
                                }
                            ]
                        },
                        "text/html": "<table><tr><th>FirstName</th><th>LastName</th></tr><tr><td>Pooja</td><td>Das</td></tr><tr><td>Pam</td><td>Beasley</td></tr><tr><td>Dwight</td><td>Schrute</td></tr><tr><td>Angela</td><td>Martin</td></tr><tr><td>Toby</td><td>Flenderson</td></tr></table>"
                    },
                    "metadata": {}
                }
            ],
            "execution_count": 17
        },
        {
            "cell_type": "markdown",
            "source": [
                "## **DISTINCT()** find **all the unique values** like in EmployeeID all values are uniques and in Gender only Male and Female Unique."
            ],
            "metadata": {
                "azdata_cell_guid": "25170762-b91f-4471-b2fb-6de2ec0c171c"
            },
            "attachments": {}
        },
        {
            "cell_type": "code",
            "source": [
                "SELECT DISTINCT(EmployeeID)\r\n",
                "    FROM EmployeeDemo"
            ],
            "metadata": {
                "azdata_cell_guid": "62c61b53-2295-4e4d-b1ba-f6db5759fa85",
                "language": "sql"
            },
            "outputs": [
                {
                    "output_type": "display_data",
                    "data": {
                        "text/html": "(9 rows affected)"
                    },
                    "metadata": {}
                },
                {
                    "output_type": "display_data",
                    "data": {
                        "text/html": "Total execution time: 00:00:00.272"
                    },
                    "metadata": {}
                },
                {
                    "output_type": "execute_result",
                    "execution_count": 18,
                    "data": {
                        "application/vnd.dataresource+json": {
                            "schema": {
                                "fields": [
                                    {
                                        "name": "EmployeeID"
                                    }
                                ]
                            },
                            "data": [
                                {
                                    "0": "1001"
                                },
                                {
                                    "0": "1002"
                                },
                                {
                                    "0": "1003"
                                },
                                {
                                    "0": "1004"
                                },
                                {
                                    "0": "1005"
                                },
                                {
                                    "0": "1006"
                                },
                                {
                                    "0": "1007"
                                },
                                {
                                    "0": "1008"
                                },
                                {
                                    "0": "1009"
                                }
                            ]
                        },
                        "text/html": "<table><tr><th>EmployeeID</th></tr><tr><td>1001</td></tr><tr><td>1002</td></tr><tr><td>1003</td></tr><tr><td>1004</td></tr><tr><td>1005</td></tr><tr><td>1006</td></tr><tr><td>1007</td></tr><tr><td>1008</td></tr><tr><td>1009</td></tr></table>"
                    },
                    "metadata": {}
                }
            ],
            "execution_count": 18
        },
        {
            "cell_type": "code",
            "source": [
                "SELECT DISTINCT(Gender)\r\n",
                "    FROM EmployeeDemo"
            ],
            "metadata": {
                "azdata_cell_guid": "e71339c9-3f04-46da-9e19-2b64a7df1bf6",
                "language": "sql"
            },
            "outputs": [
                {
                    "output_type": "display_data",
                    "data": {
                        "text/html": "(2 rows affected)"
                    },
                    "metadata": {}
                },
                {
                    "output_type": "display_data",
                    "data": {
                        "text/html": "Total execution time: 00:00:00.081"
                    },
                    "metadata": {}
                },
                {
                    "output_type": "execute_result",
                    "execution_count": 19,
                    "data": {
                        "application/vnd.dataresource+json": {
                            "schema": {
                                "fields": [
                                    {
                                        "name": "Gender"
                                    }
                                ]
                            },
                            "data": [
                                {
                                    "0": "Female"
                                },
                                {
                                    "0": "Male"
                                }
                            ]
                        },
                        "text/html": "<table><tr><th>Gender</th></tr><tr><td>Female</td></tr><tr><td>Male</td></tr></table>"
                    },
                    "metadata": {}
                }
            ],
            "execution_count": 19
        },
        {
            "cell_type": "markdown",
            "source": [
                "## **\\# COUNT() is used to count the no. of rows**"
            ],
            "metadata": {
                "azdata_cell_guid": "f7315dc8-1ceb-4cea-bfef-df05ce18f391"
            },
            "attachments": {}
        },
        {
            "cell_type": "code",
            "source": [
                "SELECT COUNT(FirstName)\r\n",
                "    from EmployeeDemo"
            ],
            "metadata": {
                "azdata_cell_guid": "14ee547f-c31e-4c4a-9e81-b4d8823846be",
                "language": "sql"
            },
            "outputs": [
                {
                    "output_type": "display_data",
                    "data": {
                        "text/html": "(1 row affected)"
                    },
                    "metadata": {}
                },
                {
                    "output_type": "display_data",
                    "data": {
                        "text/html": "Total execution time: 00:00:00.037"
                    },
                    "metadata": {}
                },
                {
                    "output_type": "execute_result",
                    "execution_count": 20,
                    "data": {
                        "application/vnd.dataresource+json": {
                            "schema": {
                                "fields": [
                                    {
                                        "name": "(No column name)"
                                    }
                                ]
                            },
                            "data": [
                                {
                                    "0": "9"
                                }
                            ]
                        },
                        "text/html": "<table><tr><th>(No column name)</th></tr><tr><td>9</td></tr></table>"
                    },
                    "metadata": {}
                }
            ],
            "execution_count": 20
        },
        {
            "cell_type": "markdown",
            "source": [
                "## **AS** is used to give the name of the column as in above result it shows **\"No column name\"**"
            ],
            "metadata": {
                "azdata_cell_guid": "2ddb2458-0b95-4322-ac5d-8df0284fd400"
            },
            "attachments": {}
        },
        {
            "cell_type": "code",
            "source": [
                "SELECT COUNT(FirstName) AS FirstName_count\r\n",
                "    from EmployeeDemo"
            ],
            "metadata": {
                "azdata_cell_guid": "9f8716d8-d637-4aca-bea7-cd003abda94a",
                "language": "sql"
            },
            "outputs": [
                {
                    "output_type": "display_data",
                    "data": {
                        "text/html": "(1 row affected)"
                    },
                    "metadata": {}
                },
                {
                    "output_type": "display_data",
                    "data": {
                        "text/html": "Total execution time: 00:00:00.072"
                    },
                    "metadata": {}
                },
                {
                    "output_type": "execute_result",
                    "execution_count": 160,
                    "data": {
                        "application/vnd.dataresource+json": {
                            "schema": {
                                "fields": [
                                    {
                                        "name": "FirstName_count"
                                    }
                                ]
                            },
                            "data": [
                                {
                                    "0": "12"
                                }
                            ]
                        },
                        "text/html": "<table><tr><th>FirstName_count</th></tr><tr><td>12</td></tr></table>"
                    },
                    "metadata": {}
                }
            ],
            "execution_count": 160
        },
        {
            "cell_type": "markdown",
            "source": [
                "## Find All in Employee Salary"
            ],
            "metadata": {
                "language": "sql",
                "azdata_cell_guid": "84827b4f-292e-4d5b-81f0-11991f99f397"
            },
            "attachments": {}
        },
        {
            "cell_type": "code",
            "source": [
                "SELECT * FROM EmployeeSalary"
            ],
            "metadata": {
                "language": "sql",
                "azdata_cell_guid": "20fe2423-ca3b-47b8-bb83-f2ec99f72a1e"
            },
            "outputs": [
                {
                    "output_type": "display_data",
                    "data": {
                        "text/html": "(9 rows affected)"
                    },
                    "metadata": {}
                },
                {
                    "output_type": "display_data",
                    "data": {
                        "text/html": "Total execution time: 00:00:00.090"
                    },
                    "metadata": {}
                },
                {
                    "output_type": "execute_result",
                    "execution_count": 22,
                    "data": {
                        "application/vnd.dataresource+json": {
                            "schema": {
                                "fields": [
                                    {
                                        "name": "EmployeeID"
                                    },
                                    {
                                        "name": "JobTitle"
                                    },
                                    {
                                        "name": "Employee_Salary"
                                    }
                                ]
                            },
                            "data": [
                                {
                                    "0": "1001",
                                    "1": "DataScience",
                                    "2": "50000"
                                },
                                {
                                    "0": "1002",
                                    "1": "Receptionist",
                                    "2": "36000"
                                },
                                {
                                    "0": "1003",
                                    "1": "Salesman",
                                    "2": "63000"
                                },
                                {
                                    "0": "1004",
                                    "1": "Accountant",
                                    "2": "47000"
                                },
                                {
                                    "0": "1005",
                                    "1": "HR",
                                    "2": "50000"
                                },
                                {
                                    "0": "1006",
                                    "1": "Regional Manager",
                                    "2": "65000"
                                },
                                {
                                    "0": "1007",
                                    "1": "Supplier Relations",
                                    "2": "41000"
                                },
                                {
                                    "0": "1008",
                                    "1": "Salesman",
                                    "2": "48000"
                                },
                                {
                                    "0": "1009",
                                    "1": "Accountant",
                                    "2": "42000"
                                }
                            ]
                        },
                        "text/html": "<table><tr><th>EmployeeID</th><th>JobTitle</th><th>Employee_Salary</th></tr><tr><td>1001</td><td>DataScience</td><td>50000</td></tr><tr><td>1002</td><td>Receptionist</td><td>36000</td></tr><tr><td>1003</td><td>Salesman</td><td>63000</td></tr><tr><td>1004</td><td>Accountant</td><td>47000</td></tr><tr><td>1005</td><td>HR</td><td>50000</td></tr><tr><td>1006</td><td>Regional Manager</td><td>65000</td></tr><tr><td>1007</td><td>Supplier Relations</td><td>41000</td></tr><tr><td>1008</td><td>Salesman</td><td>48000</td></tr><tr><td>1009</td><td>Accountant</td><td>42000</td></tr></table>"
                    },
                    "metadata": {}
                }
            ],
            "execution_count": 22
        },
        {
            "cell_type": "markdown",
            "source": [
                "## **Find Maximum (MAX),Minimum (MIN) and Average (AVG) of the Salary in EmployeeSalary**"
            ],
            "metadata": {
                "language": "sql",
                "azdata_cell_guid": "72f31ac9-72ed-4d36-b39d-c0bc01572261"
            },
            "attachments": {}
        },
        {
            "cell_type": "code",
            "source": [
                "SELECT MAX(Employee_Salary) AS Max_Salary\r\n",
                "from EmployeeSalary"
            ],
            "metadata": {
                "language": "sql",
                "azdata_cell_guid": "8df6f1ef-938c-40c7-97e5-3aa8cc6ade8c"
            },
            "outputs": [
                {
                    "output_type": "display_data",
                    "data": {
                        "text/html": "(1 row affected)"
                    },
                    "metadata": {}
                },
                {
                    "output_type": "display_data",
                    "data": {
                        "text/html": "Total execution time: 00:00:00.011"
                    },
                    "metadata": {}
                },
                {
                    "output_type": "execute_result",
                    "execution_count": 24,
                    "data": {
                        "application/vnd.dataresource+json": {
                            "schema": {
                                "fields": [
                                    {
                                        "name": "Max_Salary"
                                    }
                                ]
                            },
                            "data": [
                                {
                                    "0": "65000"
                                }
                            ]
                        },
                        "text/html": "<table><tr><th>Max_Salary</th></tr><tr><td>65000</td></tr></table>"
                    },
                    "metadata": {}
                }
            ],
            "execution_count": 24
        },
        {
            "cell_type": "code",
            "source": [
                "SELECT MIN(Employee_Salary) AS Min_Salary\r\n",
                "from EmployeeSalary"
            ],
            "metadata": {
                "language": "sql",
                "azdata_cell_guid": "50c814de-8619-4151-9af1-af3e32165f46"
            },
            "outputs": [
                {
                    "output_type": "display_data",
                    "data": {
                        "text/html": "(1 row affected)"
                    },
                    "metadata": {}
                },
                {
                    "output_type": "display_data",
                    "data": {
                        "text/html": "Total execution time: 00:00:00.061"
                    },
                    "metadata": {}
                },
                {
                    "output_type": "execute_result",
                    "execution_count": 25,
                    "data": {
                        "application/vnd.dataresource+json": {
                            "schema": {
                                "fields": [
                                    {
                                        "name": "Min_Salary"
                                    }
                                ]
                            },
                            "data": [
                                {
                                    "0": "36000"
                                }
                            ]
                        },
                        "text/html": "<table><tr><th>Min_Salary</th></tr><tr><td>36000</td></tr></table>"
                    },
                    "metadata": {}
                }
            ],
            "execution_count": 25
        },
        {
            "cell_type": "code",
            "source": [
                "SELECT AVG(Employee_Salary) as Average_Salary\r\n",
                "From  EmployeeSalary\r\n",
                ""
            ],
            "metadata": {
                "language": "sql",
                "azdata_cell_guid": "9c9374f7-57d1-44de-9ac6-98f3a6066a27"
            },
            "outputs": [
                {
                    "output_type": "display_data",
                    "data": {
                        "text/html": "(1 row affected)"
                    },
                    "metadata": {}
                },
                {
                    "output_type": "display_data",
                    "data": {
                        "text/html": "Total execution time: 00:00:00.066"
                    },
                    "metadata": {}
                },
                {
                    "output_type": "execute_result",
                    "execution_count": 26,
                    "data": {
                        "application/vnd.dataresource+json": {
                            "schema": {
                                "fields": [
                                    {
                                        "name": "Average_Salary"
                                    }
                                ]
                            },
                            "data": [
                                {
                                    "0": "49111"
                                }
                            ]
                        },
                        "text/html": "<table><tr><th>Average_Salary</th></tr><tr><td>49111</td></tr></table>"
                    },
                    "metadata": {}
                }
            ],
            "execution_count": 26
        },
        {
            "cell_type": "markdown",
            "source": [
                "# **WHERE** Statement =, \\<\\> , \\< , \\> , **AND, OR , LIKE, NULL, NOT NULL , IN**"
            ],
            "metadata": {
                "language": "sql",
                "azdata_cell_guid": "2f4f34c3-387a-4c7e-b536-61f8ab95b4ac"
            },
            "attachments": {}
        },
        {
            "cell_type": "markdown",
            "source": [
                "## Select where name is \\= , \\<>"
            ],
            "metadata": {
                "language": "sql",
                "azdata_cell_guid": "1df530a2-1b5b-457c-83d4-ee6f98e382e4"
            },
            "attachments": {}
        },
        {
            "cell_type": "code",
            "source": [
                "select * from EmployeeSalary\r\n",
                "where Employee_Salary=50000"
            ],
            "metadata": {
                "language": "sql",
                "azdata_cell_guid": "50cbbdc1-a83b-4980-845a-359d24cc9ed5"
            },
            "outputs": [
                {
                    "output_type": "display_data",
                    "data": {
                        "text/html": "(2 rows affected)"
                    },
                    "metadata": {}
                },
                {
                    "output_type": "display_data",
                    "data": {
                        "text/html": "Total execution time: 00:00:00.100"
                    },
                    "metadata": {}
                },
                {
                    "output_type": "execute_result",
                    "execution_count": 29,
                    "data": {
                        "application/vnd.dataresource+json": {
                            "schema": {
                                "fields": [
                                    {
                                        "name": "EmployeeID"
                                    },
                                    {
                                        "name": "JobTitle"
                                    },
                                    {
                                        "name": "Employee_Salary"
                                    }
                                ]
                            },
                            "data": [
                                {
                                    "0": "1001",
                                    "1": "DataScience",
                                    "2": "50000"
                                },
                                {
                                    "0": "1005",
                                    "1": "HR",
                                    "2": "50000"
                                }
                            ]
                        },
                        "text/html": "<table><tr><th>EmployeeID</th><th>JobTitle</th><th>Employee_Salary</th></tr><tr><td>1001</td><td>DataScience</td><td>50000</td></tr><tr><td>1005</td><td>HR</td><td>50000</td></tr></table>"
                    },
                    "metadata": {}
                }
            ],
            "execution_count": 29
        },
        {
            "cell_type": "code",
            "source": [
                "select * from EmployeeSalary\r\n",
                "where Employee_Salary<>50000"
            ],
            "metadata": {
                "language": "sql",
                "azdata_cell_guid": "be56ca77-db21-41bf-810d-d3e19a6267d4"
            },
            "outputs": [
                {
                    "output_type": "display_data",
                    "data": {
                        "text/html": "(7 rows affected)"
                    },
                    "metadata": {}
                },
                {
                    "output_type": "display_data",
                    "data": {
                        "text/html": "Total execution time: 00:00:00.094"
                    },
                    "metadata": {}
                },
                {
                    "output_type": "execute_result",
                    "execution_count": 31,
                    "data": {
                        "application/vnd.dataresource+json": {
                            "schema": {
                                "fields": [
                                    {
                                        "name": "EmployeeID"
                                    },
                                    {
                                        "name": "JobTitle"
                                    },
                                    {
                                        "name": "Employee_Salary"
                                    }
                                ]
                            },
                            "data": [
                                {
                                    "0": "1002",
                                    "1": "Receptionist",
                                    "2": "36000"
                                },
                                {
                                    "0": "1003",
                                    "1": "Salesman",
                                    "2": "63000"
                                },
                                {
                                    "0": "1004",
                                    "1": "Accountant",
                                    "2": "47000"
                                },
                                {
                                    "0": "1006",
                                    "1": "Regional Manager",
                                    "2": "65000"
                                },
                                {
                                    "0": "1007",
                                    "1": "Supplier Relations",
                                    "2": "41000"
                                },
                                {
                                    "0": "1008",
                                    "1": "Salesman",
                                    "2": "48000"
                                },
                                {
                                    "0": "1009",
                                    "1": "Accountant",
                                    "2": "42000"
                                }
                            ]
                        },
                        "text/html": "<table><tr><th>EmployeeID</th><th>JobTitle</th><th>Employee_Salary</th></tr><tr><td>1002</td><td>Receptionist</td><td>36000</td></tr><tr><td>1003</td><td>Salesman</td><td>63000</td></tr><tr><td>1004</td><td>Accountant</td><td>47000</td></tr><tr><td>1006</td><td>Regional Manager</td><td>65000</td></tr><tr><td>1007</td><td>Supplier Relations</td><td>41000</td></tr><tr><td>1008</td><td>Salesman</td><td>48000</td></tr><tr><td>1009</td><td>Accountant</td><td>42000</td></tr></table>"
                    },
                    "metadata": {}
                }
            ],
            "execution_count": 31
        },
        {
            "cell_type": "code",
            "source": [
                "select * from EmployeeSalary\r\n",
                "where Employee_Salary<50000"
            ],
            "metadata": {
                "language": "sql",
                "azdata_cell_guid": "fe8b7479-df1b-4416-b9dc-12f4ce113c80"
            },
            "outputs": [
                {
                    "output_type": "display_data",
                    "data": {
                        "text/html": "(5 rows affected)"
                    },
                    "metadata": {}
                },
                {
                    "output_type": "display_data",
                    "data": {
                        "text/html": "Total execution time: 00:00:00.096"
                    },
                    "metadata": {}
                },
                {
                    "output_type": "execute_result",
                    "execution_count": 28,
                    "data": {
                        "application/vnd.dataresource+json": {
                            "schema": {
                                "fields": [
                                    {
                                        "name": "EmployeeID"
                                    },
                                    {
                                        "name": "JobTitle"
                                    },
                                    {
                                        "name": "Employee_Salary"
                                    }
                                ]
                            },
                            "data": [
                                {
                                    "0": "1002",
                                    "1": "Receptionist",
                                    "2": "36000"
                                },
                                {
                                    "0": "1004",
                                    "1": "Accountant",
                                    "2": "47000"
                                },
                                {
                                    "0": "1007",
                                    "1": "Supplier Relations",
                                    "2": "41000"
                                },
                                {
                                    "0": "1008",
                                    "1": "Salesman",
                                    "2": "48000"
                                },
                                {
                                    "0": "1009",
                                    "1": "Accountant",
                                    "2": "42000"
                                }
                            ]
                        },
                        "text/html": "<table><tr><th>EmployeeID</th><th>JobTitle</th><th>Employee_Salary</th></tr><tr><td>1002</td><td>Receptionist</td><td>36000</td></tr><tr><td>1004</td><td>Accountant</td><td>47000</td></tr><tr><td>1007</td><td>Supplier Relations</td><td>41000</td></tr><tr><td>1008</td><td>Salesman</td><td>48000</td></tr><tr><td>1009</td><td>Accountant</td><td>42000</td></tr></table>"
                    },
                    "metadata": {}
                }
            ],
            "execution_count": 28
        },
        {
            "cell_type": "code",
            "source": [
                "select * from EmployeeSalary\r\n",
                "where Employee_Salary>50000"
            ],
            "metadata": {
                "language": "sql",
                "azdata_cell_guid": "96d808e6-9c09-4309-9295-931bf870d97e",
                "tags": [
                    "hide_input"
                ]
            },
            "outputs": [
                {
                    "output_type": "display_data",
                    "data": {
                        "text/html": "(2 rows affected)"
                    },
                    "metadata": {}
                },
                {
                    "output_type": "display_data",
                    "data": {
                        "text/html": "Total execution time: 00:00:00.079"
                    },
                    "metadata": {}
                },
                {
                    "output_type": "execute_result",
                    "execution_count": 30,
                    "data": {
                        "application/vnd.dataresource+json": {
                            "schema": {
                                "fields": [
                                    {
                                        "name": "EmployeeID"
                                    },
                                    {
                                        "name": "JobTitle"
                                    },
                                    {
                                        "name": "Employee_Salary"
                                    }
                                ]
                            },
                            "data": [
                                {
                                    "0": "1003",
                                    "1": "Salesman",
                                    "2": "63000"
                                },
                                {
                                    "0": "1006",
                                    "1": "Regional Manager",
                                    "2": "65000"
                                }
                            ]
                        },
                        "text/html": "<table><tr><th>EmployeeID</th><th>JobTitle</th><th>Employee_Salary</th></tr><tr><td>1003</td><td>Salesman</td><td>63000</td></tr><tr><td>1006</td><td>Regional Manager</td><td>65000</td></tr></table>"
                    },
                    "metadata": {}
                }
            ],
            "execution_count": 30
        },
        {
            "cell_type": "markdown",
            "source": [
                "# **LIKE**  to find text or value with single char"
            ],
            "metadata": {
                "language": "sql",
                "azdata_cell_guid": "05670b43-7c0f-48e9-9032-a079a719d919"
            },
            "attachments": {}
        },
        {
            "cell_type": "code",
            "source": [
                "select * from EmployeeSalary\r\n",
                "WHERE JobTitle LIKE 'S%'"
            ],
            "metadata": {
                "azdata_cell_guid": "1f7e46ea-2f67-403a-b5ff-4de6acbc9d91",
                "language": "sql",
                "tags": []
            },
            "outputs": [
                {
                    "output_type": "display_data",
                    "data": {
                        "text/html": "(3 rows affected)"
                    },
                    "metadata": {}
                },
                {
                    "output_type": "display_data",
                    "data": {
                        "text/html": "Total execution time: 00:00:00.017"
                    },
                    "metadata": {}
                },
                {
                    "output_type": "execute_result",
                    "execution_count": 46,
                    "data": {
                        "application/vnd.dataresource+json": {
                            "schema": {
                                "fields": [
                                    {
                                        "name": "EmployeeID"
                                    },
                                    {
                                        "name": "JobTitle"
                                    },
                                    {
                                        "name": "Employee_Salary"
                                    }
                                ]
                            },
                            "data": [
                                {
                                    "0": "1003",
                                    "1": "Salesman",
                                    "2": "63000"
                                },
                                {
                                    "0": "1007",
                                    "1": "Supplier Relations",
                                    "2": "41000"
                                },
                                {
                                    "0": "1008",
                                    "1": "Salesman",
                                    "2": "48000"
                                }
                            ]
                        },
                        "text/html": "<table><tr><th>EmployeeID</th><th>JobTitle</th><th>Employee_Salary</th></tr><tr><td>1003</td><td>Salesman</td><td>63000</td></tr><tr><td>1007</td><td>Supplier Relations</td><td>41000</td></tr><tr><td>1008</td><td>Salesman</td><td>48000</td></tr></table>"
                    },
                    "metadata": {}
                }
            ],
            "execution_count": 46
        },
        {
            "cell_type": "code",
            "source": [
                "select * from EmployeeSalary\r\n",
                "WHERE JobTitle LIKE '%S'"
            ],
            "metadata": {
                "language": "sql",
                "azdata_cell_guid": "fd78590b-ed41-4590-a729-0c6a42541553"
            },
            "outputs": [
                {
                    "output_type": "display_data",
                    "data": {
                        "text/html": "(1 row affected)"
                    },
                    "metadata": {}
                },
                {
                    "output_type": "display_data",
                    "data": {
                        "text/html": "Total execution time: 00:00:00.007"
                    },
                    "metadata": {}
                },
                {
                    "output_type": "execute_result",
                    "execution_count": 47,
                    "data": {
                        "application/vnd.dataresource+json": {
                            "schema": {
                                "fields": [
                                    {
                                        "name": "EmployeeID"
                                    },
                                    {
                                        "name": "JobTitle"
                                    },
                                    {
                                        "name": "Employee_Salary"
                                    }
                                ]
                            },
                            "data": [
                                {
                                    "0": "1007",
                                    "1": "Supplier Relations",
                                    "2": "41000"
                                }
                            ]
                        },
                        "text/html": "<table><tr><th>EmployeeID</th><th>JobTitle</th><th>Employee_Salary</th></tr><tr><td>1007</td><td>Supplier Relations</td><td>41000</td></tr></table>"
                    },
                    "metadata": {}
                }
            ],
            "execution_count": 47
        },
        {
            "cell_type": "code",
            "source": [
                "select * from EmployeeSalary\r\n",
                "WHERE JobTitle LIKE '%S' AND Employee_Salary<50000"
            ],
            "metadata": {
                "language": "sql",
                "azdata_cell_guid": "eebb77a8-7515-4693-a537-4a42305de916"
            },
            "outputs": [
                {
                    "output_type": "display_data",
                    "data": {
                        "text/html": "(1 row affected)"
                    },
                    "metadata": {}
                },
                {
                    "output_type": "display_data",
                    "data": {
                        "text/html": "Total execution time: 00:00:00.056"
                    },
                    "metadata": {}
                },
                {
                    "output_type": "execute_result",
                    "execution_count": 49,
                    "data": {
                        "application/vnd.dataresource+json": {
                            "schema": {
                                "fields": [
                                    {
                                        "name": "EmployeeID"
                                    },
                                    {
                                        "name": "JobTitle"
                                    },
                                    {
                                        "name": "Employee_Salary"
                                    }
                                ]
                            },
                            "data": [
                                {
                                    "0": "1007",
                                    "1": "Supplier Relations",
                                    "2": "41000"
                                }
                            ]
                        },
                        "text/html": "<table><tr><th>EmployeeID</th><th>JobTitle</th><th>Employee_Salary</th></tr><tr><td>1007</td><td>Supplier Relations</td><td>41000</td></tr></table>"
                    },
                    "metadata": {}
                }
            ],
            "execution_count": 49
        },
        {
            "cell_type": "code",
            "source": [
                "select * from EmployeeDemo\r\n",
                "WHERE LastName LIKE 'd%%s' AND FirstName like 'p%'"
            ],
            "metadata": {
                "language": "sql",
                "azdata_cell_guid": "16f2e809-81be-48d6-b553-fcd6681375b3"
            },
            "outputs": [
                {
                    "output_type": "display_data",
                    "data": {
                        "text/html": "(1 row affected)"
                    },
                    "metadata": {}
                },
                {
                    "output_type": "display_data",
                    "data": {
                        "text/html": "Total execution time: 00:00:00.010"
                    },
                    "metadata": {}
                },
                {
                    "output_type": "execute_result",
                    "execution_count": 51,
                    "data": {
                        "application/vnd.dataresource+json": {
                            "schema": {
                                "fields": [
                                    {
                                        "name": "EmployeeId"
                                    },
                                    {
                                        "name": "FirstName"
                                    },
                                    {
                                        "name": "LastName"
                                    },
                                    {
                                        "name": "Age"
                                    },
                                    {
                                        "name": "Gender"
                                    }
                                ]
                            },
                            "data": [
                                {
                                    "0": "1001",
                                    "1": "Pooja",
                                    "2": "Das",
                                    "3": "28",
                                    "4": "Female"
                                }
                            ]
                        },
                        "text/html": "<table><tr><th>EmployeeId</th><th>FirstName</th><th>LastName</th><th>Age</th><th>Gender</th></tr><tr><td>1001</td><td>Pooja</td><td>Das</td><td>28</td><td>Female</td></tr></table>"
                    },
                    "metadata": {}
                }
            ],
            "execution_count": 51
        },
        {
            "cell_type": "markdown",
            "source": [
                "**<span style=\"color: #f92672;\">IS NULL</span> ,   IS <span style=\"color: #f92672;\">NOT</span> <span style=\"color: #f92672;\">NULL</span>**"
            ],
            "metadata": {
                "language": "sql",
                "azdata_cell_guid": "911d4728-a36b-4eae-a5d0-253e70cc9130"
            },
            "attachments": {}
        },
        {
            "cell_type": "code",
            "source": [
                "SELECT *\r\n",
                "FROM EmployeeDemo\r\n",
                "WHERE LastName IS NULL"
            ],
            "metadata": {
                "language": "sql",
                "azdata_cell_guid": "0d19a82b-3994-4b8b-b5de-4c3878aa754c"
            },
            "outputs": [
                {
                    "output_type": "display_data",
                    "data": {
                        "text/html": "(0 rows affected)"
                    },
                    "metadata": {}
                },
                {
                    "output_type": "display_data",
                    "data": {
                        "text/html": "Total execution time: 00:00:00.084"
                    },
                    "metadata": {}
                },
                {
                    "output_type": "execute_result",
                    "metadata": {},
                    "execution_count": 3,
                    "data": {
                        "application/vnd.dataresource+json": {
                            "schema": {
                                "fields": [
                                    {
                                        "name": "EmployeeId"
                                    },
                                    {
                                        "name": "FirstName"
                                    },
                                    {
                                        "name": "LastName"
                                    },
                                    {
                                        "name": "Age"
                                    },
                                    {
                                        "name": "Gender"
                                    }
                                ]
                            },
                            "data": []
                        },
                        "text/html": [
                            "<table>",
                            "<tr><th>EmployeeId</th><th>FirstName</th><th>LastName</th><th>Age</th><th>Gender</th></tr>",
                            "</table>"
                        ]
                    }
                }
            ],
            "execution_count": 3
        },
        {
            "cell_type": "code",
            "source": [
                "SELECT *\r\n",
                "FROM EmployeeDemo\r\n",
                "WHERE LastName IS NOT NULL"
            ],
            "metadata": {
                "language": "sql",
                "azdata_cell_guid": "b2b6e2dd-f9dc-4bc0-8dea-1c7e2b4e0a16"
            },
            "outputs": [
                {
                    "output_type": "display_data",
                    "data": {
                        "text/html": "(11 rows affected)"
                    },
                    "metadata": {}
                },
                {
                    "output_type": "display_data",
                    "data": {
                        "text/html": "Total execution time: 00:00:00.028"
                    },
                    "metadata": {}
                },
                {
                    "output_type": "execute_result",
                    "metadata": {},
                    "execution_count": 4,
                    "data": {
                        "application/vnd.dataresource+json": {
                            "schema": {
                                "fields": [
                                    {
                                        "name": "EmployeeId"
                                    },
                                    {
                                        "name": "FirstName"
                                    },
                                    {
                                        "name": "LastName"
                                    },
                                    {
                                        "name": "Age"
                                    },
                                    {
                                        "name": "Gender"
                                    }
                                ]
                            },
                            "data": [
                                {
                                    "0": "1001",
                                    "1": "Pooja",
                                    "2": "Das",
                                    "3": "28",
                                    "4": "Female"
                                },
                                {
                                    "0": "1002",
                                    "1": "Pam",
                                    "2": "Beasley",
                                    "3": "30",
                                    "4": "Female"
                                },
                                {
                                    "0": "1003",
                                    "1": "Dwight",
                                    "2": "Schrute",
                                    "3": "29",
                                    "4": "Male"
                                },
                                {
                                    "0": "1004",
                                    "1": "Angela",
                                    "2": "Martin",
                                    "3": "31",
                                    "4": "Female"
                                },
                                {
                                    "0": "1006",
                                    "1": "Michael",
                                    "2": "Scott",
                                    "3": "35",
                                    "4": "Male"
                                },
                                {
                                    "0": "1007",
                                    "1": "Meredith",
                                    "2": "Palmer",
                                    "3": "32",
                                    "4": "Female"
                                },
                                {
                                    "0": "1008",
                                    "1": "Stanley",
                                    "2": "Hudson",
                                    "3": "38",
                                    "4": "Male"
                                },
                                {
                                    "0": "1009",
                                    "1": "Kevin",
                                    "2": "Malone",
                                    "3": "31",
                                    "4": "Male"
                                },
                                {
                                    "0": "1011",
                                    "1": "Ryan",
                                    "2": "Howard",
                                    "3": "26",
                                    "4": "Male"
                                },
                                {
                                    "0": "1012",
                                    "1": "Holly",
                                    "2": "Flax",
                                    "3": "35",
                                    "4": "Male"
                                },
                                {
                                    "0": "1013",
                                    "1": "Darryl",
                                    "2": "Philbin",
                                    "3": "NULL",
                                    "4": "Male"
                                }
                            ]
                        },
                        "text/html": [
                            "<table>",
                            "<tr><th>EmployeeId</th><th>FirstName</th><th>LastName</th><th>Age</th><th>Gender</th></tr>",
                            "<tr><td>1001</td><td>Pooja</td><td>Das</td><td>28</td><td>Female</td></tr>",
                            "<tr><td>1002</td><td>Pam</td><td>Beasley</td><td>30</td><td>Female</td></tr>",
                            "<tr><td>1003</td><td>Dwight</td><td>Schrute</td><td>29</td><td>Male</td></tr>",
                            "<tr><td>1004</td><td>Angela</td><td>Martin</td><td>31</td><td>Female</td></tr>",
                            "<tr><td>1006</td><td>Michael</td><td>Scott</td><td>35</td><td>Male</td></tr>",
                            "<tr><td>1007</td><td>Meredith</td><td>Palmer</td><td>32</td><td>Female</td></tr>",
                            "<tr><td>1008</td><td>Stanley</td><td>Hudson</td><td>38</td><td>Male</td></tr>",
                            "<tr><td>1009</td><td>Kevin</td><td>Malone</td><td>31</td><td>Male</td></tr>",
                            "<tr><td>1011</td><td>Ryan</td><td>Howard</td><td>26</td><td>Male</td></tr>",
                            "<tr><td>1012</td><td>Holly</td><td>Flax</td><td>35</td><td>Male</td></tr>",
                            "<tr><td>1013</td><td>Darryl</td><td>Philbin</td><td>NULL</td><td>Male</td></tr>",
                            "</table>"
                        ]
                    }
                }
            ],
            "execution_count": 4
        },
        {
            "cell_type": "markdown",
            "source": [
                "# **IN** used to wirte in one line"
            ],
            "metadata": {
                "language": "sql",
                "azdata_cell_guid": "4a1d6f7f-716f-453e-8f42-b73b3780844c"
            },
            "attachments": {}
        },
        {
            "cell_type": "code",
            "source": [
                "SELECT *\r\n",
                "FROM EmployeeDemo\r\n",
                "WHERE LastName ='Beasley' And LastName ='Das'"
            ],
            "metadata": {
                "language": "sql",
                "azdata_cell_guid": "ba4cacc2-3362-40c1-b202-b0460b8f897b"
            },
            "outputs": [
                {
                    "output_type": "display_data",
                    "data": {
                        "text/html": "(0 rows affected)"
                    },
                    "metadata": {}
                },
                {
                    "output_type": "display_data",
                    "data": {
                        "text/html": "Total execution time: 00:00:00.068"
                    },
                    "metadata": {}
                },
                {
                    "output_type": "execute_result",
                    "execution_count": 61,
                    "data": {
                        "application/vnd.dataresource+json": {
                            "schema": {
                                "fields": [
                                    {
                                        "name": "EmployeeId"
                                    },
                                    {
                                        "name": "FirstName"
                                    },
                                    {
                                        "name": "LastName"
                                    },
                                    {
                                        "name": "Age"
                                    },
                                    {
                                        "name": "Gender"
                                    }
                                ]
                            },
                            "data": []
                        },
                        "text/html": "<table><tr><th>EmployeeId</th><th>FirstName</th><th>LastName</th><th>Age</th><th>Gender</th></tr></table>"
                    },
                    "metadata": {}
                }
            ],
            "execution_count": 61
        },
        {
            "cell_type": "code",
            "source": [
                "SELECT *\r\n",
                "FROM EmployeeDemo\r\n",
                "WHERE LastName in('Beasley','Das')"
            ],
            "metadata": {
                "language": "sql",
                "azdata_cell_guid": "e558ad50-bed9-473b-bce0-373f6a105e0c"
            },
            "outputs": [
                {
                    "output_type": "display_data",
                    "data": {
                        "text/html": "(2 rows affected)"
                    },
                    "metadata": {}
                },
                {
                    "output_type": "display_data",
                    "data": {
                        "text/html": "Total execution time: 00:00:00.014"
                    },
                    "metadata": {}
                },
                {
                    "output_type": "execute_result",
                    "execution_count": 65,
                    "data": {
                        "application/vnd.dataresource+json": {
                            "schema": {
                                "fields": [
                                    {
                                        "name": "EmployeeId"
                                    },
                                    {
                                        "name": "FirstName"
                                    },
                                    {
                                        "name": "LastName"
                                    },
                                    {
                                        "name": "Age"
                                    },
                                    {
                                        "name": "Gender"
                                    }
                                ]
                            },
                            "data": [
                                {
                                    "0": "1001",
                                    "1": "Pooja",
                                    "2": "Das",
                                    "3": "28",
                                    "4": "Female"
                                },
                                {
                                    "0": "1002",
                                    "1": "Pam",
                                    "2": "Beasley",
                                    "3": "30",
                                    "4": "Female"
                                }
                            ]
                        },
                        "text/html": "<table><tr><th>EmployeeId</th><th>FirstName</th><th>LastName</th><th>Age</th><th>Gender</th></tr><tr><td>1001</td><td>Pooja</td><td>Das</td><td>28</td><td>Female</td></tr><tr><td>1002</td><td>Pam</td><td>Beasley</td><td>30</td><td>Female</td></tr></table>"
                    },
                    "metadata": {}
                }
            ],
            "execution_count": 65
        },
        {
            "cell_type": "code",
            "source": [
                "SELECT *\r\n",
                "FROM EmployeeDemo\r\n",
                "WHERE Gender in('Male')"
            ],
            "metadata": {
                "language": "sql",
                "azdata_cell_guid": "1a8df65f-480a-4719-ae78-45d3fd54bd76"
            },
            "outputs": [
                {
                    "output_type": "display_data",
                    "data": {
                        "text/html": "(5 rows affected)"
                    },
                    "metadata": {}
                },
                {
                    "output_type": "display_data",
                    "data": {
                        "text/html": "Total execution time: 00:00:00.151"
                    },
                    "metadata": {}
                },
                {
                    "output_type": "execute_result",
                    "execution_count": 66,
                    "data": {
                        "application/vnd.dataresource+json": {
                            "schema": {
                                "fields": [
                                    {
                                        "name": "EmployeeId"
                                    },
                                    {
                                        "name": "FirstName"
                                    },
                                    {
                                        "name": "LastName"
                                    },
                                    {
                                        "name": "Age"
                                    },
                                    {
                                        "name": "Gender"
                                    }
                                ]
                            },
                            "data": [
                                {
                                    "0": "1003",
                                    "1": "Dwight",
                                    "2": "Schrute",
                                    "3": "29",
                                    "4": "Male"
                                },
                                {
                                    "0": "1005",
                                    "1": "Toby",
                                    "2": "Flenderson",
                                    "3": "32",
                                    "4": "Male"
                                },
                                {
                                    "0": "1006",
                                    "1": "Michael",
                                    "2": "Scott",
                                    "3": "35",
                                    "4": "Male"
                                },
                                {
                                    "0": "1008",
                                    "1": "Stanley",
                                    "2": "Hudson",
                                    "3": "38",
                                    "4": "Male"
                                },
                                {
                                    "0": "1009",
                                    "1": "Kevin",
                                    "2": "Malone",
                                    "3": "31",
                                    "4": "Male"
                                }
                            ]
                        },
                        "text/html": "<table><tr><th>EmployeeId</th><th>FirstName</th><th>LastName</th><th>Age</th><th>Gender</th></tr><tr><td>1003</td><td>Dwight</td><td>Schrute</td><td>29</td><td>Male</td></tr><tr><td>1005</td><td>Toby</td><td>Flenderson</td><td>32</td><td>Male</td></tr><tr><td>1006</td><td>Michael</td><td>Scott</td><td>35</td><td>Male</td></tr><tr><td>1008</td><td>Stanley</td><td>Hudson</td><td>38</td><td>Male</td></tr><tr><td>1009</td><td>Kevin</td><td>Malone</td><td>31</td><td>Male</td></tr></table>"
                    },
                    "metadata": {}
                }
            ],
            "execution_count": 66
        },
        {
            "cell_type": "markdown",
            "source": [
                "# GROUP BY and ORDER BY\n",
                "\n",
                "**GROUP BY** used group unique value with respect to other field like(age in our case)\n",
                "\n",
                "**ORDER BY** used to arrange value acc. to Ascending order **(ASC)** which is by default and decending order **(DESC)**"
            ],
            "metadata": {
                "language": "sql",
                "azdata_cell_guid": "68dacada-a2e7-4142-aed6-d3838ec416b7"
            },
            "attachments": {}
        },
        {
            "cell_type": "code",
            "source": [
                "SELECT Gender \r\n",
                "FROM EmployeeDemo\r\n",
                "GROUP BY Gender"
            ],
            "metadata": {
                "language": "sql",
                "azdata_cell_guid": "a910373d-fc15-4b68-b723-5dc165fe2e6d"
            },
            "outputs": [
                {
                    "output_type": "display_data",
                    "data": {
                        "text/html": "(2 rows affected)"
                    },
                    "metadata": {}
                },
                {
                    "output_type": "display_data",
                    "data": {
                        "text/html": "Total execution time: 00:00:00.009"
                    },
                    "metadata": {}
                },
                {
                    "output_type": "execute_result",
                    "execution_count": 69,
                    "data": {
                        "application/vnd.dataresource+json": {
                            "schema": {
                                "fields": [
                                    {
                                        "name": "Gender"
                                    }
                                ]
                            },
                            "data": [
                                {
                                    "0": "Female"
                                },
                                {
                                    "0": "Male"
                                }
                            ]
                        },
                        "text/html": "<table><tr><th>Gender</th></tr><tr><td>Female</td></tr><tr><td>Male</td></tr></table>"
                    },
                    "metadata": {}
                }
            ],
            "execution_count": 69
        },
        {
            "cell_type": "code",
            "source": [
                "SELECT Gender ,COUNT(Gender) as Count_Gender \r\n",
                "FROM EmployeeDemo\r\n",
                "GROUP BY Gender"
            ],
            "metadata": {
                "language": "sql",
                "azdata_cell_guid": "a9909cac-a2c7-4c8c-b29d-433cd213d8a2"
            },
            "outputs": [
                {
                    "output_type": "display_data",
                    "data": {
                        "text/html": "(2 rows affected)"
                    },
                    "metadata": {}
                },
                {
                    "output_type": "display_data",
                    "data": {
                        "text/html": "Total execution time: 00:00:00.007"
                    },
                    "metadata": {}
                },
                {
                    "output_type": "execute_result",
                    "execution_count": 71,
                    "data": {
                        "application/vnd.dataresource+json": {
                            "schema": {
                                "fields": [
                                    {
                                        "name": "Gender"
                                    },
                                    {
                                        "name": "Count_Gender"
                                    }
                                ]
                            },
                            "data": [
                                {
                                    "0": "Female",
                                    "1": "4"
                                },
                                {
                                    "0": "Male",
                                    "1": "5"
                                }
                            ]
                        },
                        "text/html": "<table><tr><th>Gender</th><th>Count_Gender</th></tr><tr><td>Female</td><td>4</td></tr><tr><td>Male</td><td>5</td></tr></table>"
                    },
                    "metadata": {}
                }
            ],
            "execution_count": 71
        },
        {
            "cell_type": "code",
            "source": [
                "SELECT Gender ,age,COUNT(Gender) as Count_Gender \r\n",
                "FROM EmployeeDemo\r\n",
                "GROUP BY Gender,age"
            ],
            "metadata": {
                "language": "sql",
                "azdata_cell_guid": "19d2c3df-8b58-4f36-980d-6a423459a09c"
            },
            "outputs": [
                {
                    "output_type": "display_data",
                    "data": {
                        "text/html": "(9 rows affected)"
                    },
                    "metadata": {}
                },
                {
                    "output_type": "display_data",
                    "data": {
                        "text/html": "Total execution time: 00:00:00.181"
                    },
                    "metadata": {}
                },
                {
                    "output_type": "execute_result",
                    "execution_count": 72,
                    "data": {
                        "application/vnd.dataresource+json": {
                            "schema": {
                                "fields": [
                                    {
                                        "name": "Gender"
                                    },
                                    {
                                        "name": "age"
                                    },
                                    {
                                        "name": "Count_Gender"
                                    }
                                ]
                            },
                            "data": [
                                {
                                    "0": "Female",
                                    "1": "28",
                                    "2": "1"
                                },
                                {
                                    "0": "Male",
                                    "1": "29",
                                    "2": "1"
                                },
                                {
                                    "0": "Female",
                                    "1": "30",
                                    "2": "1"
                                },
                                {
                                    "0": "Female",
                                    "1": "31",
                                    "2": "1"
                                },
                                {
                                    "0": "Male",
                                    "1": "31",
                                    "2": "1"
                                },
                                {
                                    "0": "Female",
                                    "1": "32",
                                    "2": "1"
                                },
                                {
                                    "0": "Male",
                                    "1": "32",
                                    "2": "1"
                                },
                                {
                                    "0": "Male",
                                    "1": "35",
                                    "2": "1"
                                },
                                {
                                    "0": "Male",
                                    "1": "38",
                                    "2": "1"
                                }
                            ]
                        },
                        "text/html": "<table><tr><th>Gender</th><th>age</th><th>Count_Gender</th></tr><tr><td>Female</td><td>28</td><td>1</td></tr><tr><td>Male</td><td>29</td><td>1</td></tr><tr><td>Female</td><td>30</td><td>1</td></tr><tr><td>Female</td><td>31</td><td>1</td></tr><tr><td>Male</td><td>31</td><td>1</td></tr><tr><td>Female</td><td>32</td><td>1</td></tr><tr><td>Male</td><td>32</td><td>1</td></tr><tr><td>Male</td><td>35</td><td>1</td></tr><tr><td>Male</td><td>38</td><td>1</td></tr></table>"
                    },
                    "metadata": {}
                }
            ],
            "execution_count": 72
        },
        {
            "cell_type": "code",
            "source": [
                "SELECT Gender ,COUNT(Gender) as Count_Gender \r\n",
                "FROM EmployeeDemo\r\n",
                "WHERE age>32\r\n",
                "GROUP BY Gender\r\n",
                "\r\n",
                "-- *****************************************\r\n",
                "SELECT * FROM EmployeeDemo"
            ],
            "metadata": {
                "language": "sql",
                "azdata_cell_guid": "6a596b3b-7478-4b6e-ba3c-c2455e27c623"
            },
            "outputs": [
                {
                    "output_type": "display_data",
                    "data": {
                        "text/html": "(1 row affected)"
                    },
                    "metadata": {}
                },
                {
                    "output_type": "display_data",
                    "data": {
                        "text/html": "(9 rows affected)"
                    },
                    "metadata": {}
                },
                {
                    "output_type": "display_data",
                    "data": {
                        "text/html": "Total execution time: 00:00:00.022"
                    },
                    "metadata": {}
                },
                {
                    "output_type": "execute_result",
                    "execution_count": 76,
                    "data": {
                        "application/vnd.dataresource+json": {
                            "schema": {
                                "fields": [
                                    {
                                        "name": "Gender"
                                    },
                                    {
                                        "name": "Count_Gender"
                                    }
                                ]
                            },
                            "data": [
                                {
                                    "0": "Male",
                                    "1": "2"
                                }
                            ]
                        },
                        "text/html": "<table><tr><th>Gender</th><th>Count_Gender</th></tr><tr><td>Male</td><td>2</td></tr></table>"
                    },
                    "metadata": {}
                },
                {
                    "output_type": "execute_result",
                    "execution_count": 76,
                    "data": {
                        "application/vnd.dataresource+json": {
                            "schema": {
                                "fields": [
                                    {
                                        "name": "EmployeeId"
                                    },
                                    {
                                        "name": "FirstName"
                                    },
                                    {
                                        "name": "LastName"
                                    },
                                    {
                                        "name": "Age"
                                    },
                                    {
                                        "name": "Gender"
                                    }
                                ]
                            },
                            "data": [
                                {
                                    "0": "1001",
                                    "1": "Pooja",
                                    "2": "Das",
                                    "3": "28",
                                    "4": "Female"
                                },
                                {
                                    "0": "1002",
                                    "1": "Pam",
                                    "2": "Beasley",
                                    "3": "30",
                                    "4": "Female"
                                },
                                {
                                    "0": "1003",
                                    "1": "Dwight",
                                    "2": "Schrute",
                                    "3": "29",
                                    "4": "Male"
                                },
                                {
                                    "0": "1004",
                                    "1": "Angela",
                                    "2": "Martin",
                                    "3": "31",
                                    "4": "Female"
                                },
                                {
                                    "0": "1005",
                                    "1": "Toby",
                                    "2": "Flenderson",
                                    "3": "32",
                                    "4": "Male"
                                },
                                {
                                    "0": "1006",
                                    "1": "Michael",
                                    "2": "Scott",
                                    "3": "35",
                                    "4": "Male"
                                },
                                {
                                    "0": "1007",
                                    "1": "Meredith",
                                    "2": "Palmer",
                                    "3": "32",
                                    "4": "Female"
                                },
                                {
                                    "0": "1008",
                                    "1": "Stanley",
                                    "2": "Hudson",
                                    "3": "38",
                                    "4": "Male"
                                },
                                {
                                    "0": "1009",
                                    "1": "Kevin",
                                    "2": "Malone",
                                    "3": "31",
                                    "4": "Male"
                                }
                            ]
                        },
                        "text/html": "<table><tr><th>EmployeeId</th><th>FirstName</th><th>LastName</th><th>Age</th><th>Gender</th></tr><tr><td>1001</td><td>Pooja</td><td>Das</td><td>28</td><td>Female</td></tr><tr><td>1002</td><td>Pam</td><td>Beasley</td><td>30</td><td>Female</td></tr><tr><td>1003</td><td>Dwight</td><td>Schrute</td><td>29</td><td>Male</td></tr><tr><td>1004</td><td>Angela</td><td>Martin</td><td>31</td><td>Female</td></tr><tr><td>1005</td><td>Toby</td><td>Flenderson</td><td>32</td><td>Male</td></tr><tr><td>1006</td><td>Michael</td><td>Scott</td><td>35</td><td>Male</td></tr><tr><td>1007</td><td>Meredith</td><td>Palmer</td><td>32</td><td>Female</td></tr><tr><td>1008</td><td>Stanley</td><td>Hudson</td><td>38</td><td>Male</td></tr><tr><td>1009</td><td>Kevin</td><td>Malone</td><td>31</td><td>Male</td></tr></table>"
                    },
                    "metadata": {}
                }
            ],
            "execution_count": 76
        },
        {
            "cell_type": "code",
            "source": [
                "SELECT Gender ,Employee_Salary,  COUNT(Gender) as Count_Gender_by_Salary \r\n",
                "FROM EmployeeDemo , EmployeeSalary\r\n",
                "WHERE Employee_Salary<50000\r\n",
                "GROUP by Gender,Employee_Salary\r\n",
                "ORDER BY Employee_Salary DESC"
            ],
            "metadata": {
                "azdata_cell_guid": "5b75af28-16dc-4ae9-97c1-657b38f29bac",
                "language": "sql",
                "tags": []
            },
            "outputs": [
                {
                    "output_type": "display_data",
                    "data": {
                        "text/html": "(10 rows affected)"
                    },
                    "metadata": {}
                },
                {
                    "output_type": "display_data",
                    "data": {
                        "text/html": "Total execution time: 00:00:00.087"
                    },
                    "metadata": {}
                },
                {
                    "output_type": "execute_result",
                    "execution_count": 85,
                    "data": {
                        "application/vnd.dataresource+json": {
                            "schema": {
                                "fields": [
                                    {
                                        "name": "Gender"
                                    },
                                    {
                                        "name": "Employee_Salary"
                                    },
                                    {
                                        "name": "Count_Gender_by_Salary"
                                    }
                                ]
                            },
                            "data": [
                                {
                                    "0": "Female",
                                    "1": "48000",
                                    "2": "4"
                                },
                                {
                                    "0": "Male",
                                    "1": "48000",
                                    "2": "5"
                                },
                                {
                                    "0": "Female",
                                    "1": "47000",
                                    "2": "4"
                                },
                                {
                                    "0": "Male",
                                    "1": "47000",
                                    "2": "5"
                                },
                                {
                                    "0": "Female",
                                    "1": "42000",
                                    "2": "4"
                                },
                                {
                                    "0": "Male",
                                    "1": "42000",
                                    "2": "5"
                                },
                                {
                                    "0": "Female",
                                    "1": "41000",
                                    "2": "4"
                                },
                                {
                                    "0": "Male",
                                    "1": "41000",
                                    "2": "5"
                                },
                                {
                                    "0": "Female",
                                    "1": "36000",
                                    "2": "4"
                                },
                                {
                                    "0": "Male",
                                    "1": "36000",
                                    "2": "5"
                                }
                            ]
                        },
                        "text/html": "<table><tr><th>Gender</th><th>Employee_Salary</th><th>Count_Gender_by_Salary</th></tr><tr><td>Female</td><td>48000</td><td>4</td></tr><tr><td>Male</td><td>48000</td><td>5</td></tr><tr><td>Female</td><td>47000</td><td>4</td></tr><tr><td>Male</td><td>47000</td><td>5</td></tr><tr><td>Female</td><td>42000</td><td>4</td></tr><tr><td>Male</td><td>42000</td><td>5</td></tr><tr><td>Female</td><td>41000</td><td>4</td></tr><tr><td>Male</td><td>41000</td><td>5</td></tr><tr><td>Female</td><td>36000</td><td>4</td></tr><tr><td>Male</td><td>36000</td><td>5</td></tr></table>"
                    },
                    "metadata": {}
                }
            ],
            "execution_count": 85
        },
        {
            "cell_type": "code",
            "source": [
                "SELECT * FROM EmployeeDemo\r\n",
                "ORDER BY Age \r\n",
                ""
            ],
            "metadata": {
                "language": "sql",
                "azdata_cell_guid": "bf534d6a-1e70-49a1-a606-fff8d430f375"
            },
            "outputs": [
                {
                    "output_type": "display_data",
                    "data": {
                        "text/html": "(9 rows affected)"
                    },
                    "metadata": {}
                },
                {
                    "output_type": "display_data",
                    "data": {
                        "text/html": "Total execution time: 00:00:00.078"
                    },
                    "metadata": {}
                },
                {
                    "output_type": "execute_result",
                    "execution_count": 86,
                    "data": {
                        "application/vnd.dataresource+json": {
                            "schema": {
                                "fields": [
                                    {
                                        "name": "EmployeeId"
                                    },
                                    {
                                        "name": "FirstName"
                                    },
                                    {
                                        "name": "LastName"
                                    },
                                    {
                                        "name": "Age"
                                    },
                                    {
                                        "name": "Gender"
                                    }
                                ]
                            },
                            "data": [
                                {
                                    "0": "1001",
                                    "1": "Pooja",
                                    "2": "Das",
                                    "3": "28",
                                    "4": "Female"
                                },
                                {
                                    "0": "1003",
                                    "1": "Dwight",
                                    "2": "Schrute",
                                    "3": "29",
                                    "4": "Male"
                                },
                                {
                                    "0": "1002",
                                    "1": "Pam",
                                    "2": "Beasley",
                                    "3": "30",
                                    "4": "Female"
                                },
                                {
                                    "0": "1004",
                                    "1": "Angela",
                                    "2": "Martin",
                                    "3": "31",
                                    "4": "Female"
                                },
                                {
                                    "0": "1009",
                                    "1": "Kevin",
                                    "2": "Malone",
                                    "3": "31",
                                    "4": "Male"
                                },
                                {
                                    "0": "1005",
                                    "1": "Toby",
                                    "2": "Flenderson",
                                    "3": "32",
                                    "4": "Male"
                                },
                                {
                                    "0": "1007",
                                    "1": "Meredith",
                                    "2": "Palmer",
                                    "3": "32",
                                    "4": "Female"
                                },
                                {
                                    "0": "1006",
                                    "1": "Michael",
                                    "2": "Scott",
                                    "3": "35",
                                    "4": "Male"
                                },
                                {
                                    "0": "1008",
                                    "1": "Stanley",
                                    "2": "Hudson",
                                    "3": "38",
                                    "4": "Male"
                                }
                            ]
                        },
                        "text/html": "<table><tr><th>EmployeeId</th><th>FirstName</th><th>LastName</th><th>Age</th><th>Gender</th></tr><tr><td>1001</td><td>Pooja</td><td>Das</td><td>28</td><td>Female</td></tr><tr><td>1003</td><td>Dwight</td><td>Schrute</td><td>29</td><td>Male</td></tr><tr><td>1002</td><td>Pam</td><td>Beasley</td><td>30</td><td>Female</td></tr><tr><td>1004</td><td>Angela</td><td>Martin</td><td>31</td><td>Female</td></tr><tr><td>1009</td><td>Kevin</td><td>Malone</td><td>31</td><td>Male</td></tr><tr><td>1005</td><td>Toby</td><td>Flenderson</td><td>32</td><td>Male</td></tr><tr><td>1007</td><td>Meredith</td><td>Palmer</td><td>32</td><td>Female</td></tr><tr><td>1006</td><td>Michael</td><td>Scott</td><td>35</td><td>Male</td></tr><tr><td>1008</td><td>Stanley</td><td>Hudson</td><td>38</td><td>Male</td></tr></table>"
                    },
                    "metadata": {}
                }
            ],
            "execution_count": 86
        },
        {
            "cell_type": "code",
            "source": [
                "SELECT * FROM EmployeeDemo \r\n",
                "ORDER BY Age DESC\r\n",
                ""
            ],
            "metadata": {
                "language": "sql",
                "azdata_cell_guid": "9c29f060-bff0-467a-99b7-41e33da5e288"
            },
            "outputs": [
                {
                    "output_type": "display_data",
                    "data": {
                        "text/html": "(9 rows affected)"
                    },
                    "metadata": {}
                },
                {
                    "output_type": "display_data",
                    "data": {
                        "text/html": "Total execution time: 00:00:00.082"
                    },
                    "metadata": {}
                },
                {
                    "output_type": "execute_result",
                    "execution_count": 87,
                    "data": {
                        "application/vnd.dataresource+json": {
                            "schema": {
                                "fields": [
                                    {
                                        "name": "EmployeeId"
                                    },
                                    {
                                        "name": "FirstName"
                                    },
                                    {
                                        "name": "LastName"
                                    },
                                    {
                                        "name": "Age"
                                    },
                                    {
                                        "name": "Gender"
                                    }
                                ]
                            },
                            "data": [
                                {
                                    "0": "1008",
                                    "1": "Stanley",
                                    "2": "Hudson",
                                    "3": "38",
                                    "4": "Male"
                                },
                                {
                                    "0": "1006",
                                    "1": "Michael",
                                    "2": "Scott",
                                    "3": "35",
                                    "4": "Male"
                                },
                                {
                                    "0": "1007",
                                    "1": "Meredith",
                                    "2": "Palmer",
                                    "3": "32",
                                    "4": "Female"
                                },
                                {
                                    "0": "1005",
                                    "1": "Toby",
                                    "2": "Flenderson",
                                    "3": "32",
                                    "4": "Male"
                                },
                                {
                                    "0": "1009",
                                    "1": "Kevin",
                                    "2": "Malone",
                                    "3": "31",
                                    "4": "Male"
                                },
                                {
                                    "0": "1004",
                                    "1": "Angela",
                                    "2": "Martin",
                                    "3": "31",
                                    "4": "Female"
                                },
                                {
                                    "0": "1002",
                                    "1": "Pam",
                                    "2": "Beasley",
                                    "3": "30",
                                    "4": "Female"
                                },
                                {
                                    "0": "1003",
                                    "1": "Dwight",
                                    "2": "Schrute",
                                    "3": "29",
                                    "4": "Male"
                                },
                                {
                                    "0": "1001",
                                    "1": "Pooja",
                                    "2": "Das",
                                    "3": "28",
                                    "4": "Female"
                                }
                            ]
                        },
                        "text/html": "<table><tr><th>EmployeeId</th><th>FirstName</th><th>LastName</th><th>Age</th><th>Gender</th></tr><tr><td>1008</td><td>Stanley</td><td>Hudson</td><td>38</td><td>Male</td></tr><tr><td>1006</td><td>Michael</td><td>Scott</td><td>35</td><td>Male</td></tr><tr><td>1007</td><td>Meredith</td><td>Palmer</td><td>32</td><td>Female</td></tr><tr><td>1005</td><td>Toby</td><td>Flenderson</td><td>32</td><td>Male</td></tr><tr><td>1009</td><td>Kevin</td><td>Malone</td><td>31</td><td>Male</td></tr><tr><td>1004</td><td>Angela</td><td>Martin</td><td>31</td><td>Female</td></tr><tr><td>1002</td><td>Pam</td><td>Beasley</td><td>30</td><td>Female</td></tr><tr><td>1003</td><td>Dwight</td><td>Schrute</td><td>29</td><td>Male</td></tr><tr><td>1001</td><td>Pooja</td><td>Das</td><td>28</td><td>Female</td></tr></table>"
                    },
                    "metadata": {}
                }
            ],
            "execution_count": 87
        },
        {
            "cell_type": "code",
            "source": [
                "SELECT * FROM EmployeeDemo\r\n",
                "ORDER BY Age DESC ,Gender DESC"
            ],
            "metadata": {
                "language": "sql",
                "azdata_cell_guid": "32778122-e717-4b62-b29d-a371d3efa917"
            },
            "outputs": [
                {
                    "output_type": "display_data",
                    "data": {
                        "text/html": "(9 rows affected)"
                    },
                    "metadata": {}
                },
                {
                    "output_type": "display_data",
                    "data": {
                        "text/html": "Total execution time: 00:00:00.046"
                    },
                    "metadata": {}
                },
                {
                    "output_type": "execute_result",
                    "execution_count": 88,
                    "data": {
                        "application/vnd.dataresource+json": {
                            "schema": {
                                "fields": [
                                    {
                                        "name": "EmployeeId"
                                    },
                                    {
                                        "name": "FirstName"
                                    },
                                    {
                                        "name": "LastName"
                                    },
                                    {
                                        "name": "Age"
                                    },
                                    {
                                        "name": "Gender"
                                    }
                                ]
                            },
                            "data": [
                                {
                                    "0": "1008",
                                    "1": "Stanley",
                                    "2": "Hudson",
                                    "3": "38",
                                    "4": "Male"
                                },
                                {
                                    "0": "1006",
                                    "1": "Michael",
                                    "2": "Scott",
                                    "3": "35",
                                    "4": "Male"
                                },
                                {
                                    "0": "1005",
                                    "1": "Toby",
                                    "2": "Flenderson",
                                    "3": "32",
                                    "4": "Male"
                                },
                                {
                                    "0": "1007",
                                    "1": "Meredith",
                                    "2": "Palmer",
                                    "3": "32",
                                    "4": "Female"
                                },
                                {
                                    "0": "1009",
                                    "1": "Kevin",
                                    "2": "Malone",
                                    "3": "31",
                                    "4": "Male"
                                },
                                {
                                    "0": "1004",
                                    "1": "Angela",
                                    "2": "Martin",
                                    "3": "31",
                                    "4": "Female"
                                },
                                {
                                    "0": "1002",
                                    "1": "Pam",
                                    "2": "Beasley",
                                    "3": "30",
                                    "4": "Female"
                                },
                                {
                                    "0": "1003",
                                    "1": "Dwight",
                                    "2": "Schrute",
                                    "3": "29",
                                    "4": "Male"
                                },
                                {
                                    "0": "1001",
                                    "1": "Pooja",
                                    "2": "Das",
                                    "3": "28",
                                    "4": "Female"
                                }
                            ]
                        },
                        "text/html": "<table><tr><th>EmployeeId</th><th>FirstName</th><th>LastName</th><th>Age</th><th>Gender</th></tr><tr><td>1008</td><td>Stanley</td><td>Hudson</td><td>38</td><td>Male</td></tr><tr><td>1006</td><td>Michael</td><td>Scott</td><td>35</td><td>Male</td></tr><tr><td>1005</td><td>Toby</td><td>Flenderson</td><td>32</td><td>Male</td></tr><tr><td>1007</td><td>Meredith</td><td>Palmer</td><td>32</td><td>Female</td></tr><tr><td>1009</td><td>Kevin</td><td>Malone</td><td>31</td><td>Male</td></tr><tr><td>1004</td><td>Angela</td><td>Martin</td><td>31</td><td>Female</td></tr><tr><td>1002</td><td>Pam</td><td>Beasley</td><td>30</td><td>Female</td></tr><tr><td>1003</td><td>Dwight</td><td>Schrute</td><td>29</td><td>Male</td></tr><tr><td>1001</td><td>Pooja</td><td>Das</td><td>28</td><td>Female</td></tr></table>"
                    },
                    "metadata": {}
                }
            ],
            "execution_count": 88
        },
        {
            "cell_type": "code",
            "source": [
                "SELECT * FROM EmployeeDemo\r\n",
                "ORDER BY 4 DESC ,5 DESC"
            ],
            "metadata": {
                "language": "sql",
                "azdata_cell_guid": "525254c5-f718-4ee6-b1bc-fd431a89e920"
            },
            "outputs": [
                {
                    "output_type": "display_data",
                    "data": {
                        "text/html": "(9 rows affected)"
                    },
                    "metadata": {}
                },
                {
                    "output_type": "display_data",
                    "data": {
                        "text/html": "Total execution time: 00:00:00.137"
                    },
                    "metadata": {}
                },
                {
                    "output_type": "execute_result",
                    "execution_count": 89,
                    "data": {
                        "application/vnd.dataresource+json": {
                            "schema": {
                                "fields": [
                                    {
                                        "name": "EmployeeId"
                                    },
                                    {
                                        "name": "FirstName"
                                    },
                                    {
                                        "name": "LastName"
                                    },
                                    {
                                        "name": "Age"
                                    },
                                    {
                                        "name": "Gender"
                                    }
                                ]
                            },
                            "data": [
                                {
                                    "0": "1008",
                                    "1": "Stanley",
                                    "2": "Hudson",
                                    "3": "38",
                                    "4": "Male"
                                },
                                {
                                    "0": "1006",
                                    "1": "Michael",
                                    "2": "Scott",
                                    "3": "35",
                                    "4": "Male"
                                },
                                {
                                    "0": "1005",
                                    "1": "Toby",
                                    "2": "Flenderson",
                                    "3": "32",
                                    "4": "Male"
                                },
                                {
                                    "0": "1007",
                                    "1": "Meredith",
                                    "2": "Palmer",
                                    "3": "32",
                                    "4": "Female"
                                },
                                {
                                    "0": "1009",
                                    "1": "Kevin",
                                    "2": "Malone",
                                    "3": "31",
                                    "4": "Male"
                                },
                                {
                                    "0": "1004",
                                    "1": "Angela",
                                    "2": "Martin",
                                    "3": "31",
                                    "4": "Female"
                                },
                                {
                                    "0": "1002",
                                    "1": "Pam",
                                    "2": "Beasley",
                                    "3": "30",
                                    "4": "Female"
                                },
                                {
                                    "0": "1003",
                                    "1": "Dwight",
                                    "2": "Schrute",
                                    "3": "29",
                                    "4": "Male"
                                },
                                {
                                    "0": "1001",
                                    "1": "Pooja",
                                    "2": "Das",
                                    "3": "28",
                                    "4": "Female"
                                }
                            ]
                        },
                        "text/html": "<table><tr><th>EmployeeId</th><th>FirstName</th><th>LastName</th><th>Age</th><th>Gender</th></tr><tr><td>1008</td><td>Stanley</td><td>Hudson</td><td>38</td><td>Male</td></tr><tr><td>1006</td><td>Michael</td><td>Scott</td><td>35</td><td>Male</td></tr><tr><td>1005</td><td>Toby</td><td>Flenderson</td><td>32</td><td>Male</td></tr><tr><td>1007</td><td>Meredith</td><td>Palmer</td><td>32</td><td>Female</td></tr><tr><td>1009</td><td>Kevin</td><td>Malone</td><td>31</td><td>Male</td></tr><tr><td>1004</td><td>Angela</td><td>Martin</td><td>31</td><td>Female</td></tr><tr><td>1002</td><td>Pam</td><td>Beasley</td><td>30</td><td>Female</td></tr><tr><td>1003</td><td>Dwight</td><td>Schrute</td><td>29</td><td>Male</td></tr><tr><td>1001</td><td>Pooja</td><td>Das</td><td>28</td><td>Female</td></tr></table>"
                    },
                    "metadata": {}
                }
            ],
            "execution_count": 89
        },
        {
            "cell_type": "markdown",
            "source": [
                "# /\\*\\*\\*\\*\\*\\*\\*\\*\\*\\*\\*\\*\\*\\*\\*_********************************INTERMEDIATE SQL********************************_\\*\\*\\*\\*\\*\\*\\*\\*\\*\\*\\*\\*\\*\\*\\*\\*\\*\\*/"
            ],
            "metadata": {
                "language": "sql",
                "azdata_cell_guid": "02761236-a17e-4a54-9292-8f5f4e2ea274"
            },
            "attachments": {}
        },
        {
            "cell_type": "markdown",
            "source": [
                "## **INNER JOIN , LEFT/RIGHT/FULL OUTER JOIN**"
            ],
            "metadata": {
                "language": "sql",
                "azdata_cell_guid": "46d2cfd3-504c-4a98-9811-58a5a0631bc9"
            },
            "attachments": {}
        },
        {
            "cell_type": "markdown",
            "source": [
                "## **Add new rows in EmployeeDemo**"
            ],
            "metadata": {
                "language": "sql",
                "azdata_cell_guid": "fdc5df36-c244-4b0c-82e3-e817a57bc4d1"
            },
            "attachments": {}
        },
        {
            "cell_type": "code",
            "source": [
                "Insert into EmployeeDemo VALUES\r\n",
                "(1011, 'Ryan', 'Howard', 26, 'Male'),\r\n",
                "(NULL, 'Holly', 'Flax', NULL, NULL),\r\n",
                "(1013, 'Darryl', 'Philbin', NULL, 'Male')"
            ],
            "metadata": {
                "language": "sql",
                "azdata_cell_guid": "405e46c7-04cf-465b-8aee-98969bc49644"
            },
            "outputs": [
                {
                    "output_type": "display_data",
                    "data": {
                        "text/html": "(3 rows affected)"
                    },
                    "metadata": {}
                },
                {
                    "output_type": "display_data",
                    "data": {
                        "text/html": "Total execution time: 00:00:00.203"
                    },
                    "metadata": {}
                }
            ],
            "execution_count": 14
        },
        {
            "cell_type": "markdown",
            "source": [
                "## Create new Table called **WareHouseEmployeeDemo**"
            ],
            "metadata": {
                "language": "sql",
                "azdata_cell_guid": "c47b06a4-6ed5-4c84-87c0-1ca9d15287b8"
            },
            "attachments": {}
        },
        {
            "cell_type": "code",
            "source": [
                "Create Table WareHouseEmployeeDemo\r\n",
                "(EmployeeID int, \r\n",
                "FirstName varchar(50), \r\n",
                "LastName varchar(50), \r\n",
                "Age int, \r\n",
                "Gender varchar(50)\r\n",
                ")"
            ],
            "metadata": {
                "language": "sql",
                "azdata_cell_guid": "e1622d26-67aa-4434-905f-dc61baa7e0c2"
            },
            "outputs": [
                {
                    "output_type": "error",
                    "evalue": "Msg 2714, Level 16, State 6, Line 1\r\nThere is already an object named 'WareHouseEmployeeDemo' in the database.",
                    "ename": "",
                    "traceback": []
                },
                {
                    "output_type": "display_data",
                    "data": {
                        "text/html": "Total execution time: 00:00:00.456"
                    },
                    "metadata": {}
                }
            ],
            "execution_count": 5
        },
        {
            "cell_type": "markdown",
            "source": [
                "## **Add new rows in WareHouseEmployeeDemo**"
            ],
            "metadata": {
                "language": "sql",
                "azdata_cell_guid": "c4771d1a-9ac6-438d-a869-7aa40ae5cc03"
            },
            "attachments": {}
        },
        {
            "cell_type": "code",
            "source": [
                "Insert into WareHouseEmployeeDemo VALUES\r\n",
                "(1013, 'Darryl', 'Philbin', NULL, 'Male'),\r\n",
                "(1050, 'Roy', 'Anderson', 31, 'Male'),\r\n",
                "(1051, 'Hidetoshi', 'Hasagawa', 40, 'Male'),\r\n",
                "(1052, 'Val', 'Johnson', 31, 'Female')"
            ],
            "metadata": {
                "language": "sql",
                "azdata_cell_guid": "16c62a84-8e99-4dee-98e1-ed36f83c4f71"
            },
            "outputs": [
                {
                    "output_type": "error",
                    "ename": "",
                    "evalue": "Msg 208, Level 16, State 1, Line 1\r\nInvalid object name 'WareHouseEmployeeDemo'.",
                    "traceback": []
                },
                {
                    "output_type": "display_data",
                    "data": {
                        "text/html": "Total execution time: 00:00:00.088"
                    },
                    "metadata": {}
                }
            ],
            "execution_count": 15
        },
        {
            "cell_type": "markdown",
            "source": [
                "## Add new rows in EmployeeSalary"
            ],
            "metadata": {
                "language": "sql",
                "azdata_cell_guid": "8910a9f5-7aaf-4383-9491-6d7c623d80c1"
            },
            "attachments": {}
        },
        {
            "cell_type": "code",
            "source": [
                "INSERT into EmployeeSalary VALUES\r\n",
                "(NULL,'HR',350000)"
            ],
            "metadata": {
                "language": "sql",
                "azdata_cell_guid": "b5256be8-afe8-451a-a112-367011ece3ce"
            },
            "outputs": [
                {
                    "output_type": "display_data",
                    "data": {
                        "text/html": "(1 row affected)"
                    },
                    "metadata": {}
                },
                {
                    "output_type": "display_data",
                    "data": {
                        "text/html": "Total execution time: 00:00:00.071"
                    },
                    "metadata": {}
                }
            ],
            "execution_count": 16
        },
        {
            "cell_type": "markdown",
            "source": [
                "## **Select both Table **EmployeeDemo and EmployeeSalary****"
            ],
            "metadata": {
                "language": "sql",
                "azdata_cell_guid": "3f43a0bc-6806-4b57-b930-1587c5180287"
            },
            "attachments": {}
        },
        {
            "cell_type": "code",
            "source": [
                "SELECT *\r\n",
                "FROM EmployeeSalary\r\n",
                "SELECT *\r\n",
                "FROM EmployeeDemo"
            ],
            "metadata": {
                "language": "sql",
                "azdata_cell_guid": "b242e7a5-32d2-4de1-9574-322a0e0fe621"
            },
            "outputs": [
                {
                    "output_type": "display_data",
                    "data": {
                        "text/html": "(10 rows affected)"
                    },
                    "metadata": {}
                },
                {
                    "output_type": "display_data",
                    "data": {
                        "text/html": "(12 rows affected)"
                    },
                    "metadata": {}
                },
                {
                    "output_type": "display_data",
                    "data": {
                        "text/html": "Total execution time: 00:00:00.355"
                    },
                    "metadata": {}
                },
                {
                    "output_type": "execute_result",
                    "execution_count": 94,
                    "data": {
                        "application/vnd.dataresource+json": {
                            "schema": {
                                "fields": [
                                    {
                                        "name": "EmployeeID"
                                    },
                                    {
                                        "name": "JobTitle"
                                    },
                                    {
                                        "name": "Employee_Salary"
                                    }
                                ]
                            },
                            "data": [
                                {
                                    "0": "1001",
                                    "1": "DataScience",
                                    "2": "50000"
                                },
                                {
                                    "0": "1002",
                                    "1": "Receptionist",
                                    "2": "36000"
                                },
                                {
                                    "0": "1003",
                                    "1": "Salesman",
                                    "2": "63000"
                                },
                                {
                                    "0": "1004",
                                    "1": "Accountant",
                                    "2": "47000"
                                },
                                {
                                    "0": "1005",
                                    "1": "HR",
                                    "2": "50000"
                                },
                                {
                                    "0": "1006",
                                    "1": "Regional Manager",
                                    "2": "65000"
                                },
                                {
                                    "0": "1007",
                                    "1": "Supplier Relations",
                                    "2": "41000"
                                },
                                {
                                    "0": "1008",
                                    "1": "Salesman",
                                    "2": "48000"
                                },
                                {
                                    "0": "1009",
                                    "1": "Accountant",
                                    "2": "42000"
                                },
                                {
                                    "0": "NULL",
                                    "1": "HR",
                                    "2": "350000"
                                }
                            ]
                        },
                        "text/html": "<table><tr><th>EmployeeID</th><th>JobTitle</th><th>Employee_Salary</th></tr><tr><td>1001</td><td>DataScience</td><td>50000</td></tr><tr><td>1002</td><td>Receptionist</td><td>36000</td></tr><tr><td>1003</td><td>Salesman</td><td>63000</td></tr><tr><td>1004</td><td>Accountant</td><td>47000</td></tr><tr><td>1005</td><td>HR</td><td>50000</td></tr><tr><td>1006</td><td>Regional Manager</td><td>65000</td></tr><tr><td>1007</td><td>Supplier Relations</td><td>41000</td></tr><tr><td>1008</td><td>Salesman</td><td>48000</td></tr><tr><td>1009</td><td>Accountant</td><td>42000</td></tr><tr><td>NULL</td><td>HR</td><td>350000</td></tr></table>"
                    },
                    "metadata": {}
                },
                {
                    "output_type": "execute_result",
                    "execution_count": 94,
                    "data": {
                        "application/vnd.dataresource+json": {
                            "schema": {
                                "fields": [
                                    {
                                        "name": "EmployeeId"
                                    },
                                    {
                                        "name": "FirstName"
                                    },
                                    {
                                        "name": "LastName"
                                    },
                                    {
                                        "name": "Age"
                                    },
                                    {
                                        "name": "Gender"
                                    }
                                ]
                            },
                            "data": [
                                {
                                    "0": "1001",
                                    "1": "Pooja",
                                    "2": "Das",
                                    "3": "28",
                                    "4": "Female"
                                },
                                {
                                    "0": "1002",
                                    "1": "Pam",
                                    "2": "Beasley",
                                    "3": "30",
                                    "4": "Female"
                                },
                                {
                                    "0": "1003",
                                    "1": "Dwight",
                                    "2": "Schrute",
                                    "3": "29",
                                    "4": "Male"
                                },
                                {
                                    "0": "1004",
                                    "1": "Angela",
                                    "2": "Martin",
                                    "3": "31",
                                    "4": "Female"
                                },
                                {
                                    "0": "1005",
                                    "1": "Toby",
                                    "2": "Flenderson",
                                    "3": "32",
                                    "4": "Male"
                                },
                                {
                                    "0": "1006",
                                    "1": "Michael",
                                    "2": "Scott",
                                    "3": "35",
                                    "4": "Male"
                                },
                                {
                                    "0": "1007",
                                    "1": "Meredith",
                                    "2": "Palmer",
                                    "3": "32",
                                    "4": "Female"
                                },
                                {
                                    "0": "1008",
                                    "1": "Stanley",
                                    "2": "Hudson",
                                    "3": "38",
                                    "4": "Male"
                                },
                                {
                                    "0": "1009",
                                    "1": "Kevin",
                                    "2": "Malone",
                                    "3": "31",
                                    "4": "Male"
                                },
                                {
                                    "0": "1011",
                                    "1": "Ryan",
                                    "2": "Howard",
                                    "3": "26",
                                    "4": "Male"
                                },
                                {
                                    "0": "NULL",
                                    "1": "Holly",
                                    "2": "Flax",
                                    "3": "NULL",
                                    "4": "NULL"
                                },
                                {
                                    "0": "1013",
                                    "1": "Darryl",
                                    "2": "Philbin",
                                    "3": "NULL",
                                    "4": "Male"
                                }
                            ]
                        },
                        "text/html": "<table><tr><th>EmployeeId</th><th>FirstName</th><th>LastName</th><th>Age</th><th>Gender</th></tr><tr><td>1001</td><td>Pooja</td><td>Das</td><td>28</td><td>Female</td></tr><tr><td>1002</td><td>Pam</td><td>Beasley</td><td>30</td><td>Female</td></tr><tr><td>1003</td><td>Dwight</td><td>Schrute</td><td>29</td><td>Male</td></tr><tr><td>1004</td><td>Angela</td><td>Martin</td><td>31</td><td>Female</td></tr><tr><td>1005</td><td>Toby</td><td>Flenderson</td><td>32</td><td>Male</td></tr><tr><td>1006</td><td>Michael</td><td>Scott</td><td>35</td><td>Male</td></tr><tr><td>1007</td><td>Meredith</td><td>Palmer</td><td>32</td><td>Female</td></tr><tr><td>1008</td><td>Stanley</td><td>Hudson</td><td>38</td><td>Male</td></tr><tr><td>1009</td><td>Kevin</td><td>Malone</td><td>31</td><td>Male</td></tr><tr><td>1011</td><td>Ryan</td><td>Howard</td><td>26</td><td>Male</td></tr><tr><td>NULL</td><td>Holly</td><td>Flax</td><td>NULL</td><td>NULL</td></tr><tr><td>1013</td><td>Darryl</td><td>Philbin</td><td>NULL</td><td>Male</td></tr></table>"
                    },
                    "metadata": {}
                }
            ],
            "execution_count": 94
        },
        {
            "cell_type": "markdown",
            "source": [
                "## **DELETE the row**"
            ],
            "metadata": {
                "language": "sql",
                "azdata_cell_guid": "31bbf2ec-8ba0-49b6-8d96-0da93da52d19"
            },
            "attachments": {}
        },
        {
            "cell_type": "code",
            "source": [
                "DELETE FROM EmployeeSalary\r\n",
                "WHERE EmployeeID  in (1011,1008)"
            ],
            "metadata": {
                "azdata_cell_guid": "148963d1-e390-4a3f-98e3-8194e906cc4c",
                "language": "sql"
            },
            "outputs": [
                {
                    "output_type": "display_data",
                    "data": {
                        "text/html": "(1 row affected)"
                    },
                    "metadata": {}
                },
                {
                    "output_type": "display_data",
                    "data": {
                        "text/html": "Total execution time: 00:00:00.253"
                    },
                    "metadata": {}
                }
            ],
            "execution_count": 95
        },
        {
            "cell_type": "code",
            "source": [
                "SELECT * from EmployeeSalary"
            ],
            "metadata": {
                "language": "sql",
                "azdata_cell_guid": "5672deec-3091-42e0-b518-aabf4a4ea11a"
            },
            "outputs": [
                {
                    "output_type": "display_data",
                    "data": {
                        "text/html": "(9 rows affected)"
                    },
                    "metadata": {}
                },
                {
                    "output_type": "display_data",
                    "data": {
                        "text/html": "Total execution time: 00:00:00.109"
                    },
                    "metadata": {}
                },
                {
                    "output_type": "execute_result",
                    "execution_count": 96,
                    "data": {
                        "application/vnd.dataresource+json": {
                            "schema": {
                                "fields": [
                                    {
                                        "name": "EmployeeID"
                                    },
                                    {
                                        "name": "JobTitle"
                                    },
                                    {
                                        "name": "Employee_Salary"
                                    }
                                ]
                            },
                            "data": [
                                {
                                    "0": "1001",
                                    "1": "DataScience",
                                    "2": "50000"
                                },
                                {
                                    "0": "1002",
                                    "1": "Receptionist",
                                    "2": "36000"
                                },
                                {
                                    "0": "1003",
                                    "1": "Salesman",
                                    "2": "63000"
                                },
                                {
                                    "0": "1004",
                                    "1": "Accountant",
                                    "2": "47000"
                                },
                                {
                                    "0": "1005",
                                    "1": "HR",
                                    "2": "50000"
                                },
                                {
                                    "0": "1006",
                                    "1": "Regional Manager",
                                    "2": "65000"
                                },
                                {
                                    "0": "1007",
                                    "1": "Supplier Relations",
                                    "2": "41000"
                                },
                                {
                                    "0": "1009",
                                    "1": "Accountant",
                                    "2": "42000"
                                },
                                {
                                    "0": "NULL",
                                    "1": "HR",
                                    "2": "350000"
                                }
                            ]
                        },
                        "text/html": "<table><tr><th>EmployeeID</th><th>JobTitle</th><th>Employee_Salary</th></tr><tr><td>1001</td><td>DataScience</td><td>50000</td></tr><tr><td>1002</td><td>Receptionist</td><td>36000</td></tr><tr><td>1003</td><td>Salesman</td><td>63000</td></tr><tr><td>1004</td><td>Accountant</td><td>47000</td></tr><tr><td>1005</td><td>HR</td><td>50000</td></tr><tr><td>1006</td><td>Regional Manager</td><td>65000</td></tr><tr><td>1007</td><td>Supplier Relations</td><td>41000</td></tr><tr><td>1009</td><td>Accountant</td><td>42000</td></tr><tr><td>NULL</td><td>HR</td><td>350000</td></tr></table>"
                    },
                    "metadata": {}
                }
            ],
            "execution_count": 96
        },
        {
            "cell_type": "markdown",
            "source": [
                "## **Insert new rows in EmployeeSalary**"
            ],
            "metadata": {
                "language": "sql",
                "azdata_cell_guid": "0c105cc1-4d1f-4ee9-8000-7522471196cc"
            },
            "attachments": {}
        },
        {
            "cell_type": "code",
            "source": [
                "INSERT INTO EmployeeSalary VALUES\r\n",
                "(1010,NULL,47000),\r\n",
                "(1011,'Salesman',43000)\r\n",
                "\r\n",
                "SELECT*FROM EmployeeSalary"
            ],
            "metadata": {
                "language": "sql",
                "azdata_cell_guid": "eb4f5ea2-8df2-4860-acc7-ecf6f1178f42"
            },
            "outputs": [
                {
                    "output_type": "display_data",
                    "data": {
                        "text/html": "(2 rows affected)"
                    },
                    "metadata": {}
                },
                {
                    "output_type": "display_data",
                    "data": {
                        "text/html": "(11 rows affected)"
                    },
                    "metadata": {}
                },
                {
                    "output_type": "display_data",
                    "data": {
                        "text/html": "Total execution time: 00:00:00.138"
                    },
                    "metadata": {}
                },
                {
                    "output_type": "execute_result",
                    "execution_count": 97,
                    "data": {
                        "application/vnd.dataresource+json": {
                            "schema": {
                                "fields": [
                                    {
                                        "name": "EmployeeID"
                                    },
                                    {
                                        "name": "JobTitle"
                                    },
                                    {
                                        "name": "Employee_Salary"
                                    }
                                ]
                            },
                            "data": [
                                {
                                    "0": "1001",
                                    "1": "DataScience",
                                    "2": "50000"
                                },
                                {
                                    "0": "1002",
                                    "1": "Receptionist",
                                    "2": "36000"
                                },
                                {
                                    "0": "1003",
                                    "1": "Salesman",
                                    "2": "63000"
                                },
                                {
                                    "0": "1004",
                                    "1": "Accountant",
                                    "2": "47000"
                                },
                                {
                                    "0": "1005",
                                    "1": "HR",
                                    "2": "50000"
                                },
                                {
                                    "0": "1006",
                                    "1": "Regional Manager",
                                    "2": "65000"
                                },
                                {
                                    "0": "1007",
                                    "1": "Supplier Relations",
                                    "2": "41000"
                                },
                                {
                                    "0": "1010",
                                    "1": "NULL",
                                    "2": "47000"
                                },
                                {
                                    "0": "1009",
                                    "1": "Accountant",
                                    "2": "42000"
                                },
                                {
                                    "0": "NULL",
                                    "1": "HR",
                                    "2": "350000"
                                },
                                {
                                    "0": "1011",
                                    "1": "Salesman",
                                    "2": "43000"
                                }
                            ]
                        },
                        "text/html": "<table><tr><th>EmployeeID</th><th>JobTitle</th><th>Employee_Salary</th></tr><tr><td>1001</td><td>DataScience</td><td>50000</td></tr><tr><td>1002</td><td>Receptionist</td><td>36000</td></tr><tr><td>1003</td><td>Salesman</td><td>63000</td></tr><tr><td>1004</td><td>Accountant</td><td>47000</td></tr><tr><td>1005</td><td>HR</td><td>50000</td></tr><tr><td>1006</td><td>Regional Manager</td><td>65000</td></tr><tr><td>1007</td><td>Supplier Relations</td><td>41000</td></tr><tr><td>1010</td><td>NULL</td><td>47000</td></tr><tr><td>1009</td><td>Accountant</td><td>42000</td></tr><tr><td>NULL</td><td>HR</td><td>350000</td></tr><tr><td>1011</td><td>Salesman</td><td>43000</td></tr></table>"
                    },
                    "metadata": {}
                }
            ],
            "execution_count": 97
        },
        {
            "cell_type": "markdown",
            "source": [
                "# **INNER JOIN**"
            ],
            "metadata": {
                "language": "sql",
                "azdata_cell_guid": "9ec6f0aa-fbd4-4712-9998-9a4e473b6cff"
            },
            "attachments": {}
        },
        {
            "cell_type": "code",
            "source": [
                "SELECT *\r\n",
                "from EmployeeDemo\r\n",
                "INNER JOIN EmployeeSalary\r\n",
                "ON EmployeeDemo.EmployeeId=EmployeeSalary.EmployeeID"
            ],
            "metadata": {
                "azdata_cell_guid": "88fdbb43-6591-4a3c-8e61-7e500986ccba",
                "language": "sql"
            },
            "outputs": [
                {
                    "output_type": "display_data",
                    "data": {
                        "text/html": "(9 rows affected)"
                    },
                    "metadata": {}
                },
                {
                    "output_type": "display_data",
                    "data": {
                        "text/html": "Total execution time: 00:00:00.169"
                    },
                    "metadata": {}
                },
                {
                    "output_type": "execute_result",
                    "execution_count": 98,
                    "data": {
                        "application/vnd.dataresource+json": {
                            "schema": {
                                "fields": [
                                    {
                                        "name": "EmployeeId"
                                    },
                                    {
                                        "name": "FirstName"
                                    },
                                    {
                                        "name": "LastName"
                                    },
                                    {
                                        "name": "Age"
                                    },
                                    {
                                        "name": "Gender"
                                    },
                                    {
                                        "name": "EmployeeID"
                                    },
                                    {
                                        "name": "JobTitle"
                                    },
                                    {
                                        "name": "Employee_Salary"
                                    }
                                ]
                            },
                            "data": [
                                {
                                    "0": "1001",
                                    "1": "Pooja",
                                    "2": "Das",
                                    "3": "28",
                                    "4": "Female",
                                    "5": "1001",
                                    "6": "DataScience",
                                    "7": "50000"
                                },
                                {
                                    "0": "1002",
                                    "1": "Pam",
                                    "2": "Beasley",
                                    "3": "30",
                                    "4": "Female",
                                    "5": "1002",
                                    "6": "Receptionist",
                                    "7": "36000"
                                },
                                {
                                    "0": "1003",
                                    "1": "Dwight",
                                    "2": "Schrute",
                                    "3": "29",
                                    "4": "Male",
                                    "5": "1003",
                                    "6": "Salesman",
                                    "7": "63000"
                                },
                                {
                                    "0": "1004",
                                    "1": "Angela",
                                    "2": "Martin",
                                    "3": "31",
                                    "4": "Female",
                                    "5": "1004",
                                    "6": "Accountant",
                                    "7": "47000"
                                },
                                {
                                    "0": "1005",
                                    "1": "Toby",
                                    "2": "Flenderson",
                                    "3": "32",
                                    "4": "Male",
                                    "5": "1005",
                                    "6": "HR",
                                    "7": "50000"
                                },
                                {
                                    "0": "1006",
                                    "1": "Michael",
                                    "2": "Scott",
                                    "3": "35",
                                    "4": "Male",
                                    "5": "1006",
                                    "6": "Regional Manager",
                                    "7": "65000"
                                },
                                {
                                    "0": "1007",
                                    "1": "Meredith",
                                    "2": "Palmer",
                                    "3": "32",
                                    "4": "Female",
                                    "5": "1007",
                                    "6": "Supplier Relations",
                                    "7": "41000"
                                },
                                {
                                    "0": "1009",
                                    "1": "Kevin",
                                    "2": "Malone",
                                    "3": "31",
                                    "4": "Male",
                                    "5": "1009",
                                    "6": "Accountant",
                                    "7": "42000"
                                },
                                {
                                    "0": "1011",
                                    "1": "Ryan",
                                    "2": "Howard",
                                    "3": "26",
                                    "4": "Male",
                                    "5": "1011",
                                    "6": "Salesman",
                                    "7": "43000"
                                }
                            ]
                        },
                        "text/html": "<table><tr><th>EmployeeId</th><th>FirstName</th><th>LastName</th><th>Age</th><th>Gender</th><th>EmployeeID</th><th>JobTitle</th><th>Employee_Salary</th></tr><tr><td>1001</td><td>Pooja</td><td>Das</td><td>28</td><td>Female</td><td>1001</td><td>DataScience</td><td>50000</td></tr><tr><td>1002</td><td>Pam</td><td>Beasley</td><td>30</td><td>Female</td><td>1002</td><td>Receptionist</td><td>36000</td></tr><tr><td>1003</td><td>Dwight</td><td>Schrute</td><td>29</td><td>Male</td><td>1003</td><td>Salesman</td><td>63000</td></tr><tr><td>1004</td><td>Angela</td><td>Martin</td><td>31</td><td>Female</td><td>1004</td><td>Accountant</td><td>47000</td></tr><tr><td>1005</td><td>Toby</td><td>Flenderson</td><td>32</td><td>Male</td><td>1005</td><td>HR</td><td>50000</td></tr><tr><td>1006</td><td>Michael</td><td>Scott</td><td>35</td><td>Male</td><td>1006</td><td>Regional Manager</td><td>65000</td></tr><tr><td>1007</td><td>Meredith</td><td>Palmer</td><td>32</td><td>Female</td><td>1007</td><td>Supplier Relations</td><td>41000</td></tr><tr><td>1009</td><td>Kevin</td><td>Malone</td><td>31</td><td>Male</td><td>1009</td><td>Accountant</td><td>42000</td></tr><tr><td>1011</td><td>Ryan</td><td>Howard</td><td>26</td><td>Male</td><td>1011</td><td>Salesman</td><td>43000</td></tr></table>"
                    },
                    "metadata": {}
                }
            ],
            "execution_count": 98
        },
        {
            "cell_type": "markdown",
            "source": [
                "## **FULL OUTER JOIN**"
            ],
            "metadata": {
                "language": "sql",
                "azdata_cell_guid": "6044eeb9-ee44-4059-979a-165c02491c8b"
            },
            "attachments": {}
        },
        {
            "cell_type": "code",
            "source": [
                "SELECT *\r\n",
                "FROM EmployeeDemo\r\n",
                "FULL OUTER JOIN EmployeeSalary\r\n",
                "on EmployeeDemo.EmployeeId=EmployeeSalary.EmployeeID"
            ],
            "metadata": {
                "language": "sql",
                "azdata_cell_guid": "cc5de35f-e4e5-4a1d-b282-cb1017dcdc42"
            },
            "outputs": [
                {
                    "output_type": "display_data",
                    "data": {
                        "text/html": "(14 rows affected)"
                    },
                    "metadata": {}
                },
                {
                    "output_type": "display_data",
                    "data": {
                        "text/html": "Total execution time: 00:00:00.160"
                    },
                    "metadata": {}
                },
                {
                    "output_type": "execute_result",
                    "execution_count": 99,
                    "data": {
                        "application/vnd.dataresource+json": {
                            "schema": {
                                "fields": [
                                    {
                                        "name": "EmployeeId"
                                    },
                                    {
                                        "name": "FirstName"
                                    },
                                    {
                                        "name": "LastName"
                                    },
                                    {
                                        "name": "Age"
                                    },
                                    {
                                        "name": "Gender"
                                    },
                                    {
                                        "name": "EmployeeID"
                                    },
                                    {
                                        "name": "JobTitle"
                                    },
                                    {
                                        "name": "Employee_Salary"
                                    }
                                ]
                            },
                            "data": [
                                {
                                    "0": "1001",
                                    "1": "Pooja",
                                    "2": "Das",
                                    "3": "28",
                                    "4": "Female",
                                    "5": "1001",
                                    "6": "DataScience",
                                    "7": "50000"
                                },
                                {
                                    "0": "1002",
                                    "1": "Pam",
                                    "2": "Beasley",
                                    "3": "30",
                                    "4": "Female",
                                    "5": "1002",
                                    "6": "Receptionist",
                                    "7": "36000"
                                },
                                {
                                    "0": "1003",
                                    "1": "Dwight",
                                    "2": "Schrute",
                                    "3": "29",
                                    "4": "Male",
                                    "5": "1003",
                                    "6": "Salesman",
                                    "7": "63000"
                                },
                                {
                                    "0": "1004",
                                    "1": "Angela",
                                    "2": "Martin",
                                    "3": "31",
                                    "4": "Female",
                                    "5": "1004",
                                    "6": "Accountant",
                                    "7": "47000"
                                },
                                {
                                    "0": "1005",
                                    "1": "Toby",
                                    "2": "Flenderson",
                                    "3": "32",
                                    "4": "Male",
                                    "5": "1005",
                                    "6": "HR",
                                    "7": "50000"
                                },
                                {
                                    "0": "1006",
                                    "1": "Michael",
                                    "2": "Scott",
                                    "3": "35",
                                    "4": "Male",
                                    "5": "1006",
                                    "6": "Regional Manager",
                                    "7": "65000"
                                },
                                {
                                    "0": "1007",
                                    "1": "Meredith",
                                    "2": "Palmer",
                                    "3": "32",
                                    "4": "Female",
                                    "5": "1007",
                                    "6": "Supplier Relations",
                                    "7": "41000"
                                },
                                {
                                    "0": "1008",
                                    "1": "Stanley",
                                    "2": "Hudson",
                                    "3": "38",
                                    "4": "Male",
                                    "5": "NULL",
                                    "6": "NULL",
                                    "7": "NULL"
                                },
                                {
                                    "0": "1009",
                                    "1": "Kevin",
                                    "2": "Malone",
                                    "3": "31",
                                    "4": "Male",
                                    "5": "1009",
                                    "6": "Accountant",
                                    "7": "42000"
                                },
                                {
                                    "0": "1011",
                                    "1": "Ryan",
                                    "2": "Howard",
                                    "3": "26",
                                    "4": "Male",
                                    "5": "1011",
                                    "6": "Salesman",
                                    "7": "43000"
                                },
                                {
                                    "0": "NULL",
                                    "1": "Holly",
                                    "2": "Flax",
                                    "3": "NULL",
                                    "4": "NULL",
                                    "5": "NULL",
                                    "6": "NULL",
                                    "7": "NULL"
                                },
                                {
                                    "0": "1013",
                                    "1": "Darryl",
                                    "2": "Philbin",
                                    "3": "NULL",
                                    "4": "Male",
                                    "5": "NULL",
                                    "6": "NULL",
                                    "7": "NULL"
                                },
                                {
                                    "0": "NULL",
                                    "1": "NULL",
                                    "2": "NULL",
                                    "3": "NULL",
                                    "4": "NULL",
                                    "5": "1010",
                                    "6": "NULL",
                                    "7": "47000"
                                },
                                {
                                    "0": "NULL",
                                    "1": "NULL",
                                    "2": "NULL",
                                    "3": "NULL",
                                    "4": "NULL",
                                    "5": "NULL",
                                    "6": "HR",
                                    "7": "350000"
                                }
                            ]
                        },
                        "text/html": "<table><tr><th>EmployeeId</th><th>FirstName</th><th>LastName</th><th>Age</th><th>Gender</th><th>EmployeeID</th><th>JobTitle</th><th>Employee_Salary</th></tr><tr><td>1001</td><td>Pooja</td><td>Das</td><td>28</td><td>Female</td><td>1001</td><td>DataScience</td><td>50000</td></tr><tr><td>1002</td><td>Pam</td><td>Beasley</td><td>30</td><td>Female</td><td>1002</td><td>Receptionist</td><td>36000</td></tr><tr><td>1003</td><td>Dwight</td><td>Schrute</td><td>29</td><td>Male</td><td>1003</td><td>Salesman</td><td>63000</td></tr><tr><td>1004</td><td>Angela</td><td>Martin</td><td>31</td><td>Female</td><td>1004</td><td>Accountant</td><td>47000</td></tr><tr><td>1005</td><td>Toby</td><td>Flenderson</td><td>32</td><td>Male</td><td>1005</td><td>HR</td><td>50000</td></tr><tr><td>1006</td><td>Michael</td><td>Scott</td><td>35</td><td>Male</td><td>1006</td><td>Regional Manager</td><td>65000</td></tr><tr><td>1007</td><td>Meredith</td><td>Palmer</td><td>32</td><td>Female</td><td>1007</td><td>Supplier Relations</td><td>41000</td></tr><tr><td>1008</td><td>Stanley</td><td>Hudson</td><td>38</td><td>Male</td><td>NULL</td><td>NULL</td><td>NULL</td></tr><tr><td>1009</td><td>Kevin</td><td>Malone</td><td>31</td><td>Male</td><td>1009</td><td>Accountant</td><td>42000</td></tr><tr><td>1011</td><td>Ryan</td><td>Howard</td><td>26</td><td>Male</td><td>1011</td><td>Salesman</td><td>43000</td></tr><tr><td>NULL</td><td>Holly</td><td>Flax</td><td>NULL</td><td>NULL</td><td>NULL</td><td>NULL</td><td>NULL</td></tr><tr><td>1013</td><td>Darryl</td><td>Philbin</td><td>NULL</td><td>Male</td><td>NULL</td><td>NULL</td><td>NULL</td></tr><tr><td>NULL</td><td>NULL</td><td>NULL</td><td>NULL</td><td>NULL</td><td>1010</td><td>NULL</td><td>47000</td></tr><tr><td>NULL</td><td>NULL</td><td>NULL</td><td>NULL</td><td>NULL</td><td>NULL</td><td>HR</td><td>350000</td></tr></table>"
                    },
                    "metadata": {}
                }
            ],
            "execution_count": 99
        },
        {
            "cell_type": "markdown",
            "source": [
                "## **LEFT OUTER JOIN**"
            ],
            "metadata": {
                "azdata_cell_guid": "601a50e1-d6b7-46e6-9311-dd80ae26ef82"
            },
            "attachments": {}
        },
        {
            "cell_type": "code",
            "source": [
                "SELECT *\r\n",
                "FROM EmployeeDemo\r\n",
                "LEFT OUTER JOIN EmployeeSalary\r\n",
                "ON EmployeeDemo.EmployeeID=EmployeeSalary.EmployeeID"
            ],
            "metadata": {
                "azdata_cell_guid": "d665d951-bb7e-4718-b3ef-83987f5d4760",
                "language": "sql",
                "tags": []
            },
            "outputs": [
                {
                    "output_type": "display_data",
                    "data": {
                        "text/html": "(12 rows affected)"
                    },
                    "metadata": {}
                },
                {
                    "output_type": "display_data",
                    "data": {
                        "text/html": "Total execution time: 00:00:00.104"
                    },
                    "metadata": {}
                },
                {
                    "output_type": "execute_result",
                    "execution_count": 100,
                    "data": {
                        "application/vnd.dataresource+json": {
                            "schema": {
                                "fields": [
                                    {
                                        "name": "EmployeeId"
                                    },
                                    {
                                        "name": "FirstName"
                                    },
                                    {
                                        "name": "LastName"
                                    },
                                    {
                                        "name": "Age"
                                    },
                                    {
                                        "name": "Gender"
                                    },
                                    {
                                        "name": "EmployeeID"
                                    },
                                    {
                                        "name": "JobTitle"
                                    },
                                    {
                                        "name": "Employee_Salary"
                                    }
                                ]
                            },
                            "data": [
                                {
                                    "0": "1001",
                                    "1": "Pooja",
                                    "2": "Das",
                                    "3": "28",
                                    "4": "Female",
                                    "5": "1001",
                                    "6": "DataScience",
                                    "7": "50000"
                                },
                                {
                                    "0": "1002",
                                    "1": "Pam",
                                    "2": "Beasley",
                                    "3": "30",
                                    "4": "Female",
                                    "5": "1002",
                                    "6": "Receptionist",
                                    "7": "36000"
                                },
                                {
                                    "0": "1003",
                                    "1": "Dwight",
                                    "2": "Schrute",
                                    "3": "29",
                                    "4": "Male",
                                    "5": "1003",
                                    "6": "Salesman",
                                    "7": "63000"
                                },
                                {
                                    "0": "1004",
                                    "1": "Angela",
                                    "2": "Martin",
                                    "3": "31",
                                    "4": "Female",
                                    "5": "1004",
                                    "6": "Accountant",
                                    "7": "47000"
                                },
                                {
                                    "0": "1005",
                                    "1": "Toby",
                                    "2": "Flenderson",
                                    "3": "32",
                                    "4": "Male",
                                    "5": "1005",
                                    "6": "HR",
                                    "7": "50000"
                                },
                                {
                                    "0": "1006",
                                    "1": "Michael",
                                    "2": "Scott",
                                    "3": "35",
                                    "4": "Male",
                                    "5": "1006",
                                    "6": "Regional Manager",
                                    "7": "65000"
                                },
                                {
                                    "0": "1007",
                                    "1": "Meredith",
                                    "2": "Palmer",
                                    "3": "32",
                                    "4": "Female",
                                    "5": "1007",
                                    "6": "Supplier Relations",
                                    "7": "41000"
                                },
                                {
                                    "0": "1008",
                                    "1": "Stanley",
                                    "2": "Hudson",
                                    "3": "38",
                                    "4": "Male",
                                    "5": "NULL",
                                    "6": "NULL",
                                    "7": "NULL"
                                },
                                {
                                    "0": "1009",
                                    "1": "Kevin",
                                    "2": "Malone",
                                    "3": "31",
                                    "4": "Male",
                                    "5": "1009",
                                    "6": "Accountant",
                                    "7": "42000"
                                },
                                {
                                    "0": "1011",
                                    "1": "Ryan",
                                    "2": "Howard",
                                    "3": "26",
                                    "4": "Male",
                                    "5": "1011",
                                    "6": "Salesman",
                                    "7": "43000"
                                },
                                {
                                    "0": "NULL",
                                    "1": "Holly",
                                    "2": "Flax",
                                    "3": "NULL",
                                    "4": "NULL",
                                    "5": "NULL",
                                    "6": "NULL",
                                    "7": "NULL"
                                },
                                {
                                    "0": "1013",
                                    "1": "Darryl",
                                    "2": "Philbin",
                                    "3": "NULL",
                                    "4": "Male",
                                    "5": "NULL",
                                    "6": "NULL",
                                    "7": "NULL"
                                }
                            ]
                        },
                        "text/html": "<table><tr><th>EmployeeId</th><th>FirstName</th><th>LastName</th><th>Age</th><th>Gender</th><th>EmployeeID</th><th>JobTitle</th><th>Employee_Salary</th></tr><tr><td>1001</td><td>Pooja</td><td>Das</td><td>28</td><td>Female</td><td>1001</td><td>DataScience</td><td>50000</td></tr><tr><td>1002</td><td>Pam</td><td>Beasley</td><td>30</td><td>Female</td><td>1002</td><td>Receptionist</td><td>36000</td></tr><tr><td>1003</td><td>Dwight</td><td>Schrute</td><td>29</td><td>Male</td><td>1003</td><td>Salesman</td><td>63000</td></tr><tr><td>1004</td><td>Angela</td><td>Martin</td><td>31</td><td>Female</td><td>1004</td><td>Accountant</td><td>47000</td></tr><tr><td>1005</td><td>Toby</td><td>Flenderson</td><td>32</td><td>Male</td><td>1005</td><td>HR</td><td>50000</td></tr><tr><td>1006</td><td>Michael</td><td>Scott</td><td>35</td><td>Male</td><td>1006</td><td>Regional Manager</td><td>65000</td></tr><tr><td>1007</td><td>Meredith</td><td>Palmer</td><td>32</td><td>Female</td><td>1007</td><td>Supplier Relations</td><td>41000</td></tr><tr><td>1008</td><td>Stanley</td><td>Hudson</td><td>38</td><td>Male</td><td>NULL</td><td>NULL</td><td>NULL</td></tr><tr><td>1009</td><td>Kevin</td><td>Malone</td><td>31</td><td>Male</td><td>1009</td><td>Accountant</td><td>42000</td></tr><tr><td>1011</td><td>Ryan</td><td>Howard</td><td>26</td><td>Male</td><td>1011</td><td>Salesman</td><td>43000</td></tr><tr><td>NULL</td><td>Holly</td><td>Flax</td><td>NULL</td><td>NULL</td><td>NULL</td><td>NULL</td><td>NULL</td></tr><tr><td>1013</td><td>Darryl</td><td>Philbin</td><td>NULL</td><td>Male</td><td>NULL</td><td>NULL</td><td>NULL</td></tr></table>"
                    },
                    "metadata": {}
                }
            ],
            "execution_count": 100
        },
        {
            "cell_type": "markdown",
            "source": [
                "## **RIGHT OUTER JOIN**"
            ],
            "metadata": {
                "language": "sql",
                "azdata_cell_guid": "494e279c-5507-43ae-a066-c8f265693496"
            },
            "attachments": {}
        },
        {
            "cell_type": "code",
            "source": [
                "SELECT *\r\n",
                "FROM EmployeeDemo\r\n",
                "RIGHT OUTER JOIN EmployeeSalary\r\n",
                "ON EmployeeDemo.EmployeeID=EmployeeSalary.EmployeeID"
            ],
            "metadata": {
                "language": "sql",
                "azdata_cell_guid": "a505942d-192e-4198-940a-b7ba8248e613"
            },
            "outputs": [
                {
                    "output_type": "display_data",
                    "data": {
                        "text/html": "(11 rows affected)"
                    },
                    "metadata": {}
                },
                {
                    "output_type": "display_data",
                    "data": {
                        "text/html": "Total execution time: 00:00:00.128"
                    },
                    "metadata": {}
                },
                {
                    "output_type": "execute_result",
                    "execution_count": 101,
                    "data": {
                        "application/vnd.dataresource+json": {
                            "schema": {
                                "fields": [
                                    {
                                        "name": "EmployeeId"
                                    },
                                    {
                                        "name": "FirstName"
                                    },
                                    {
                                        "name": "LastName"
                                    },
                                    {
                                        "name": "Age"
                                    },
                                    {
                                        "name": "Gender"
                                    },
                                    {
                                        "name": "EmployeeID"
                                    },
                                    {
                                        "name": "JobTitle"
                                    },
                                    {
                                        "name": "Employee_Salary"
                                    }
                                ]
                            },
                            "data": [
                                {
                                    "0": "1001",
                                    "1": "Pooja",
                                    "2": "Das",
                                    "3": "28",
                                    "4": "Female",
                                    "5": "1001",
                                    "6": "DataScience",
                                    "7": "50000"
                                },
                                {
                                    "0": "1002",
                                    "1": "Pam",
                                    "2": "Beasley",
                                    "3": "30",
                                    "4": "Female",
                                    "5": "1002",
                                    "6": "Receptionist",
                                    "7": "36000"
                                },
                                {
                                    "0": "1003",
                                    "1": "Dwight",
                                    "2": "Schrute",
                                    "3": "29",
                                    "4": "Male",
                                    "5": "1003",
                                    "6": "Salesman",
                                    "7": "63000"
                                },
                                {
                                    "0": "1004",
                                    "1": "Angela",
                                    "2": "Martin",
                                    "3": "31",
                                    "4": "Female",
                                    "5": "1004",
                                    "6": "Accountant",
                                    "7": "47000"
                                },
                                {
                                    "0": "1005",
                                    "1": "Toby",
                                    "2": "Flenderson",
                                    "3": "32",
                                    "4": "Male",
                                    "5": "1005",
                                    "6": "HR",
                                    "7": "50000"
                                },
                                {
                                    "0": "1006",
                                    "1": "Michael",
                                    "2": "Scott",
                                    "3": "35",
                                    "4": "Male",
                                    "5": "1006",
                                    "6": "Regional Manager",
                                    "7": "65000"
                                },
                                {
                                    "0": "1007",
                                    "1": "Meredith",
                                    "2": "Palmer",
                                    "3": "32",
                                    "4": "Female",
                                    "5": "1007",
                                    "6": "Supplier Relations",
                                    "7": "41000"
                                },
                                {
                                    "0": "NULL",
                                    "1": "NULL",
                                    "2": "NULL",
                                    "3": "NULL",
                                    "4": "NULL",
                                    "5": "1010",
                                    "6": "NULL",
                                    "7": "47000"
                                },
                                {
                                    "0": "1009",
                                    "1": "Kevin",
                                    "2": "Malone",
                                    "3": "31",
                                    "4": "Male",
                                    "5": "1009",
                                    "6": "Accountant",
                                    "7": "42000"
                                },
                                {
                                    "0": "NULL",
                                    "1": "NULL",
                                    "2": "NULL",
                                    "3": "NULL",
                                    "4": "NULL",
                                    "5": "NULL",
                                    "6": "HR",
                                    "7": "350000"
                                },
                                {
                                    "0": "1011",
                                    "1": "Ryan",
                                    "2": "Howard",
                                    "3": "26",
                                    "4": "Male",
                                    "5": "1011",
                                    "6": "Salesman",
                                    "7": "43000"
                                }
                            ]
                        },
                        "text/html": "<table><tr><th>EmployeeId</th><th>FirstName</th><th>LastName</th><th>Age</th><th>Gender</th><th>EmployeeID</th><th>JobTitle</th><th>Employee_Salary</th></tr><tr><td>1001</td><td>Pooja</td><td>Das</td><td>28</td><td>Female</td><td>1001</td><td>DataScience</td><td>50000</td></tr><tr><td>1002</td><td>Pam</td><td>Beasley</td><td>30</td><td>Female</td><td>1002</td><td>Receptionist</td><td>36000</td></tr><tr><td>1003</td><td>Dwight</td><td>Schrute</td><td>29</td><td>Male</td><td>1003</td><td>Salesman</td><td>63000</td></tr><tr><td>1004</td><td>Angela</td><td>Martin</td><td>31</td><td>Female</td><td>1004</td><td>Accountant</td><td>47000</td></tr><tr><td>1005</td><td>Toby</td><td>Flenderson</td><td>32</td><td>Male</td><td>1005</td><td>HR</td><td>50000</td></tr><tr><td>1006</td><td>Michael</td><td>Scott</td><td>35</td><td>Male</td><td>1006</td><td>Regional Manager</td><td>65000</td></tr><tr><td>1007</td><td>Meredith</td><td>Palmer</td><td>32</td><td>Female</td><td>1007</td><td>Supplier Relations</td><td>41000</td></tr><tr><td>NULL</td><td>NULL</td><td>NULL</td><td>NULL</td><td>NULL</td><td>1010</td><td>NULL</td><td>47000</td></tr><tr><td>1009</td><td>Kevin</td><td>Malone</td><td>31</td><td>Male</td><td>1009</td><td>Accountant</td><td>42000</td></tr><tr><td>NULL</td><td>NULL</td><td>NULL</td><td>NULL</td><td>NULL</td><td>NULL</td><td>HR</td><td>350000</td></tr><tr><td>1011</td><td>Ryan</td><td>Howard</td><td>26</td><td>Male</td><td>1011</td><td>Salesman</td><td>43000</td></tr></table>"
                    },
                    "metadata": {}
                }
            ],
            "execution_count": 101
        },
        {
            "cell_type": "markdown",
            "source": [
                "## Joining two table with specific column not all column (EmployeeID,FirstName,LastName,JobTitle,Salary)\n",
                "\n",
                "## INNER JOIN base on EmployeeDemographics.EmployeeID"
            ],
            "metadata": {
                "language": "sql",
                "azdata_cell_guid": "06b6a756-5d49-466c-8be9-117d40f11e18"
            },
            "attachments": {}
        },
        {
            "cell_type": "code",
            "source": [
                "SELECT EmployeeDemo.EmployeeId,FirstName,LastName,JobTitle,Employee_Salary\r\n",
                "FROM EmployeeDemo\r\n",
                "INNER JOIN EmployeeSalary\r\n",
                "ON EmployeeDemo.EmployeeID=EmployeeSalary.EmployeeID"
            ],
            "metadata": {
                "azdata_cell_guid": "f20dbfa7-4f65-434b-83eb-4892d817e183",
                "language": "sql"
            },
            "outputs": [
                {
                    "output_type": "display_data",
                    "data": {
                        "text/html": "(9 rows affected)"
                    },
                    "metadata": {}
                },
                {
                    "output_type": "display_data",
                    "data": {
                        "text/html": "Total execution time: 00:00:00.123"
                    },
                    "metadata": {}
                },
                {
                    "output_type": "execute_result",
                    "execution_count": 103,
                    "data": {
                        "application/vnd.dataresource+json": {
                            "schema": {
                                "fields": [
                                    {
                                        "name": "EmployeeId"
                                    },
                                    {
                                        "name": "FirstName"
                                    },
                                    {
                                        "name": "LastName"
                                    },
                                    {
                                        "name": "JobTitle"
                                    },
                                    {
                                        "name": "Employee_Salary"
                                    }
                                ]
                            },
                            "data": [
                                {
                                    "0": "1001",
                                    "1": "Pooja",
                                    "2": "Das",
                                    "3": "DataScience",
                                    "4": "50000"
                                },
                                {
                                    "0": "1002",
                                    "1": "Pam",
                                    "2": "Beasley",
                                    "3": "Receptionist",
                                    "4": "36000"
                                },
                                {
                                    "0": "1003",
                                    "1": "Dwight",
                                    "2": "Schrute",
                                    "3": "Salesman",
                                    "4": "63000"
                                },
                                {
                                    "0": "1004",
                                    "1": "Angela",
                                    "2": "Martin",
                                    "3": "Accountant",
                                    "4": "47000"
                                },
                                {
                                    "0": "1005",
                                    "1": "Toby",
                                    "2": "Flenderson",
                                    "3": "HR",
                                    "4": "50000"
                                },
                                {
                                    "0": "1006",
                                    "1": "Michael",
                                    "2": "Scott",
                                    "3": "Regional Manager",
                                    "4": "65000"
                                },
                                {
                                    "0": "1007",
                                    "1": "Meredith",
                                    "2": "Palmer",
                                    "3": "Supplier Relations",
                                    "4": "41000"
                                },
                                {
                                    "0": "1009",
                                    "1": "Kevin",
                                    "2": "Malone",
                                    "3": "Accountant",
                                    "4": "42000"
                                },
                                {
                                    "0": "1011",
                                    "1": "Ryan",
                                    "2": "Howard",
                                    "3": "Salesman",
                                    "4": "43000"
                                }
                            ]
                        },
                        "text/html": "<table><tr><th>EmployeeId</th><th>FirstName</th><th>LastName</th><th>JobTitle</th><th>Employee_Salary</th></tr><tr><td>1001</td><td>Pooja</td><td>Das</td><td>DataScience</td><td>50000</td></tr><tr><td>1002</td><td>Pam</td><td>Beasley</td><td>Receptionist</td><td>36000</td></tr><tr><td>1003</td><td>Dwight</td><td>Schrute</td><td>Salesman</td><td>63000</td></tr><tr><td>1004</td><td>Angela</td><td>Martin</td><td>Accountant</td><td>47000</td></tr><tr><td>1005</td><td>Toby</td><td>Flenderson</td><td>HR</td><td>50000</td></tr><tr><td>1006</td><td>Michael</td><td>Scott</td><td>Regional Manager</td><td>65000</td></tr><tr><td>1007</td><td>Meredith</td><td>Palmer</td><td>Supplier Relations</td><td>41000</td></tr><tr><td>1009</td><td>Kevin</td><td>Malone</td><td>Accountant</td><td>42000</td></tr><tr><td>1011</td><td>Ryan</td><td>Howard</td><td>Salesman</td><td>43000</td></tr></table>"
                    },
                    "metadata": {}
                }
            ],
            "execution_count": 103
        },
        {
            "cell_type": "markdown",
            "source": [
                "## **INNER JOIN base on EmployeeSalary.EmployeeID**"
            ],
            "metadata": {
                "language": "sql",
                "azdata_cell_guid": "27dc89df-7115-4c1f-9496-badb8c83ad33"
            },
            "attachments": {}
        },
        {
            "cell_type": "code",
            "source": [
                "SELECT EmployeeSalary.EmployeeId,FirstName,LastName,JobTitle,Employee_Salary\r\n",
                "FROM EmployeeDemo\r\n",
                "INNER JOIN EmployeeSalary\r\n",
                "ON EmployeeDemo.EmployeeID=EmployeeSalary.EmployeeID"
            ],
            "metadata": {
                "language": "sql",
                "azdata_cell_guid": "c6dc3ba3-670d-4cdc-ba6f-3fb19d1209f5"
            },
            "outputs": [
                {
                    "output_type": "display_data",
                    "data": {
                        "text/html": "(9 rows affected)"
                    },
                    "metadata": {}
                },
                {
                    "output_type": "display_data",
                    "data": {
                        "text/html": "Total execution time: 00:00:00.008"
                    },
                    "metadata": {}
                },
                {
                    "output_type": "execute_result",
                    "execution_count": 104,
                    "data": {
                        "application/vnd.dataresource+json": {
                            "schema": {
                                "fields": [
                                    {
                                        "name": "EmployeeId"
                                    },
                                    {
                                        "name": "FirstName"
                                    },
                                    {
                                        "name": "LastName"
                                    },
                                    {
                                        "name": "JobTitle"
                                    },
                                    {
                                        "name": "Employee_Salary"
                                    }
                                ]
                            },
                            "data": [
                                {
                                    "0": "1001",
                                    "1": "Pooja",
                                    "2": "Das",
                                    "3": "DataScience",
                                    "4": "50000"
                                },
                                {
                                    "0": "1002",
                                    "1": "Pam",
                                    "2": "Beasley",
                                    "3": "Receptionist",
                                    "4": "36000"
                                },
                                {
                                    "0": "1003",
                                    "1": "Dwight",
                                    "2": "Schrute",
                                    "3": "Salesman",
                                    "4": "63000"
                                },
                                {
                                    "0": "1004",
                                    "1": "Angela",
                                    "2": "Martin",
                                    "3": "Accountant",
                                    "4": "47000"
                                },
                                {
                                    "0": "1005",
                                    "1": "Toby",
                                    "2": "Flenderson",
                                    "3": "HR",
                                    "4": "50000"
                                },
                                {
                                    "0": "1006",
                                    "1": "Michael",
                                    "2": "Scott",
                                    "3": "Regional Manager",
                                    "4": "65000"
                                },
                                {
                                    "0": "1007",
                                    "1": "Meredith",
                                    "2": "Palmer",
                                    "3": "Supplier Relations",
                                    "4": "41000"
                                },
                                {
                                    "0": "1009",
                                    "1": "Kevin",
                                    "2": "Malone",
                                    "3": "Accountant",
                                    "4": "42000"
                                },
                                {
                                    "0": "1011",
                                    "1": "Ryan",
                                    "2": "Howard",
                                    "3": "Salesman",
                                    "4": "43000"
                                }
                            ]
                        },
                        "text/html": "<table><tr><th>EmployeeId</th><th>FirstName</th><th>LastName</th><th>JobTitle</th><th>Employee_Salary</th></tr><tr><td>1001</td><td>Pooja</td><td>Das</td><td>DataScience</td><td>50000</td></tr><tr><td>1002</td><td>Pam</td><td>Beasley</td><td>Receptionist</td><td>36000</td></tr><tr><td>1003</td><td>Dwight</td><td>Schrute</td><td>Salesman</td><td>63000</td></tr><tr><td>1004</td><td>Angela</td><td>Martin</td><td>Accountant</td><td>47000</td></tr><tr><td>1005</td><td>Toby</td><td>Flenderson</td><td>HR</td><td>50000</td></tr><tr><td>1006</td><td>Michael</td><td>Scott</td><td>Regional Manager</td><td>65000</td></tr><tr><td>1007</td><td>Meredith</td><td>Palmer</td><td>Supplier Relations</td><td>41000</td></tr><tr><td>1009</td><td>Kevin</td><td>Malone</td><td>Accountant</td><td>42000</td></tr><tr><td>1011</td><td>Ryan</td><td>Howard</td><td>Salesman</td><td>43000</td></tr></table>"
                    },
                    "metadata": {}
                }
            ],
            "execution_count": 104
        },
        {
            "cell_type": "markdown",
            "source": [
                "## **RIGHT OUTER JOIN  Base on EmployeeSalary.EmployeeID**"
            ],
            "metadata": {
                "language": "sql",
                "azdata_cell_guid": "23ab2d25-bf91-47dd-9cf3-1bcbe0f5e4ec"
            },
            "attachments": {}
        },
        {
            "cell_type": "code",
            "source": [
                "SELECT EmployeeSalary.EmployeeID,FirstName,LastName,JobTitle,Employee_Salary\r\n",
                "FROM EmployeeDemo\r\n",
                "RIGHT OUTER JOIN EmployeeSalary\r\n",
                "ON EmployeeDemo.EmployeeID=EmployeeSalary.EmployeeID"
            ],
            "metadata": {
                "language": "sql",
                "azdata_cell_guid": "7adabc47-ac76-421a-9ff6-e6d91dbea70c"
            },
            "outputs": [
                {
                    "output_type": "display_data",
                    "data": {
                        "text/html": "(11 rows affected)"
                    },
                    "metadata": {}
                },
                {
                    "output_type": "display_data",
                    "data": {
                        "text/html": "Total execution time: 00:00:00.089"
                    },
                    "metadata": {}
                },
                {
                    "output_type": "execute_result",
                    "execution_count": 106,
                    "data": {
                        "application/vnd.dataresource+json": {
                            "schema": {
                                "fields": [
                                    {
                                        "name": "EmployeeID"
                                    },
                                    {
                                        "name": "FirstName"
                                    },
                                    {
                                        "name": "LastName"
                                    },
                                    {
                                        "name": "JobTitle"
                                    },
                                    {
                                        "name": "Employee_Salary"
                                    }
                                ]
                            },
                            "data": [
                                {
                                    "0": "1001",
                                    "1": "Pooja",
                                    "2": "Das",
                                    "3": "DataScience",
                                    "4": "50000"
                                },
                                {
                                    "0": "1002",
                                    "1": "Pam",
                                    "2": "Beasley",
                                    "3": "Receptionist",
                                    "4": "36000"
                                },
                                {
                                    "0": "1003",
                                    "1": "Dwight",
                                    "2": "Schrute",
                                    "3": "Salesman",
                                    "4": "63000"
                                },
                                {
                                    "0": "1004",
                                    "1": "Angela",
                                    "2": "Martin",
                                    "3": "Accountant",
                                    "4": "47000"
                                },
                                {
                                    "0": "1005",
                                    "1": "Toby",
                                    "2": "Flenderson",
                                    "3": "HR",
                                    "4": "50000"
                                },
                                {
                                    "0": "1006",
                                    "1": "Michael",
                                    "2": "Scott",
                                    "3": "Regional Manager",
                                    "4": "65000"
                                },
                                {
                                    "0": "1007",
                                    "1": "Meredith",
                                    "2": "Palmer",
                                    "3": "Supplier Relations",
                                    "4": "41000"
                                },
                                {
                                    "0": "1010",
                                    "1": "NULL",
                                    "2": "NULL",
                                    "3": "NULL",
                                    "4": "47000"
                                },
                                {
                                    "0": "1009",
                                    "1": "Kevin",
                                    "2": "Malone",
                                    "3": "Accountant",
                                    "4": "42000"
                                },
                                {
                                    "0": "NULL",
                                    "1": "NULL",
                                    "2": "NULL",
                                    "3": "HR",
                                    "4": "350000"
                                },
                                {
                                    "0": "1011",
                                    "1": "Ryan",
                                    "2": "Howard",
                                    "3": "Salesman",
                                    "4": "43000"
                                }
                            ]
                        },
                        "text/html": "<table><tr><th>EmployeeID</th><th>FirstName</th><th>LastName</th><th>JobTitle</th><th>Employee_Salary</th></tr><tr><td>1001</td><td>Pooja</td><td>Das</td><td>DataScience</td><td>50000</td></tr><tr><td>1002</td><td>Pam</td><td>Beasley</td><td>Receptionist</td><td>36000</td></tr><tr><td>1003</td><td>Dwight</td><td>Schrute</td><td>Salesman</td><td>63000</td></tr><tr><td>1004</td><td>Angela</td><td>Martin</td><td>Accountant</td><td>47000</td></tr><tr><td>1005</td><td>Toby</td><td>Flenderson</td><td>HR</td><td>50000</td></tr><tr><td>1006</td><td>Michael</td><td>Scott</td><td>Regional Manager</td><td>65000</td></tr><tr><td>1007</td><td>Meredith</td><td>Palmer</td><td>Supplier Relations</td><td>41000</td></tr><tr><td>1010</td><td>NULL</td><td>NULL</td><td>NULL</td><td>47000</td></tr><tr><td>1009</td><td>Kevin</td><td>Malone</td><td>Accountant</td><td>42000</td></tr><tr><td>NULL</td><td>NULL</td><td>NULL</td><td>HR</td><td>350000</td></tr><tr><td>1011</td><td>Ryan</td><td>Howard</td><td>Salesman</td><td>43000</td></tr></table>"
                    },
                    "metadata": {}
                }
            ],
            "execution_count": 106
        },
        {
            "cell_type": "markdown",
            "source": [
                "## **Join two table base on EmployeeId  and find  all employee salary except Whose  salary 65000**"
            ],
            "metadata": {
                "language": "sql",
                "azdata_cell_guid": "5c69a8f7-fe6b-4fc7-bc84-4a5407d4e37b"
            },
            "attachments": {}
        },
        {
            "cell_type": "code",
            "source": [
                "SELECT EmployeeDemo.EmployeeID,FirstName,LastName,JobTitle,Employee_Salary\r\n",
                "FROM EmployeeDemo\r\n",
                "Left OUTER JOIN EmployeeSalary\r\n",
                "ON EmployeeDemo.EmployeeID=EmployeeSalary.EmployeeID\r\n",
                "WHERE Employee_Salary<>65000\r\n",
                "ORDER by Employee_Salary DESC"
            ],
            "metadata": {
                "language": "sql",
                "azdata_cell_guid": "8490a81b-ab34-48b8-9a4d-3c2ec538dba4"
            },
            "outputs": [
                {
                    "output_type": "display_data",
                    "data": {
                        "text/html": "(8 rows affected)"
                    },
                    "metadata": {}
                },
                {
                    "output_type": "display_data",
                    "data": {
                        "text/html": "Total execution time: 00:00:00.621"
                    },
                    "metadata": {}
                },
                {
                    "output_type": "execute_result",
                    "execution_count": 118,
                    "data": {
                        "application/vnd.dataresource+json": {
                            "schema": {
                                "fields": [
                                    {
                                        "name": "EmployeeID"
                                    },
                                    {
                                        "name": "FirstName"
                                    },
                                    {
                                        "name": "LastName"
                                    },
                                    {
                                        "name": "JobTitle"
                                    },
                                    {
                                        "name": "Employee_Salary"
                                    }
                                ]
                            },
                            "data": [
                                {
                                    "0": "1003",
                                    "1": "Dwight",
                                    "2": "Schrute",
                                    "3": "Salesman",
                                    "4": "63000"
                                },
                                {
                                    "0": "1001",
                                    "1": "Pooja",
                                    "2": "Das",
                                    "3": "DataScience",
                                    "4": "50000"
                                },
                                {
                                    "0": "1005",
                                    "1": "Toby",
                                    "2": "Flenderson",
                                    "3": "HR",
                                    "4": "50000"
                                },
                                {
                                    "0": "1004",
                                    "1": "Angela",
                                    "2": "Martin",
                                    "3": "Accountant",
                                    "4": "47000"
                                },
                                {
                                    "0": "1011",
                                    "1": "Ryan",
                                    "2": "Howard",
                                    "3": "Salesman",
                                    "4": "43000"
                                },
                                {
                                    "0": "1009",
                                    "1": "Kevin",
                                    "2": "Malone",
                                    "3": "Accountant",
                                    "4": "42000"
                                },
                                {
                                    "0": "1007",
                                    "1": "Meredith",
                                    "2": "Palmer",
                                    "3": "Supplier Relations",
                                    "4": "41000"
                                },
                                {
                                    "0": "1002",
                                    "1": "Pam",
                                    "2": "Beasley",
                                    "3": "Receptionist",
                                    "4": "36000"
                                }
                            ]
                        },
                        "text/html": "<table><tr><th>EmployeeID</th><th>FirstName</th><th>LastName</th><th>JobTitle</th><th>Employee_Salary</th></tr><tr><td>1003</td><td>Dwight</td><td>Schrute</td><td>Salesman</td><td>63000</td></tr><tr><td>1001</td><td>Pooja</td><td>Das</td><td>DataScience</td><td>50000</td></tr><tr><td>1005</td><td>Toby</td><td>Flenderson</td><td>HR</td><td>50000</td></tr><tr><td>1004</td><td>Angela</td><td>Martin</td><td>Accountant</td><td>47000</td></tr><tr><td>1011</td><td>Ryan</td><td>Howard</td><td>Salesman</td><td>43000</td></tr><tr><td>1009</td><td>Kevin</td><td>Malone</td><td>Accountant</td><td>42000</td></tr><tr><td>1007</td><td>Meredith</td><td>Palmer</td><td>Supplier Relations</td><td>41000</td></tr><tr><td>1002</td><td>Pam</td><td>Beasley</td><td>Receptionist</td><td>36000</td></tr></table>"
                    },
                    "metadata": {}
                }
            ],
            "execution_count": 118
        },
        {
            "cell_type": "markdown",
            "source": [
                "## **Need to find the Aveage Salary of Jobtilte 'Salesman'**"
            ],
            "metadata": {
                "language": "sql",
                "azdata_cell_guid": "d4f73c1d-230f-4b84-af66-f4a9df60fc39"
            },
            "attachments": {}
        },
        {
            "cell_type": "code",
            "source": [
                "SELECT JobTitle,Employee_Salary\r\n",
                "From  EmployeeDemo\r\n",
                "INNER JOIN EmployeeSalary\r\n",
                "ON EmployeeDemo.EmployeeID=EmployeeSalary.EmployeeID\r\n",
                "WHERE JobTitle='Salesman'\r\n",
                ""
            ],
            "metadata": {
                "azdata_cell_guid": "f641aa91-d65e-44c2-a6c2-24f01346ce4f",
                "language": "sql"
            },
            "outputs": [
                {
                    "output_type": "display_data",
                    "data": {
                        "text/html": "(2 rows affected)"
                    },
                    "metadata": {}
                },
                {
                    "output_type": "display_data",
                    "data": {
                        "text/html": "Total execution time: 00:00:00.152"
                    },
                    "metadata": {}
                },
                {
                    "output_type": "execute_result",
                    "execution_count": 133,
                    "data": {
                        "application/vnd.dataresource+json": {
                            "schema": {
                                "fields": [
                                    {
                                        "name": "JobTitle"
                                    },
                                    {
                                        "name": "Employee_Salary"
                                    }
                                ]
                            },
                            "data": [
                                {
                                    "0": "Salesman",
                                    "1": "63000"
                                },
                                {
                                    "0": "Salesman",
                                    "1": "43000"
                                }
                            ]
                        },
                        "text/html": "<table><tr><th>JobTitle</th><th>Employee_Salary</th></tr><tr><td>Salesman</td><td>63000</td></tr><tr><td>Salesman</td><td>43000</td></tr></table>"
                    },
                    "metadata": {}
                }
            ],
            "execution_count": 133
        },
        {
            "cell_type": "code",
            "source": [
                "SELECT JobTitle,  AVG(Employee_Salary) AS Average_Salary\r\n",
                "From  EmployeeDemo\r\n",
                "INNER JOIN EmployeeSalary\r\n",
                "ON EmployeeDemo.EmployeeID=EmployeeSalary.EmployeeID\r\n",
                "WHERE JobTitle='Salesman'\r\n",
                "GROUP BY JobTitle"
            ],
            "metadata": {
                "language": "sql",
                "azdata_cell_guid": "369a027a-33a3-4a86-bbf3-be7c2d4f47af"
            },
            "outputs": [
                {
                    "output_type": "display_data",
                    "data": {
                        "text/html": "(1 row affected)"
                    },
                    "metadata": {}
                },
                {
                    "output_type": "display_data",
                    "data": {
                        "text/html": "Total execution time: 00:00:00.009"
                    },
                    "metadata": {}
                },
                {
                    "output_type": "execute_result",
                    "execution_count": 128,
                    "data": {
                        "application/vnd.dataresource+json": {
                            "schema": {
                                "fields": [
                                    {
                                        "name": "JobTitle"
                                    },
                                    {
                                        "name": "Average_Salary"
                                    }
                                ]
                            },
                            "data": [
                                {
                                    "0": "Salesman",
                                    "1": "53000"
                                }
                            ]
                        },
                        "text/html": "<table><tr><th>JobTitle</th><th>Average_Salary</th></tr><tr><td>Salesman</td><td>53000</td></tr></table>"
                    },
                    "metadata": {}
                }
            ],
            "execution_count": 128
        },
        {
            "cell_type": "code",
            "source": [
                "SELECT Gender, COUNT(Gender) as CountGender\r\n",
                "from EmployeeDemo\r\n",
                "Where Age>31\r\n",
                "GROUP BY Gender "
            ],
            "metadata": {
                "language": "sql",
                "azdata_cell_guid": "9878e805-6aeb-4397-a36e-8d673a2ead61"
            },
            "outputs": [
                {
                    "output_type": "display_data",
                    "data": {
                        "text/html": "(2 rows affected)"
                    },
                    "metadata": {}
                },
                {
                    "output_type": "display_data",
                    "data": {
                        "text/html": "Total execution time: 00:00:00.145"
                    },
                    "metadata": {}
                },
                {
                    "output_type": "execute_result",
                    "execution_count": 114,
                    "data": {
                        "application/vnd.dataresource+json": {
                            "schema": {
                                "fields": [
                                    {
                                        "name": "Gender"
                                    },
                                    {
                                        "name": "CountGender"
                                    }
                                ]
                            },
                            "data": [
                                {
                                    "0": "Female",
                                    "1": "1"
                                },
                                {
                                    "0": "Male",
                                    "1": "3"
                                }
                            ]
                        },
                        "text/html": "<table><tr><th>Gender</th><th>CountGender</th></tr><tr><td>Female</td><td>1</td></tr><tr><td>Male</td><td>3</td></tr></table>"
                    },
                    "metadata": {}
                }
            ],
            "execution_count": 114
        },
        {
            "cell_type": "code",
            "source": [
                "SELECT Gender, COUNT(Gender) as CountGender\r\n",
                "from EmployeeDemo\r\n",
                "Where Age>31\r\n",
                "GROUP BY Gender\r\n",
                "ORDER BY Gender DESC"
            ],
            "metadata": {
                "language": "sql",
                "azdata_cell_guid": "6dfaa3d2-d1a4-49fb-8835-d4341de85572"
            },
            "outputs": [
                {
                    "output_type": "display_data",
                    "data": {
                        "text/html": "(2 rows affected)"
                    },
                    "metadata": {}
                },
                {
                    "output_type": "display_data",
                    "data": {
                        "text/html": "Total execution time: 00:00:00.116"
                    },
                    "metadata": {}
                },
                {
                    "output_type": "execute_result",
                    "execution_count": 116,
                    "data": {
                        "application/vnd.dataresource+json": {
                            "schema": {
                                "fields": [
                                    {
                                        "name": "Gender"
                                    },
                                    {
                                        "name": "CountGender"
                                    }
                                ]
                            },
                            "data": [
                                {
                                    "0": "Male",
                                    "1": "3"
                                },
                                {
                                    "0": "Female",
                                    "1": "1"
                                }
                            ]
                        },
                        "text/html": "<table><tr><th>Gender</th><th>CountGender</th></tr><tr><td>Male</td><td>3</td></tr><tr><td>Female</td><td>1</td></tr></table>"
                    },
                    "metadata": {}
                }
            ],
            "execution_count": 116
        },
        {
            "cell_type": "markdown",
            "source": [
                "## **/\\*\\*\\*\\*\\*\\*\\*\\*\\*\\*\\*\\*\\*\\*\\*\\*\\*\\*\\*\\*\\*\\*\\*\\*\\*\\*\\* UNION , UNION ALL\\*\\*\\*\\*\\*\\*\\*\\*\\*\\*\\*\\*\\*\\*\\*\\*\\*\\*\\*\\*\\*\\*\\*\\*\\*/**"
            ],
            "metadata": {
                "language": "sql",
                "azdata_cell_guid": "55fef918-cd78-4255-be01-fca19ed11883"
            },
            "attachments": {}
        },
        {
            "cell_type": "code",
            "source": [
                "SELECT *\r\n",
                "from EmployeeDemo\r\n",
                "FULL OUTER JOIN WareHouseEmployeeDemo\r\n",
                "ON EmployeeDemo.EmployeeId=WareHouseEmployeeDemo.EmployeeID"
            ],
            "metadata": {
                "azdata_cell_guid": "3fb62e9a-66c0-4df0-b6d4-94248dffdf46",
                "language": "sql"
            },
            "outputs": [
                {
                    "output_type": "display_data",
                    "data": {
                        "text/html": "(15 rows affected)"
                    },
                    "metadata": {}
                },
                {
                    "output_type": "display_data",
                    "data": {
                        "text/html": "Total execution time: 00:00:00.427"
                    },
                    "metadata": {}
                },
                {
                    "output_type": "execute_result",
                    "execution_count": 135,
                    "data": {
                        "application/vnd.dataresource+json": {
                            "schema": {
                                "fields": [
                                    {
                                        "name": "EmployeeId"
                                    },
                                    {
                                        "name": "FirstName"
                                    },
                                    {
                                        "name": "LastName"
                                    },
                                    {
                                        "name": "Age"
                                    },
                                    {
                                        "name": "Gender"
                                    },
                                    {
                                        "name": "EmployeeID"
                                    },
                                    {
                                        "name": "FirstName"
                                    },
                                    {
                                        "name": "LastName"
                                    },
                                    {
                                        "name": "Age"
                                    },
                                    {
                                        "name": "Gender"
                                    }
                                ]
                            },
                            "data": [
                                {
                                    "0": "1001",
                                    "1": "Pooja",
                                    "2": "Das",
                                    "3": "28",
                                    "4": "Female",
                                    "5": "NULL",
                                    "6": "NULL",
                                    "7": "NULL",
                                    "8": "NULL",
                                    "9": "NULL"
                                },
                                {
                                    "0": "1002",
                                    "1": "Pam",
                                    "2": "Beasley",
                                    "3": "30",
                                    "4": "Female",
                                    "5": "NULL",
                                    "6": "NULL",
                                    "7": "NULL",
                                    "8": "NULL",
                                    "9": "NULL"
                                },
                                {
                                    "0": "1003",
                                    "1": "Dwight",
                                    "2": "Schrute",
                                    "3": "29",
                                    "4": "Male",
                                    "5": "NULL",
                                    "6": "NULL",
                                    "7": "NULL",
                                    "8": "NULL",
                                    "9": "NULL"
                                },
                                {
                                    "0": "1004",
                                    "1": "Angela",
                                    "2": "Martin",
                                    "3": "31",
                                    "4": "Female",
                                    "5": "NULL",
                                    "6": "NULL",
                                    "7": "NULL",
                                    "8": "NULL",
                                    "9": "NULL"
                                },
                                {
                                    "0": "1005",
                                    "1": "Toby",
                                    "2": "Flenderson",
                                    "3": "32",
                                    "4": "Male",
                                    "5": "NULL",
                                    "6": "NULL",
                                    "7": "NULL",
                                    "8": "NULL",
                                    "9": "NULL"
                                },
                                {
                                    "0": "1006",
                                    "1": "Michael",
                                    "2": "Scott",
                                    "3": "35",
                                    "4": "Male",
                                    "5": "NULL",
                                    "6": "NULL",
                                    "7": "NULL",
                                    "8": "NULL",
                                    "9": "NULL"
                                },
                                {
                                    "0": "1007",
                                    "1": "Meredith",
                                    "2": "Palmer",
                                    "3": "32",
                                    "4": "Female",
                                    "5": "NULL",
                                    "6": "NULL",
                                    "7": "NULL",
                                    "8": "NULL",
                                    "9": "NULL"
                                },
                                {
                                    "0": "1008",
                                    "1": "Stanley",
                                    "2": "Hudson",
                                    "3": "38",
                                    "4": "Male",
                                    "5": "NULL",
                                    "6": "NULL",
                                    "7": "NULL",
                                    "8": "NULL",
                                    "9": "NULL"
                                },
                                {
                                    "0": "1009",
                                    "1": "Kevin",
                                    "2": "Malone",
                                    "3": "31",
                                    "4": "Male",
                                    "5": "NULL",
                                    "6": "NULL",
                                    "7": "NULL",
                                    "8": "NULL",
                                    "9": "NULL"
                                },
                                {
                                    "0": "1011",
                                    "1": "Ryan",
                                    "2": "Howard",
                                    "3": "26",
                                    "4": "Male",
                                    "5": "NULL",
                                    "6": "NULL",
                                    "7": "NULL",
                                    "8": "NULL",
                                    "9": "NULL"
                                },
                                {
                                    "0": "NULL",
                                    "1": "Holly",
                                    "2": "Flax",
                                    "3": "NULL",
                                    "4": "NULL",
                                    "5": "NULL",
                                    "6": "NULL",
                                    "7": "NULL",
                                    "8": "NULL",
                                    "9": "NULL"
                                },
                                {
                                    "0": "1013",
                                    "1": "Darryl",
                                    "2": "Philbin",
                                    "3": "NULL",
                                    "4": "Male",
                                    "5": "1013",
                                    "6": "Darryl",
                                    "7": "Philbin",
                                    "8": "NULL",
                                    "9": "Male"
                                },
                                {
                                    "0": "NULL",
                                    "1": "NULL",
                                    "2": "NULL",
                                    "3": "NULL",
                                    "4": "NULL",
                                    "5": "1050",
                                    "6": "Roy",
                                    "7": "Anderson",
                                    "8": "31",
                                    "9": "Male"
                                },
                                {
                                    "0": "NULL",
                                    "1": "NULL",
                                    "2": "NULL",
                                    "3": "NULL",
                                    "4": "NULL",
                                    "5": "1051",
                                    "6": "Hidetoshi",
                                    "7": "Hasagawa",
                                    "8": "40",
                                    "9": "Male"
                                },
                                {
                                    "0": "NULL",
                                    "1": "NULL",
                                    "2": "NULL",
                                    "3": "NULL",
                                    "4": "NULL",
                                    "5": "1052",
                                    "6": "Val",
                                    "7": "Johnson",
                                    "8": "31",
                                    "9": "Female"
                                }
                            ]
                        },
                        "text/html": "<table><tr><th>EmployeeId</th><th>FirstName</th><th>LastName</th><th>Age</th><th>Gender</th><th>EmployeeID</th><th>FirstName</th><th>LastName</th><th>Age</th><th>Gender</th></tr><tr><td>1001</td><td>Pooja</td><td>Das</td><td>28</td><td>Female</td><td>NULL</td><td>NULL</td><td>NULL</td><td>NULL</td><td>NULL</td></tr><tr><td>1002</td><td>Pam</td><td>Beasley</td><td>30</td><td>Female</td><td>NULL</td><td>NULL</td><td>NULL</td><td>NULL</td><td>NULL</td></tr><tr><td>1003</td><td>Dwight</td><td>Schrute</td><td>29</td><td>Male</td><td>NULL</td><td>NULL</td><td>NULL</td><td>NULL</td><td>NULL</td></tr><tr><td>1004</td><td>Angela</td><td>Martin</td><td>31</td><td>Female</td><td>NULL</td><td>NULL</td><td>NULL</td><td>NULL</td><td>NULL</td></tr><tr><td>1005</td><td>Toby</td><td>Flenderson</td><td>32</td><td>Male</td><td>NULL</td><td>NULL</td><td>NULL</td><td>NULL</td><td>NULL</td></tr><tr><td>1006</td><td>Michael</td><td>Scott</td><td>35</td><td>Male</td><td>NULL</td><td>NULL</td><td>NULL</td><td>NULL</td><td>NULL</td></tr><tr><td>1007</td><td>Meredith</td><td>Palmer</td><td>32</td><td>Female</td><td>NULL</td><td>NULL</td><td>NULL</td><td>NULL</td><td>NULL</td></tr><tr><td>1008</td><td>Stanley</td><td>Hudson</td><td>38</td><td>Male</td><td>NULL</td><td>NULL</td><td>NULL</td><td>NULL</td><td>NULL</td></tr><tr><td>1009</td><td>Kevin</td><td>Malone</td><td>31</td><td>Male</td><td>NULL</td><td>NULL</td><td>NULL</td><td>NULL</td><td>NULL</td></tr><tr><td>1011</td><td>Ryan</td><td>Howard</td><td>26</td><td>Male</td><td>NULL</td><td>NULL</td><td>NULL</td><td>NULL</td><td>NULL</td></tr><tr><td>NULL</td><td>Holly</td><td>Flax</td><td>NULL</td><td>NULL</td><td>NULL</td><td>NULL</td><td>NULL</td><td>NULL</td><td>NULL</td></tr><tr><td>1013</td><td>Darryl</td><td>Philbin</td><td>NULL</td><td>Male</td><td>1013</td><td>Darryl</td><td>Philbin</td><td>NULL</td><td>Male</td></tr><tr><td>NULL</td><td>NULL</td><td>NULL</td><td>NULL</td><td>NULL</td><td>1050</td><td>Roy</td><td>Anderson</td><td>31</td><td>Male</td></tr><tr><td>NULL</td><td>NULL</td><td>NULL</td><td>NULL</td><td>NULL</td><td>1051</td><td>Hidetoshi</td><td>Hasagawa</td><td>40</td><td>Male</td></tr><tr><td>NULL</td><td>NULL</td><td>NULL</td><td>NULL</td><td>NULL</td><td>1052</td><td>Val</td><td>Johnson</td><td>31</td><td>Female</td></tr></table>"
                    },
                    "metadata": {}
                }
            ],
            "execution_count": 135
        },
        {
            "cell_type": "code",
            "source": [
                "SELECT *\r\n",
                "FROM EmployeeDemo\r\n",
                "SELECT*\r\n",
                "FROM WareHouseEmployeeDemo"
            ],
            "metadata": {
                "azdata_cell_guid": "3aae8861-635b-4166-8c89-104705eb276c",
                "language": "sql"
            },
            "outputs": [
                {
                    "output_type": "display_data",
                    "data": {
                        "text/html": "(12 rows affected)"
                    },
                    "metadata": {}
                },
                {
                    "output_type": "display_data",
                    "data": {
                        "text/html": "(4 rows affected)"
                    },
                    "metadata": {}
                },
                {
                    "output_type": "display_data",
                    "data": {
                        "text/html": "Total execution time: 00:00:01.032"
                    },
                    "metadata": {}
                },
                {
                    "output_type": "execute_result",
                    "execution_count": 134,
                    "data": {
                        "application/vnd.dataresource+json": {
                            "schema": {
                                "fields": [
                                    {
                                        "name": "EmployeeId"
                                    },
                                    {
                                        "name": "FirstName"
                                    },
                                    {
                                        "name": "LastName"
                                    },
                                    {
                                        "name": "Age"
                                    },
                                    {
                                        "name": "Gender"
                                    }
                                ]
                            },
                            "data": [
                                {
                                    "0": "1001",
                                    "1": "Pooja",
                                    "2": "Das",
                                    "3": "28",
                                    "4": "Female"
                                },
                                {
                                    "0": "1002",
                                    "1": "Pam",
                                    "2": "Beasley",
                                    "3": "30",
                                    "4": "Female"
                                },
                                {
                                    "0": "1003",
                                    "1": "Dwight",
                                    "2": "Schrute",
                                    "3": "29",
                                    "4": "Male"
                                },
                                {
                                    "0": "1004",
                                    "1": "Angela",
                                    "2": "Martin",
                                    "3": "31",
                                    "4": "Female"
                                },
                                {
                                    "0": "1005",
                                    "1": "Toby",
                                    "2": "Flenderson",
                                    "3": "32",
                                    "4": "Male"
                                },
                                {
                                    "0": "1006",
                                    "1": "Michael",
                                    "2": "Scott",
                                    "3": "35",
                                    "4": "Male"
                                },
                                {
                                    "0": "1007",
                                    "1": "Meredith",
                                    "2": "Palmer",
                                    "3": "32",
                                    "4": "Female"
                                },
                                {
                                    "0": "1008",
                                    "1": "Stanley",
                                    "2": "Hudson",
                                    "3": "38",
                                    "4": "Male"
                                },
                                {
                                    "0": "1009",
                                    "1": "Kevin",
                                    "2": "Malone",
                                    "3": "31",
                                    "4": "Male"
                                },
                                {
                                    "0": "1011",
                                    "1": "Ryan",
                                    "2": "Howard",
                                    "3": "26",
                                    "4": "Male"
                                },
                                {
                                    "0": "NULL",
                                    "1": "Holly",
                                    "2": "Flax",
                                    "3": "NULL",
                                    "4": "NULL"
                                },
                                {
                                    "0": "1013",
                                    "1": "Darryl",
                                    "2": "Philbin",
                                    "3": "NULL",
                                    "4": "Male"
                                }
                            ]
                        },
                        "text/html": "<table><tr><th>EmployeeId</th><th>FirstName</th><th>LastName</th><th>Age</th><th>Gender</th></tr><tr><td>1001</td><td>Pooja</td><td>Das</td><td>28</td><td>Female</td></tr><tr><td>1002</td><td>Pam</td><td>Beasley</td><td>30</td><td>Female</td></tr><tr><td>1003</td><td>Dwight</td><td>Schrute</td><td>29</td><td>Male</td></tr><tr><td>1004</td><td>Angela</td><td>Martin</td><td>31</td><td>Female</td></tr><tr><td>1005</td><td>Toby</td><td>Flenderson</td><td>32</td><td>Male</td></tr><tr><td>1006</td><td>Michael</td><td>Scott</td><td>35</td><td>Male</td></tr><tr><td>1007</td><td>Meredith</td><td>Palmer</td><td>32</td><td>Female</td></tr><tr><td>1008</td><td>Stanley</td><td>Hudson</td><td>38</td><td>Male</td></tr><tr><td>1009</td><td>Kevin</td><td>Malone</td><td>31</td><td>Male</td></tr><tr><td>1011</td><td>Ryan</td><td>Howard</td><td>26</td><td>Male</td></tr><tr><td>NULL</td><td>Holly</td><td>Flax</td><td>NULL</td><td>NULL</td></tr><tr><td>1013</td><td>Darryl</td><td>Philbin</td><td>NULL</td><td>Male</td></tr></table>"
                    },
                    "metadata": {}
                },
                {
                    "output_type": "execute_result",
                    "execution_count": 134,
                    "data": {
                        "application/vnd.dataresource+json": {
                            "schema": {
                                "fields": [
                                    {
                                        "name": "EmployeeID"
                                    },
                                    {
                                        "name": "FirstName"
                                    },
                                    {
                                        "name": "LastName"
                                    },
                                    {
                                        "name": "Age"
                                    },
                                    {
                                        "name": "Gender"
                                    }
                                ]
                            },
                            "data": [
                                {
                                    "0": "1013",
                                    "1": "Darryl",
                                    "2": "Philbin",
                                    "3": "NULL",
                                    "4": "Male"
                                },
                                {
                                    "0": "1050",
                                    "1": "Roy",
                                    "2": "Anderson",
                                    "3": "31",
                                    "4": "Male"
                                },
                                {
                                    "0": "1051",
                                    "1": "Hidetoshi",
                                    "2": "Hasagawa",
                                    "3": "40",
                                    "4": "Male"
                                },
                                {
                                    "0": "1052",
                                    "1": "Val",
                                    "2": "Johnson",
                                    "3": "31",
                                    "4": "Female"
                                }
                            ]
                        },
                        "text/html": "<table><tr><th>EmployeeID</th><th>FirstName</th><th>LastName</th><th>Age</th><th>Gender</th></tr><tr><td>1013</td><td>Darryl</td><td>Philbin</td><td>NULL</td><td>Male</td></tr><tr><td>1050</td><td>Roy</td><td>Anderson</td><td>31</td><td>Male</td></tr><tr><td>1051</td><td>Hidetoshi</td><td>Hasagawa</td><td>40</td><td>Male</td></tr><tr><td>1052</td><td>Val</td><td>Johnson</td><td>31</td><td>Female</td></tr></table>"
                    },
                    "metadata": {}
                }
            ],
            "execution_count": 134
        },
        {
            "cell_type": "code",
            "source": [
                "SELECT *\r\n",
                "FROM EmployeeDemo\r\n",
                "UNION\r\n",
                "SELECT*\r\n",
                "FROM WareHouseEmployeeDemo\r\n",
                "\r\n",
                "\r\n",
                "\r\n",
                "\r\n",
                "SELECT *\r\n",
                "FROM EmployeeDemo\r\n",
                "UNION ALL\r\n",
                "SELECT*\r\n",
                "FROM WareHouseEmployeeDemo"
            ],
            "metadata": {
                "language": "sql",
                "azdata_cell_guid": "05979efd-1f97-4646-b5c1-06b2da18f5d7"
            },
            "outputs": [
                {
                    "output_type": "display_data",
                    "data": {
                        "text/html": "(14 rows affected)"
                    },
                    "metadata": {}
                },
                {
                    "output_type": "display_data",
                    "data": {
                        "text/html": "(15 rows affected)"
                    },
                    "metadata": {}
                },
                {
                    "output_type": "display_data",
                    "data": {
                        "text/html": "Total execution time: 00:00:00.776"
                    },
                    "metadata": {}
                },
                {
                    "output_type": "execute_result",
                    "metadata": {},
                    "execution_count": 6,
                    "data": {
                        "application/vnd.dataresource+json": {
                            "schema": {
                                "fields": [
                                    {
                                        "name": "EmployeeId"
                                    },
                                    {
                                        "name": "FirstName"
                                    },
                                    {
                                        "name": "LastName"
                                    },
                                    {
                                        "name": "Age"
                                    },
                                    {
                                        "name": "Gender"
                                    }
                                ]
                            },
                            "data": [
                                {
                                    "0": "1001",
                                    "1": "Pooja",
                                    "2": "Das",
                                    "3": "28",
                                    "4": "Female"
                                },
                                {
                                    "0": "1002",
                                    "1": "Pam",
                                    "2": "Beasley",
                                    "3": "30",
                                    "4": "Female"
                                },
                                {
                                    "0": "1003",
                                    "1": "Dwight",
                                    "2": "Schrute",
                                    "3": "29",
                                    "4": "Male"
                                },
                                {
                                    "0": "1004",
                                    "1": "Angela",
                                    "2": "Martin",
                                    "3": "31",
                                    "4": "Female"
                                },
                                {
                                    "0": "1006",
                                    "1": "Michael",
                                    "2": "Scott",
                                    "3": "35",
                                    "4": "Male"
                                },
                                {
                                    "0": "1007",
                                    "1": "Meredith",
                                    "2": "Palmer",
                                    "3": "32",
                                    "4": "Female"
                                },
                                {
                                    "0": "1008",
                                    "1": "Stanley",
                                    "2": "Hudson",
                                    "3": "38",
                                    "4": "Male"
                                },
                                {
                                    "0": "1009",
                                    "1": "Kevin",
                                    "2": "Malone",
                                    "3": "31",
                                    "4": "Male"
                                },
                                {
                                    "0": "1011",
                                    "1": "Ryan",
                                    "2": "Howard",
                                    "3": "26",
                                    "4": "Male"
                                },
                                {
                                    "0": "1012",
                                    "1": "Holly",
                                    "2": "Flax",
                                    "3": "35",
                                    "4": "Male"
                                },
                                {
                                    "0": "1013",
                                    "1": "Darryl",
                                    "2": "Philbin",
                                    "3": "NULL",
                                    "4": "Male"
                                },
                                {
                                    "0": "1050",
                                    "1": "Roy",
                                    "2": "Anderson",
                                    "3": "31",
                                    "4": "Male"
                                },
                                {
                                    "0": "1051",
                                    "1": "Hidetoshi",
                                    "2": "Hasagawa",
                                    "3": "40",
                                    "4": "Male"
                                },
                                {
                                    "0": "1052",
                                    "1": "Val",
                                    "2": "Johnson",
                                    "3": "31",
                                    "4": "Female"
                                }
                            ]
                        },
                        "text/html": [
                            "<table>",
                            "<tr><th>EmployeeId</th><th>FirstName</th><th>LastName</th><th>Age</th><th>Gender</th></tr>",
                            "<tr><td>1001</td><td>Pooja</td><td>Das</td><td>28</td><td>Female</td></tr>",
                            "<tr><td>1002</td><td>Pam</td><td>Beasley</td><td>30</td><td>Female</td></tr>",
                            "<tr><td>1003</td><td>Dwight</td><td>Schrute</td><td>29</td><td>Male</td></tr>",
                            "<tr><td>1004</td><td>Angela</td><td>Martin</td><td>31</td><td>Female</td></tr>",
                            "<tr><td>1006</td><td>Michael</td><td>Scott</td><td>35</td><td>Male</td></tr>",
                            "<tr><td>1007</td><td>Meredith</td><td>Palmer</td><td>32</td><td>Female</td></tr>",
                            "<tr><td>1008</td><td>Stanley</td><td>Hudson</td><td>38</td><td>Male</td></tr>",
                            "<tr><td>1009</td><td>Kevin</td><td>Malone</td><td>31</td><td>Male</td></tr>",
                            "<tr><td>1011</td><td>Ryan</td><td>Howard</td><td>26</td><td>Male</td></tr>",
                            "<tr><td>1012</td><td>Holly</td><td>Flax</td><td>35</td><td>Male</td></tr>",
                            "<tr><td>1013</td><td>Darryl</td><td>Philbin</td><td>NULL</td><td>Male</td></tr>",
                            "<tr><td>1050</td><td>Roy</td><td>Anderson</td><td>31</td><td>Male</td></tr>",
                            "<tr><td>1051</td><td>Hidetoshi</td><td>Hasagawa</td><td>40</td><td>Male</td></tr>",
                            "<tr><td>1052</td><td>Val</td><td>Johnson</td><td>31</td><td>Female</td></tr>",
                            "</table>"
                        ]
                    }
                },
                {
                    "output_type": "execute_result",
                    "metadata": {},
                    "execution_count": 6,
                    "data": {
                        "application/vnd.dataresource+json": {
                            "schema": {
                                "fields": [
                                    {
                                        "name": "EmployeeId"
                                    },
                                    {
                                        "name": "FirstName"
                                    },
                                    {
                                        "name": "LastName"
                                    },
                                    {
                                        "name": "Age"
                                    },
                                    {
                                        "name": "Gender"
                                    }
                                ]
                            },
                            "data": [
                                {
                                    "0": "1001",
                                    "1": "Pooja",
                                    "2": "Das",
                                    "3": "28",
                                    "4": "Female"
                                },
                                {
                                    "0": "1002",
                                    "1": "Pam",
                                    "2": "Beasley",
                                    "3": "30",
                                    "4": "Female"
                                },
                                {
                                    "0": "1003",
                                    "1": "Dwight",
                                    "2": "Schrute",
                                    "3": "29",
                                    "4": "Male"
                                },
                                {
                                    "0": "1004",
                                    "1": "Angela",
                                    "2": "Martin",
                                    "3": "31",
                                    "4": "Female"
                                },
                                {
                                    "0": "1006",
                                    "1": "Michael",
                                    "2": "Scott",
                                    "3": "35",
                                    "4": "Male"
                                },
                                {
                                    "0": "1007",
                                    "1": "Meredith",
                                    "2": "Palmer",
                                    "3": "32",
                                    "4": "Female"
                                },
                                {
                                    "0": "1008",
                                    "1": "Stanley",
                                    "2": "Hudson",
                                    "3": "38",
                                    "4": "Male"
                                },
                                {
                                    "0": "1009",
                                    "1": "Kevin",
                                    "2": "Malone",
                                    "3": "31",
                                    "4": "Male"
                                },
                                {
                                    "0": "1011",
                                    "1": "Ryan",
                                    "2": "Howard",
                                    "3": "26",
                                    "4": "Male"
                                },
                                {
                                    "0": "1012",
                                    "1": "Holly",
                                    "2": "Flax",
                                    "3": "35",
                                    "4": "Male"
                                },
                                {
                                    "0": "1013",
                                    "1": "Darryl",
                                    "2": "Philbin",
                                    "3": "NULL",
                                    "4": "Male"
                                },
                                {
                                    "0": "1013",
                                    "1": "Darryl",
                                    "2": "Philbin",
                                    "3": "NULL",
                                    "4": "Male"
                                },
                                {
                                    "0": "1050",
                                    "1": "Roy",
                                    "2": "Anderson",
                                    "3": "31",
                                    "4": "Male"
                                },
                                {
                                    "0": "1051",
                                    "1": "Hidetoshi",
                                    "2": "Hasagawa",
                                    "3": "40",
                                    "4": "Male"
                                },
                                {
                                    "0": "1052",
                                    "1": "Val",
                                    "2": "Johnson",
                                    "3": "31",
                                    "4": "Female"
                                }
                            ]
                        },
                        "text/html": [
                            "<table>",
                            "<tr><th>EmployeeId</th><th>FirstName</th><th>LastName</th><th>Age</th><th>Gender</th></tr>",
                            "<tr><td>1001</td><td>Pooja</td><td>Das</td><td>28</td><td>Female</td></tr>",
                            "<tr><td>1002</td><td>Pam</td><td>Beasley</td><td>30</td><td>Female</td></tr>",
                            "<tr><td>1003</td><td>Dwight</td><td>Schrute</td><td>29</td><td>Male</td></tr>",
                            "<tr><td>1004</td><td>Angela</td><td>Martin</td><td>31</td><td>Female</td></tr>",
                            "<tr><td>1006</td><td>Michael</td><td>Scott</td><td>35</td><td>Male</td></tr>",
                            "<tr><td>1007</td><td>Meredith</td><td>Palmer</td><td>32</td><td>Female</td></tr>",
                            "<tr><td>1008</td><td>Stanley</td><td>Hudson</td><td>38</td><td>Male</td></tr>",
                            "<tr><td>1009</td><td>Kevin</td><td>Malone</td><td>31</td><td>Male</td></tr>",
                            "<tr><td>1011</td><td>Ryan</td><td>Howard</td><td>26</td><td>Male</td></tr>",
                            "<tr><td>1012</td><td>Holly</td><td>Flax</td><td>35</td><td>Male</td></tr>",
                            "<tr><td>1013</td><td>Darryl</td><td>Philbin</td><td>NULL</td><td>Male</td></tr>",
                            "<tr><td>1013</td><td>Darryl</td><td>Philbin</td><td>NULL</td><td>Male</td></tr>",
                            "<tr><td>1050</td><td>Roy</td><td>Anderson</td><td>31</td><td>Male</td></tr>",
                            "<tr><td>1051</td><td>Hidetoshi</td><td>Hasagawa</td><td>40</td><td>Male</td></tr>",
                            "<tr><td>1052</td><td>Val</td><td>Johnson</td><td>31</td><td>Female</td></tr>",
                            "</table>"
                        ]
                    }
                }
            ],
            "execution_count": 6
        },
        {
            "cell_type": "code",
            "source": [
                "SELECT *\r\n",
                "FROM EmployeeDemo\r\n",
                "UNION ALL\r\n",
                "SELECT*\r\n",
                "FROM WareHouseEmployeeDemo\r\n",
                "\r\n",
                "ORDER BY EmployeeId"
            ],
            "metadata": {
                "language": "sql",
                "azdata_cell_guid": "3b54ecd2-24cc-4361-8469-debb27c32247"
            },
            "outputs": [
                {
                    "output_type": "display_data",
                    "data": {
                        "text/html": "(16 rows affected)"
                    },
                    "metadata": {}
                },
                {
                    "output_type": "display_data",
                    "data": {
                        "text/html": "Total execution time: 00:00:00.287"
                    },
                    "metadata": {}
                },
                {
                    "output_type": "execute_result",
                    "execution_count": 139,
                    "data": {
                        "application/vnd.dataresource+json": {
                            "schema": {
                                "fields": [
                                    {
                                        "name": "EmployeeId"
                                    },
                                    {
                                        "name": "FirstName"
                                    },
                                    {
                                        "name": "LastName"
                                    },
                                    {
                                        "name": "Age"
                                    },
                                    {
                                        "name": "Gender"
                                    }
                                ]
                            },
                            "data": [
                                {
                                    "0": "NULL",
                                    "1": "Holly",
                                    "2": "Flax",
                                    "3": "NULL",
                                    "4": "NULL"
                                },
                                {
                                    "0": "1001",
                                    "1": "Pooja",
                                    "2": "Das",
                                    "3": "28",
                                    "4": "Female"
                                },
                                {
                                    "0": "1002",
                                    "1": "Pam",
                                    "2": "Beasley",
                                    "3": "30",
                                    "4": "Female"
                                },
                                {
                                    "0": "1003",
                                    "1": "Dwight",
                                    "2": "Schrute",
                                    "3": "29",
                                    "4": "Male"
                                },
                                {
                                    "0": "1004",
                                    "1": "Angela",
                                    "2": "Martin",
                                    "3": "31",
                                    "4": "Female"
                                },
                                {
                                    "0": "1005",
                                    "1": "Toby",
                                    "2": "Flenderson",
                                    "3": "32",
                                    "4": "Male"
                                },
                                {
                                    "0": "1006",
                                    "1": "Michael",
                                    "2": "Scott",
                                    "3": "35",
                                    "4": "Male"
                                },
                                {
                                    "0": "1007",
                                    "1": "Meredith",
                                    "2": "Palmer",
                                    "3": "32",
                                    "4": "Female"
                                },
                                {
                                    "0": "1008",
                                    "1": "Stanley",
                                    "2": "Hudson",
                                    "3": "38",
                                    "4": "Male"
                                },
                                {
                                    "0": "1009",
                                    "1": "Kevin",
                                    "2": "Malone",
                                    "3": "31",
                                    "4": "Male"
                                },
                                {
                                    "0": "1011",
                                    "1": "Ryan",
                                    "2": "Howard",
                                    "3": "26",
                                    "4": "Male"
                                },
                                {
                                    "0": "1013",
                                    "1": "Darryl",
                                    "2": "Philbin",
                                    "3": "NULL",
                                    "4": "Male"
                                },
                                {
                                    "0": "1013",
                                    "1": "Darryl",
                                    "2": "Philbin",
                                    "3": "NULL",
                                    "4": "Male"
                                },
                                {
                                    "0": "1050",
                                    "1": "Roy",
                                    "2": "Anderson",
                                    "3": "31",
                                    "4": "Male"
                                },
                                {
                                    "0": "1051",
                                    "1": "Hidetoshi",
                                    "2": "Hasagawa",
                                    "3": "40",
                                    "4": "Male"
                                },
                                {
                                    "0": "1052",
                                    "1": "Val",
                                    "2": "Johnson",
                                    "3": "31",
                                    "4": "Female"
                                }
                            ]
                        },
                        "text/html": "<table><tr><th>EmployeeId</th><th>FirstName</th><th>LastName</th><th>Age</th><th>Gender</th></tr><tr><td>NULL</td><td>Holly</td><td>Flax</td><td>NULL</td><td>NULL</td></tr><tr><td>1001</td><td>Pooja</td><td>Das</td><td>28</td><td>Female</td></tr><tr><td>1002</td><td>Pam</td><td>Beasley</td><td>30</td><td>Female</td></tr><tr><td>1003</td><td>Dwight</td><td>Schrute</td><td>29</td><td>Male</td></tr><tr><td>1004</td><td>Angela</td><td>Martin</td><td>31</td><td>Female</td></tr><tr><td>1005</td><td>Toby</td><td>Flenderson</td><td>32</td><td>Male</td></tr><tr><td>1006</td><td>Michael</td><td>Scott</td><td>35</td><td>Male</td></tr><tr><td>1007</td><td>Meredith</td><td>Palmer</td><td>32</td><td>Female</td></tr><tr><td>1008</td><td>Stanley</td><td>Hudson</td><td>38</td><td>Male</td></tr><tr><td>1009</td><td>Kevin</td><td>Malone</td><td>31</td><td>Male</td></tr><tr><td>1011</td><td>Ryan</td><td>Howard</td><td>26</td><td>Male</td></tr><tr><td>1013</td><td>Darryl</td><td>Philbin</td><td>NULL</td><td>Male</td></tr><tr><td>1013</td><td>Darryl</td><td>Philbin</td><td>NULL</td><td>Male</td></tr><tr><td>1050</td><td>Roy</td><td>Anderson</td><td>31</td><td>Male</td></tr><tr><td>1051</td><td>Hidetoshi</td><td>Hasagawa</td><td>40</td><td>Male</td></tr><tr><td>1052</td><td>Val</td><td>Johnson</td><td>31</td><td>Female</td></tr></table>"
                    },
                    "metadata": {}
                }
            ],
            "execution_count": 139
        },
        {
            "cell_type": "code",
            "source": [
                "SELECT *\r\n",
                "FROM EmployeeDemo\r\n",
                "\r\n",
                "SELECT*\r\n",
                "FROM EmployeeSalary"
            ],
            "metadata": {
                "language": "sql",
                "azdata_cell_guid": "e2376f61-e4c0-4757-a481-09f76fe6a57c"
            },
            "outputs": [
                {
                    "output_type": "display_data",
                    "data": {
                        "text/html": "(12 rows affected)"
                    },
                    "metadata": {}
                },
                {
                    "output_type": "display_data",
                    "data": {
                        "text/html": "(11 rows affected)"
                    },
                    "metadata": {}
                },
                {
                    "output_type": "display_data",
                    "data": {
                        "text/html": "Total execution time: 00:00:00.079"
                    },
                    "metadata": {}
                },
                {
                    "output_type": "execute_result",
                    "execution_count": 140,
                    "data": {
                        "application/vnd.dataresource+json": {
                            "schema": {
                                "fields": [
                                    {
                                        "name": "EmployeeId"
                                    },
                                    {
                                        "name": "FirstName"
                                    },
                                    {
                                        "name": "LastName"
                                    },
                                    {
                                        "name": "Age"
                                    },
                                    {
                                        "name": "Gender"
                                    }
                                ]
                            },
                            "data": [
                                {
                                    "0": "1001",
                                    "1": "Pooja",
                                    "2": "Das",
                                    "3": "28",
                                    "4": "Female"
                                },
                                {
                                    "0": "1002",
                                    "1": "Pam",
                                    "2": "Beasley",
                                    "3": "30",
                                    "4": "Female"
                                },
                                {
                                    "0": "1003",
                                    "1": "Dwight",
                                    "2": "Schrute",
                                    "3": "29",
                                    "4": "Male"
                                },
                                {
                                    "0": "1004",
                                    "1": "Angela",
                                    "2": "Martin",
                                    "3": "31",
                                    "4": "Female"
                                },
                                {
                                    "0": "1005",
                                    "1": "Toby",
                                    "2": "Flenderson",
                                    "3": "32",
                                    "4": "Male"
                                },
                                {
                                    "0": "1006",
                                    "1": "Michael",
                                    "2": "Scott",
                                    "3": "35",
                                    "4": "Male"
                                },
                                {
                                    "0": "1007",
                                    "1": "Meredith",
                                    "2": "Palmer",
                                    "3": "32",
                                    "4": "Female"
                                },
                                {
                                    "0": "1008",
                                    "1": "Stanley",
                                    "2": "Hudson",
                                    "3": "38",
                                    "4": "Male"
                                },
                                {
                                    "0": "1009",
                                    "1": "Kevin",
                                    "2": "Malone",
                                    "3": "31",
                                    "4": "Male"
                                },
                                {
                                    "0": "1011",
                                    "1": "Ryan",
                                    "2": "Howard",
                                    "3": "26",
                                    "4": "Male"
                                },
                                {
                                    "0": "NULL",
                                    "1": "Holly",
                                    "2": "Flax",
                                    "3": "NULL",
                                    "4": "NULL"
                                },
                                {
                                    "0": "1013",
                                    "1": "Darryl",
                                    "2": "Philbin",
                                    "3": "NULL",
                                    "4": "Male"
                                }
                            ]
                        },
                        "text/html": "<table><tr><th>EmployeeId</th><th>FirstName</th><th>LastName</th><th>Age</th><th>Gender</th></tr><tr><td>1001</td><td>Pooja</td><td>Das</td><td>28</td><td>Female</td></tr><tr><td>1002</td><td>Pam</td><td>Beasley</td><td>30</td><td>Female</td></tr><tr><td>1003</td><td>Dwight</td><td>Schrute</td><td>29</td><td>Male</td></tr><tr><td>1004</td><td>Angela</td><td>Martin</td><td>31</td><td>Female</td></tr><tr><td>1005</td><td>Toby</td><td>Flenderson</td><td>32</td><td>Male</td></tr><tr><td>1006</td><td>Michael</td><td>Scott</td><td>35</td><td>Male</td></tr><tr><td>1007</td><td>Meredith</td><td>Palmer</td><td>32</td><td>Female</td></tr><tr><td>1008</td><td>Stanley</td><td>Hudson</td><td>38</td><td>Male</td></tr><tr><td>1009</td><td>Kevin</td><td>Malone</td><td>31</td><td>Male</td></tr><tr><td>1011</td><td>Ryan</td><td>Howard</td><td>26</td><td>Male</td></tr><tr><td>NULL</td><td>Holly</td><td>Flax</td><td>NULL</td><td>NULL</td></tr><tr><td>1013</td><td>Darryl</td><td>Philbin</td><td>NULL</td><td>Male</td></tr></table>"
                    },
                    "metadata": {}
                },
                {
                    "output_type": "execute_result",
                    "execution_count": 140,
                    "data": {
                        "application/vnd.dataresource+json": {
                            "schema": {
                                "fields": [
                                    {
                                        "name": "EmployeeID"
                                    },
                                    {
                                        "name": "JobTitle"
                                    },
                                    {
                                        "name": "Employee_Salary"
                                    }
                                ]
                            },
                            "data": [
                                {
                                    "0": "1001",
                                    "1": "DataScience",
                                    "2": "50000"
                                },
                                {
                                    "0": "1002",
                                    "1": "Receptionist",
                                    "2": "36000"
                                },
                                {
                                    "0": "1003",
                                    "1": "Salesman",
                                    "2": "63000"
                                },
                                {
                                    "0": "1004",
                                    "1": "Accountant",
                                    "2": "47000"
                                },
                                {
                                    "0": "1005",
                                    "1": "HR",
                                    "2": "50000"
                                },
                                {
                                    "0": "1006",
                                    "1": "Regional Manager",
                                    "2": "65000"
                                },
                                {
                                    "0": "1007",
                                    "1": "Supplier Relations",
                                    "2": "41000"
                                },
                                {
                                    "0": "1010",
                                    "1": "NULL",
                                    "2": "47000"
                                },
                                {
                                    "0": "1009",
                                    "1": "Accountant",
                                    "2": "42000"
                                },
                                {
                                    "0": "NULL",
                                    "1": "HR",
                                    "2": "350000"
                                },
                                {
                                    "0": "1011",
                                    "1": "Salesman",
                                    "2": "43000"
                                }
                            ]
                        },
                        "text/html": "<table><tr><th>EmployeeID</th><th>JobTitle</th><th>Employee_Salary</th></tr><tr><td>1001</td><td>DataScience</td><td>50000</td></tr><tr><td>1002</td><td>Receptionist</td><td>36000</td></tr><tr><td>1003</td><td>Salesman</td><td>63000</td></tr><tr><td>1004</td><td>Accountant</td><td>47000</td></tr><tr><td>1005</td><td>HR</td><td>50000</td></tr><tr><td>1006</td><td>Regional Manager</td><td>65000</td></tr><tr><td>1007</td><td>Supplier Relations</td><td>41000</td></tr><tr><td>1010</td><td>NULL</td><td>47000</td></tr><tr><td>1009</td><td>Accountant</td><td>42000</td></tr><tr><td>NULL</td><td>HR</td><td>350000</td></tr><tr><td>1011</td><td>Salesman</td><td>43000</td></tr></table>"
                    },
                    "metadata": {}
                }
            ],
            "execution_count": 140
        },
        {
            "cell_type": "code",
            "source": [
                "SELECT *\r\n",
                "FROM EmployeeDemo\r\n",
                "UNION\r\n",
                "SELECT*\r\n",
                "FROM EmployeeSalary"
            ],
            "metadata": {
                "language": "sql",
                "azdata_cell_guid": "edff7389-8d6c-4fb4-b041-02fa7c12d28b"
            },
            "outputs": [
                {
                    "output_type": "error",
                    "ename": "",
                    "evalue": "Msg 205, Level 16, State 1, Line 1\r\nAll queries combined using a UNION, INTERSECT or EXCEPT operator must have an equal number of expressions in their target lists.",
                    "traceback": []
                },
                {
                    "output_type": "display_data",
                    "data": {
                        "text/html": "Total execution time: 00:00:00.199"
                    },
                    "metadata": {}
                }
            ],
            "execution_count": 141
        },
        {
            "cell_type": "code",
            "source": [
                "-- INT ,String, int\r\n",
                "-- UNION of EmployeeDemographics and EmployeeSalary(union see the datatype of both table and match acc. to it below example are wrong as it  combine firstname with jobtilte and salary with age as both datatype same (varchar and int)\r\n",
                "SELECT EmployeeId,FirstName,Age\r\n",
                "FROM EmployeeDemo\r\n",
                "UNION\r\n",
                "SELECT EmployeeID,JobTitle,Employee_Salary\r\n",
                "FROM EmployeeSalary"
            ],
            "metadata": {
                "language": "sql",
                "azdata_cell_guid": "4f1df52d-a04a-4587-9e79-ce415d231573",
                "tags": []
            },
            "outputs": [
                {
                    "output_type": "display_data",
                    "data": {
                        "text/html": "(23 rows affected)"
                    },
                    "metadata": {}
                },
                {
                    "output_type": "display_data",
                    "data": {
                        "text/html": "Total execution time: 00:00:00.036"
                    },
                    "metadata": {}
                },
                {
                    "output_type": "execute_result",
                    "execution_count": 142,
                    "data": {
                        "application/vnd.dataresource+json": {
                            "schema": {
                                "fields": [
                                    {
                                        "name": "EmployeeId"
                                    },
                                    {
                                        "name": "FirstName"
                                    },
                                    {
                                        "name": "Age"
                                    }
                                ]
                            },
                            "data": [
                                {
                                    "0": "NULL",
                                    "1": "Holly",
                                    "2": "NULL"
                                },
                                {
                                    "0": "NULL",
                                    "1": "HR",
                                    "2": "350000"
                                },
                                {
                                    "0": "1001",
                                    "1": "DataScience",
                                    "2": "50000"
                                },
                                {
                                    "0": "1001",
                                    "1": "Pooja",
                                    "2": "28"
                                },
                                {
                                    "0": "1002",
                                    "1": "Pam",
                                    "2": "30"
                                },
                                {
                                    "0": "1002",
                                    "1": "Receptionist",
                                    "2": "36000"
                                },
                                {
                                    "0": "1003",
                                    "1": "Dwight",
                                    "2": "29"
                                },
                                {
                                    "0": "1003",
                                    "1": "Salesman",
                                    "2": "63000"
                                },
                                {
                                    "0": "1004",
                                    "1": "Accountant",
                                    "2": "47000"
                                },
                                {
                                    "0": "1004",
                                    "1": "Angela",
                                    "2": "31"
                                },
                                {
                                    "0": "1005",
                                    "1": "HR",
                                    "2": "50000"
                                },
                                {
                                    "0": "1005",
                                    "1": "Toby",
                                    "2": "32"
                                },
                                {
                                    "0": "1006",
                                    "1": "Michael",
                                    "2": "35"
                                },
                                {
                                    "0": "1006",
                                    "1": "Regional Manager",
                                    "2": "65000"
                                },
                                {
                                    "0": "1007",
                                    "1": "Meredith",
                                    "2": "32"
                                },
                                {
                                    "0": "1007",
                                    "1": "Supplier Relations",
                                    "2": "41000"
                                },
                                {
                                    "0": "1008",
                                    "1": "Stanley",
                                    "2": "38"
                                },
                                {
                                    "0": "1009",
                                    "1": "Accountant",
                                    "2": "42000"
                                },
                                {
                                    "0": "1009",
                                    "1": "Kevin",
                                    "2": "31"
                                },
                                {
                                    "0": "1010",
                                    "1": "NULL",
                                    "2": "47000"
                                },
                                {
                                    "0": "1011",
                                    "1": "Ryan",
                                    "2": "26"
                                },
                                {
                                    "0": "1011",
                                    "1": "Salesman",
                                    "2": "43000"
                                },
                                {
                                    "0": "1013",
                                    "1": "Darryl",
                                    "2": "NULL"
                                }
                            ]
                        },
                        "text/html": "<table><tr><th>EmployeeId</th><th>FirstName</th><th>Age</th></tr><tr><td>NULL</td><td>Holly</td><td>NULL</td></tr><tr><td>NULL</td><td>HR</td><td>350000</td></tr><tr><td>1001</td><td>DataScience</td><td>50000</td></tr><tr><td>1001</td><td>Pooja</td><td>28</td></tr><tr><td>1002</td><td>Pam</td><td>30</td></tr><tr><td>1002</td><td>Receptionist</td><td>36000</td></tr><tr><td>1003</td><td>Dwight</td><td>29</td></tr><tr><td>1003</td><td>Salesman</td><td>63000</td></tr><tr><td>1004</td><td>Accountant</td><td>47000</td></tr><tr><td>1004</td><td>Angela</td><td>31</td></tr><tr><td>1005</td><td>HR</td><td>50000</td></tr><tr><td>1005</td><td>Toby</td><td>32</td></tr><tr><td>1006</td><td>Michael</td><td>35</td></tr><tr><td>1006</td><td>Regional Manager</td><td>65000</td></tr><tr><td>1007</td><td>Meredith</td><td>32</td></tr><tr><td>1007</td><td>Supplier Relations</td><td>41000</td></tr><tr><td>1008</td><td>Stanley</td><td>38</td></tr><tr><td>1009</td><td>Accountant</td><td>42000</td></tr><tr><td>1009</td><td>Kevin</td><td>31</td></tr><tr><td>1010</td><td>NULL</td><td>47000</td></tr><tr><td>1011</td><td>Ryan</td><td>26</td></tr><tr><td>1011</td><td>Salesman</td><td>43000</td></tr><tr><td>1013</td><td>Darryl</td><td>NULL</td></tr></table>"
                    },
                    "metadata": {}
                }
            ],
            "execution_count": 142
        },
        {
            "cell_type": "markdown",
            "source": [
                "# **Case Statement**"
            ],
            "metadata": {
                "language": "sql",
                "azdata_cell_guid": "163d053a-83da-461c-aa5a-5d065df1e57a"
            },
            "attachments": {}
        },
        {
            "cell_type": "code",
            "source": [
                "SELECT FirstName , lastName,Age\r\n",
                "from EmployeeDemo\r\n",
                "where Age is NOT NULL\r\n",
                "ORDER BY Age"
            ],
            "metadata": {
                "language": "sql",
                "azdata_cell_guid": "1c131b3a-5700-4248-ab1d-6b96772b631e"
            },
            "outputs": [
                {
                    "output_type": "display_data",
                    "data": {
                        "text/html": "(10 rows affected)"
                    },
                    "metadata": {}
                },
                {
                    "output_type": "display_data",
                    "data": {
                        "text/html": "Total execution time: 00:00:00.210"
                    },
                    "metadata": {}
                },
                {
                    "output_type": "execute_result",
                    "execution_count": 145,
                    "data": {
                        "application/vnd.dataresource+json": {
                            "schema": {
                                "fields": [
                                    {
                                        "name": "FirstName"
                                    },
                                    {
                                        "name": "lastName"
                                    },
                                    {
                                        "name": "Age"
                                    }
                                ]
                            },
                            "data": [
                                {
                                    "0": "Ryan",
                                    "1": "Howard",
                                    "2": "26"
                                },
                                {
                                    "0": "Pooja",
                                    "1": "Das",
                                    "2": "28"
                                },
                                {
                                    "0": "Dwight",
                                    "1": "Schrute",
                                    "2": "29"
                                },
                                {
                                    "0": "Pam",
                                    "1": "Beasley",
                                    "2": "30"
                                },
                                {
                                    "0": "Angela",
                                    "1": "Martin",
                                    "2": "31"
                                },
                                {
                                    "0": "Kevin",
                                    "1": "Malone",
                                    "2": "31"
                                },
                                {
                                    "0": "Toby",
                                    "1": "Flenderson",
                                    "2": "32"
                                },
                                {
                                    "0": "Meredith",
                                    "1": "Palmer",
                                    "2": "32"
                                },
                                {
                                    "0": "Michael",
                                    "1": "Scott",
                                    "2": "35"
                                },
                                {
                                    "0": "Stanley",
                                    "1": "Hudson",
                                    "2": "38"
                                }
                            ]
                        },
                        "text/html": "<table><tr><th>FirstName</th><th>lastName</th><th>Age</th></tr><tr><td>Ryan</td><td>Howard</td><td>26</td></tr><tr><td>Pooja</td><td>Das</td><td>28</td></tr><tr><td>Dwight</td><td>Schrute</td><td>29</td></tr><tr><td>Pam</td><td>Beasley</td><td>30</td></tr><tr><td>Angela</td><td>Martin</td><td>31</td></tr><tr><td>Kevin</td><td>Malone</td><td>31</td></tr><tr><td>Toby</td><td>Flenderson</td><td>32</td></tr><tr><td>Meredith</td><td>Palmer</td><td>32</td></tr><tr><td>Michael</td><td>Scott</td><td>35</td></tr><tr><td>Stanley</td><td>Hudson</td><td>38</td></tr></table>"
                    },
                    "metadata": {}
                }
            ],
            "execution_count": 145
        },
        {
            "cell_type": "code",
            "source": [
                "SELECT FirstName , lastName,Age,\r\n",
                "-- when means if-else\r\n",
                "CASE \r\n",
                "    WHEN AGE>30 THEN 'OLD'\r\n",
                "    when age BETWEEN  27 and 30 then 'Young'\r\n",
                "    ELSE 'Baby'\r\n",
                "END  AS 'Status'   \r\n",
                "FROM EmployeeDemo\r\n",
                "where Age is NOT NULL\r\n",
                "ORDER BY Age"
            ],
            "metadata": {
                "language": "sql",
                "azdata_cell_guid": "8d4369be-03c2-4c95-8b83-50769b0cf295"
            },
            "outputs": [
                {
                    "output_type": "display_data",
                    "data": {
                        "text/html": "(10 rows affected)"
                    },
                    "metadata": {}
                },
                {
                    "output_type": "display_data",
                    "data": {
                        "text/html": "Total execution time: 00:00:00.184"
                    },
                    "metadata": {}
                },
                {
                    "output_type": "execute_result",
                    "metadata": {},
                    "execution_count": 7,
                    "data": {
                        "application/vnd.dataresource+json": {
                            "schema": {
                                "fields": [
                                    {
                                        "name": "FirstName"
                                    },
                                    {
                                        "name": "lastName"
                                    },
                                    {
                                        "name": "Age"
                                    },
                                    {
                                        "name": "Status"
                                    }
                                ]
                            },
                            "data": [
                                {
                                    "0": "Ryan",
                                    "1": "Howard",
                                    "2": "26",
                                    "3": "Baby"
                                },
                                {
                                    "0": "Pooja",
                                    "1": "Das",
                                    "2": "28",
                                    "3": "Young"
                                },
                                {
                                    "0": "Dwight",
                                    "1": "Schrute",
                                    "2": "29",
                                    "3": "Young"
                                },
                                {
                                    "0": "Pam",
                                    "1": "Beasley",
                                    "2": "30",
                                    "3": "Young"
                                },
                                {
                                    "0": "Angela",
                                    "1": "Martin",
                                    "2": "31",
                                    "3": "OLD"
                                },
                                {
                                    "0": "Kevin",
                                    "1": "Malone",
                                    "2": "31",
                                    "3": "OLD"
                                },
                                {
                                    "0": "Meredith",
                                    "1": "Palmer",
                                    "2": "32",
                                    "3": "OLD"
                                },
                                {
                                    "0": "Holly",
                                    "1": "Flax",
                                    "2": "35",
                                    "3": "OLD"
                                },
                                {
                                    "0": "Michael",
                                    "1": "Scott",
                                    "2": "35",
                                    "3": "OLD"
                                },
                                {
                                    "0": "Stanley",
                                    "1": "Hudson",
                                    "2": "38",
                                    "3": "OLD"
                                }
                            ]
                        },
                        "text/html": [
                            "<table>",
                            "<tr><th>FirstName</th><th>lastName</th><th>Age</th><th>Status</th></tr>",
                            "<tr><td>Ryan</td><td>Howard</td><td>26</td><td>Baby</td></tr>",
                            "<tr><td>Pooja</td><td>Das</td><td>28</td><td>Young</td></tr>",
                            "<tr><td>Dwight</td><td>Schrute</td><td>29</td><td>Young</td></tr>",
                            "<tr><td>Pam</td><td>Beasley</td><td>30</td><td>Young</td></tr>",
                            "<tr><td>Angela</td><td>Martin</td><td>31</td><td>OLD</td></tr>",
                            "<tr><td>Kevin</td><td>Malone</td><td>31</td><td>OLD</td></tr>",
                            "<tr><td>Meredith</td><td>Palmer</td><td>32</td><td>OLD</td></tr>",
                            "<tr><td>Holly</td><td>Flax</td><td>35</td><td>OLD</td></tr>",
                            "<tr><td>Michael</td><td>Scott</td><td>35</td><td>OLD</td></tr>",
                            "<tr><td>Stanley</td><td>Hudson</td><td>38</td><td>OLD</td></tr>",
                            "</table>"
                        ]
                    }
                }
            ],
            "execution_count": 7
        },
        {
            "cell_type": "code",
            "source": [
                "SELECT * \r\n",
                "FROM EmployeeDemo\r\n",
                "JOIN EmployeeSalary\r\n",
                "on EmployeeDemo.EmployeeID=EmployeeSalary.EmployeeID"
            ],
            "metadata": {
                "language": "sql",
                "azdata_cell_guid": "4aaf288a-8547-4ab4-b80f-f28dd4196d34"
            },
            "outputs": [
                {
                    "output_type": "display_data",
                    "data": {
                        "text/html": "(9 rows affected)"
                    },
                    "metadata": {}
                },
                {
                    "output_type": "display_data",
                    "data": {
                        "text/html": "Total execution time: 00:00:00.085"
                    },
                    "metadata": {}
                },
                {
                    "output_type": "execute_result",
                    "execution_count": 151,
                    "data": {
                        "application/vnd.dataresource+json": {
                            "schema": {
                                "fields": [
                                    {
                                        "name": "EmployeeId"
                                    },
                                    {
                                        "name": "FirstName"
                                    },
                                    {
                                        "name": "LastName"
                                    },
                                    {
                                        "name": "Age"
                                    },
                                    {
                                        "name": "Gender"
                                    },
                                    {
                                        "name": "EmployeeID"
                                    },
                                    {
                                        "name": "JobTitle"
                                    },
                                    {
                                        "name": "Employee_Salary"
                                    }
                                ]
                            },
                            "data": [
                                {
                                    "0": "1001",
                                    "1": "Pooja",
                                    "2": "Das",
                                    "3": "28",
                                    "4": "Female",
                                    "5": "1001",
                                    "6": "DataScience",
                                    "7": "50000"
                                },
                                {
                                    "0": "1002",
                                    "1": "Pam",
                                    "2": "Beasley",
                                    "3": "30",
                                    "4": "Female",
                                    "5": "1002",
                                    "6": "Receptionist",
                                    "7": "36000"
                                },
                                {
                                    "0": "1003",
                                    "1": "Dwight",
                                    "2": "Schrute",
                                    "3": "29",
                                    "4": "Male",
                                    "5": "1003",
                                    "6": "Salesman",
                                    "7": "63000"
                                },
                                {
                                    "0": "1004",
                                    "1": "Angela",
                                    "2": "Martin",
                                    "3": "31",
                                    "4": "Female",
                                    "5": "1004",
                                    "6": "Accountant",
                                    "7": "47000"
                                },
                                {
                                    "0": "1005",
                                    "1": "Toby",
                                    "2": "Flenderson",
                                    "3": "32",
                                    "4": "Male",
                                    "5": "1005",
                                    "6": "HR",
                                    "7": "50000"
                                },
                                {
                                    "0": "1006",
                                    "1": "Michael",
                                    "2": "Scott",
                                    "3": "35",
                                    "4": "Male",
                                    "5": "1006",
                                    "6": "Regional Manager",
                                    "7": "65000"
                                },
                                {
                                    "0": "1007",
                                    "1": "Meredith",
                                    "2": "Palmer",
                                    "3": "32",
                                    "4": "Female",
                                    "5": "1007",
                                    "6": "Supplier Relations",
                                    "7": "41000"
                                },
                                {
                                    "0": "1009",
                                    "1": "Kevin",
                                    "2": "Malone",
                                    "3": "31",
                                    "4": "Male",
                                    "5": "1009",
                                    "6": "Accountant",
                                    "7": "42000"
                                },
                                {
                                    "0": "1011",
                                    "1": "Ryan",
                                    "2": "Howard",
                                    "3": "26",
                                    "4": "Male",
                                    "5": "1011",
                                    "6": "Salesman",
                                    "7": "43000"
                                }
                            ]
                        },
                        "text/html": "<table><tr><th>EmployeeId</th><th>FirstName</th><th>LastName</th><th>Age</th><th>Gender</th><th>EmployeeID</th><th>JobTitle</th><th>Employee_Salary</th></tr><tr><td>1001</td><td>Pooja</td><td>Das</td><td>28</td><td>Female</td><td>1001</td><td>DataScience</td><td>50000</td></tr><tr><td>1002</td><td>Pam</td><td>Beasley</td><td>30</td><td>Female</td><td>1002</td><td>Receptionist</td><td>36000</td></tr><tr><td>1003</td><td>Dwight</td><td>Schrute</td><td>29</td><td>Male</td><td>1003</td><td>Salesman</td><td>63000</td></tr><tr><td>1004</td><td>Angela</td><td>Martin</td><td>31</td><td>Female</td><td>1004</td><td>Accountant</td><td>47000</td></tr><tr><td>1005</td><td>Toby</td><td>Flenderson</td><td>32</td><td>Male</td><td>1005</td><td>HR</td><td>50000</td></tr><tr><td>1006</td><td>Michael</td><td>Scott</td><td>35</td><td>Male</td><td>1006</td><td>Regional Manager</td><td>65000</td></tr><tr><td>1007</td><td>Meredith</td><td>Palmer</td><td>32</td><td>Female</td><td>1007</td><td>Supplier Relations</td><td>41000</td></tr><tr><td>1009</td><td>Kevin</td><td>Malone</td><td>31</td><td>Male</td><td>1009</td><td>Accountant</td><td>42000</td></tr><tr><td>1011</td><td>Ryan</td><td>Howard</td><td>26</td><td>Male</td><td>1011</td><td>Salesman</td><td>43000</td></tr></table>"
                    },
                    "metadata": {}
                }
            ],
            "execution_count": 151
        },
        {
            "cell_type": "code",
            "source": [
                "SELECT FirstName,LastName ,JobTitle,Employee_Salary,\r\n",
                "CASE\r\n",
                "    WHEN JobTitle='Salesman' Then Employee_Salary+(Employee_Salary*.10)\r\n",
                "    WHEN JobTitle='Accountant' Then Employee_Salary+(Employee_Salary*.05)\r\n",
                "    WHEN JobTitle='HR' Then Employee_Salary+(Employee_Salary*.00001)\r\n",
                "    ELSE Employee_Salary+(Employee_Salary*.03)\r\n",
                "\r\n",
                "END as Salary_After_Raise\r\n",
                "\r\n",
                "\r\n",
                "\r\n",
                "FROM EmployeeDemo\r\n",
                "JOIN EmployeeSalary\r\n",
                "on EmployeeDemo.EmployeeID=EmployeeSalary.EmployeeID"
            ],
            "metadata": {
                "language": "sql",
                "azdata_cell_guid": "aed3b29f-7fcc-4aa9-a47b-0f9c2f1f40ec",
                "tags": []
            },
            "outputs": [
                {
                    "output_type": "display_data",
                    "data": {
                        "text/html": "(9 rows affected)"
                    },
                    "metadata": {}
                },
                {
                    "output_type": "display_data",
                    "data": {
                        "text/html": "Total execution time: 00:00:00.147"
                    },
                    "metadata": {}
                },
                {
                    "output_type": "execute_result",
                    "execution_count": 154,
                    "data": {
                        "application/vnd.dataresource+json": {
                            "schema": {
                                "fields": [
                                    {
                                        "name": "FirstName"
                                    },
                                    {
                                        "name": "LastName"
                                    },
                                    {
                                        "name": "JobTitle"
                                    },
                                    {
                                        "name": "Employee_Salary"
                                    },
                                    {
                                        "name": "Salary_After_Raise"
                                    }
                                ]
                            },
                            "data": [
                                {
                                    "0": "Pooja",
                                    "1": "Das",
                                    "2": "DataScience",
                                    "3": "50000",
                                    "4": "51500.00000"
                                },
                                {
                                    "0": "Pam",
                                    "1": "Beasley",
                                    "2": "Receptionist",
                                    "3": "36000",
                                    "4": "37080.00000"
                                },
                                {
                                    "0": "Dwight",
                                    "1": "Schrute",
                                    "2": "Salesman",
                                    "3": "63000",
                                    "4": "69300.00000"
                                },
                                {
                                    "0": "Angela",
                                    "1": "Martin",
                                    "2": "Accountant",
                                    "3": "47000",
                                    "4": "49350.00000"
                                },
                                {
                                    "0": "Toby",
                                    "1": "Flenderson",
                                    "2": "HR",
                                    "3": "50000",
                                    "4": "50000.50000"
                                },
                                {
                                    "0": "Michael",
                                    "1": "Scott",
                                    "2": "Regional Manager",
                                    "3": "65000",
                                    "4": "66950.00000"
                                },
                                {
                                    "0": "Meredith",
                                    "1": "Palmer",
                                    "2": "Supplier Relations",
                                    "3": "41000",
                                    "4": "42230.00000"
                                },
                                {
                                    "0": "Kevin",
                                    "1": "Malone",
                                    "2": "Accountant",
                                    "3": "42000",
                                    "4": "44100.00000"
                                },
                                {
                                    "0": "Ryan",
                                    "1": "Howard",
                                    "2": "Salesman",
                                    "3": "43000",
                                    "4": "47300.00000"
                                }
                            ]
                        },
                        "text/html": "<table><tr><th>FirstName</th><th>LastName</th><th>JobTitle</th><th>Employee_Salary</th><th>Salary_After_Raise</th></tr><tr><td>Pooja</td><td>Das</td><td>DataScience</td><td>50000</td><td>51500.00000</td></tr><tr><td>Pam</td><td>Beasley</td><td>Receptionist</td><td>36000</td><td>37080.00000</td></tr><tr><td>Dwight</td><td>Schrute</td><td>Salesman</td><td>63000</td><td>69300.00000</td></tr><tr><td>Angela</td><td>Martin</td><td>Accountant</td><td>47000</td><td>49350.00000</td></tr><tr><td>Toby</td><td>Flenderson</td><td>HR</td><td>50000</td><td>50000.50000</td></tr><tr><td>Michael</td><td>Scott</td><td>Regional Manager</td><td>65000</td><td>66950.00000</td></tr><tr><td>Meredith</td><td>Palmer</td><td>Supplier Relations</td><td>41000</td><td>42230.00000</td></tr><tr><td>Kevin</td><td>Malone</td><td>Accountant</td><td>42000</td><td>44100.00000</td></tr><tr><td>Ryan</td><td>Howard</td><td>Salesman</td><td>43000</td><td>47300.00000</td></tr></table>"
                    },
                    "metadata": {}
                }
            ],
            "execution_count": 154
        },
        {
            "cell_type": "markdown",
            "source": [
                "# **Having  Clause**"
            ],
            "metadata": {
                "language": "sql",
                "azdata_cell_guid": "e775c36c-23cb-4a80-8563-1fe98e3db316"
            },
            "attachments": {}
        },
        {
            "cell_type": "code",
            "source": [
                "SELECT JobTitle , COUNT(JobTitle) as JobTitle_count\r\n",
                "FROM EmployeeDemo\r\n",
                "JOIN EmployeeSalary\r\n",
                "on EmployeeSalary.EmployeeID=EmployeeDemo.EmployeeId\r\n",
                "where COUNT(JobTitle) >1\r\n",
                "GROUP BY JobTitle\r\n",
                "ORDER  by JobTitle_count DESC"
            ],
            "metadata": {
                "language": "sql",
                "azdata_cell_guid": "ad021b15-09b7-4718-a088-a0de97ff6946"
            },
            "outputs": [
                {
                    "output_type": "error",
                    "ename": "",
                    "evalue": "Msg 147, Level 15, State 1, Line 5\r\nAn aggregate may not appear in the WHERE clause unless it is in a subquery contained in a HAVING clause or a select list, and the column being aggregated is an outer reference.",
                    "traceback": []
                },
                {
                    "output_type": "display_data",
                    "data": {
                        "text/html": "Total execution time: 00:00:00.157"
                    },
                    "metadata": {}
                }
            ],
            "execution_count": 161
        },
        {
            "cell_type": "code",
            "source": [
                "SELECT JobTitle , COUNT(JobTitle) as JobTitle_count\r\n",
                "FROM EmployeeDemo\r\n",
                "JOIN EmployeeSalary\r\n",
                "on EmployeeSalary.EmployeeID=EmployeeDemo.EmployeeId\r\n",
                "HAVING COUNT(JobTitle) >1\r\n",
                "GROUP BY JobTitle\r\n",
                "ORDER  by JobTitle_count DESC"
            ],
            "metadata": {
                "language": "sql",
                "azdata_cell_guid": "4792ddd0-aa59-4f87-a20d-2fd183f5dcee"
            },
            "outputs": [
                {
                    "output_type": "error",
                    "ename": "",
                    "evalue": "Msg 156, Level 15, State 1, Line 6\r\nIncorrect syntax near the keyword 'GROUP'.",
                    "traceback": []
                },
                {
                    "output_type": "display_data",
                    "data": {
                        "text/html": "Total execution time: 00:00:00.026"
                    },
                    "metadata": {}
                }
            ],
            "execution_count": 162
        },
        {
            "cell_type": "code",
            "source": [
                "SELECT JobTitle , COUNT(JobTitle) as JobTitle_count\r\n",
                "FROM EmployeeDemo\r\n",
                "JOIN EmployeeSalary\r\n",
                "on EmployeeSalary.EmployeeID=EmployeeDemo.EmployeeId\r\n",
                "\r\n",
                "GROUP BY JobTitle\r\n",
                "HAVING COUNT(JobTitle) >1\r\n",
                "ORDER  by JobTitle_count DESC"
            ],
            "metadata": {
                "language": "sql",
                "azdata_cell_guid": "f8c8872e-8718-4df2-90b4-425fe886b434"
            },
            "outputs": [
                {
                    "output_type": "display_data",
                    "data": {
                        "text/html": "(2 rows affected)"
                    },
                    "metadata": {}
                },
                {
                    "output_type": "display_data",
                    "data": {
                        "text/html": "Total execution time: 00:00:00.119"
                    },
                    "metadata": {}
                },
                {
                    "output_type": "execute_result",
                    "execution_count": 163,
                    "data": {
                        "application/vnd.dataresource+json": {
                            "schema": {
                                "fields": [
                                    {
                                        "name": "JobTitle"
                                    },
                                    {
                                        "name": "JobTitle_count"
                                    }
                                ]
                            },
                            "data": [
                                {
                                    "0": "Accountant",
                                    "1": "2"
                                },
                                {
                                    "0": "Salesman",
                                    "1": "2"
                                }
                            ]
                        },
                        "text/html": "<table><tr><th>JobTitle</th><th>JobTitle_count</th></tr><tr><td>Accountant</td><td>2</td></tr><tr><td>Salesman</td><td>2</td></tr></table>"
                    },
                    "metadata": {}
                }
            ],
            "execution_count": 163
        },
        {
            "cell_type": "code",
            "source": [
                ""
            ],
            "metadata": {
                "azdata_cell_guid": "0c0b5ff7-5acd-4948-8882-cdea3b4aff6d",
                "language": "sql"
            },
            "outputs": [],
            "execution_count": null
        },
        {
            "cell_type": "code",
            "source": [
                "SELECT JobTitle , AVG(Employee_Salary) as Aveage_salary\r\n",
                "FROM EmployeeDemo\r\n",
                "JOIN EmployeeSalary\r\n",
                "on EmployeeSalary.EmployeeID=EmployeeDemo.EmployeeId\r\n",
                "\r\n",
                "GROUP BY JobTitle\r\n",
                "HAVING AVG(Employee_Salary)>45000\r\n",
                "ORDER  by Aveage_salary DESC"
            ],
            "metadata": {
                "language": "sql",
                "azdata_cell_guid": "36d4de33-d9b7-4c84-bd05-61d08fcac53e"
            },
            "outputs": [
                {
                    "output_type": "display_data",
                    "data": {
                        "text/html": "(4 rows affected)"
                    },
                    "metadata": {}
                },
                {
                    "output_type": "display_data",
                    "data": {
                        "text/html": "Total execution time: 00:00:00.081"
                    },
                    "metadata": {}
                },
                {
                    "output_type": "execute_result",
                    "execution_count": 166,
                    "data": {
                        "application/vnd.dataresource+json": {
                            "schema": {
                                "fields": [
                                    {
                                        "name": "JobTitle"
                                    },
                                    {
                                        "name": "Aveage_salary"
                                    }
                                ]
                            },
                            "data": [
                                {
                                    "0": "Regional Manager",
                                    "1": "65000"
                                },
                                {
                                    "0": "Salesman",
                                    "1": "53000"
                                },
                                {
                                    "0": "DataScience",
                                    "1": "50000"
                                },
                                {
                                    "0": "HR",
                                    "1": "50000"
                                }
                            ]
                        },
                        "text/html": "<table><tr><th>JobTitle</th><th>Aveage_salary</th></tr><tr><td>Regional Manager</td><td>65000</td></tr><tr><td>Salesman</td><td>53000</td></tr><tr><td>DataScience</td><td>50000</td></tr><tr><td>HR</td><td>50000</td></tr></table>"
                    },
                    "metadata": {}
                }
            ],
            "execution_count": 166
        },
        {
            "cell_type": "markdown",
            "source": [
                "# **UPDATE /DELECT**"
            ],
            "metadata": {
                "azdata_cell_guid": "c9429130-6e26-410f-8725-e3670564ec14"
            },
            "attachments": {}
        },
        {
            "cell_type": "code",
            "source": [
                "SELECT * \r\n",
                "FROM EmployeeDemo"
            ],
            "metadata": {
                "language": "sql",
                "azdata_cell_guid": "1b519596-fc8e-4074-bcde-7976b9375326"
            },
            "outputs": [
                {
                    "output_type": "display_data",
                    "data": {
                        "text/html": "(12 rows affected)"
                    },
                    "metadata": {}
                },
                {
                    "output_type": "display_data",
                    "data": {
                        "text/html": "Total execution time: 00:00:00.454"
                    },
                    "metadata": {}
                },
                {
                    "output_type": "execute_result",
                    "execution_count": 168,
                    "data": {
                        "application/vnd.dataresource+json": {
                            "schema": {
                                "fields": [
                                    {
                                        "name": "EmployeeId"
                                    },
                                    {
                                        "name": "FirstName"
                                    },
                                    {
                                        "name": "LastName"
                                    },
                                    {
                                        "name": "Age"
                                    },
                                    {
                                        "name": "Gender"
                                    }
                                ]
                            },
                            "data": [
                                {
                                    "0": "1001",
                                    "1": "Pooja",
                                    "2": "Das",
                                    "3": "28",
                                    "4": "Female"
                                },
                                {
                                    "0": "1002",
                                    "1": "Pam",
                                    "2": "Beasley",
                                    "3": "30",
                                    "4": "Female"
                                },
                                {
                                    "0": "1003",
                                    "1": "Dwight",
                                    "2": "Schrute",
                                    "3": "29",
                                    "4": "Male"
                                },
                                {
                                    "0": "1004",
                                    "1": "Angela",
                                    "2": "Martin",
                                    "3": "31",
                                    "4": "Female"
                                },
                                {
                                    "0": "1005",
                                    "1": "Toby",
                                    "2": "Flenderson",
                                    "3": "32",
                                    "4": "Male"
                                },
                                {
                                    "0": "1006",
                                    "1": "Michael",
                                    "2": "Scott",
                                    "3": "35",
                                    "4": "Male"
                                },
                                {
                                    "0": "1007",
                                    "1": "Meredith",
                                    "2": "Palmer",
                                    "3": "32",
                                    "4": "Female"
                                },
                                {
                                    "0": "1008",
                                    "1": "Stanley",
                                    "2": "Hudson",
                                    "3": "38",
                                    "4": "Male"
                                },
                                {
                                    "0": "1009",
                                    "1": "Kevin",
                                    "2": "Malone",
                                    "3": "31",
                                    "4": "Male"
                                },
                                {
                                    "0": "1011",
                                    "1": "Ryan",
                                    "2": "Howard",
                                    "3": "26",
                                    "4": "Male"
                                },
                                {
                                    "0": "NULL",
                                    "1": "Holly",
                                    "2": "Flax",
                                    "3": "NULL",
                                    "4": "NULL"
                                },
                                {
                                    "0": "1013",
                                    "1": "Darryl",
                                    "2": "Philbin",
                                    "3": "NULL",
                                    "4": "Male"
                                }
                            ]
                        },
                        "text/html": "<table><tr><th>EmployeeId</th><th>FirstName</th><th>LastName</th><th>Age</th><th>Gender</th></tr><tr><td>1001</td><td>Pooja</td><td>Das</td><td>28</td><td>Female</td></tr><tr><td>1002</td><td>Pam</td><td>Beasley</td><td>30</td><td>Female</td></tr><tr><td>1003</td><td>Dwight</td><td>Schrute</td><td>29</td><td>Male</td></tr><tr><td>1004</td><td>Angela</td><td>Martin</td><td>31</td><td>Female</td></tr><tr><td>1005</td><td>Toby</td><td>Flenderson</td><td>32</td><td>Male</td></tr><tr><td>1006</td><td>Michael</td><td>Scott</td><td>35</td><td>Male</td></tr><tr><td>1007</td><td>Meredith</td><td>Palmer</td><td>32</td><td>Female</td></tr><tr><td>1008</td><td>Stanley</td><td>Hudson</td><td>38</td><td>Male</td></tr><tr><td>1009</td><td>Kevin</td><td>Malone</td><td>31</td><td>Male</td></tr><tr><td>1011</td><td>Ryan</td><td>Howard</td><td>26</td><td>Male</td></tr><tr><td>NULL</td><td>Holly</td><td>Flax</td><td>NULL</td><td>NULL</td></tr><tr><td>1013</td><td>Darryl</td><td>Philbin</td><td>NULL</td><td>Male</td></tr></table>"
                    },
                    "metadata": {}
                }
            ],
            "execution_count": 168
        },
        {
            "cell_type": "code",
            "source": [
                "UPDATE EmployeeDemo\r\n",
                "SET EmployeeId=1012\r\n",
                "WHERE FirstName='Holly' "
            ],
            "metadata": {
                "language": "sql",
                "azdata_cell_guid": "0f2352c5-0d4c-47aa-bed3-4916954a5e4f"
            },
            "outputs": [
                {
                    "output_type": "display_data",
                    "data": {
                        "text/html": "(1 row affected)"
                    },
                    "metadata": {}
                },
                {
                    "output_type": "display_data",
                    "data": {
                        "text/html": "Total execution time: 00:00:00.168"
                    },
                    "metadata": {}
                }
            ],
            "execution_count": 169
        },
        {
            "cell_type": "code",
            "source": [
                "Select *\r\n",
                "FROM EmployeeDemo"
            ],
            "metadata": {
                "language": "sql",
                "azdata_cell_guid": "96a19be3-6217-4e4b-9269-682160de5995"
            },
            "outputs": [
                {
                    "output_type": "display_data",
                    "data": {
                        "text/html": "(12 rows affected)"
                    },
                    "metadata": {}
                },
                {
                    "output_type": "display_data",
                    "data": {
                        "text/html": "Total execution time: 00:00:00.117"
                    },
                    "metadata": {}
                },
                {
                    "output_type": "execute_result",
                    "execution_count": 171,
                    "data": {
                        "application/vnd.dataresource+json": {
                            "schema": {
                                "fields": [
                                    {
                                        "name": "EmployeeId"
                                    },
                                    {
                                        "name": "FirstName"
                                    },
                                    {
                                        "name": "LastName"
                                    },
                                    {
                                        "name": "Age"
                                    },
                                    {
                                        "name": "Gender"
                                    }
                                ]
                            },
                            "data": [
                                {
                                    "0": "1001",
                                    "1": "Pooja",
                                    "2": "Das",
                                    "3": "28",
                                    "4": "Female"
                                },
                                {
                                    "0": "1002",
                                    "1": "Pam",
                                    "2": "Beasley",
                                    "3": "30",
                                    "4": "Female"
                                },
                                {
                                    "0": "1003",
                                    "1": "Dwight",
                                    "2": "Schrute",
                                    "3": "29",
                                    "4": "Male"
                                },
                                {
                                    "0": "1004",
                                    "1": "Angela",
                                    "2": "Martin",
                                    "3": "31",
                                    "4": "Female"
                                },
                                {
                                    "0": "1005",
                                    "1": "Toby",
                                    "2": "Flenderson",
                                    "3": "32",
                                    "4": "Male"
                                },
                                {
                                    "0": "1006",
                                    "1": "Michael",
                                    "2": "Scott",
                                    "3": "35",
                                    "4": "Male"
                                },
                                {
                                    "0": "1007",
                                    "1": "Meredith",
                                    "2": "Palmer",
                                    "3": "32",
                                    "4": "Female"
                                },
                                {
                                    "0": "1008",
                                    "1": "Stanley",
                                    "2": "Hudson",
                                    "3": "38",
                                    "4": "Male"
                                },
                                {
                                    "0": "1009",
                                    "1": "Kevin",
                                    "2": "Malone",
                                    "3": "31",
                                    "4": "Male"
                                },
                                {
                                    "0": "1011",
                                    "1": "Ryan",
                                    "2": "Howard",
                                    "3": "26",
                                    "4": "Male"
                                },
                                {
                                    "0": "1012",
                                    "1": "Holly",
                                    "2": "Flax",
                                    "3": "NULL",
                                    "4": "NULL"
                                },
                                {
                                    "0": "1013",
                                    "1": "Darryl",
                                    "2": "Philbin",
                                    "3": "NULL",
                                    "4": "Male"
                                }
                            ]
                        },
                        "text/html": "<table><tr><th>EmployeeId</th><th>FirstName</th><th>LastName</th><th>Age</th><th>Gender</th></tr><tr><td>1001</td><td>Pooja</td><td>Das</td><td>28</td><td>Female</td></tr><tr><td>1002</td><td>Pam</td><td>Beasley</td><td>30</td><td>Female</td></tr><tr><td>1003</td><td>Dwight</td><td>Schrute</td><td>29</td><td>Male</td></tr><tr><td>1004</td><td>Angela</td><td>Martin</td><td>31</td><td>Female</td></tr><tr><td>1005</td><td>Toby</td><td>Flenderson</td><td>32</td><td>Male</td></tr><tr><td>1006</td><td>Michael</td><td>Scott</td><td>35</td><td>Male</td></tr><tr><td>1007</td><td>Meredith</td><td>Palmer</td><td>32</td><td>Female</td></tr><tr><td>1008</td><td>Stanley</td><td>Hudson</td><td>38</td><td>Male</td></tr><tr><td>1009</td><td>Kevin</td><td>Malone</td><td>31</td><td>Male</td></tr><tr><td>1011</td><td>Ryan</td><td>Howard</td><td>26</td><td>Male</td></tr><tr><td>1012</td><td>Holly</td><td>Flax</td><td>NULL</td><td>NULL</td></tr><tr><td>1013</td><td>Darryl</td><td>Philbin</td><td>NULL</td><td>Male</td></tr></table>"
                    },
                    "metadata": {}
                }
            ],
            "execution_count": 171
        },
        {
            "cell_type": "code",
            "source": [
                "UPDATE EmployeeDemo\r\n",
                "SET Age=35,Gender='Male'\r\n",
                "WHERE EmployeeId=1012 \r\n",
                "\r\n",
                "\r\n",
                "Select *\r\n",
                "FROM EmployeeDemo"
            ],
            "metadata": {
                "language": "sql",
                "azdata_cell_guid": "9aea09a4-0d93-4f33-8ea0-2cc355f7cbe5"
            },
            "outputs": [
                {
                    "output_type": "display_data",
                    "data": {
                        "text/html": "(1 row affected)"
                    },
                    "metadata": {}
                },
                {
                    "output_type": "display_data",
                    "data": {
                        "text/html": "(12 rows affected)"
                    },
                    "metadata": {}
                },
                {
                    "output_type": "display_data",
                    "data": {
                        "text/html": "Total execution time: 00:00:00.350"
                    },
                    "metadata": {}
                },
                {
                    "output_type": "execute_result",
                    "execution_count": 172,
                    "data": {
                        "application/vnd.dataresource+json": {
                            "schema": {
                                "fields": [
                                    {
                                        "name": "EmployeeId"
                                    },
                                    {
                                        "name": "FirstName"
                                    },
                                    {
                                        "name": "LastName"
                                    },
                                    {
                                        "name": "Age"
                                    },
                                    {
                                        "name": "Gender"
                                    }
                                ]
                            },
                            "data": [
                                {
                                    "0": "1001",
                                    "1": "Pooja",
                                    "2": "Das",
                                    "3": "28",
                                    "4": "Female"
                                },
                                {
                                    "0": "1002",
                                    "1": "Pam",
                                    "2": "Beasley",
                                    "3": "30",
                                    "4": "Female"
                                },
                                {
                                    "0": "1003",
                                    "1": "Dwight",
                                    "2": "Schrute",
                                    "3": "29",
                                    "4": "Male"
                                },
                                {
                                    "0": "1004",
                                    "1": "Angela",
                                    "2": "Martin",
                                    "3": "31",
                                    "4": "Female"
                                },
                                {
                                    "0": "1005",
                                    "1": "Toby",
                                    "2": "Flenderson",
                                    "3": "32",
                                    "4": "Male"
                                },
                                {
                                    "0": "1006",
                                    "1": "Michael",
                                    "2": "Scott",
                                    "3": "35",
                                    "4": "Male"
                                },
                                {
                                    "0": "1007",
                                    "1": "Meredith",
                                    "2": "Palmer",
                                    "3": "32",
                                    "4": "Female"
                                },
                                {
                                    "0": "1008",
                                    "1": "Stanley",
                                    "2": "Hudson",
                                    "3": "38",
                                    "4": "Male"
                                },
                                {
                                    "0": "1009",
                                    "1": "Kevin",
                                    "2": "Malone",
                                    "3": "31",
                                    "4": "Male"
                                },
                                {
                                    "0": "1011",
                                    "1": "Ryan",
                                    "2": "Howard",
                                    "3": "26",
                                    "4": "Male"
                                },
                                {
                                    "0": "1012",
                                    "1": "Holly",
                                    "2": "Flax",
                                    "3": "35",
                                    "4": "Male"
                                },
                                {
                                    "0": "1013",
                                    "1": "Darryl",
                                    "2": "Philbin",
                                    "3": "NULL",
                                    "4": "Male"
                                }
                            ]
                        },
                        "text/html": "<table><tr><th>EmployeeId</th><th>FirstName</th><th>LastName</th><th>Age</th><th>Gender</th></tr><tr><td>1001</td><td>Pooja</td><td>Das</td><td>28</td><td>Female</td></tr><tr><td>1002</td><td>Pam</td><td>Beasley</td><td>30</td><td>Female</td></tr><tr><td>1003</td><td>Dwight</td><td>Schrute</td><td>29</td><td>Male</td></tr><tr><td>1004</td><td>Angela</td><td>Martin</td><td>31</td><td>Female</td></tr><tr><td>1005</td><td>Toby</td><td>Flenderson</td><td>32</td><td>Male</td></tr><tr><td>1006</td><td>Michael</td><td>Scott</td><td>35</td><td>Male</td></tr><tr><td>1007</td><td>Meredith</td><td>Palmer</td><td>32</td><td>Female</td></tr><tr><td>1008</td><td>Stanley</td><td>Hudson</td><td>38</td><td>Male</td></tr><tr><td>1009</td><td>Kevin</td><td>Malone</td><td>31</td><td>Male</td></tr><tr><td>1011</td><td>Ryan</td><td>Howard</td><td>26</td><td>Male</td></tr><tr><td>1012</td><td>Holly</td><td>Flax</td><td>35</td><td>Male</td></tr><tr><td>1013</td><td>Darryl</td><td>Philbin</td><td>NULL</td><td>Male</td></tr></table>"
                    },
                    "metadata": {}
                }
            ],
            "execution_count": 172
        },
        {
            "cell_type": "code",
            "source": [
                "-- DELETE from EmployeeDemo\r\n",
                "-- Where EmployeeId=1005\r\n",
                "\r\n",
                "Select *\r\n",
                "FROM EmployeeDemo"
            ],
            "metadata": {
                "azdata_cell_guid": "235d960e-bbbe-4788-bf16-1eb8be641b16",
                "language": "sql"
            },
            "outputs": [
                {
                    "output_type": "display_data",
                    "data": {
                        "text/html": "(1 row affected)"
                    },
                    "metadata": {}
                },
                {
                    "output_type": "display_data",
                    "data": {
                        "text/html": "(11 rows affected)"
                    },
                    "metadata": {}
                },
                {
                    "output_type": "display_data",
                    "data": {
                        "text/html": "Total execution time: 00:00:00.358"
                    },
                    "metadata": {}
                },
                {
                    "output_type": "execute_result",
                    "execution_count": 173,
                    "data": {
                        "application/vnd.dataresource+json": {
                            "schema": {
                                "fields": [
                                    {
                                        "name": "EmployeeId"
                                    },
                                    {
                                        "name": "FirstName"
                                    },
                                    {
                                        "name": "LastName"
                                    },
                                    {
                                        "name": "Age"
                                    },
                                    {
                                        "name": "Gender"
                                    }
                                ]
                            },
                            "data": [
                                {
                                    "0": "1001",
                                    "1": "Pooja",
                                    "2": "Das",
                                    "3": "28",
                                    "4": "Female"
                                },
                                {
                                    "0": "1002",
                                    "1": "Pam",
                                    "2": "Beasley",
                                    "3": "30",
                                    "4": "Female"
                                },
                                {
                                    "0": "1003",
                                    "1": "Dwight",
                                    "2": "Schrute",
                                    "3": "29",
                                    "4": "Male"
                                },
                                {
                                    "0": "1004",
                                    "1": "Angela",
                                    "2": "Martin",
                                    "3": "31",
                                    "4": "Female"
                                },
                                {
                                    "0": "1006",
                                    "1": "Michael",
                                    "2": "Scott",
                                    "3": "35",
                                    "4": "Male"
                                },
                                {
                                    "0": "1007",
                                    "1": "Meredith",
                                    "2": "Palmer",
                                    "3": "32",
                                    "4": "Female"
                                },
                                {
                                    "0": "1008",
                                    "1": "Stanley",
                                    "2": "Hudson",
                                    "3": "38",
                                    "4": "Male"
                                },
                                {
                                    "0": "1009",
                                    "1": "Kevin",
                                    "2": "Malone",
                                    "3": "31",
                                    "4": "Male"
                                },
                                {
                                    "0": "1011",
                                    "1": "Ryan",
                                    "2": "Howard",
                                    "3": "26",
                                    "4": "Male"
                                },
                                {
                                    "0": "1012",
                                    "1": "Holly",
                                    "2": "Flax",
                                    "3": "35",
                                    "4": "Male"
                                },
                                {
                                    "0": "1013",
                                    "1": "Darryl",
                                    "2": "Philbin",
                                    "3": "NULL",
                                    "4": "Male"
                                }
                            ]
                        },
                        "text/html": "<table><tr><th>EmployeeId</th><th>FirstName</th><th>LastName</th><th>Age</th><th>Gender</th></tr><tr><td>1001</td><td>Pooja</td><td>Das</td><td>28</td><td>Female</td></tr><tr><td>1002</td><td>Pam</td><td>Beasley</td><td>30</td><td>Female</td></tr><tr><td>1003</td><td>Dwight</td><td>Schrute</td><td>29</td><td>Male</td></tr><tr><td>1004</td><td>Angela</td><td>Martin</td><td>31</td><td>Female</td></tr><tr><td>1006</td><td>Michael</td><td>Scott</td><td>35</td><td>Male</td></tr><tr><td>1007</td><td>Meredith</td><td>Palmer</td><td>32</td><td>Female</td></tr><tr><td>1008</td><td>Stanley</td><td>Hudson</td><td>38</td><td>Male</td></tr><tr><td>1009</td><td>Kevin</td><td>Malone</td><td>31</td><td>Male</td></tr><tr><td>1011</td><td>Ryan</td><td>Howard</td><td>26</td><td>Male</td></tr><tr><td>1012</td><td>Holly</td><td>Flax</td><td>35</td><td>Male</td></tr><tr><td>1013</td><td>Darryl</td><td>Philbin</td><td>NULL</td><td>Male</td></tr></table>"
                    },
                    "metadata": {}
                }
            ],
            "execution_count": 173
        },
        {
            "cell_type": "code",
            "source": [
                "Select *\r\n",
                "FROM EmployeeDemo\r\n",
                "where EmployeeId=1004\r\n",
                "\r\n",
                "-- DELETE\r\n",
                "-- FROM EmployeeDemo\r\n",
                "-- where EmployeeId=1004"
            ],
            "metadata": {
                "language": "sql",
                "azdata_cell_guid": "67de41bc-0650-499d-bfdb-d8d274c0adf8",
                "tags": [
                    "hide_input"
                ]
            },
            "outputs": [
                {
                    "output_type": "display_data",
                    "data": {
                        "text/html": "(1 row affected)"
                    },
                    "metadata": {}
                },
                {
                    "output_type": "display_data",
                    "data": {
                        "text/html": "Total execution time: 00:00:00.096"
                    },
                    "metadata": {}
                },
                {
                    "output_type": "execute_result",
                    "execution_count": 175,
                    "data": {
                        "application/vnd.dataresource+json": {
                            "schema": {
                                "fields": [
                                    {
                                        "name": "EmployeeId"
                                    },
                                    {
                                        "name": "FirstName"
                                    },
                                    {
                                        "name": "LastName"
                                    },
                                    {
                                        "name": "Age"
                                    },
                                    {
                                        "name": "Gender"
                                    }
                                ]
                            },
                            "data": [
                                {
                                    "0": "1004",
                                    "1": "Angela",
                                    "2": "Martin",
                                    "3": "31",
                                    "4": "Female"
                                }
                            ]
                        },
                        "text/html": "<table><tr><th>EmployeeId</th><th>FirstName</th><th>LastName</th><th>Age</th><th>Gender</th></tr><tr><td>1004</td><td>Angela</td><td>Martin</td><td>31</td><td>Female</td></tr></table>"
                    },
                    "metadata": {}
                }
            ],
            "execution_count": 175
        },
        {
            "cell_type": "code",
            "source": [
                "SELECT FirstName as FName ,LastName lname\r\n",
                " from EmployeeDemo "
            ],
            "metadata": {
                "language": "sql",
                "azdata_cell_guid": "7f3abfc5-36f2-4a1b-a942-f46dc052abb5"
            },
            "outputs": [
                {
                    "output_type": "display_data",
                    "data": {
                        "text/html": "(11 rows affected)"
                    },
                    "metadata": {}
                },
                {
                    "output_type": "display_data",
                    "data": {
                        "text/html": "Total execution time: 00:00:00.131"
                    },
                    "metadata": {}
                },
                {
                    "output_type": "execute_result",
                    "metadata": {},
                    "execution_count": 9,
                    "data": {
                        "application/vnd.dataresource+json": {
                            "schema": {
                                "fields": [
                                    {
                                        "name": "FName"
                                    },
                                    {
                                        "name": "lname"
                                    }
                                ]
                            },
                            "data": [
                                {
                                    "0": "Pooja",
                                    "1": "Das"
                                },
                                {
                                    "0": "Pam",
                                    "1": "Beasley"
                                },
                                {
                                    "0": "Dwight",
                                    "1": "Schrute"
                                },
                                {
                                    "0": "Angela",
                                    "1": "Martin"
                                },
                                {
                                    "0": "Michael",
                                    "1": "Scott"
                                },
                                {
                                    "0": "Meredith",
                                    "1": "Palmer"
                                },
                                {
                                    "0": "Stanley",
                                    "1": "Hudson"
                                },
                                {
                                    "0": "Kevin",
                                    "1": "Malone"
                                },
                                {
                                    "0": "Ryan",
                                    "1": "Howard"
                                },
                                {
                                    "0": "Holly",
                                    "1": "Flax"
                                },
                                {
                                    "0": "Darryl",
                                    "1": "Philbin"
                                }
                            ]
                        },
                        "text/html": [
                            "<table>",
                            "<tr><th>FName</th><th>lname</th></tr>",
                            "<tr><td>Pooja</td><td>Das</td></tr>",
                            "<tr><td>Pam</td><td>Beasley</td></tr>",
                            "<tr><td>Dwight</td><td>Schrute</td></tr>",
                            "<tr><td>Angela</td><td>Martin</td></tr>",
                            "<tr><td>Michael</td><td>Scott</td></tr>",
                            "<tr><td>Meredith</td><td>Palmer</td></tr>",
                            "<tr><td>Stanley</td><td>Hudson</td></tr>",
                            "<tr><td>Kevin</td><td>Malone</td></tr>",
                            "<tr><td>Ryan</td><td>Howard</td></tr>",
                            "<tr><td>Holly</td><td>Flax</td></tr>",
                            "<tr><td>Darryl</td><td>Philbin</td></tr>",
                            "</table>"
                        ]
                    }
                }
            ],
            "execution_count": 9
        },
        {
            "cell_type": "code",
            "source": [
                "SELECT FirstName+' '+LastName As FullName\r\n",
                " from EmployeeDemo "
            ],
            "metadata": {
                "language": "sql",
                "azdata_cell_guid": "30d96e10-90c5-45aa-beb0-470c38f2694c"
            },
            "outputs": [
                {
                    "output_type": "display_data",
                    "data": {
                        "text/html": "(11 rows affected)"
                    },
                    "metadata": {}
                },
                {
                    "output_type": "display_data",
                    "data": {
                        "text/html": "Total execution time: 00:00:00.247"
                    },
                    "metadata": {}
                },
                {
                    "output_type": "execute_result",
                    "metadata": {},
                    "execution_count": 10,
                    "data": {
                        "application/vnd.dataresource+json": {
                            "schema": {
                                "fields": [
                                    {
                                        "name": "FullName"
                                    }
                                ]
                            },
                            "data": [
                                {
                                    "0": "Pooja Das"
                                },
                                {
                                    "0": "Pam Beasley"
                                },
                                {
                                    "0": "Dwight Schrute"
                                },
                                {
                                    "0": "Angela Martin"
                                },
                                {
                                    "0": "Michael Scott"
                                },
                                {
                                    "0": "Meredith Palmer"
                                },
                                {
                                    "0": "Stanley Hudson"
                                },
                                {
                                    "0": "Kevin Malone"
                                },
                                {
                                    "0": "Ryan Howard"
                                },
                                {
                                    "0": "Holly Flax"
                                },
                                {
                                    "0": "Darryl Philbin"
                                }
                            ]
                        },
                        "text/html": [
                            "<table>",
                            "<tr><th>FullName</th></tr>",
                            "<tr><td>Pooja Das</td></tr>",
                            "<tr><td>Pam Beasley</td></tr>",
                            "<tr><td>Dwight Schrute</td></tr>",
                            "<tr><td>Angela Martin</td></tr>",
                            "<tr><td>Michael Scott</td></tr>",
                            "<tr><td>Meredith Palmer</td></tr>",
                            "<tr><td>Stanley Hudson</td></tr>",
                            "<tr><td>Kevin Malone</td></tr>",
                            "<tr><td>Ryan Howard</td></tr>",
                            "<tr><td>Holly Flax</td></tr>",
                            "<tr><td>Darryl Philbin</td></tr>",
                            "</table>"
                        ]
                    }
                }
            ],
            "execution_count": 10
        },
        {
            "cell_type": "markdown",
            "source": [
                "# **PARTITION BY**"
            ],
            "metadata": {
                "language": "sql",
                "azdata_cell_guid": "4660d4a9-5798-4b47-b203-14bed7bce0cb"
            },
            "attachments": {}
        },
        {
            "cell_type": "code",
            "source": [
                "SELECT FirstName+' '+LastName As FullName,Gender,Employee_Salary,\r\n",
                "COUNT(Gender) OVER (PARTITION by(Gender)) as Total_Gender\r\n",
                "FROM EmployeeDemo\r\n",
                "JOIN EmployeeSalary\r\n",
                "on EmployeeSalary.EmployeeID=EmployeeDemo.EmployeeId"
            ],
            "metadata": {
                "azdata_cell_guid": "d32a8e01-e411-4efc-addd-4a8bb1dc6cc3",
                "language": "sql",
                "tags": [
                    "hide_input"
                ]
            },
            "outputs": [
                {
                    "output_type": "display_data",
                    "data": {
                        "text/html": "(8 rows affected)"
                    },
                    "metadata": {}
                },
                {
                    "output_type": "display_data",
                    "data": {
                        "text/html": "Total execution time: 00:00:00.121"
                    },
                    "metadata": {}
                },
                {
                    "output_type": "execute_result",
                    "metadata": {},
                    "execution_count": 16,
                    "data": {
                        "application/vnd.dataresource+json": {
                            "schema": {
                                "fields": [
                                    {
                                        "name": "FullName"
                                    },
                                    {
                                        "name": "Gender"
                                    },
                                    {
                                        "name": "Employee_Salary"
                                    },
                                    {
                                        "name": "Total_Gender"
                                    }
                                ]
                            },
                            "data": [
                                {
                                    "0": "Pooja Das",
                                    "1": "Female",
                                    "2": "50000",
                                    "3": "4"
                                },
                                {
                                    "0": "Pam Beasley",
                                    "1": "Female",
                                    "2": "36000",
                                    "3": "4"
                                },
                                {
                                    "0": "Angela Martin",
                                    "1": "Female",
                                    "2": "47000",
                                    "3": "4"
                                },
                                {
                                    "0": "Meredith Palmer",
                                    "1": "Female",
                                    "2": "41000",
                                    "3": "4"
                                },
                                {
                                    "0": "Kevin Malone",
                                    "1": "Male",
                                    "2": "42000",
                                    "3": "4"
                                },
                                {
                                    "0": "Ryan Howard",
                                    "1": "Male",
                                    "2": "43000",
                                    "3": "4"
                                },
                                {
                                    "0": "Michael Scott",
                                    "1": "Male",
                                    "2": "65000",
                                    "3": "4"
                                },
                                {
                                    "0": "Dwight Schrute",
                                    "1": "Male",
                                    "2": "63000",
                                    "3": "4"
                                }
                            ]
                        },
                        "text/html": [
                            "<table>",
                            "<tr><th>FullName</th><th>Gender</th><th>Employee_Salary</th><th>Total_Gender</th></tr>",
                            "<tr><td>Pooja Das</td><td>Female</td><td>50000</td><td>4</td></tr>",
                            "<tr><td>Pam Beasley</td><td>Female</td><td>36000</td><td>4</td></tr>",
                            "<tr><td>Angela Martin</td><td>Female</td><td>47000</td><td>4</td></tr>",
                            "<tr><td>Meredith Palmer</td><td>Female</td><td>41000</td><td>4</td></tr>",
                            "<tr><td>Kevin Malone</td><td>Male</td><td>42000</td><td>4</td></tr>",
                            "<tr><td>Ryan Howard</td><td>Male</td><td>43000</td><td>4</td></tr>",
                            "<tr><td>Michael Scott</td><td>Male</td><td>65000</td><td>4</td></tr>",
                            "<tr><td>Dwight Schrute</td><td>Male</td><td>63000</td><td>4</td></tr>",
                            "</table>"
                        ]
                    }
                }
            ],
            "execution_count": 16
        },
        {
            "cell_type": "code",
            "source": [
                "SELECT FirstName+' '+LastName As FullName,Gender,Employee_Salary,\r\n",
                "COUNT(Gender)  as Total_Gender\r\n",
                "FROM EmployeeDemo\r\n",
                "JOIN EmployeeSalary\r\n",
                "on EmployeeSalary.EmployeeID=EmployeeDemo.EmployeeId\r\n",
                "GROUP by FirstName+' '+LastName,Gender,Employee_Salary"
            ],
            "metadata": {
                "language": "sql",
                "azdata_cell_guid": "55d04d32-7981-41fc-a51a-da42095a9026"
            },
            "outputs": [
                {
                    "output_type": "display_data",
                    "data": {
                        "text/html": "(8 rows affected)"
                    },
                    "metadata": {}
                },
                {
                    "output_type": "display_data",
                    "data": {
                        "text/html": "Total execution time: 00:00:00.018"
                    },
                    "metadata": {}
                },
                {
                    "output_type": "execute_result",
                    "metadata": {},
                    "execution_count": 18,
                    "data": {
                        "application/vnd.dataresource+json": {
                            "schema": {
                                "fields": [
                                    {
                                        "name": "FullName"
                                    },
                                    {
                                        "name": "Gender"
                                    },
                                    {
                                        "name": "Employee_Salary"
                                    },
                                    {
                                        "name": "Total_Gender"
                                    }
                                ]
                            },
                            "data": [
                                {
                                    "0": "Angela Martin",
                                    "1": "Female",
                                    "2": "47000",
                                    "3": "1"
                                },
                                {
                                    "0": "Dwight Schrute",
                                    "1": "Male",
                                    "2": "63000",
                                    "3": "1"
                                },
                                {
                                    "0": "Kevin Malone",
                                    "1": "Male",
                                    "2": "42000",
                                    "3": "1"
                                },
                                {
                                    "0": "Meredith Palmer",
                                    "1": "Female",
                                    "2": "41000",
                                    "3": "1"
                                },
                                {
                                    "0": "Michael Scott",
                                    "1": "Male",
                                    "2": "65000",
                                    "3": "1"
                                },
                                {
                                    "0": "Pam Beasley",
                                    "1": "Female",
                                    "2": "36000",
                                    "3": "1"
                                },
                                {
                                    "0": "Pooja Das",
                                    "1": "Female",
                                    "2": "50000",
                                    "3": "1"
                                },
                                {
                                    "0": "Ryan Howard",
                                    "1": "Male",
                                    "2": "43000",
                                    "3": "1"
                                }
                            ]
                        },
                        "text/html": [
                            "<table>",
                            "<tr><th>FullName</th><th>Gender</th><th>Employee_Salary</th><th>Total_Gender</th></tr>",
                            "<tr><td>Angela Martin</td><td>Female</td><td>47000</td><td>1</td></tr>",
                            "<tr><td>Dwight Schrute</td><td>Male</td><td>63000</td><td>1</td></tr>",
                            "<tr><td>Kevin Malone</td><td>Male</td><td>42000</td><td>1</td></tr>",
                            "<tr><td>Meredith Palmer</td><td>Female</td><td>41000</td><td>1</td></tr>",
                            "<tr><td>Michael Scott</td><td>Male</td><td>65000</td><td>1</td></tr>",
                            "<tr><td>Pam Beasley</td><td>Female</td><td>36000</td><td>1</td></tr>",
                            "<tr><td>Pooja Das</td><td>Female</td><td>50000</td><td>1</td></tr>",
                            "<tr><td>Ryan Howard</td><td>Male</td><td>43000</td><td>1</td></tr>",
                            "</table>"
                        ]
                    }
                }
            ],
            "execution_count": 18
        },
        {
            "cell_type": "code",
            "source": [
                "SELECT Gender,\r\n",
                "COUNT(Gender)  as Total_Gender\r\n",
                "FROM EmployeeDemo\r\n",
                "JOIN EmployeeSalary\r\n",
                "on EmployeeSalary.EmployeeID=EmployeeDemo.EmployeeId\r\n",
                "GROUP by Gender"
            ],
            "metadata": {
                "language": "sql",
                "azdata_cell_guid": "0a32a19e-f903-421b-81c2-fef0f9c20bbf"
            },
            "outputs": [
                {
                    "output_type": "display_data",
                    "data": {
                        "text/html": "(2 rows affected)"
                    },
                    "metadata": {}
                },
                {
                    "output_type": "display_data",
                    "data": {
                        "text/html": "Total execution time: 00:00:00.066"
                    },
                    "metadata": {}
                },
                {
                    "output_type": "execute_result",
                    "metadata": {},
                    "execution_count": 19,
                    "data": {
                        "application/vnd.dataresource+json": {
                            "schema": {
                                "fields": [
                                    {
                                        "name": "Gender"
                                    },
                                    {
                                        "name": "Total_Gender"
                                    }
                                ]
                            },
                            "data": [
                                {
                                    "0": "Female",
                                    "1": "4"
                                },
                                {
                                    "0": "Male",
                                    "1": "4"
                                }
                            ]
                        },
                        "text/html": [
                            "<table>",
                            "<tr><th>Gender</th><th>Total_Gender</th></tr>",
                            "<tr><td>Female</td><td>4</td></tr>",
                            "<tr><td>Male</td><td>4</td></tr>",
                            "</table>"
                        ]
                    }
                }
            ],
            "execution_count": 19
        },
        {
            "cell_type": "markdown",
            "source": [
                "## A **GROUP BY** normally reduces the number of rows returned by rolling them up and calculating averages or sums for each row.\n",
                "\n",
                "## **PARTITION BY** does not affect the number of rows returned, but it changes how a window function's result is calculated."
            ],
            "metadata": {
                "language": "sql",
                "azdata_cell_guid": "62bfd287-90a8-4969-866b-db2620f8c0d9"
            },
            "attachments": {}
        },
        {
            "cell_type": "markdown",
            "source": [
                "## **Group by**\n",
                "\n",
                "### \n",
                "\n",
                "1. Reduces the no. of records .\n",
                "\n",
                "1. In select we need to use only columns which are used in group by. but we can use aggregate functions. \n",
                "\n",
                "1. In filter condition we need to use **<u>having clause</u>** instead of where clause.\n",
                "\n",
                "##  **Partition By**\n",
                "\n",
                "### \n",
                "\n",
                "1. No. of records will not be reduced, Instead of that it will add one extra column. \n",
                "\n",
                "1. In select we can use N no. of columns. No restrictions. \n",
                "\n",
                "1. We can use where clause in filter condition apart from partition column."
            ],
            "metadata": {
                "language": "sql",
                "azdata_cell_guid": "ccf2d323-74aa-4727-ae62-4649d5d6c047"
            },
            "attachments": {}
        },
        {
            "cell_type": "markdown",
            "source": [
                "# **CTE (Common Table Expression)**"
            ],
            "metadata": {
                "azdata_cell_guid": "6747a8dc-49e7-44e8-ae23-aec7728ca8c2"
            },
            "attachments": {}
        },
        {
            "cell_type": "markdown",
            "source": [
                "```\n",
                "The Common Table Expressions (CTE) were introduced into standard SQL in order to simplify various classes of SQL Queries for which a derived table was just unsuitable. CTE was introduced in SQL Server 2005, the common table expression (CTE) is a temporary named result set that you can reference within a SELECT, INSERT, UPDATE, or DELETE statement. You can also use a CTE in a CREATE a view, as part of the view’s SELECT query. In addition, as of SQL Server 2008, you can add a CTE to the new \n",
                "```\n",
                "```\n",
                "MERGE statement.\n",
                "```\n",
                "```\n",
                " Using the CTE – We can define CTEs by adding a WITH clause directly before SELECT, INSERT, UPDATE, DELETE, or MERGE statement. The WITH clause can include one or more CTEs separated by commas. The following syntax can be followed:\n",
                "```\n",
                "```\n",
                " [WITH  [, ...]]  \n",
                " \n",
                "::=\n",
                "cte_name [(column_name [, ...])]\n",
                "AS (cte_query)\n",
                "\n",
                "```\n",
                "```\n",
                "After you define your WITH clause with the CTEs, you can then reference the CTEs as you would refer any other table. However, you can refer a CTE only within the execution scope of the statement that immediately follows the WITH clause. After you’ve run your statement, the CTE result set is not available to other statements. \n",
                "```"
            ],
            "metadata": {
                "azdata_cell_guid": "fad6f8e4-3917-4a90-a3c4-2e629d39687e"
            },
            "attachments": {}
        },
        {
            "cell_type": "code",
            "source": [
                "WITH CTE_Employee \r\n",
                "AS\r\n",
                "(\r\n",
                "    SELECT * FROM EmployeeDemo\r\n",
                ")\r\n",
                "SELECT FirstName, LastName FROM CTE_Employee"
            ],
            "metadata": {
                "language": "sql",
                "azdata_cell_guid": "18aa16ae-8c46-4361-9b4a-c5aa2c932fb0"
            },
            "outputs": [
                {
                    "output_type": "display_data",
                    "data": {
                        "text/html": "(11 rows affected)"
                    },
                    "metadata": {}
                },
                {
                    "output_type": "display_data",
                    "data": {
                        "text/html": "Total execution time: 00:00:00.239"
                    },
                    "metadata": {}
                },
                {
                    "output_type": "execute_result",
                    "metadata": {},
                    "execution_count": 20,
                    "data": {
                        "application/vnd.dataresource+json": {
                            "schema": {
                                "fields": [
                                    {
                                        "name": "FirstName"
                                    },
                                    {
                                        "name": "LastName"
                                    }
                                ]
                            },
                            "data": [
                                {
                                    "0": "Pooja",
                                    "1": "Das"
                                },
                                {
                                    "0": "Pam",
                                    "1": "Beasley"
                                },
                                {
                                    "0": "Dwight",
                                    "1": "Schrute"
                                },
                                {
                                    "0": "Angela",
                                    "1": "Martin"
                                },
                                {
                                    "0": "Michael",
                                    "1": "Scott"
                                },
                                {
                                    "0": "Meredith",
                                    "1": "Palmer"
                                },
                                {
                                    "0": "Stanley",
                                    "1": "Hudson"
                                },
                                {
                                    "0": "Kevin",
                                    "1": "Malone"
                                },
                                {
                                    "0": "Ryan",
                                    "1": "Howard"
                                },
                                {
                                    "0": "Holly",
                                    "1": "Flax"
                                },
                                {
                                    "0": "Darryl",
                                    "1": "Philbin"
                                }
                            ]
                        },
                        "text/html": [
                            "<table>",
                            "<tr><th>FirstName</th><th>LastName</th></tr>",
                            "<tr><td>Pooja</td><td>Das</td></tr>",
                            "<tr><td>Pam</td><td>Beasley</td></tr>",
                            "<tr><td>Dwight</td><td>Schrute</td></tr>",
                            "<tr><td>Angela</td><td>Martin</td></tr>",
                            "<tr><td>Michael</td><td>Scott</td></tr>",
                            "<tr><td>Meredith</td><td>Palmer</td></tr>",
                            "<tr><td>Stanley</td><td>Hudson</td></tr>",
                            "<tr><td>Kevin</td><td>Malone</td></tr>",
                            "<tr><td>Ryan</td><td>Howard</td></tr>",
                            "<tr><td>Holly</td><td>Flax</td></tr>",
                            "<tr><td>Darryl</td><td>Philbin</td></tr>",
                            "</table>"
                        ]
                    }
                }
            ],
            "execution_count": 20
        },
        {
            "cell_type": "code",
            "source": [
                "WITH CTE_Employee\r\n",
                "AS\r\n",
                "(\r\n",
                "    SELECT FirstName,LastName,Gender,Employee_Salary,\r\n",
                "    COUNT(Gender) OVER(PARTITION by Gender) as totalgender,\r\n",
                "    AVG(Employee_Salary) OVER(partition by Gender) as avgsalary   \r\n",
                "    FROM EmployeeDemo\r\n",
                "    JOIN EmployeeSalary\r\n",
                "    on EmployeeSalary.EmployeeID=EmployeeDemo.EmployeeId\r\n",
                "    WHERE Employee_Salary<54000\r\n",
                ")\r\n",
                "SELECT FirstName, Gender,avgsalary,totalgender \r\n",
                "FROM CTE_Employee"
            ],
            "metadata": {
                "language": "sql",
                "azdata_cell_guid": "2e2dc8a6-547c-4e2e-9f23-10376ad229d9"
            },
            "outputs": [
                {
                    "output_type": "display_data",
                    "data": {
                        "text/html": "(6 rows affected)"
                    },
                    "metadata": {}
                },
                {
                    "output_type": "display_data",
                    "data": {
                        "text/html": "Total execution time: 00:00:00.065"
                    },
                    "metadata": {}
                },
                {
                    "output_type": "execute_result",
                    "metadata": {},
                    "execution_count": 31,
                    "data": {
                        "application/vnd.dataresource+json": {
                            "schema": {
                                "fields": [
                                    {
                                        "name": "FirstName"
                                    },
                                    {
                                        "name": "Gender"
                                    },
                                    {
                                        "name": "avgsalary"
                                    },
                                    {
                                        "name": "totalgender"
                                    }
                                ]
                            },
                            "data": [
                                {
                                    "0": "Pooja",
                                    "1": "Female",
                                    "2": "43500",
                                    "3": "4"
                                },
                                {
                                    "0": "Pam",
                                    "1": "Female",
                                    "2": "43500",
                                    "3": "4"
                                },
                                {
                                    "0": "Angela",
                                    "1": "Female",
                                    "2": "43500",
                                    "3": "4"
                                },
                                {
                                    "0": "Meredith",
                                    "1": "Female",
                                    "2": "43500",
                                    "3": "4"
                                },
                                {
                                    "0": "Kevin",
                                    "1": "Male",
                                    "2": "42500",
                                    "3": "2"
                                },
                                {
                                    "0": "Ryan",
                                    "1": "Male",
                                    "2": "42500",
                                    "3": "2"
                                }
                            ]
                        },
                        "text/html": [
                            "<table>",
                            "<tr><th>FirstName</th><th>Gender</th><th>avgsalary</th><th>totalgender</th></tr>",
                            "<tr><td>Pooja</td><td>Female</td><td>43500</td><td>4</td></tr>",
                            "<tr><td>Pam</td><td>Female</td><td>43500</td><td>4</td></tr>",
                            "<tr><td>Angela</td><td>Female</td><td>43500</td><td>4</td></tr>",
                            "<tr><td>Meredith</td><td>Female</td><td>43500</td><td>4</td></tr>",
                            "<tr><td>Kevin</td><td>Male</td><td>42500</td><td>2</td></tr>",
                            "<tr><td>Ryan</td><td>Male</td><td>42500</td><td>2</td></tr>",
                            "</table>"
                        ]
                    }
                }
            ],
            "execution_count": 31
        },
        {
            "cell_type": "markdown",
            "source": [
                "# **TEMP TABLE  \n",
                "  \n",
                "**"
            ],
            "metadata": {
                "azdata_cell_guid": "b655aada-e148-4e72-84a4-511b112c58d5"
            },
            "attachments": {}
        },
        {
            "cell_type": "code",
            "source": [
                "CREATE TABLE #Temp_Employee \r\n",
                "(\r\n",
                "    EmployeeId int,\r\n",
                "    Jobtitle VARCHAR(50),\r\n",
                "    Salary int\r\n",
                "\r\n",
                ")"
            ],
            "metadata": {
                "azdata_cell_guid": "8d90010b-5cfd-47e5-a02d-3ec58c12e233",
                "language": "sql"
            },
            "outputs": [
                {
                    "output_type": "display_data",
                    "data": {
                        "text/html": "Commands completed successfully."
                    },
                    "metadata": {}
                },
                {
                    "output_type": "display_data",
                    "data": {
                        "text/html": "Total execution time: 00:00:00.217"
                    },
                    "metadata": {}
                }
            ],
            "execution_count": 32
        },
        {
            "cell_type": "code",
            "source": [
                "SELECT *  FROM #Temp_Employee"
            ],
            "metadata": {
                "language": "sql",
                "azdata_cell_guid": "586eeb40-62b7-4809-8151-375ee204b6c1"
            },
            "outputs": [
                {
                    "output_type": "display_data",
                    "data": {
                        "text/html": "(0 rows affected)"
                    },
                    "metadata": {}
                },
                {
                    "output_type": "display_data",
                    "data": {
                        "text/html": "Total execution time: 00:00:00.157"
                    },
                    "metadata": {}
                },
                {
                    "output_type": "execute_result",
                    "metadata": {},
                    "execution_count": 33,
                    "data": {
                        "application/vnd.dataresource+json": {
                            "schema": {
                                "fields": [
                                    {
                                        "name": "EmployeeId"
                                    },
                                    {
                                        "name": "Jobtitle"
                                    },
                                    {
                                        "name": "Salary"
                                    }
                                ]
                            },
                            "data": []
                        },
                        "text/html": [
                            "<table>",
                            "<tr><th>EmployeeId</th><th>Jobtitle</th><th>Salary</th></tr>",
                            "</table>"
                        ]
                    }
                }
            ],
            "execution_count": 33
        }
    ]
}