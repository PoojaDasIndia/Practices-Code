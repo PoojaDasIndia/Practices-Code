{
  "cells": [
    {
      "cell_type": "markdown",
      "metadata": {
        "id": "view-in-github",
        "colab_type": "text"
      },
      "source": [
        "<a href=\"https://colab.research.google.com/github/PoojaDasIndia/Practices-Code/blob/main/numpy_array_operations.ipynb\" target=\"_parent\"><img src=\"https://colab.research.google.com/assets/colab-badge.svg\" alt=\"Open In Colab\"/></a>"
      ]
    },
    {
      "cell_type": "code",
      "execution_count": null,
      "metadata": {
        "id": "b8d43fXGqRNa"
      },
      "outputs": [],
      "source": [
        "# Jovian Commit Essentials\n",
        "# Please retain and execute this cell without modifying the contents for `jovian.commit` to work\n",
        "!pip install jovian --upgrade -q\n",
        "import jovian\n",
        "jovian.set_project('numpy-array-operations')\n",
        "jovian.set_colab_id('11STA9prMxQvnRtCU_tnoM39KzYF3rCNC')"
      ]
    },
    {
      "cell_type": "markdown",
      "metadata": {
        "id": "queQPUUMqRNh"
      },
      "source": [
        "> ### **Assignment 2 - Numpy Array Operations** \n",
        ">\n",
        "> This assignment is part of the course [\"Data Analysis with Python: Zero to Pandas\"](http://zerotopandas.com). The objective of this assignment is to develop a solid understanding of Numpy array operations. In this assignment you will:\n",
        "> \n",
        "> 1. Pick 5 interesting Numpy array functions by going through the documentation: https://numpy.org/doc/stable/reference/routines.html \n",
        "> 2. Run and modify this Jupyter notebook to illustrate their usage (some explanation and 3 examples for each function). Use your imagination to come up with interesting and unique examples.\n",
        "> 3. Upload this notebook to your Jovian profile using `jovian.commit` and make a submission here: https://jovian.ml/learn/data-analysis-with-python-zero-to-pandas/assignment/assignment-2-numpy-array-operations\n",
        "> 4. (Optional) Share your notebook online (on Twitter, LinkedIn, Facebook) and on the community forum thread: https://jovian.ml/forum/t/assignment-2-numpy-array-operations-share-your-work/10575 . \n",
        "> 5. (Optional) Check out the notebooks [shared by other participants](https://jovian.ml/forum/t/assignment-2-numpy-array-operations-share-your-work/10575) and give feedback & appreciation.\n",
        ">\n",
        "> The recommended way to run this notebook is to click the \"Run\" button at the top of this page, and select \"Run on Binder\". This will run the notebook on mybinder.org, a free online service for running Jupyter notebooks.\n",
        ">\n",
        "> Try to give your notebook a catchy title & subtitle e.g. \"All about Numpy array operations\", \"5 Numpy functions you didn't know you needed\", \"A beginner's guide to broadcasting in Numpy\", \"Interesting ways to create Numpy arrays\", \"Trigonometic functions in Numpy\", \"How to use Python for Linear Algebra\" etc.\n",
        ">\n",
        "> **NOTE**: Remove this block of explanation text before submitting or sharing your notebook online - to make it more presentable.\n",
        "\n",
        "\n",
        "# Title Here\n",
        "\n",
        "\n",
        "### Subtitle Here\n",
        "\n",
        "Write a short introduction about Numpy and list the chosen functions. \n",
        "\n",
        "- function 1\n",
        "- function 2\n",
        "- function 3\n",
        "- function 4\n",
        "- function 5\n",
        "\n",
        "The recommended way to run this notebook is to click the \"Run\" button at the top of this page, and select \"Run on Binder\". This will run the notebook on mybinder.org, a free online service for running Jupyter notebooks."
      ]
    },
    {
      "cell_type": "code",
      "execution_count": null,
      "metadata": {
        "id": "k_1yd9a_qRNk"
      },
      "outputs": [],
      "source": [
        "!pip install jovian --upgrade -q"
      ]
    },
    {
      "cell_type": "code",
      "execution_count": null,
      "metadata": {
        "id": "8YeaB-eOqRNk"
      },
      "outputs": [],
      "source": [
        "import jovian"
      ]
    },
    {
      "cell_type": "code",
      "execution_count": null,
      "metadata": {
        "id": "0deWVp1tqRNl",
        "outputId": "aa44807a-5cf5-44ea-c234-f93acb44efe9"
      },
      "outputs": [
        {
          "data": {
            "application/javascript": [
              "window.require && require([\"base/js/namespace\"],function(Jupyter){Jupyter.notebook.save_checkpoint()})"
            ],
            "text/plain": [
              "<IPython.core.display.Javascript object>"
            ]
          },
          "metadata": {},
          "output_type": "display_data"
        },
        {
          "name": "stdout",
          "output_type": "stream",
          "text": [
            "[jovian] Updating notebook \"poojadas2014-pd/numpy-array-operations\" on https://jovian.ai\u001b[0m\n",
            "[jovian] Committed successfully! https://jovian.ai/poojadas2014-pd/numpy-array-operations\u001b[0m\n"
          ]
        },
        {
          "data": {
            "text/plain": [
              "'https://jovian.ai/poojadas2014-pd/numpy-array-operations'"
            ]
          },
          "execution_count": 8,
          "metadata": {},
          "output_type": "execute_result"
        }
      ],
      "source": [
        "jovian.commit(project='numpy-array-operations')"
      ]
    },
    {
      "cell_type": "markdown",
      "metadata": {
        "id": "n_X186lsqRNn"
      },
      "source": [
        "Let's begin by importing Numpy and listing out the functions covered in this notebook."
      ]
    },
    {
      "cell_type": "code",
      "execution_count": null,
      "metadata": {
        "id": "IEmBf4GHqRNo"
      },
      "outputs": [],
      "source": [
        "import numpy as np"
      ]
    },
    {
      "cell_type": "markdown",
      "metadata": {
        "id": "z-LbagiCqRNp"
      },
      "source": [
        "# List of functions explained \n",
        "    function1 = np.add\n",
        "    function2 = np.power\n",
        "    function3 = np.dot\n",
        "    function4 = np.multiple\n",
        "    function5 = np.hstack"
      ]
    },
    {
      "cell_type": "markdown",
      "metadata": {
        "id": "OWCziuq_qRNq"
      },
      "source": [
        "## Function 1 - np.add\n",
        "\n",
        "np.add() used to add element of  two or more array ."
      ]
    },
    {
      "cell_type": "code",
      "execution_count": null,
      "metadata": {
        "id": "G4rsymeZqRNr",
        "outputId": "48a6066f-cc97-4aab-855f-c6edb4352a16"
      },
      "outputs": [
        {
          "data": {
            "text/plain": [
              "array([[3., 4.],\n",
              "       [5., 6.]])"
            ]
          },
          "execution_count": 11,
          "metadata": {},
          "output_type": "execute_result"
        }
      ],
      "source": [
        "# Example 1 - working \n",
        "arr1 = [[1, 2], \n",
        "        [3, 4.]]\n",
        "\n",
        "np.add(arr1,2)"
      ]
    },
    {
      "cell_type": "markdown",
      "metadata": {
        "id": "jU5vJdNxqRNs"
      },
      "source": [
        "### Explanation about example\n",
        "> First input array which is `arr` in which 2 will be added.\n",
        "\n",
        "     like   | 1 + 2   2 + 2|\n",
        "            | 3 + 2    .4 + 2|"
      ]
    },
    {
      "cell_type": "code",
      "execution_count": null,
      "metadata": {
        "id": "j9nQXBohqRNs",
        "outputId": "7b853a76-aadb-4c0d-c396-b66448f99a19"
      },
      "outputs": [
        {
          "data": {
            "text/plain": [
              "array([[ 6.,  8.],\n",
              "       [11., 13.]])"
            ]
          },
          "execution_count": 12,
          "metadata": {},
          "output_type": "execute_result"
        }
      ],
      "source": [
        "# Example 2 - working\n",
        "arr1 = [[1, 2], \n",
        "        [3, 4.]]\n",
        "\n",
        "arr2 = [[5, 6], \n",
        "        [8, 9]]\n",
        "\n",
        "np.add(arr1,arr2)"
      ]
    },
    {
      "cell_type": "markdown",
      "metadata": {
        "id": "MhxOLsV5qRNt"
      },
      "source": [
        "### Explanation about example\n",
        "> First input array in  which  element of  `arr1`  is added with element of `arr2` \n",
        "    \n",
        "    like | 1 + 5   2 + 6|\n",
        "          | 3 + 8   4 + 9|\n"
      ]
    },
    {
      "cell_type": "code",
      "execution_count": null,
      "metadata": {
        "id": "mT6NNwnGqRNt",
        "outputId": "2d5c46b6-f281-4efb-ffb8-1aba7b2cdd10"
      },
      "outputs": [
        {
          "ename": "ValueError",
          "evalue": "operands could not be broadcast together with shapes (2,2) (2,3) ",
          "output_type": "error",
          "traceback": [
            "\u001b[0;31m---------------------------------------------------------------------------\u001b[0m",
            "\u001b[0;31mValueError\u001b[0m                                Traceback (most recent call last)",
            "\u001b[0;32m/tmp/ipykernel_384/4033588973.py\u001b[0m in \u001b[0;36m<module>\u001b[0;34m\u001b[0m\n\u001b[1;32m      6\u001b[0m         [8, 9, 10]]\n\u001b[1;32m      7\u001b[0m \u001b[0;34m\u001b[0m\u001b[0m\n\u001b[0;32m----> 8\u001b[0;31m \u001b[0mnp\u001b[0m\u001b[0;34m.\u001b[0m\u001b[0madd\u001b[0m\u001b[0;34m(\u001b[0m\u001b[0marr1\u001b[0m\u001b[0;34m,\u001b[0m \u001b[0marr2\u001b[0m\u001b[0;34m)\u001b[0m\u001b[0;34m\u001b[0m\u001b[0;34m\u001b[0m\u001b[0m\n\u001b[0m",
            "\u001b[0;31mValueError\u001b[0m: operands could not be broadcast together with shapes (2,2) (2,3) "
          ]
        }
      ],
      "source": [
        "# Example 3 - breaking (to illustrate when it breaks)\n",
        "arr1 = [[1, 2], \n",
        "        [3, 4.]]\n",
        "\n",
        "arr2 = [[5, 6, 7], \n",
        "        [8, 9, 10]]\n",
        "\n",
        "np.add(arr1, arr2)"
      ]
    },
    {
      "cell_type": "markdown",
      "metadata": {
        "id": "Z6ansTvuqRNu"
      },
      "source": [
        "### Explanation about example (why it breaks and how to fix it)\n",
        "\n",
        "For doing np.add() we need same size of array element in both array than only we can do np.add()\n",
        "\n",
        "\n",
        "#### how to fix it\n",
        "\n",
        "If we vertically stack  zeroes  than we can do it.like"
      ]
    },
    {
      "cell_type": "code",
      "execution_count": null,
      "metadata": {
        "id": "yyzNqQDBqRNu",
        "outputId": "ffbbb357-2eb3-4a3d-f433-33a8ea5f244c"
      },
      "outputs": [
        {
          "name": "stdout",
          "output_type": "stream",
          "text": [
            "Before Modifing lists\n",
            "\n",
            "\n",
            "List 1: \n",
            " [[1, 2], [3, 4.0]]\n",
            "\n",
            "lList 2: [[5, 6, 7], [8, 9, 10]]\n",
            "Shape of array 1 :(2, 2)\n",
            "Shape of array 2 :(2, 3)\n",
            "\n",
            "\n",
            "\n",
            "After Modifing lists\n",
            "\n",
            "\n",
            "array 1:\n",
            " [[1. 2.]\n",
            " [3. 4.]\n",
            " [0. 0.]]\n",
            "\n",
            "\n",
            "array 2: [[ 5  6]\n",
            " [ 7  8]\n",
            " [ 9 10]]\n",
            "\n",
            "After Stack Shape of array 1 :(3, 2)\n",
            "Shape of array 2 :(3, 2)\n",
            "\n",
            "\n",
            "[[ 6.  8.]\n",
            " [10. 12.]\n",
            " [ 9. 10.]]\n"
          ]
        }
      ],
      "source": [
        "# to fix it\n",
        "\n",
        "arr1 = [[1, 2], \n",
        "        [3, 4.]]\n",
        "\n",
        "arr2 = [[5, 6, 7], \n",
        "        [8, 9, 10]]\n",
        "\n",
        "print(\"Before Modifing lists\\n\\n\")\n",
        "\n",
        "print(\"List 1: \\n\",arr1)\n",
        "\n",
        "print(\"\\nlList 2:\",arr2)\n",
        "\n",
        "\n",
        "# change list to array\n",
        "arr1 =np.array(arr1)\n",
        "arr2 =np.array(arr2)\n",
        "\n",
        "print(f\"Shape of array 1 :{arr1.shape}\\nShape of array 2 :{arr2.shape}\\n\")\n",
        "\n",
        "arr=np.zeros((1,2),dtype=int)\n",
        "arr1=np.vstack((arr1,arr))\n",
        "\n",
        "print(\"\\n\\nAfter Modifing lists\\n\\n\")\n",
        "print(\"array 1:\\n\",arr1)\n",
        "\n",
        "# reshape Array2\n",
        "\n",
        "arr2=arr2.reshape(3,2)\n",
        "print(\"\\n\\narray 2:\",arr2)\n",
        "\n",
        "print(f\"\\nAfter Stack Shape of array 1 :{arr1.shape}\\nShape of array 2 :{arr2.shape}\\n\\n\")\n",
        "\n",
        "print (np.add(arr1,arr2) )"
      ]
    },
    {
      "cell_type": "markdown",
      "metadata": {
        "id": "VG327BfRqRNv"
      },
      "source": [
        "Some closing comments about when to use this function."
      ]
    },
    {
      "cell_type": "code",
      "execution_count": null,
      "metadata": {
        "id": "CLXhPmEYqRNv",
        "outputId": "663e6f51-5f66-467c-def6-6cc9225f7ddc"
      },
      "outputs": [
        {
          "data": {
            "application/javascript": [
              "window.require && require([\"base/js/namespace\"],function(Jupyter){Jupyter.notebook.save_checkpoint()})"
            ],
            "text/plain": [
              "<IPython.core.display.Javascript object>"
            ]
          },
          "metadata": {},
          "output_type": "display_data"
        },
        {
          "name": "stdout",
          "output_type": "stream",
          "text": [
            "[jovian] Updating notebook \"poojadas2014-pd/numpy-array-operations\" on https://jovian.ai\u001b[0m\n",
            "[jovian] Committed successfully! https://jovian.ai/poojadas2014-pd/numpy-array-operations\u001b[0m\n"
          ]
        },
        {
          "data": {
            "text/plain": [
              "'https://jovian.ai/poojadas2014-pd/numpy-array-operations'"
            ]
          },
          "execution_count": 15,
          "metadata": {},
          "output_type": "execute_result"
        }
      ],
      "source": [
        "jovian.commit()"
      ]
    },
    {
      "cell_type": "markdown",
      "metadata": {
        "id": "TUcCgzHaqRNw"
      },
      "source": [
        "## Function 2 - np.power\n",
        "\n",
        "In this Function the first input array as base and returns it raised to the power of the corresponding element in the second input array."
      ]
    },
    {
      "cell_type": "code",
      "execution_count": null,
      "metadata": {
        "id": "Y9CA5jFIqRNx",
        "outputId": "57ab0935-039e-4e9c-fb01-d2dd056dc4ec"
      },
      "outputs": [
        {
          "name": "stdout",
          "output_type": "stream",
          "text": [
            "[[100   4]\n",
            " [  9  16]]\n"
          ]
        }
      ],
      "source": [
        "# Example 1 - working\n",
        "arr = [[10, 2], \n",
        "        [3, 4]]\n",
        "\n",
        "print (np.power(arr,2) )"
      ]
    },
    {
      "cell_type": "markdown",
      "metadata": {
        "id": "2FI1y63qqRNx"
      },
      "source": [
        "### Explanation about example\n",
        "> First input array which is `arr` work as power's function first parameter which is base element and the 2 is work  as  Exponent &  functions second parameter .In this each element in array have power with  2.\n",
        "\n",
        "     like   | 10 power 2   2 power 2|\n",
        "            | 3 power 2    4 power 2|"
      ]
    },
    {
      "cell_type": "code",
      "execution_count": null,
      "metadata": {
        "id": "ExrVFwCvqRNx",
        "outputId": "62f59cb7-d9f3-4436-eef5-4b7f95456df9"
      },
      "outputs": [
        {
          "name": "stdout",
          "output_type": "stream",
          "text": [
            "[[100   4]\n",
            " [ 27 256]]\n"
          ]
        }
      ],
      "source": [
        "# Example 2 - working\n",
        "\n",
        "arr1 = [[10, 2], \n",
        "        [3, 4]]\n",
        "\n",
        "arr2 = [[2, 2], \n",
        "        [3, 4]]\n",
        "\n",
        "print (np.power(arr1,arr2) )"
      ]
    },
    {
      "cell_type": "markdown",
      "metadata": {
        "id": "amMNwmQQqRNy"
      },
      "source": [
        "### Explanation about example\n",
        "> First input array which is `arr1` work as power's function first parameter which is base element and the array `arr2` is work as Exponent & functions second parameter .In this each element in arr1 have power with each element in arr2.\n",
        "\n",
        "     like | 10 power 2   2 power 2|\n",
        "          | 3 power 3    4 power 4|\n"
      ]
    },
    {
      "cell_type": "code",
      "execution_count": null,
      "metadata": {
        "id": "BtnyNskUqRNy",
        "outputId": "0c052462-4c80-4828-a95e-3c324cb99773"
      },
      "outputs": [
        {
          "ename": "ValueError",
          "evalue": "operands could not be broadcast together with shapes (2,2) (2,3) ",
          "output_type": "error",
          "traceback": [
            "\u001b[0;31m---------------------------------------------------------------------------\u001b[0m",
            "\u001b[0;31mValueError\u001b[0m                                Traceback (most recent call last)",
            "\u001b[0;32m/tmp/ipykernel_384/2625201485.py\u001b[0m in \u001b[0;36m<module>\u001b[0;34m\u001b[0m\n\u001b[1;32m      6\u001b[0m         [3, 4,6]]\n\u001b[1;32m      7\u001b[0m \u001b[0;34m\u001b[0m\u001b[0m\n\u001b[0;32m----> 8\u001b[0;31m \u001b[0mprint\u001b[0m \u001b[0;34m(\u001b[0m\u001b[0mnp\u001b[0m\u001b[0;34m.\u001b[0m\u001b[0mpower\u001b[0m\u001b[0;34m(\u001b[0m\u001b[0marr1\u001b[0m\u001b[0;34m,\u001b[0m\u001b[0marr2\u001b[0m\u001b[0;34m)\u001b[0m \u001b[0;34m)\u001b[0m\u001b[0;34m\u001b[0m\u001b[0;34m\u001b[0m\u001b[0m\n\u001b[0m",
            "\u001b[0;31mValueError\u001b[0m: operands could not be broadcast together with shapes (2,2) (2,3) "
          ]
        }
      ],
      "source": [
        "# Example 3 - breaking (to illustrate when it breaks)\n",
        "arr1 = [[10, 2], \n",
        "        [3, 4]]\n",
        "\n",
        "arr2 = [[2, 2,7], \n",
        "        [3, 4,6]]\n",
        "\n",
        "print (np.power(arr1,arr2) )"
      ]
    },
    {
      "cell_type": "markdown",
      "metadata": {
        "id": "uXewa6lMqRNz"
      },
      "source": [
        "### Explanation about example (why it breaks and how to fix it)\n",
        "\n",
        "For doing np.power() we need same size of array element in both array than only we can do np.power()\n",
        "\n",
        "\n",
        "#### how to fix it\n",
        "\n",
        "If we vertically stack  zeroes  than we can do it.like\n"
      ]
    },
    {
      "cell_type": "code",
      "execution_count": null,
      "metadata": {
        "id": "knRm_7IXqRNz",
        "outputId": "92861129-8086-4774-cb94-3b78e6f6ac8a"
      },
      "outputs": [
        {
          "name": "stdout",
          "output_type": "stream",
          "text": [
            "Before Modifing lists\n",
            "\n",
            "\n",
            "List 1: \n",
            " [[10, 2], [3, 4]]\n",
            "\n",
            "lList 2: [[2, 2, 7], [3, 4, 6]]\n",
            "Shape of array 1 :(2, 2)\n",
            "Shape of array 2 :(2, 3)\n",
            "\n",
            "\n",
            "\n",
            "After Modifing lists\n",
            "\n",
            "\n",
            "array 1:\n",
            " [[10  2]\n",
            " [ 3  4]\n",
            " [ 0  0]]\n",
            "\n",
            "\n",
            "array 2: [[2 2]\n",
            " [7 3]\n",
            " [4 6]]\n",
            "\n",
            "After Stack Shape of array 1 :(3, 2)\n",
            "Shape of array 2 :(3, 2)\n",
            "\n",
            "\n",
            "[[ 100    4]\n",
            " [2187   64]\n",
            " [   0    0]]\n"
          ]
        }
      ],
      "source": [
        "# to fix it\n",
        "\n",
        "arr1 = [[10, 2], \n",
        "        [3, 4]]\n",
        "\n",
        "arr2 = [[2, 2,7], \n",
        "        [3, 4,6]]\n",
        "\n",
        "print(\"Before Modifing lists\\n\\n\")\n",
        "\n",
        "print(\"List 1: \\n\",arr1)\n",
        "\n",
        "print(\"\\nlList 2:\",arr2)\n",
        "\n",
        "\n",
        "# change list to array\n",
        "arr1 =np.array(arr1)\n",
        "arr2 =np.array(arr2)\n",
        "\n",
        "print(f\"Shape of array 1 :{arr1.shape}\\nShape of array 2 :{arr2.shape}\\n\")\n",
        "\n",
        "arr=np.zeros((1,2),dtype=int)\n",
        "arr1=np.vstack((arr1,arr))\n",
        "\n",
        "print(\"\\n\\nAfter Modifing lists\\n\\n\")\n",
        "print(\"array 1:\\n\",arr1)\n",
        "\n",
        "# reshape Array2\n",
        "\n",
        "arr2=arr2.reshape(3,2)\n",
        "print(\"\\n\\narray 2:\",arr2)\n",
        "\n",
        "print(f\"\\nAfter Stack Shape of array 1 :{arr1.shape}\\nShape of array 2 :{arr2.shape}\\n\\n\")\n",
        "\n",
        "print (np.power(arr1,arr2) )"
      ]
    },
    {
      "cell_type": "markdown",
      "metadata": {
        "id": "xXdYHYF7qRN0"
      },
      "source": [
        "Some closing comments about when to use this function."
      ]
    },
    {
      "cell_type": "code",
      "execution_count": null,
      "metadata": {
        "id": "NqYXSLyIqRN0",
        "outputId": "dc1499f2-7412-4396-947d-11d9c9f4fe02"
      },
      "outputs": [
        {
          "data": {
            "application/javascript": [
              "window.require && require([\"base/js/namespace\"],function(Jupyter){Jupyter.notebook.save_checkpoint()})"
            ],
            "text/plain": [
              "<IPython.core.display.Javascript object>"
            ]
          },
          "metadata": {},
          "output_type": "display_data"
        },
        {
          "name": "stdout",
          "output_type": "stream",
          "text": [
            "[jovian] Updating notebook \"poojadas2014-pd/numpy-array-operations\" on https://jovian.ai\u001b[0m\n",
            "[jovian] Committed successfully! https://jovian.ai/poojadas2014-pd/numpy-array-operations\u001b[0m\n"
          ]
        },
        {
          "data": {
            "text/plain": [
              "'https://jovian.ai/poojadas2014-pd/numpy-array-operations'"
            ]
          },
          "execution_count": 20,
          "metadata": {},
          "output_type": "execute_result"
        }
      ],
      "source": [
        "jovian.commit()"
      ]
    },
    {
      "cell_type": "markdown",
      "metadata": {
        "id": "2y3O6rIcqRN0"
      },
      "source": [
        "## Function 3 - np.dot\n",
        "\n",
        "For N-dimensional arrays, it is a sum product over the last axis of a and the second-last axis of b."
      ]
    },
    {
      "cell_type": "code",
      "execution_count": null,
      "metadata": {
        "id": "SOqs77GSqRN1",
        "outputId": "40938291-8251-485b-87b5-fe96ae109bc7"
      },
      "outputs": [
        {
          "name": "stdout",
          "output_type": "stream",
          "text": [
            "[[20  4]\n",
            " [ 6  8]]\n"
          ]
        }
      ],
      "source": [
        "# Example 1 - working\n",
        "arr = [[10, 2], \n",
        "        [3, 4]]\n",
        "\n",
        "print (np.dot(arr,2) )"
      ]
    },
    {
      "cell_type": "markdown",
      "metadata": {
        "id": "7yu89WKMqRN1"
      },
      "source": [
        "### Explanation about example\n",
        "> First input array in  which  element of  `arr`  is multiply  with 2 \n",
        "    \n",
        "    like  | 10 * 2   2 * 2|\n",
        "          | 3 * 2    4 * 2|\n"
      ]
    },
    {
      "cell_type": "code",
      "execution_count": null,
      "metadata": {
        "id": "0euCQp80qRN1",
        "outputId": "221d70e3-43ad-47e5-d50e-710856095168"
      },
      "outputs": [
        {
          "name": "stdout",
          "output_type": "stream",
          "text": [
            "[[26 28]\n",
            " [18 22]]\n",
            "22\n"
          ]
        }
      ],
      "source": [
        "# Example 2 - working\n",
        "arr1 = [[10, 2], \n",
        "        [3, 4]]\n",
        "\n",
        "arr2 = [[2, 2], \n",
        "        [3, 4]]\n",
        "\n",
        "print (np.dot(arr1,arr2) )\n",
        "\n",
        "print(3*2+4*4)"
      ]
    },
    {
      "cell_type": "markdown",
      "metadata": {
        "id": "PL1Knqi0qRN2"
      },
      "source": [
        "### Explanation about example\n",
        ">It is sum of product , sum of  element of  `arr1`  is multiply with element of `arr2` \n",
        "    \n",
        "    like | 10*2+2*3   10*2+2*4 |\n",
        "         | 3*2+4*3     3*2+4*4 |"
      ]
    },
    {
      "cell_type": "code",
      "execution_count": null,
      "metadata": {
        "id": "rGqB2fRmqRN2",
        "outputId": "dc48c336-ce8f-4cff-87f3-27ab0226f1c7"
      },
      "outputs": [
        {
          "ename": "ValueError",
          "evalue": "shapes (2,2) and (3,2) not aligned: 2 (dim 1) != 3 (dim 0)",
          "output_type": "error",
          "traceback": [
            "\u001b[0;31m---------------------------------------------------------------------------\u001b[0m",
            "\u001b[0;31mValueError\u001b[0m                                Traceback (most recent call last)",
            "\u001b[0;32m/tmp/ipykernel_384/3382550637.py\u001b[0m in \u001b[0;36m<module>\u001b[0;34m\u001b[0m\n\u001b[1;32m      7\u001b[0m         [5, 7]]\n\u001b[1;32m      8\u001b[0m \u001b[0;34m\u001b[0m\u001b[0m\n\u001b[0;32m----> 9\u001b[0;31m \u001b[0mprint\u001b[0m \u001b[0;34m(\u001b[0m\u001b[0mnp\u001b[0m\u001b[0;34m.\u001b[0m\u001b[0mdot\u001b[0m\u001b[0;34m(\u001b[0m\u001b[0marr1\u001b[0m\u001b[0;34m,\u001b[0m\u001b[0marr2\u001b[0m\u001b[0;34m)\u001b[0m \u001b[0;34m)\u001b[0m\u001b[0;34m\u001b[0m\u001b[0;34m\u001b[0m\u001b[0m\n\u001b[0m",
            "\u001b[0;32m<__array_function__ internals>\u001b[0m in \u001b[0;36mdot\u001b[0;34m(*args, **kwargs)\u001b[0m\n",
            "\u001b[0;31mValueError\u001b[0m: shapes (2,2) and (3,2) not aligned: 2 (dim 1) != 3 (dim 0)"
          ]
        }
      ],
      "source": [
        "# Example 3 - breaking (to illustrate when it breaks)\n",
        "arr1 = [[10, 2], \n",
        "        [3, 4]]\n",
        "\n",
        "arr2 = [[2, 2], \n",
        "        [3, 4],\n",
        "        [5, 7]]\n",
        "\n",
        "print (np.dot(arr1,arr2) )"
      ]
    },
    {
      "cell_type": "markdown",
      "metadata": {
        "id": "t1TocwF-qRN3"
      },
      "source": [
        "### Explanation about example (why it breaks and how to fix it)\n",
        "\n",
        "For doing np.dot() we need same size of array element N X M and second M X N  , size of row should be  same col. of other array.\n",
        "\n",
        "\n",
        "#### how to fix it\n",
        "\n",
        "If we  transpose  or reshape it by(2,3) array  than we can do it.like"
      ]
    },
    {
      "cell_type": "code",
      "execution_count": null,
      "metadata": {
        "id": "HCevx1N6qRN3"
      },
      "outputs": [],
      "source": [
        "arr1 = [[10, 2], \n",
        "        [3, 4]]\n",
        "\n",
        "arr2 = [[2, 2], \n",
        "        [3, 4],\n",
        "        [5, 7]]\n",
        "\n",
        "\n",
        "print(\"Before Modifing lists\\n\\n\")\n",
        "\n",
        "print(\"List 1: \\n\",arr1)\n",
        "\n",
        "print(\"\\nlList 2:\",arr2)\n",
        "\n",
        "\n",
        "# change list to array\n",
        "arr1 =np.array(arr1)\n",
        "arr2 =np.array(arr2)  \n",
        "print(f\"Shape of array 1 :{arr1.shape}\\nShape of array 2 :{arr2.shape}\\n\")\n",
        "\n",
        "\n",
        "# transpose\n",
        "\n",
        "arr2=arr2.T\n",
        "\n",
        "print(\"\\n\\nAfter Modifing lists\\n\\n\")\n",
        "print(\"array 1:\\n\",arr1)\n",
        "\n",
        "# reshape Array2\n",
        "\n",
        "print(\"\\n\\narray 2:\",arr2)\n",
        "\n",
        "print(f\"\\nAfter Stack Shape of array 1 :{arr1.shape}\\nShape of array 2 :{arr2.shape}\\n\\n\")\n",
        "\n",
        "\n",
        "\n",
        "print (np.dot(arr1,arr2) )"
      ]
    },
    {
      "cell_type": "markdown",
      "metadata": {
        "id": "9zOsRDPdqRN4"
      },
      "source": [
        "Some closing comments about when to use this function."
      ]
    },
    {
      "cell_type": "code",
      "execution_count": null,
      "metadata": {
        "id": "pzsyWF1HqRN5"
      },
      "outputs": [],
      "source": [
        "jovian.commit()"
      ]
    },
    {
      "cell_type": "markdown",
      "metadata": {
        "id": "HHvIrCxsqRN5"
      },
      "source": [
        "## Function 4 - np.multiply\n",
        "\n",
        "used to multiply the element in array."
      ]
    },
    {
      "cell_type": "code",
      "execution_count": null,
      "metadata": {
        "id": "tM9FamGvqRN6"
      },
      "outputs": [],
      "source": [
        "# Example 1 - working\n",
        "arr1 = [[1, 2], \n",
        "        [3, 4.]]\n",
        "\n",
        "np.multiply(arr1,2)"
      ]
    },
    {
      "cell_type": "markdown",
      "metadata": {
        "id": "QCmbL9wbqRN7"
      },
      "source": [
        "### Explanation about example\n",
        "> First input array which is `arr` in which 2 will be multiple.\n",
        "\n",
        "     like   | 1 * 2   2 * 2|\n",
        "            | 3 * 2    .4 * 2|"
      ]
    },
    {
      "cell_type": "code",
      "execution_count": null,
      "metadata": {
        "id": "T7SO6OyOqRN7",
        "outputId": "9a615268-bfdc-4efc-8d08-6e0b22b1b841"
      },
      "outputs": [
        {
          "data": {
            "text/plain": [
              "array([[ 5., 12.],\n",
              "       [24., 36.]])"
            ]
          },
          "execution_count": 24,
          "metadata": {},
          "output_type": "execute_result"
        }
      ],
      "source": [
        "# Example 2 - working\n",
        "arr1 = [[1, 2], \n",
        "        [3, 4.]]\n",
        "\n",
        "arr2 = [[5, 6], \n",
        "        [8, 9]]\n",
        "\n",
        "np.multiply(arr1,arr2)"
      ]
    },
    {
      "cell_type": "markdown",
      "metadata": {
        "id": "jHlyyKbaqRN7"
      },
      "source": [
        "### Explanation about example\n",
        "> First input array in  which  element of  `arr1`  is multiple with element of `arr2` \n",
        "    \n",
        "    like | 1 * 5   2 * 6|\n",
        "          | 3 * 8   4 * 9|"
      ]
    },
    {
      "cell_type": "code",
      "execution_count": null,
      "metadata": {
        "id": "SJi8ESIqqRN8",
        "outputId": "d3d16a13-41c5-4b21-bdb6-a5962754cf52"
      },
      "outputs": [
        {
          "ename": "ValueError",
          "evalue": "operands could not be broadcast together with shapes (2,2) (2,3) ",
          "output_type": "error",
          "traceback": [
            "\u001b[0;31m---------------------------------------------------------------------------\u001b[0m",
            "\u001b[0;31mValueError\u001b[0m                                Traceback (most recent call last)",
            "\u001b[0;32m/tmp/ipykernel_384/749781445.py\u001b[0m in \u001b[0;36m<module>\u001b[0;34m\u001b[0m\n\u001b[1;32m      6\u001b[0m         [8, 9, 10]]\n\u001b[1;32m      7\u001b[0m \u001b[0;34m\u001b[0m\u001b[0m\n\u001b[0;32m----> 8\u001b[0;31m \u001b[0mnp\u001b[0m\u001b[0;34m.\u001b[0m\u001b[0mmultiply\u001b[0m\u001b[0;34m(\u001b[0m\u001b[0marr1\u001b[0m\u001b[0;34m,\u001b[0m \u001b[0marr2\u001b[0m\u001b[0;34m)\u001b[0m\u001b[0;34m\u001b[0m\u001b[0;34m\u001b[0m\u001b[0m\n\u001b[0m",
            "\u001b[0;31mValueError\u001b[0m: operands could not be broadcast together with shapes (2,2) (2,3) "
          ]
        }
      ],
      "source": [
        "# Example 3 - breaking (to illustrate when it breaks)\n",
        "arr1 = [[1, 2], \n",
        "        [3, 4.]]\n",
        "\n",
        "arr2 = [[5, 6, 7], \n",
        "        [8, 9, 10]]\n",
        "\n",
        "np.multiply(arr1, arr2)"
      ]
    },
    {
      "cell_type": "markdown",
      "metadata": {
        "id": "33NiDg3NqRN8"
      },
      "source": [
        "### Explanation about example (why it breaks and how to fix it)\n",
        "\n",
        "For doing np.multiply() we need same size of array element in both array than only we can do np.multiple()\n",
        "\n",
        "\n",
        "#### how to fix it\n",
        "\n",
        "If we vertically stack  ones  than we can do it.like"
      ]
    },
    {
      "cell_type": "code",
      "execution_count": null,
      "metadata": {
        "id": "UGwQURt6qRN8",
        "outputId": "e352978a-9a3a-46ea-edfb-216e78c30091"
      },
      "outputs": [
        {
          "name": "stdout",
          "output_type": "stream",
          "text": [
            "Before Modifing lists\n",
            "\n",
            "\n",
            "List 1: \n",
            " [[1, 2], [3, 4.0]]\n",
            "\n",
            "lList 2: [[5, 6, 7], [8, 9, 10]]\n",
            "Shape of array 1 :(2, 2)\n",
            "Shape of array 2 :(2, 3)\n",
            "\n",
            "\n",
            "\n",
            "After Modifing lists\n",
            "\n",
            "\n",
            "array 1:\n",
            " [[1. 2.]\n",
            " [3. 4.]\n",
            " [1. 1.]]\n",
            "\n",
            "\n",
            "array 2: [[ 5  6]\n",
            " [ 7  8]\n",
            " [ 9 10]]\n",
            "\n",
            "After Stack Shape of array 1 :(3, 2)\n",
            "Shape of array 2 :(3, 2)\n",
            "\n",
            "\n",
            "[[ 5. 12.]\n",
            " [21. 32.]\n",
            " [ 9. 10.]]\n"
          ]
        }
      ],
      "source": [
        "# to fix it\n",
        "\n",
        "arr1 = [[1, 2], \n",
        "        [3, 4.]]\n",
        "\n",
        "arr2 = [[5, 6, 7], \n",
        "        [8, 9, 10]]\n",
        "\n",
        "print(\"Before Modifing lists\\n\\n\")\n",
        "\n",
        "print(\"List 1: \\n\",arr1)\n",
        "\n",
        "print(\"\\nlList 2:\",arr2)\n",
        "\n",
        "\n",
        "# change list to array\n",
        "arr1 =np.array(arr1)\n",
        "arr2 =np.array(arr2)\n",
        "\n",
        "print(f\"Shape of array 1 :{arr1.shape}\\nShape of array 2 :{arr2.shape}\\n\")\n",
        "\n",
        "arr=np.ones((1,2),dtype=int)\n",
        "arr1=np.vstack((arr1,arr))\n",
        "\n",
        "print(\"\\n\\nAfter Modifing lists\\n\\n\")\n",
        "print(\"array 1:\\n\",arr1)\n",
        "\n",
        "# reshape Array2\n",
        "\n",
        "arr2=arr2.reshape(3,2)\n",
        "print(\"\\n\\narray 2:\",arr2)\n",
        "\n",
        "print(f\"\\nAfter Stack Shape of array 1 :{arr1.shape}\\nShape of array 2 :{arr2.shape}\\n\\n\")\n",
        "\n",
        "print (np.multiply(arr1,arr2) )"
      ]
    },
    {
      "cell_type": "markdown",
      "metadata": {
        "id": "zP7o7GDyqRN9"
      },
      "source": [
        "Some closing comments about when to use this function."
      ]
    },
    {
      "cell_type": "code",
      "execution_count": null,
      "metadata": {
        "id": "ah6U_q50qRN9",
        "outputId": "6b1ad5e9-e3ec-4d4c-fc1a-445da00a94d3"
      },
      "outputs": [
        {
          "data": {
            "application/javascript": [
              "window.require && require([\"base/js/namespace\"],function(Jupyter){Jupyter.notebook.save_checkpoint()})"
            ],
            "text/plain": [
              "<IPython.core.display.Javascript object>"
            ]
          },
          "metadata": {},
          "output_type": "display_data"
        },
        {
          "name": "stdout",
          "output_type": "stream",
          "text": [
            "[jovian] Updating notebook \"poojadas2014-pd/numpy-array-operations\" on https://jovian.ai\u001b[0m\n",
            "[jovian] Committed successfully! https://jovian.ai/poojadas2014-pd/numpy-array-operations\u001b[0m\n"
          ]
        },
        {
          "data": {
            "text/plain": [
              "'https://jovian.ai/poojadas2014-pd/numpy-array-operations'"
            ]
          },
          "execution_count": 27,
          "metadata": {},
          "output_type": "execute_result"
        }
      ],
      "source": [
        "jovian.commit()"
      ]
    },
    {
      "cell_type": "markdown",
      "metadata": {
        "id": "M8fDTgveqRN9"
      },
      "source": [
        "## Function 5 - np.hstack\n",
        "\n",
        "used to concentrate two  array  horizontally "
      ]
    },
    {
      "cell_type": "code",
      "execution_count": null,
      "metadata": {
        "id": "kC_l8VYWqRN-",
        "outputId": "3e5bd903-e581-47ce-e42c-a01540e769e7"
      },
      "outputs": [
        {
          "name": "stdout",
          "output_type": "stream",
          "text": [
            "[ 0  1  2  3  4  6  7  8  9 10]\n"
          ]
        }
      ],
      "source": [
        "# Example 1 - working\n",
        "arr1=np.arange(5)\n",
        "arr2=np.arange(6,11)\n",
        "print(np.hstack((arr1,arr2)))"
      ]
    },
    {
      "cell_type": "markdown",
      "metadata": {
        "id": "AKQI9rYOqRN-"
      },
      "source": [
        "### Explanation about example\n",
        "\n",
        " vector arr1 is concentrate  vector arr2  horizontally"
      ]
    },
    {
      "cell_type": "code",
      "execution_count": null,
      "metadata": {
        "id": "ekR7fJAFqRN-",
        "outputId": "3763f985-85d9-459d-8ed4-c3a8b715ce5a"
      },
      "outputs": [
        {
          "name": "stdout",
          "output_type": "stream",
          "text": [
            "[[ 0  1  2  7  8  9]\n",
            " [ 3  4  5 10 11 12]]\n"
          ]
        }
      ],
      "source": [
        "# Example 2 - working\n",
        "\n",
        "arr1=np.arange(6).reshape(2,3)\n",
        "arr2=np.arange(7,13).reshape(2,3)\n",
        "print(np.hstack((arr1,arr2)))"
      ]
    },
    {
      "cell_type": "markdown",
      "metadata": {
        "id": "AOYCSkovqRN_"
      },
      "source": [
        "### Explanation about example\n",
        "array arr1 is concentrate  array arr2  horizontally"
      ]
    },
    {
      "cell_type": "code",
      "execution_count": null,
      "metadata": {
        "id": "VN0yyRuuqRN_",
        "outputId": "598f9bb1-2135-45db-cfee-4edfa58f5fb4"
      },
      "outputs": [
        {
          "ename": "ValueError",
          "evalue": "all the input array dimensions for the concatenation axis must match exactly, but along dimension 0, the array at index 0 has size 2 and the array at index 1 has size 3",
          "output_type": "error",
          "traceback": [
            "\u001b[0;31m---------------------------------------------------------------------------\u001b[0m",
            "\u001b[0;31mValueError\u001b[0m                                Traceback (most recent call last)",
            "\u001b[0;32m/tmp/ipykernel_384/1319432231.py\u001b[0m in \u001b[0;36m<module>\u001b[0;34m\u001b[0m\n\u001b[1;32m      2\u001b[0m \u001b[0marr1\u001b[0m\u001b[0;34m=\u001b[0m\u001b[0mnp\u001b[0m\u001b[0;34m.\u001b[0m\u001b[0marange\u001b[0m\u001b[0;34m(\u001b[0m\u001b[0;36m6\u001b[0m\u001b[0;34m)\u001b[0m\u001b[0;34m.\u001b[0m\u001b[0mreshape\u001b[0m\u001b[0;34m(\u001b[0m\u001b[0;36m2\u001b[0m\u001b[0;34m,\u001b[0m\u001b[0;36m3\u001b[0m\u001b[0;34m)\u001b[0m\u001b[0;34m\u001b[0m\u001b[0;34m\u001b[0m\u001b[0m\n\u001b[1;32m      3\u001b[0m \u001b[0marr2\u001b[0m\u001b[0;34m=\u001b[0m\u001b[0mnp\u001b[0m\u001b[0;34m.\u001b[0m\u001b[0marange\u001b[0m\u001b[0;34m(\u001b[0m\u001b[0;36m7\u001b[0m\u001b[0;34m,\u001b[0m\u001b[0;36m13\u001b[0m\u001b[0;34m)\u001b[0m\u001b[0;34m.\u001b[0m\u001b[0mreshape\u001b[0m\u001b[0;34m(\u001b[0m\u001b[0;36m3\u001b[0m\u001b[0;34m,\u001b[0m\u001b[0;36m2\u001b[0m\u001b[0;34m)\u001b[0m\u001b[0;34m\u001b[0m\u001b[0;34m\u001b[0m\u001b[0m\n\u001b[0;32m----> 4\u001b[0;31m \u001b[0mprint\u001b[0m\u001b[0;34m(\u001b[0m\u001b[0mnp\u001b[0m\u001b[0;34m.\u001b[0m\u001b[0mhstack\u001b[0m\u001b[0;34m(\u001b[0m\u001b[0;34m(\u001b[0m\u001b[0marr1\u001b[0m\u001b[0;34m,\u001b[0m\u001b[0marr2\u001b[0m\u001b[0;34m)\u001b[0m\u001b[0;34m)\u001b[0m\u001b[0;34m)\u001b[0m\u001b[0;34m\u001b[0m\u001b[0;34m\u001b[0m\u001b[0m\n\u001b[0m",
            "\u001b[0;32m<__array_function__ internals>\u001b[0m in \u001b[0;36mhstack\u001b[0;34m(*args, **kwargs)\u001b[0m\n",
            "\u001b[0;32m/opt/conda/lib/python3.9/site-packages/numpy/core/shape_base.py\u001b[0m in \u001b[0;36mhstack\u001b[0;34m(tup)\u001b[0m\n\u001b[1;32m    344\u001b[0m         \u001b[0;32mreturn\u001b[0m \u001b[0m_nx\u001b[0m\u001b[0;34m.\u001b[0m\u001b[0mconcatenate\u001b[0m\u001b[0;34m(\u001b[0m\u001b[0marrs\u001b[0m\u001b[0;34m,\u001b[0m \u001b[0;36m0\u001b[0m\u001b[0;34m)\u001b[0m\u001b[0;34m\u001b[0m\u001b[0;34m\u001b[0m\u001b[0m\n\u001b[1;32m    345\u001b[0m     \u001b[0;32melse\u001b[0m\u001b[0;34m:\u001b[0m\u001b[0;34m\u001b[0m\u001b[0;34m\u001b[0m\u001b[0m\n\u001b[0;32m--> 346\u001b[0;31m         \u001b[0;32mreturn\u001b[0m \u001b[0m_nx\u001b[0m\u001b[0;34m.\u001b[0m\u001b[0mconcatenate\u001b[0m\u001b[0;34m(\u001b[0m\u001b[0marrs\u001b[0m\u001b[0;34m,\u001b[0m \u001b[0;36m1\u001b[0m\u001b[0;34m)\u001b[0m\u001b[0;34m\u001b[0m\u001b[0;34m\u001b[0m\u001b[0m\n\u001b[0m\u001b[1;32m    347\u001b[0m \u001b[0;34m\u001b[0m\u001b[0m\n\u001b[1;32m    348\u001b[0m \u001b[0;34m\u001b[0m\u001b[0m\n",
            "\u001b[0;32m<__array_function__ internals>\u001b[0m in \u001b[0;36mconcatenate\u001b[0;34m(*args, **kwargs)\u001b[0m\n",
            "\u001b[0;31mValueError\u001b[0m: all the input array dimensions for the concatenation axis must match exactly, but along dimension 0, the array at index 0 has size 2 and the array at index 1 has size 3"
          ]
        }
      ],
      "source": [
        "# Example 3 - breaking (to illustrate when it breaks)\n",
        "arr1=np.arange(6).reshape(2,3)\n",
        "arr2=np.arange(7,13).reshape(3,2)\n",
        "print(np.hstack((arr1,arr2)))"
      ]
    },
    {
      "cell_type": "markdown",
      "metadata": {
        "id": "ZDKPsjj2qRN_"
      },
      "source": [
        "### Explanation about example (why it breaks and how to fix it)\n",
        "\n",
        "For doing np.hstack() we need same size of array element in both array \n",
        "\n",
        "#### how to fix it\n",
        "\n",
        "If we transpose one array  than we can do it.like"
      ]
    },
    {
      "cell_type": "code",
      "execution_count": null,
      "metadata": {
        "id": "hrOoCV0VqROA",
        "outputId": "776931ef-ef3d-4c17-f272-7bcf7871e80f"
      },
      "outputs": [
        {
          "name": "stdout",
          "output_type": "stream",
          "text": [
            "Shape of array 1 :(2, 3)\n",
            "Shape of array 2 :(3, 2)\n",
            "\n",
            "\n",
            "\n",
            "After Transpose \n",
            "\n",
            "\n",
            "array 1:\n",
            " [[0 1 2]\n",
            " [3 4 5]]\n",
            "\n",
            "\n",
            "array 2: [[ 7  9 11]\n",
            " [ 8 10 12]]\n",
            "\n",
            "After Stack Shape of array 1 :(2, 3)\n",
            "Shape of array 2 :(2, 3)\n",
            "\n",
            "\n",
            "[[ 0  1  2  7  9 11]\n",
            " [ 3  4  5  8 10 12]]\n"
          ]
        }
      ],
      "source": [
        "arr1=np.arange(6).reshape(2,3)\n",
        "arr2=np.arange(7,13).reshape(3,2)\n",
        "\n",
        "print(f\"Shape of array 1 :{arr1.shape}\\nShape of array 2 :{arr2.shape}\\n\")\n",
        "\n",
        "\n",
        "# transpose\n",
        "\n",
        "arr2=arr2.T\n",
        "\n",
        "print(\"\\n\\nAfter Transpose \\n\\n\")\n",
        "print(\"array 1:\\n\",arr1)\n",
        "\n",
        "# reshape Array2\n",
        "\n",
        "print(\"\\n\\narray 2:\",arr2)\n",
        "\n",
        "print(f\"\\nAfter Stack Shape of array 1 :{arr1.shape}\\nShape of array 2 :{arr2.shape}\\n\\n\")\n",
        "\n",
        "\n",
        "\n",
        "print (np.hstack((arr1,arr2)))"
      ]
    },
    {
      "cell_type": "markdown",
      "metadata": {
        "id": "lcsuqOgTqROA"
      },
      "source": [
        "Some closing comments about when to use this function."
      ]
    },
    {
      "cell_type": "code",
      "execution_count": null,
      "metadata": {
        "id": "qkLf2Gi7qROA",
        "outputId": "dbc34c62-00aa-4c15-bac2-9dc68bdb4342"
      },
      "outputs": [
        {
          "data": {
            "application/javascript": [
              "window.require && require([\"base/js/namespace\"],function(Jupyter){Jupyter.notebook.save_checkpoint()})"
            ],
            "text/plain": [
              "<IPython.core.display.Javascript object>"
            ]
          },
          "metadata": {},
          "output_type": "display_data"
        },
        {
          "name": "stdout",
          "output_type": "stream",
          "text": [
            "[jovian] Updating notebook \"poojadas2014-pd/numpy-array-operations\" on https://jovian.ai\u001b[0m\n",
            "[jovian] Committed successfully! https://jovian.ai/poojadas2014-pd/numpy-array-operations\u001b[0m\n"
          ]
        },
        {
          "data": {
            "text/plain": [
              "'https://jovian.ai/poojadas2014-pd/numpy-array-operations'"
            ]
          },
          "execution_count": 32,
          "metadata": {},
          "output_type": "execute_result"
        }
      ],
      "source": [
        "jovian.commit()"
      ]
    },
    {
      "cell_type": "markdown",
      "metadata": {
        "id": "tsNyqKYMqROB"
      },
      "source": [
        "## Conclusion\n",
        "\n",
        "Summarize what was covered in this notebook, and where to go next"
      ]
    },
    {
      "cell_type": "markdown",
      "metadata": {
        "id": "5dLFNVloqROB"
      },
      "source": [
        "## Reference Links\n",
        "Provide links to your references and other interesting articles about Numpy arrays:\n",
        "* Numpy official tutorial : https://numpy.org/doc/stable/user/quickstart.html\n",
        "* ..."
      ]
    },
    {
      "cell_type": "code",
      "execution_count": null,
      "metadata": {
        "id": "x3wcDnBFqROB",
        "outputId": "21dbda3d-edc9-489b-cce4-6079f5158893"
      },
      "outputs": [
        {
          "data": {
            "application/javascript": [
              "window.require && require([\"base/js/namespace\"],function(Jupyter){Jupyter.notebook.save_checkpoint()})"
            ],
            "text/plain": [
              "<IPython.core.display.Javascript object>"
            ]
          },
          "metadata": {},
          "output_type": "display_data"
        },
        {
          "name": "stdout",
          "output_type": "stream",
          "text": [
            "[jovian] Updating notebook \"poojadas2014-pd/numpy-array-operations\" on https://jovian.ai\u001b[0m\n",
            "[jovian] Committed successfully! https://jovian.ai/poojadas2014-pd/numpy-array-operations\u001b[0m\n"
          ]
        },
        {
          "data": {
            "text/plain": [
              "'https://jovian.ai/poojadas2014-pd/numpy-array-operations'"
            ]
          },
          "execution_count": 33,
          "metadata": {},
          "output_type": "execute_result"
        }
      ],
      "source": [
        "jovian.commit()"
      ]
    }
  ],
  "metadata": {
    "kernelspec": {
      "display_name": "Python 3 (ipykernel)",
      "language": "python",
      "name": "python3"
    },
    "language_info": {
      "codemirror_mode": {
        "name": "ipython",
        "version": 3
      },
      "file_extension": ".py",
      "mimetype": "text/x-python",
      "name": "python",
      "nbconvert_exporter": "python",
      "pygments_lexer": "ipython3",
      "version": "3.9.6"
    },
    "colab": {
      "name": "numpy-array-operations.ipynb",
      "provenance": [],
      "include_colab_link": true
    }
  },
  "nbformat": 4,
  "nbformat_minor": 0
}