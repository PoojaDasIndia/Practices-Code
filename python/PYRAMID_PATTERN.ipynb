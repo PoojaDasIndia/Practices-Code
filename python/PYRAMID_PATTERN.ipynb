{
 "cells": [
  {
   "cell_type": "markdown",
   "id": "563ef486",
   "metadata": {},
   "source": [
    "# PYRAMID PATTERNS\n",
    "\n"
   ]
  },
  {
   "cell_type": "markdown",
   "id": "6e398fbf",
   "metadata": {},
   "source": [
    "### Pattern - 1: Simple pyramid pattern\n",
    " \n",
    "        * - - - -\n",
    "        * * - - -\n",
    "        * * * - -\n",
    "        * * * * -\n",
    "        * * * * *\n",
    "       \n",
    "   '-' means space    "
   ]
  },
  {
   "cell_type": "code",
   "execution_count": 1,
   "id": "b4536360",
   "metadata": {},
   "outputs": [
    {
     "name": "stdout",
     "output_type": "stream",
     "text": [
      "Enter any value 7\n",
      "\n",
      "* \n",
      "* * \n",
      "* * * \n",
      "* * * * \n",
      "* * * * * \n",
      "* * * * * * \n",
      "* * * * * * * \n"
     ]
    }
   ],
   "source": [
    "n= int(input(\"Enter any value \")) #ask user to input no.\n",
    "print()\n",
    "for i in range(n):# for row  increament 0 to n\n",
    "    for j in range(i+1):  # for col.increa\n",
    "        print(\"*\",end=\" \")\n",
    "    print()    \n",
    "    "
   ]
  },
  {
   "cell_type": "markdown",
   "id": "97d0c80e",
   "metadata": {},
   "source": [
    "### Pattern - 2: Reverse right angle pyramid\n",
    "    \n",
    "      - - - - * \n",
    "      - - - * *\n",
    "      - - * * * \n",
    "      - * * * * \n",
    "      * * * * *"
   ]
  },
  {
   "cell_type": "code",
   "execution_count": 2,
   "id": "412df167",
   "metadata": {},
   "outputs": [
    {
     "name": "stdout",
     "output_type": "stream",
     "text": [
      "Enter any value 7\n",
      "\n",
      "            * \n",
      "          * * \n",
      "        * * * \n",
      "      * * * * \n",
      "    * * * * * \n",
      "  * * * * * * \n",
      "* * * * * * * \n"
     ]
    }
   ],
   "source": [
    "n= int(input(\"Enter any value \")) #ask user to input no.\n",
    "print()\n",
    "for i in range(n):# for row  increament 0 to n\n",
    "    for j in range(i,n-1):  # for col.increa for space\n",
    "        print(\" \",end=\" \") #- for space represent\n",
    "    for j in range(i+1): #for print *\n",
    "        print(\"*\",end=\" \")\n",
    "    print()"
   ]
  },
  {
   "cell_type": "markdown",
   "id": "7ee8fe5d",
   "metadata": {},
   "source": [
    "### Pattern - 3: Printing Downward half - Pyramid\n",
    "     \n",
    "     * * * * *\n",
    "     * * * * -\n",
    "     * * * - -\n",
    "     * * - - -\n",
    "     * - - - -"
   ]
  },
  {
   "cell_type": "code",
   "execution_count": 3,
   "id": "cfafe2d6",
   "metadata": {
    "scrolled": true
   },
   "outputs": [
    {
     "name": "stdout",
     "output_type": "stream",
     "text": [
      "Enter any value 7\n",
      "\n",
      "* * * * * * * \n",
      "* * * * * *   \n",
      "* * * * *     \n",
      "* * * *       \n",
      "* * *         \n",
      "* *           \n",
      "*             \n"
     ]
    }
   ],
   "source": [
    "n= int(input(\"Enter any value \")) \n",
    "print()\n",
    "for i in range(n):\n",
    "    for j in range(i,n):  \n",
    "        print(\"*\",end=\" \")\n",
    "    for j in range(i): \n",
    "        print(\" \",end=\" \")\n",
    "    print()"
   ]
  },
  {
   "cell_type": "markdown",
   "id": "7ed2efd5",
   "metadata": {},
   "source": [
    "### Pattern - 4: Printing reversed Downward half - Pyramid\n",
    "     \n",
    "     * * * * *\n",
    "     - * * * *\n",
    "     - - * * * \n",
    "     - - - * * \n",
    "     - - - - * "
   ]
  },
  {
   "cell_type": "code",
   "execution_count": 4,
   "id": "04f8bf81",
   "metadata": {},
   "outputs": [
    {
     "name": "stdout",
     "output_type": "stream",
     "text": [
      "Enter any value 7\n",
      "\n",
      "* * * * * * * \n",
      "  * * * * * * \n",
      "    * * * * * \n",
      "      * * * * \n",
      "        * * * \n",
      "          * * \n",
      "            * \n"
     ]
    }
   ],
   "source": [
    "n= int(input(\"Enter any value \"))\n",
    "print()\n",
    "for i in range(n):\n",
    "    for j in range(i):  \n",
    "        print(\" \",end=\" \")\n",
    "    for j in range(i,n): \n",
    "        print(\"*\",end=\" \")\n",
    "    print()"
   ]
  },
  {
   "cell_type": "markdown",
   "id": "592863c3",
   "metadata": {},
   "source": [
    "### Pattern - 5: Printing Reversed Hill - Pyramid\n",
    "     \n",
    "     - - - - * - - - -\n",
    "     - - - * * * - - -\n",
    "     - - * * * * * - - \n",
    "     - * * * * * * * - \n",
    "     * * * * * * * * *"
   ]
  },
  {
   "cell_type": "code",
   "execution_count": 5,
   "id": "759cb9ca",
   "metadata": {},
   "outputs": [
    {
     "name": "stdout",
     "output_type": "stream",
     "text": [
      "Enter any value 7\n",
      "\n",
      "            * \n",
      "          * * * \n",
      "        * * * * * \n",
      "      * * * * * * * \n",
      "    * * * * * * * * * \n",
      "  * * * * * * * * * * * \n",
      "* * * * * * * * * * * * * \n"
     ]
    }
   ],
   "source": [
    "n= int(input(\"Enter any value \")) \n",
    "print()\n",
    "for i in range(n):\n",
    "    for j in range(i,n-1):  \n",
    "        print(\" \",end=\" \")\n",
    "    for j in range(i+1): \n",
    "        print(\"*\",end=\" \")\n",
    "    for j in range(i): \n",
    "        print(\"*\",end=\" \")    \n",
    "    print()"
   ]
  },
  {
   "cell_type": "markdown",
   "id": "ddd1dbad",
   "metadata": {},
   "source": [
    "### Pattern - 6: Printing Reversed Hill - Pyramid\n",
    "    \n",
    "     * * * * * * * * *\n",
    "     - * * * * * * * -\n",
    "     - - * * * * * - - \n",
    "     - - - * * * - - -\n",
    "     - - - - * - - - - "
   ]
  },
  {
   "cell_type": "code",
   "execution_count": 6,
   "id": "59a251f5",
   "metadata": {},
   "outputs": [
    {
     "name": "stdout",
     "output_type": "stream",
     "text": [
      "Enter any value 7\n",
      "\n",
      "* * * * * * * * * * * * * \n",
      "  * * * * * * * * * * * \n",
      "    * * * * * * * * * \n",
      "      * * * * * * * \n",
      "        * * * * * \n",
      "          * * * \n",
      "            * \n"
     ]
    }
   ],
   "source": [
    "n= int(input(\"Enter any value \")) \n",
    "print()\n",
    "for i in range(n):\n",
    "    for j in range(i):  \n",
    "        print(\" \",end=\" \")\n",
    "    for j in range(i,n): \n",
    "        print(\"*\",end=\" \")\n",
    "    for j in range(i,n-1): \n",
    "        print(\"*\",end=\" \")    \n",
    "    print()"
   ]
  },
  {
   "cell_type": "markdown",
   "id": "2831aa3e",
   "metadata": {},
   "source": [
    "### Pattern - 7: Printing Diamond - Pyramid\n",
    "     \n",
    "     - - - - * - - - -\n",
    "     - - - * * * - - -\n",
    "     - - * * * * * - - \n",
    "     - * * * * * * * -  \n",
    "     * * * * * * * * *\n",
    "     - * * * * * * * -\n",
    "     - - * * * * * - - \n",
    "     - - - * * * - - -\n",
    "     - - - - * - - - - "
   ]
  },
  {
   "cell_type": "code",
   "execution_count": 7,
   "id": "30949937",
   "metadata": {
    "scrolled": true
   },
   "outputs": [
    {
     "name": "stdout",
     "output_type": "stream",
     "text": [
      "Enter any value 7\n",
      "\n",
      "            * \n",
      "          * * * \n",
      "        * * * * * \n",
      "      * * * * * * * \n",
      "    * * * * * * * * * \n",
      "  * * * * * * * * * * * \n",
      "* * * * * * * * * * * * * \n",
      "  * * * * * * * * * * * \n",
      "    * * * * * * * * * \n",
      "      * * * * * * * \n",
      "        * * * * * \n",
      "          * * * \n",
      "            * \n"
     ]
    }
   ],
   "source": [
    "n= int(input(\"Enter any value \")) \n",
    "print()\n",
    "for i in range(n-1):\n",
    "    for j in range(i,n-1):  \n",
    "        print(\" \",end=\" \")\n",
    "    for j in range(i+1): \n",
    "        print(\"*\",end=\" \")\n",
    "    for j in range(i): \n",
    "        print(\"*\",end=\" \")    \n",
    "    print()\n",
    "for i in range(n):\n",
    "    for j in range(i):  \n",
    "        print(\" \",end=\" \")\n",
    "    for j in range(i,n): \n",
    "        print(\"*\",end=\" \")\n",
    "    for j in range(i,n-1): \n",
    "        print(\"*\",end=\" \")    \n",
    "    print()"
   ]
  },
  {
   "cell_type": "markdown",
   "id": "73275d56",
   "metadata": {},
   "source": [
    "### Pattern - 8: Print two pyramid in a single pattern Like left pyramid reflect as downward\n",
    "\n",
    "\n",
    "    * - - - -\n",
    "    * * - - - \n",
    "    * * * - - \n",
    "    * * * * -  \n",
    "    * * * * *\n",
    "    * * * * -\n",
    "    * * * - - \n",
    "    * * - - -\n",
    "    * - - - - "
   ]
  },
  {
   "cell_type": "code",
   "execution_count": 8,
   "id": "22bdead1",
   "metadata": {
    "scrolled": true
   },
   "outputs": [
    {
     "name": "stdout",
     "output_type": "stream",
     "text": [
      "Enter any value 7\n",
      "\n",
      "* \n",
      "* * \n",
      "* * * \n",
      "* * * * \n",
      "* * * * * \n",
      "* * * * * * \n",
      "* * * * * * * \n",
      "* * * * * * \n",
      "* * * * * \n",
      "* * * * \n",
      "* * * \n",
      "* * \n",
      "* \n"
     ]
    }
   ],
   "source": [
    "n= int(input(\"Enter any value \")) \n",
    "print()\n",
    "for i in range(n):\n",
    "    for j in range(i+1):  \n",
    "        print(\"*\",end=\" \")\n",
    "    print()    \n",
    "for i in range (n-1):\n",
    "    for j in range(i,n-1): \n",
    "        print(\"*\",end=\" \")       \n",
    "    print()"
   ]
  },
  {
   "cell_type": "markdown",
   "id": "e11334ee",
   "metadata": {},
   "source": [
    "### Pattern - 9: Water  Busket Pattern or M pattern"
   ]
  },
  {
   "cell_type": "code",
   "execution_count": 9,
   "id": "2168e36b",
   "metadata": {},
   "outputs": [
    {
     "name": "stdout",
     "output_type": "stream",
     "text": [
      "Enter any value 7\n",
      "\n",
      "*                         * \n",
      "* *                     * * \n",
      "* * *                 * * * \n",
      "* * * *             * * * * \n",
      "* * * * *         * * * * * \n",
      "* * * * * *     * * * * * * \n",
      "* * * * * * * * * * * * * * \n"
     ]
    }
   ],
   "source": [
    "n= int(input(\"Enter any value \")) \n",
    "print()\n",
    "for i in range(n):\n",
    "    for j in range(i+1):  \n",
    "        print(\"*\",end=\" \")\n",
    "    for j in range(i,n-1): \n",
    "        print(\" \",end=\" \")\n",
    "    for j in range(i,n-1): \n",
    "        print(\" \",end=\" \")  \n",
    "    for j in range(i+1): \n",
    "        print(\"*\",end=\" \")     \n",
    "    print()"
   ]
  },
  {
   "cell_type": "markdown",
   "id": "04a2a597",
   "metadata": {},
   "source": [
    "### Pattern - 10: Hourglass Pattern\n",
    "  \n",
    "           * * * * * * * * *\n",
    "           - * * * * * * * -\n",
    "           - - * * * * * - - \n",
    "           - - - * * * - - -\n",
    "           - - - - * - - - - \n",
    "           - - - - * - - - - \n",
    "           - - - * * * - - -\n",
    "           - - * * * * * - - \n",
    "           - * * * * * * * - \n",
    "           * * * * * * * * *\n"
   ]
  },
  {
   "cell_type": "code",
   "execution_count": 10,
   "id": "33d63ecd",
   "metadata": {
    "scrolled": true
   },
   "outputs": [
    {
     "name": "stdout",
     "output_type": "stream",
     "text": [
      "Enter any value 7\n",
      "\n",
      "* * * * * * * * * * * * * \n",
      "  * * * * * * * * * * * \n",
      "    * * * * * * * * * \n",
      "      * * * * * * * \n",
      "        * * * * * \n",
      "          * * * \n",
      "            * \n",
      "            * \n",
      "          * * * \n",
      "        * * * * * \n",
      "      * * * * * * * \n",
      "    * * * * * * * * * \n",
      "  * * * * * * * * * * * \n",
      "* * * * * * * * * * * * * \n"
     ]
    }
   ],
   "source": [
    "n= int(input(\"Enter any value \")) \n",
    "print()\n",
    "for i in range(n):\n",
    "    for j in range(i):  \n",
    "        print(\" \",end=\" \")\n",
    "    for j in range(i,n): \n",
    "        print(\"*\",end=\" \")\n",
    "    for j in range(i,n-1): \n",
    "        print(\"*\",end=\" \")    \n",
    "    print()\n",
    "for i in range(n):\n",
    "    for j in range(i,n-1):  \n",
    "        print(\" \",end=\" \")\n",
    "    for j in range(i+1): \n",
    "        print(\"*\",end=\" \")\n",
    "    for j in range(i): \n",
    "        print(\"*\",end=\" \")    \n",
    "    print()\n"
   ]
  },
  {
   "cell_type": "markdown",
   "id": "0284404c",
   "metadata": {},
   "source": [
    "### Pattern - 11: Square parttern\n",
    "\n",
    "        * * * * *\n",
    "        * * * * *\n",
    "        * * * * *\n",
    "        * * * * *\n",
    "        * * * * *"
   ]
  },
  {
   "cell_type": "code",
   "execution_count": 11,
   "id": "5e104a80",
   "metadata": {},
   "outputs": [
    {
     "name": "stdout",
     "output_type": "stream",
     "text": [
      "Enter any value 7\n",
      "\n",
      "* * * * * * * \n",
      "* * * * * * * \n",
      "* * * * * * * \n",
      "* * * * * * * \n",
      "* * * * * * * \n",
      "* * * * * * * \n",
      "* * * * * * * \n"
     ]
    }
   ],
   "source": [
    "n= int(input(\"Enter any value \")) \n",
    "print()\n",
    "for i in range(n):\n",
    "    for j in range(n):  \n",
    "        print(\"*\",end=\" \")\n",
    "    print()   \n",
    "   "
   ]
  },
  {
   "attachments": {
    "table%20_page-0001-2.jpg": {
     "image/jpeg": "[encoded data removed]"
    }
   },
   "cell_type": "markdown",
   "id": "fff78d68",
   "metadata": {},
   "source": [
    "## For Mid value i== n//2 and j==n//2\n",
    "\n",
    " ![table%20_page-0001-2.jpg](attachment:table%20_page-0001-2.jpg)"
   ]
  },
  {
   "cell_type": "markdown",
   "id": "cc6c09b5",
   "metadata": {},
   "source": [
    "### Pattern - 12:  Parallel bar parttern\n",
    "    \n",
    "    * - - - *\n",
    "    * - - - *\n",
    "    * - - - *\n",
    "    * - - - *\n",
    "    * - - - *"
   ]
  },
  {
   "cell_type": "code",
   "execution_count": 12,
   "id": "7fa755ea",
   "metadata": {},
   "outputs": [
    {
     "name": "stdout",
     "output_type": "stream",
     "text": [
      "Enter any value 7\n",
      "\n",
      "*           * \n",
      "*           * \n",
      "*           * \n",
      "*           * \n",
      "*           * \n",
      "*           * \n",
      "*           * \n"
     ]
    }
   ],
   "source": [
    "n= int(input(\"Enter any value \")) \n",
    "print()\n",
    "for i in range(n):\n",
    "    for j in range(n): \n",
    "        if j==0 or j==n-1 :\n",
    "            print(\"*\",end=\" \")\n",
    "        else :\n",
    "            print(\" \",end=\" \")\n",
    "    print() "
   ]
  },
  {
   "cell_type": "markdown",
   "id": "08cbb962",
   "metadata": {},
   "source": [
    "### Pattern - 13: Equal to sign parttern\n",
    "   \n",
    "    * * * * *\n",
    "    - - - - -\n",
    "    - - - - -\n",
    "    - - - - -\n",
    "    * * * * *"
   ]
  },
  {
   "cell_type": "code",
   "execution_count": 13,
   "id": "f65a504f",
   "metadata": {},
   "outputs": [
    {
     "name": "stdout",
     "output_type": "stream",
     "text": [
      "Enter any value 7\n",
      "\n",
      "* * * * * * * \n",
      "              \n",
      "              \n",
      "              \n",
      "              \n",
      "              \n",
      "* * * * * * * \n"
     ]
    }
   ],
   "source": [
    "n= int(input(\"Enter any value \")) \n",
    "print()\n",
    "for i in range(n):\n",
    "    for j in range(n): \n",
    "        if i==0 or i==n-1 :\n",
    "            print(\"*\",end=\" \")\n",
    "        else :\n",
    "            print(\" \",end=\" \")\n",
    "    print() "
   ]
  },
  {
   "cell_type": "markdown",
   "id": "0cb1d450",
   "metadata": {},
   "source": [
    "### Pattern - 14: Cross parttern\n",
    "   \n",
    "    * - - - *\n",
    "    - * - * -\n",
    "    - - * - -\n",
    "    - * - * -\n",
    "    * - - - *"
   ]
  },
  {
   "cell_type": "code",
   "execution_count": 14,
   "id": "4310b5df",
   "metadata": {},
   "outputs": [
    {
     "name": "stdout",
     "output_type": "stream",
     "text": [
      "Enter any value 7\n",
      "\n",
      "*           * \n",
      "  *       *   \n",
      "    *   *     \n",
      "      *       \n",
      "    *   *     \n",
      "  *       *   \n",
      "*           * \n"
     ]
    }
   ],
   "source": [
    "n= int(input(\"Enter any value \")) \n",
    "print()\n",
    "for i in range(n):\n",
    "    for j in range(n): \n",
    "        if i==j or i+j==n-1 :\n",
    "            print(\"*\",end=\" \")\n",
    "        else :\n",
    "            print(\" \",end=\" \")\n",
    "    print() "
   ]
  },
  {
   "cell_type": "markdown",
   "id": "8fef2088",
   "metadata": {},
   "source": [
    "### Pattern - 15: plus parttern¶\n",
    "    \n",
    "    - - * - -\n",
    "    - - * - -\n",
    "    * * * * *\n",
    "    - - * - -\n",
    "    - - * - -"
   ]
  },
  {
   "cell_type": "code",
   "execution_count": 15,
   "id": "7bb08cff",
   "metadata": {},
   "outputs": [
    {
     "name": "stdout",
     "output_type": "stream",
     "text": [
      "Enter any value 7\n",
      "\n",
      "      *       \n",
      "      *       \n",
      "      *       \n",
      "* * * * * * * \n",
      "      *       \n",
      "      *       \n",
      "      *       \n"
     ]
    }
   ],
   "source": [
    "n= int(input(\"Enter any value \")) \n",
    "print()\n",
    "for i in range(n):\n",
    "    for j in range(n): \n",
    "        if i==n//2 or j==n//2 : # for mid value i== n//2 ann j==n//2\n",
    "            print(\"*\",end=\" \")\n",
    "        else :\n",
    "            print(\" \",end=\" \")\n",
    "    print()"
   ]
  },
  {
   "cell_type": "markdown",
   "id": "95d02c86",
   "metadata": {},
   "source": [
    "### Pattern - 16: Hollow square parttern¶\n",
    "    \n",
    "    * * * * *\n",
    "    * - - - *\n",
    "    * - - - *\n",
    "    * - - - *\n",
    "    * * * * *"
   ]
  },
  {
   "cell_type": "code",
   "execution_count": 16,
   "id": "9020148f",
   "metadata": {},
   "outputs": [
    {
     "name": "stdout",
     "output_type": "stream",
     "text": [
      "Enter any value 7\n",
      "\n",
      "* * * * * * * \n",
      "*           * \n",
      "*           * \n",
      "*           * \n",
      "*           * \n",
      "*           * \n",
      "* * * * * * * \n"
     ]
    }
   ],
   "source": [
    "n= int(input(\"Enter any value \")) \n",
    "print()\n",
    "for i in range(n):\n",
    "    for j in range(n): \n",
    "        if i==0 or i==n-1 or j==0 or j==n-1:\n",
    "            print(\"*\",end=\" \")\n",
    "        else :\n",
    "            print(\" \",end=\" \")\n",
    "    print()"
   ]
  },
  {
   "cell_type": "markdown",
   "id": "89c034eb",
   "metadata": {},
   "source": [
    "### Pattern - :17 Hollow triangle parttern¶1\n",
    "    \n",
    "    * \n",
    "    * *\n",
    "    * - * \n",
    "    * - - *\n",
    "    * * * * *"
   ]
  },
  {
   "cell_type": "code",
   "execution_count": 17,
   "id": "48e26535",
   "metadata": {
    "scrolled": true
   },
   "outputs": [
    {
     "name": "stdout",
     "output_type": "stream",
     "text": [
      "Enter any value 7\n",
      "\n",
      "*             \n",
      "* *           \n",
      "*   *         \n",
      "*     *       \n",
      "*       *     \n",
      "*         *   \n",
      "* * * * * * * \n"
     ]
    }
   ],
   "source": [
    "n= int(input(\"Enter any value \")) \n",
    "print()\n",
    "for i in range(n):\n",
    "    for j in range(n): \n",
    "        if j==0 or i==j or i==n-1: \n",
    "            print(\"*\",end=\" \")\n",
    "        else :\n",
    "            print(\" \",end=\" \")\n",
    "    print()"
   ]
  },
  {
   "cell_type": "markdown",
   "id": "6045c3ef",
   "metadata": {},
   "source": [
    "### Pattern - : Display letter of the word in Pattern\n",
    "    like Pooja \n",
    "    \n",
    "    P\n",
    "    Po\n",
    "    Poo\n",
    "    Pooj\n",
    "    Pooja\n",
    "    "
   ]
  },
  {
   "cell_type": "code",
   "execution_count": 27,
   "id": "61afed5a",
   "metadata": {},
   "outputs": [
    {
     "name": "stdout",
     "output_type": "stream",
     "text": [
      "Enter your Name or wordPooja Das\n",
      "P\n",
      "Po\n",
      "Poo\n",
      "Pooj\n",
      "Pooja\n",
      "Pooja D\n",
      "Pooja Da\n",
      "Pooja Das\n"
     ]
    }
   ],
   "source": [
    "name = input(\"Enter your Name or word\")  \n",
    "adder_str = \"\"  \n",
    "for i in name:  \n",
    "    adder_str += i \n",
    "    if i==\" \":\n",
    "        continue\n",
    "    print(adder_str) "
   ]
  },
  {
   "cell_type": "code",
   "execution_count": null,
   "id": "c3b101bb",
   "metadata": {},
   "outputs": [],
   "source": []
  }
 ],
 "metadata": {
  "kernelspec": {
   "display_name": "Python 3 (ipykernel)",
   "language": "python",
   "name": "python3"
  },
  "language_info": {
   "codemirror_mode": {
    "name": "ipython",
    "version": 3
   },
   "file_extension": ".py",
   "mimetype": "text/x-python",
   "name": "python",
   "nbconvert_exporter": "python",
   "pygments_lexer": "ipython3",
   "version": "3.9.7"
  }
 },
 "nbformat": 4,
 "nbformat_minor": 5
}
