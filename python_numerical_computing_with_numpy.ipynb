{
  "cells": [
    {
      "cell_type": "markdown",
      "metadata": {
        "id": "view-in-github",
        "colab_type": "text"
      },
      "source": [
        "<a href=\"https://colab.research.google.com/github/PoojaDasIndia/Practices-Code/blob/main/python_numerical_computing_with_numpy.ipynb\" target=\"_parent\"><img src=\"https://colab.research.google.com/assets/colab-badge.svg\" alt=\"Open In Colab\"/></a>"
      ]
    },
    {
      "cell_type": "code",
      "execution_count": null,
      "metadata": {
        "id": "hqdrfb-1qElW"
      },
      "outputs": [],
      "source": [
        "# Jovian Commit Essentials\n",
        "# Please retain and execute this cell without modifying the contents for `jovian.commit` to work\n",
        "!pip install jovian --upgrade -q\n",
        "import jovian\n",
        "jovian.set_project('python-numerical-computing-with-numpy')\n",
        "jovian.set_colab_id('1U4mdV-OMsaiUHINgUYUOtt30ipUt1Kbm')"
      ]
    },
    {
      "cell_type": "markdown",
      "metadata": {
        "id": "2zegjqNkqElf"
      },
      "source": [
        "# Numerical Computing with Python and Numpy\n",
        "\n",
        "![](https://i.imgur.com/mg8O3kd.png)\n",
        "\n",
        "### Part 6 of \"Data Analysis with Python: Zero to Pandas\"\n",
        "\n",
        "\n",
        "This tutorial series is a beginner-friendly introduction to programming and data analysis using the Python programming language. These tutorials take a practical and coding-focused approach. The best way to learn the material is to execute the code and experiment with it yourself. Check out the full series here: \n",
        "\n",
        "1. [First Steps with Python and Jupyter](https://jovian.ai/aakashns/first-steps-with-python)\n",
        "2. [A Quick Tour of Variables and Data Types](https://jovian.ai/aakashns/python-variables-and-data-types)\n",
        "3. [Branching using Conditional Statements and Loops](https://jovian.ai/aakashns/python-branching-and-loops)\n",
        "4. [Writing Reusable Code Using Functions](https://jovian.ai/aakashns/python-functions-and-scope)\n",
        "5. [Reading from and Writing to Files](https://jovian.ai/aakashns/python-os-and-filesystem)\n",
        "6. [Numerical Computing with Python and Numpy](https://jovian.ai/aakashns/python-numerical-computing-with-numpy)\n",
        "7. [Analyzing Tabular Data using Pandas](https://jovian.ai/aakashns/python-pandas-data-analysis)\n",
        "8. [Data Visualization using Matplotlib & Seaborn](https://jovian.ai/aakashns/python-matplotlib-data-visualization)\n",
        "9. [Exploratory Data Analysis - A Case Study](https://jovian.ai/aakashns/python-eda-stackoverflow-survey)\n"
      ]
    },
    {
      "cell_type": "markdown",
      "metadata": {
        "id": "FQ25FmpxqElk"
      },
      "source": [
        "This tutorial covers the following topics:\n",
        "\n",
        "- Working with numerical data in Python\n",
        "- Going from Python lists to Numpy arrays\n",
        "- Multi-dimensional Numpy arrays and their benefits\n",
        "- Array operations, broadcasting, indexing, and slicing\n",
        "- Working with CSV data files using Numpy"
      ]
    },
    {
      "cell_type": "markdown",
      "metadata": {
        "id": "SHKt3daTqElm"
      },
      "source": [
        "### How to run the code\n",
        "\n",
        "This tutorial is an executable [Jupyter notebook](https://jupyter.org) hosted on [Jovian](https://www.jovian.ai). You can _run_ this tutorial and experiment with the code examples in a couple of ways: *using free online resources* (recommended) or *on your computer*.\n",
        "\n",
        "#### Option 1: Running using free online resources (1-click, recommended)\n",
        "\n",
        "The easiest way to start executing the code is to click the **Run** button at the top of this page and select **Run on Binder**. You can also select \"Run on Colab\" or \"Run on Kaggle\", but you'll need to create an account on [Google Colab](https://colab.research.google.com) or [Kaggle](https://kaggle.com) to use these platforms.\n",
        "\n",
        "\n",
        "#### Option 2: Running on your computer locally\n",
        "\n",
        "To run the code on your computer locally, you'll need to set up [Python](https://www.python.org), download the notebook and install the required libraries. We recommend using the [Conda](https://docs.conda.io/projects/conda/en/latest/user-guide/install/) distribution of Python. Click the **Run** button at the top of this page, select the **Run Locally** option, and follow the instructions.\n",
        "\n",
        ">  **Jupyter Notebooks**: This tutorial is a [Jupyter notebook](https://jupyter.org) - a document made of _cells_. Each cell can contain code written in Python or explanations in plain English. You can execute code cells and view the results, e.g., numbers, messages, graphs, tables, files, etc., instantly within the notebook. Jupyter is a powerful platform for experimentation and analysis. Don't be afraid to mess around with the code & break things - you'll learn a lot by encountering and fixing errors. You can use the \"Kernel > Restart & Clear Output\" menu option to clear all outputs and start again from the top."
      ]
    },
    {
      "cell_type": "markdown",
      "metadata": {
        "id": "z2m6PGGfqElo"
      },
      "source": [
        "## Working with numerical data\n",
        "\n",
        "The \"data\" in *Data Analysis* typically refers to numerical data, e.g., stock prices, sales figures, sensor measurements, sports scores, database tables, etc. The [Numpy](https://numpy.org) library provides specialized data structures, functions, and other tools for numerical computing in Python. Let's work through an example to see why & how to use Numpy for working with numerical data.\n",
        "\n",
        "\n",
        "> Suppose we want to use climate data like the temperature, rainfall, and humidity to determine if a region is well suited for growing apples. A simple approach for doing this would be to formulate the relationship between the annual yield of apples (tons per hectare) and the climatic conditions like the average temperature (in degrees Fahrenheit), rainfall (in  millimeters) & average relative humidity (in percentage) as a linear equation.\n",
        ">\n",
        "> `yield_of_apples = w1 * temperature + w2 * rainfall + w3 * humidity`\n",
        "\n",
        "We're expressing the yield of apples as a weighted sum of the temperature, rainfall, and humidity. This equation is an approximation since the actual relationship may not necessarily be linear, and there may be other factors involved. But a simple linear model like this often works well in practice.\n",
        "\n",
        "Based on some statical analysis of historical data, we might come up with reasonable values for the weights `w1`, `w2`, and `w3`. Here's an example set of values:"
      ]
    },
    {
      "cell_type": "code",
      "execution_count": null,
      "metadata": {
        "id": "fIHRRurlqElq"
      },
      "outputs": [],
      "source": [
        "w1, w2, w3 = 0.3, 0.2, 0.5"
      ]
    },
    {
      "cell_type": "markdown",
      "metadata": {
        "id": "z0kBZHhcqEls"
      },
      "source": [
        "Given some climate data for a region, we can now predict the yield of apples. Here's some sample data:\n",
        "\n",
        "<img src=\"https://i.imgur.com/TXPBiqv.png\" style=\"width:360px;\">\n",
        "\n",
        "To begin, we can define some variables to record climate data for a region."
      ]
    },
    {
      "cell_type": "code",
      "execution_count": null,
      "metadata": {
        "id": "iqgaV_BRqElt"
      },
      "outputs": [],
      "source": [
        "kanto_temp = 73\n",
        "kanto_rainfall = 67\n",
        "kanto_humidity = 43"
      ]
    },
    {
      "cell_type": "markdown",
      "metadata": {
        "id": "CGRViQLXqElu"
      },
      "source": [
        "We can now substitute these variables into the linear equation to predict the yield of apples."
      ]
    },
    {
      "cell_type": "code",
      "execution_count": null,
      "metadata": {
        "id": "33NWxq1UqElv",
        "outputId": "f335dfd2-0353-434a-d131-a78090b70d62"
      },
      "outputs": [
        {
          "data": {
            "text/plain": [
              "56.8"
            ]
          },
          "execution_count": 3,
          "metadata": {},
          "output_type": "execute_result"
        }
      ],
      "source": [
        "kanto_yield_apples = kanto_temp * w1 + kanto_rainfall * w2 + kanto_humidity * w3\n",
        "kanto_yield_apples"
      ]
    },
    {
      "cell_type": "code",
      "execution_count": null,
      "metadata": {
        "id": "Qxjam23bqElx",
        "outputId": "411ce7f4-cfcd-4a32-85b1-403fb84d6f2e"
      },
      "outputs": [
        {
          "name": "stdout",
          "output_type": "stream",
          "text": [
            "The expected yield of apples in Kanto region is 56.8 tons per hectare.\n"
          ]
        }
      ],
      "source": [
        "print(\"The expected yield of apples in Kanto region is {} tons per hectare.\".format(kanto_yield_apples))"
      ]
    },
    {
      "cell_type": "markdown",
      "metadata": {
        "id": "xhRb018pqElx"
      },
      "source": [
        "To make it slightly easier to perform the above computation for multiple regions, we can represent the climate data for each region as a vector, i.e., a list of numbers."
      ]
    },
    {
      "cell_type": "code",
      "execution_count": null,
      "metadata": {
        "id": "QbVFdilVqEly"
      },
      "outputs": [],
      "source": [
        "kanto = [73, 67, 43]\n",
        "johto = [91, 88, 64]\n",
        "hoenn = [87, 134, 58]\n",
        "sinnoh = [102, 43, 37]\n",
        "unova = [69, 96, 70]"
      ]
    },
    {
      "cell_type": "markdown",
      "metadata": {
        "id": "WB8r619XqEly"
      },
      "source": [
        "The three numbers in each vector represent the temperature, rainfall, and humidity data, respectively. \n",
        "\n",
        "We can also represent the set of weights used in the formula as a vector."
      ]
    },
    {
      "cell_type": "code",
      "execution_count": null,
      "metadata": {
        "id": "iSty69AzqElz"
      },
      "outputs": [],
      "source": [
        "weights = [w1, w2, w3]"
      ]
    },
    {
      "cell_type": "markdown",
      "metadata": {
        "id": "36ChjUCOqElz"
      },
      "source": [
        "We can now write a function `crop_yield` to calcuate the yield of apples (or any other crop) given the climate data and the respective weights."
      ]
    },
    {
      "cell_type": "code",
      "execution_count": null,
      "metadata": {
        "id": "byw4rGIVqEl0"
      },
      "outputs": [],
      "source": [
        "def crop_yield(region, weights):\n",
        "    result = 0\n",
        "    for x, w in zip(region, weights):\n",
        "        result += x * w\n",
        "    return result"
      ]
    },
    {
      "cell_type": "code",
      "execution_count": null,
      "metadata": {
        "id": "MwJW8kdlqEl0",
        "outputId": "fb8f4485-7608-4dd8-e06f-e7d876185a32"
      },
      "outputs": [
        {
          "data": {
            "text/plain": [
              "56.8"
            ]
          },
          "execution_count": 8,
          "metadata": {},
          "output_type": "execute_result"
        }
      ],
      "source": [
        "crop_yield(kanto, weights)"
      ]
    },
    {
      "cell_type": "code",
      "execution_count": null,
      "metadata": {
        "id": "Z9tWunKiqEl1",
        "outputId": "7f7c35e8-5104-4935-9d03-b24ba9737d46"
      },
      "outputs": [
        {
          "data": {
            "text/plain": [
              "76.9"
            ]
          },
          "execution_count": 9,
          "metadata": {},
          "output_type": "execute_result"
        }
      ],
      "source": [
        "crop_yield(johto, weights)"
      ]
    },
    {
      "cell_type": "code",
      "execution_count": null,
      "metadata": {
        "id": "A-aHrxjjqEl1",
        "outputId": "a752f29e-1cc4-4218-d930-6d328cf7d022"
      },
      "outputs": [
        {
          "data": {
            "text/plain": [
              "74.9"
            ]
          },
          "execution_count": 10,
          "metadata": {},
          "output_type": "execute_result"
        }
      ],
      "source": [
        "crop_yield(unova, weights)"
      ]
    },
    {
      "cell_type": "markdown",
      "metadata": {
        "id": "JXNgqgKMqEl2"
      },
      "source": [
        "## Going from Python lists to Numpy arrays\n",
        "\n",
        "\n",
        "The calculation performed by the `crop_yield` (element-wise multiplication of two vectors and taking a sum of the results) is also called the *dot product*. Learn more about dot product here: https://www.khanacademy.org/math/linear-algebra/vectors-and-spaces/dot-cross-products/v/vector-dot-product-and-vector-length . \n",
        "\n",
        "The Numpy library provides a built-in function to compute the dot product of two vectors. However, we must first convert the lists into Numpy arrays.\n",
        "\n",
        "Let's install the Numpy library using the `pip` package manager."
      ]
    },
    {
      "cell_type": "code",
      "execution_count": null,
      "metadata": {
        "id": "aWxM5SL-qEl3",
        "outputId": "b943056a-2cc1-410d-958e-d9a3706cf7fa"
      },
      "outputs": [
        {
          "name": "stdout",
          "output_type": "stream",
          "text": [
            "\u001b[31mERROR: pip's dependency resolver does not currently take into account all the packages that are installed. This behaviour is the source of the following dependency conflicts.\r\n",
            "scipy 1.7.1 requires numpy<1.23.0,>=1.16.5, but you have numpy 1.23.0 which is incompatible.\r\n",
            "numba 0.54.0 requires numpy<1.21,>=1.17, but you have numpy 1.23.0 which is incompatible.\u001b[0m\r\n"
          ]
        }
      ],
      "source": [
        "!pip install numpy --upgrade --quiet"
      ]
    },
    {
      "cell_type": "markdown",
      "metadata": {
        "id": "kB8bPmmoqEl3"
      },
      "source": [
        "Next, let's import the `numpy` module. It's common practice to import numpy with the alias `np`."
      ]
    },
    {
      "cell_type": "code",
      "execution_count": null,
      "metadata": {
        "id": "pCfNKKztqEl4"
      },
      "outputs": [],
      "source": [
        "import numpy as np"
      ]
    },
    {
      "cell_type": "markdown",
      "metadata": {
        "id": "9IQg20MwqEl4"
      },
      "source": [
        "We can now use the `np.array` function to create Numpy arrays."
      ]
    },
    {
      "cell_type": "code",
      "execution_count": null,
      "metadata": {
        "id": "ZW4jigtKqEl4"
      },
      "outputs": [],
      "source": [
        "kanto = np.array([73, 67, 43])"
      ]
    },
    {
      "cell_type": "code",
      "execution_count": null,
      "metadata": {
        "id": "gVAxGWiUqEl5",
        "outputId": "d8b96727-8309-4c66-c530-ba4ce4bfbd0e"
      },
      "outputs": [
        {
          "data": {
            "text/plain": [
              "array([73, 67, 43])"
            ]
          },
          "execution_count": 14,
          "metadata": {},
          "output_type": "execute_result"
        }
      ],
      "source": [
        "kanto"
      ]
    },
    {
      "cell_type": "code",
      "execution_count": null,
      "metadata": {
        "id": "tlNpISraqEl5"
      },
      "outputs": [],
      "source": [
        "weights = np.array([w1, w2, w3])"
      ]
    },
    {
      "cell_type": "code",
      "execution_count": null,
      "metadata": {
        "id": "Ea49MqP0qEl5",
        "outputId": "14934fec-4c3e-4128-93c5-0ea5f1189320"
      },
      "outputs": [
        {
          "data": {
            "text/plain": [
              "array([0.3, 0.2, 0.5])"
            ]
          },
          "execution_count": 16,
          "metadata": {},
          "output_type": "execute_result"
        }
      ],
      "source": [
        "weights"
      ]
    },
    {
      "cell_type": "markdown",
      "metadata": {
        "id": "mqAeAQLQqEl6"
      },
      "source": [
        "Numpy arrays have the type `ndarray`."
      ]
    },
    {
      "cell_type": "code",
      "execution_count": null,
      "metadata": {
        "id": "ZEpNSWx0qEl6",
        "outputId": "0498f94a-c98b-4de7-89b9-0564f5686b0e"
      },
      "outputs": [
        {
          "data": {
            "text/plain": [
              "numpy.ndarray"
            ]
          },
          "execution_count": 17,
          "metadata": {},
          "output_type": "execute_result"
        }
      ],
      "source": [
        "type(kanto)"
      ]
    },
    {
      "cell_type": "code",
      "execution_count": null,
      "metadata": {
        "id": "Ybrk8-BVqEl7",
        "outputId": "34f9c4e7-2ce1-48f9-e856-526c94e5681b"
      },
      "outputs": [
        {
          "data": {
            "text/plain": [
              "numpy.ndarray"
            ]
          },
          "execution_count": 18,
          "metadata": {},
          "output_type": "execute_result"
        }
      ],
      "source": [
        "type(weights)"
      ]
    },
    {
      "cell_type": "markdown",
      "metadata": {
        "id": "gWm2Gdk5qEl8"
      },
      "source": [
        "Just like lists, Numpy arrays support the indexing notation `[]`."
      ]
    },
    {
      "cell_type": "code",
      "execution_count": null,
      "metadata": {
        "id": "wuLylmWYqEl8",
        "outputId": "ca716be6-8cdb-4a46-dfb0-81c16beb47ad"
      },
      "outputs": [
        {
          "data": {
            "text/plain": [
              "0.3"
            ]
          },
          "execution_count": 19,
          "metadata": {},
          "output_type": "execute_result"
        }
      ],
      "source": [
        "weights[0]"
      ]
    },
    {
      "cell_type": "code",
      "execution_count": null,
      "metadata": {
        "id": "OlwM8jipqEl8",
        "outputId": "25148377-fd03-4d44-becf-13d1a52157c7"
      },
      "outputs": [
        {
          "data": {
            "text/plain": [
              "43"
            ]
          },
          "execution_count": 20,
          "metadata": {},
          "output_type": "execute_result"
        }
      ],
      "source": [
        "kanto[2]"
      ]
    },
    {
      "cell_type": "markdown",
      "metadata": {
        "id": "Yalg54IqqEl9"
      },
      "source": [
        "## Operating on Numpy arrays\n",
        "\n",
        "We can now compute the dot product of the two vectors using the `np.dot` function."
      ]
    },
    {
      "cell_type": "code",
      "execution_count": null,
      "metadata": {
        "id": "O1DdJwA8qEl9",
        "outputId": "bc152d98-720e-4bd0-c564-8379f627c797"
      },
      "outputs": [
        {
          "data": {
            "text/plain": [
              "56.8"
            ]
          },
          "execution_count": 21,
          "metadata": {},
          "output_type": "execute_result"
        }
      ],
      "source": [
        "np.dot(kanto, weights)"
      ]
    },
    {
      "cell_type": "markdown",
      "metadata": {
        "id": "0qfOfExyqEl9"
      },
      "source": [
        "We can achieve the same result with low-level operations supported by Numpy arrays: performing an element-wise multiplication and calculating the resulting numbers' sum."
      ]
    },
    {
      "cell_type": "code",
      "execution_count": null,
      "metadata": {
        "id": "MR_5w6FWqEl-",
        "outputId": "1837ab90-42ab-4a4a-caad-97cbaafc0ac8"
      },
      "outputs": [
        {
          "data": {
            "text/plain": [
              "56.8"
            ]
          },
          "execution_count": 22,
          "metadata": {},
          "output_type": "execute_result"
        }
      ],
      "source": [
        "(kanto * weights).sum()"
      ]
    },
    {
      "cell_type": "markdown",
      "metadata": {
        "id": "Q_-DTgP8qEl-"
      },
      "source": [
        "The `*` operator performs an element-wise multiplication of two arrays if they have the same size. The `sum` method calculates the sum of numbers in an array."
      ]
    },
    {
      "cell_type": "code",
      "execution_count": null,
      "metadata": {
        "id": "CzaGGMD2qEl-"
      },
      "outputs": [],
      "source": [
        "arr1 = np.array([1, 2, 3])\n",
        "arr2 = np.array([4, 5, 6])"
      ]
    },
    {
      "cell_type": "code",
      "execution_count": null,
      "metadata": {
        "id": "LfLtaPiiqEl-",
        "outputId": "050ce1b6-8c7d-4d2e-88af-817af377fe97"
      },
      "outputs": [
        {
          "data": {
            "text/plain": [
              "array([ 4, 10, 18])"
            ]
          },
          "execution_count": 24,
          "metadata": {},
          "output_type": "execute_result"
        }
      ],
      "source": [
        "arr1 * arr2"
      ]
    },
    {
      "cell_type": "code",
      "execution_count": null,
      "metadata": {
        "id": "T0WjPPopqEl_",
        "outputId": "e9257412-d863-4900-d5aa-d2c87a375f99"
      },
      "outputs": [
        {
          "data": {
            "text/plain": [
              "15"
            ]
          },
          "execution_count": 25,
          "metadata": {},
          "output_type": "execute_result"
        }
      ],
      "source": [
        "arr2.sum()"
      ]
    },
    {
      "cell_type": "markdown",
      "metadata": {
        "id": "5AJoDwUlqEl_"
      },
      "source": [
        "## Benefits of using Numpy arrays\n",
        "\n",
        "Numpy arrays offer the following benefits over Python lists for operating on numerical data:\n",
        "\n",
        "- **Ease of use**: You can write small, concise, and intuitive mathematical expressions like `(kanto * weights).sum()` rather than using loops & custom functions like `crop_yield`.\n",
        "- **Performance**: Numpy operations and functions are implemented internally in C++, which makes them much faster than using Python statements & loops that are interpreted at runtime\n",
        "\n",
        "Here's a comparison of dot products performed using Python loops vs. Numpy arrays on two vectors with a million elements each."
      ]
    },
    {
      "cell_type": "code",
      "execution_count": null,
      "metadata": {
        "id": "yuVK89zAqEl_"
      },
      "outputs": [],
      "source": [
        "# Python lists\n",
        "arr1 = list(range(1000000))\n",
        "arr2 = list(range(1000000, 2000000))\n",
        "\n",
        "# Numpy arrays\n",
        "arr1_np = np.array(arr1)\n",
        "arr2_np = np.array(arr2)"
      ]
    },
    {
      "cell_type": "code",
      "execution_count": null,
      "metadata": {
        "id": "K365PBy1qEmA",
        "outputId": "ca1b0f28-3d9d-4d2a-a031-c100b999ecef"
      },
      "outputs": [
        {
          "name": "stdout",
          "output_type": "stream",
          "text": [
            "CPU times: user 144 ms, sys: 1.63 ms, total: 146 ms\n",
            "Wall time: 145 ms\n"
          ]
        },
        {
          "data": {
            "text/plain": [
              "833332333333500000"
            ]
          },
          "execution_count": 27,
          "metadata": {},
          "output_type": "execute_result"
        }
      ],
      "source": [
        "%%time\n",
        "result = 0\n",
        "for x1, x2 in zip(arr1, arr2):\n",
        "    result += x1*x2\n",
        "result"
      ]
    },
    {
      "cell_type": "code",
      "execution_count": null,
      "metadata": {
        "id": "YtrqpJM9qEmA",
        "outputId": "edf9ae60-2c9f-4cf9-a7d1-19e5c548c0e2"
      },
      "outputs": [
        {
          "name": "stdout",
          "output_type": "stream",
          "text": [
            "CPU times: user 1.77 ms, sys: 940 µs, total: 2.71 ms\n",
            "Wall time: 1.72 ms\n"
          ]
        },
        {
          "data": {
            "text/plain": [
              "833332333333500000"
            ]
          },
          "execution_count": 28,
          "metadata": {},
          "output_type": "execute_result"
        }
      ],
      "source": [
        "%%time\n",
        "np.dot(arr1_np, arr2_np)"
      ]
    },
    {
      "cell_type": "markdown",
      "metadata": {
        "id": "2abxUW-GqEmA"
      },
      "source": [
        "As you can see, using `np.dot` is 100 times faster than using a `for` loop. This makes Numpy especially useful while working with really large datasets with tens of thousands or millions of data points.\n",
        "\n",
        "Let's save our work before continuing."
      ]
    },
    {
      "cell_type": "code",
      "execution_count": null,
      "metadata": {
        "id": "WSnGJgdQqEmB"
      },
      "outputs": [],
      "source": [
        "import jovian"
      ]
    },
    {
      "cell_type": "code",
      "execution_count": null,
      "metadata": {
        "id": "TcFEdyx9qEmB",
        "outputId": "eb08f0c4-7266-40b6-9c9a-766ac6e641ad"
      },
      "outputs": [
        {
          "data": {
            "application/javascript": [
              "window.require && require([\"base/js/namespace\"],function(Jupyter){Jupyter.notebook.save_checkpoint()})"
            ],
            "text/plain": [
              "<IPython.core.display.Javascript object>"
            ]
          },
          "metadata": {},
          "output_type": "display_data"
        },
        {
          "name": "stdout",
          "output_type": "stream",
          "text": [
            "[jovian] Updating notebook \"poojadas2014-pd/python-numerical-computing-with-numpy\" on https://jovian.ai\u001b[0m\n",
            "[jovian] Committed successfully! https://jovian.ai/poojadas2014-pd/python-numerical-computing-with-numpy\u001b[0m\n"
          ]
        },
        {
          "data": {
            "text/plain": [
              "'https://jovian.ai/poojadas2014-pd/python-numerical-computing-with-numpy'"
            ]
          },
          "execution_count": 30,
          "metadata": {},
          "output_type": "execute_result"
        }
      ],
      "source": [
        "jovian.commit()"
      ]
    },
    {
      "cell_type": "markdown",
      "metadata": {
        "id": "4dj3qRIpqEmB"
      },
      "source": [
        "## Multi-dimensional Numpy arrays \n",
        "\n",
        "We can now go one step further and represent the climate data for all the regions using a single 2-dimensional Numpy array."
      ]
    },
    {
      "cell_type": "code",
      "execution_count": null,
      "metadata": {
        "id": "lp1A0my_qEmB"
      },
      "outputs": [],
      "source": [
        "climate_data = np.array([[73, 67, 43],\n",
        "                         [91, 88, 64],\n",
        "                         [87, 134, 58],\n",
        "                         [102, 43, 37],\n",
        "                         [69, 96, 70]])"
      ]
    },
    {
      "cell_type": "code",
      "execution_count": null,
      "metadata": {
        "id": "VNmQ9M9mqEmC",
        "outputId": "2bba7bab-9cd1-4b1b-a706-4397fcf74429"
      },
      "outputs": [
        {
          "data": {
            "text/plain": [
              "array([[ 73,  67,  43],\n",
              "       [ 91,  88,  64],\n",
              "       [ 87, 134,  58],\n",
              "       [102,  43,  37],\n",
              "       [ 69,  96,  70]])"
            ]
          },
          "execution_count": 32,
          "metadata": {},
          "output_type": "execute_result"
        }
      ],
      "source": [
        "climate_data"
      ]
    },
    {
      "cell_type": "markdown",
      "metadata": {
        "id": "8-Ik_mKDqEmC"
      },
      "source": [
        "If you've taken a linear algebra class in high school, you may recognize the above 2-d array as a matrix with five rows and three columns. Each row represents one region, and the columns represent temperature, rainfall, and humidity, respectively.\n",
        "\n",
        "Numpy arrays can have any number of dimensions and different lengths along each dimension. We can inspect the length along each dimension using the `.shape` property of an array.\n",
        "\n",
        "<img src=\"https://fgnt.github.io/python_crashkurs_doc/_images/numpy_array_t.png\" width=\"420\">\n",
        "\n"
      ]
    },
    {
      "cell_type": "code",
      "execution_count": null,
      "metadata": {
        "id": "Ys6uBvFWqEmD",
        "outputId": "e0766ad4-5374-4398-808a-63233b5929d6"
      },
      "outputs": [
        {
          "data": {
            "text/plain": [
              "(5, 3)"
            ]
          },
          "execution_count": 33,
          "metadata": {},
          "output_type": "execute_result"
        }
      ],
      "source": [
        "# 2D array (matrix)\n",
        "climate_data.shape"
      ]
    },
    {
      "cell_type": "code",
      "execution_count": null,
      "metadata": {
        "id": "U0CojAFcqEmD",
        "outputId": "d8b09739-aa51-4831-ee5f-6494c083a794"
      },
      "outputs": [
        {
          "data": {
            "text/plain": [
              "array([0.3, 0.2, 0.5])"
            ]
          },
          "execution_count": 34,
          "metadata": {},
          "output_type": "execute_result"
        }
      ],
      "source": [
        "weights"
      ]
    },
    {
      "cell_type": "code",
      "execution_count": null,
      "metadata": {
        "id": "k5-mXxJFqEmD",
        "outputId": "d57eab00-4ac0-4fc9-c2df-8887a52b299d"
      },
      "outputs": [
        {
          "data": {
            "text/plain": [
              "(3,)"
            ]
          },
          "execution_count": 35,
          "metadata": {},
          "output_type": "execute_result"
        }
      ],
      "source": [
        "# 1D array (vector)\n",
        "weights.shape"
      ]
    },
    {
      "cell_type": "code",
      "execution_count": null,
      "metadata": {
        "id": "uIy_ncuCqEmE"
      },
      "outputs": [],
      "source": [
        "# 3D array \n",
        "arr3 = np.array([\n",
        "    [[11, 12, 13], \n",
        "     [13, 14, 15]], \n",
        "    [[15, 16, 17], \n",
        "     [17, 18, 19.5]]])"
      ]
    },
    {
      "cell_type": "code",
      "execution_count": null,
      "metadata": {
        "id": "KYZwF2qfqEmE",
        "outputId": "5147176e-dc29-48e3-e1bc-36326009d6ef"
      },
      "outputs": [
        {
          "data": {
            "text/plain": [
              "(2, 2, 3)"
            ]
          },
          "execution_count": 37,
          "metadata": {},
          "output_type": "execute_result"
        }
      ],
      "source": [
        "arr3.shape"
      ]
    },
    {
      "cell_type": "markdown",
      "metadata": {
        "id": "kO32EzmuqEmE"
      },
      "source": [
        "All the elements in a numpy array have the same data type. You can check the data type of an array using the `.dtype` property."
      ]
    },
    {
      "cell_type": "code",
      "execution_count": null,
      "metadata": {
        "id": "zS2iazLdqEmF",
        "outputId": "02be915a-226c-491e-f66f-22bd2923a0b7"
      },
      "outputs": [
        {
          "data": {
            "text/plain": [
              "dtype('float64')"
            ]
          },
          "execution_count": 38,
          "metadata": {},
          "output_type": "execute_result"
        }
      ],
      "source": [
        "weights.dtype"
      ]
    },
    {
      "cell_type": "code",
      "execution_count": null,
      "metadata": {
        "id": "fT7xVrT3qEmF",
        "outputId": "ab4ea2c4-e9b5-473c-80c6-641776fa03ab"
      },
      "outputs": [
        {
          "data": {
            "text/plain": [
              "dtype('int64')"
            ]
          },
          "execution_count": 39,
          "metadata": {},
          "output_type": "execute_result"
        }
      ],
      "source": [
        "climate_data.dtype"
      ]
    },
    {
      "cell_type": "markdown",
      "metadata": {
        "id": "abhetXMoqEmF"
      },
      "source": [
        "If an array contains even a single floating point number, all the other elements are also converted to floats."
      ]
    },
    {
      "cell_type": "code",
      "execution_count": null,
      "metadata": {
        "id": "VqeL4MzNqEmF",
        "outputId": "78071488-15ea-4c15-f215-1cafdbcf7202"
      },
      "outputs": [
        {
          "data": {
            "text/plain": [
              "dtype('float64')"
            ]
          },
          "execution_count": 40,
          "metadata": {},
          "output_type": "execute_result"
        }
      ],
      "source": [
        "arr3.dtype"
      ]
    },
    {
      "cell_type": "markdown",
      "metadata": {
        "id": "7jFpxbhBqEmG"
      },
      "source": [
        "We can now compute the predicted yields of apples in all the regions, using a single matrix multiplication between `climate_data` (a 5x3 matrix) and `weights` (a vector of length 3). Here's what it looks like visually:\n",
        "\n",
        "<img src=\"https://i.imgur.com/LJ2WKSI.png\" width=\"240\">\n",
        "\n",
        "You can learn about matrices and matrix multiplication by watching the first 3-4 videos of this playlist: https://www.youtube.com/watch?v=xyAuNHPsq-g&list=PLFD0EB975BA0CC1E0&index=1 .\n",
        "\n",
        "We can use the `np.matmul` function or the `@` operator to perform matrix multiplication."
      ]
    },
    {
      "cell_type": "code",
      "execution_count": null,
      "metadata": {
        "id": "tT4iqME_qEmG",
        "outputId": "2bec2160-42a2-47e5-f4c4-cf6d451e8a96"
      },
      "outputs": [
        {
          "data": {
            "text/plain": [
              "array([56.8, 76.9, 81.9, 57.7, 74.9])"
            ]
          },
          "execution_count": 41,
          "metadata": {},
          "output_type": "execute_result"
        }
      ],
      "source": [
        "np.matmul(climate_data, weights)"
      ]
    },
    {
      "cell_type": "code",
      "execution_count": null,
      "metadata": {
        "id": "wHSshB6oqEmH",
        "outputId": "76b7935d-88ca-4f2f-98b6-0d30d4214ee3"
      },
      "outputs": [
        {
          "data": {
            "text/plain": [
              "array([56.8, 76.9, 81.9, 57.7, 74.9])"
            ]
          },
          "execution_count": 42,
          "metadata": {},
          "output_type": "execute_result"
        }
      ],
      "source": [
        "climate_data @ weights"
      ]
    },
    {
      "cell_type": "markdown",
      "metadata": {
        "id": "jVb3fag7qEmH"
      },
      "source": [
        "## Working with CSV data files\n",
        "\n",
        "Numpy also provides helper functions reading from & writing to files. Let's download a file `climate.txt`, which contains 10,000 climate measurements (temperature, rainfall & humidity) in the following format:\n",
        "\n",
        "\n",
        "```\n",
        "temperature,rainfall,humidity\n",
        "25.00,76.00,99.00\n",
        "39.00,65.00,70.00\n",
        "59.00,45.00,77.00\n",
        "84.00,63.00,38.00\n",
        "66.00,50.00,52.00\n",
        "41.00,94.00,77.00\n",
        "91.00,57.00,96.00\n",
        "49.00,96.00,99.00\n",
        "67.00,20.00,28.00\n",
        "...\n",
        "```\n",
        "\n",
        "This format of storing data is known as *comma-separated values* or CSV. \n",
        "\n",
        "> **CSVs**: A comma-separated values (CSV) file is a delimited text file that uses a comma to separate values. Each line of the file is a data record. Each record consists of one or more fields, separated by commas. A CSV file typically stores tabular data (numbers and text) in plain text, in which case each line will have the same number of fields. (Wikipedia)\n",
        "\n",
        "\n",
        "To read this file into a numpy array, we can use the `genfromtxt` function."
      ]
    },
    {
      "cell_type": "code",
      "execution_count": null,
      "metadata": {
        "id": "AQuS_3YBqEmH",
        "outputId": "61eb1f58-8c8c-430c-9782-d034f755ed78"
      },
      "outputs": [
        {
          "data": {
            "text/plain": [
              "('climate.txt', <http.client.HTTPMessage at 0x7fb7f1be2af0>)"
            ]
          },
          "execution_count": 43,
          "metadata": {},
          "output_type": "execute_result"
        }
      ],
      "source": [
        "import urllib.request\n",
        "\n",
        "urllib.request.urlretrieve(\n",
        "    'https://gist.github.com/BirajCoder/a4ffcb76fd6fb221d76ac2ee2b8584e9/raw/4054f90adfd361b7aa4255e99c2e874664094cea/climate.csv', \n",
        "    'climate.txt')"
      ]
    },
    {
      "cell_type": "code",
      "execution_count": null,
      "metadata": {
        "id": "zDsFiWmXqEmI"
      },
      "outputs": [],
      "source": [
        "climate_data = np.genfromtxt('climate.txt', delimiter=',', skip_header=1)"
      ]
    },
    {
      "cell_type": "code",
      "execution_count": null,
      "metadata": {
        "id": "hqEhjFUaqEmI",
        "outputId": "a03aa431-553d-4c76-97a6-054410327f5c"
      },
      "outputs": [
        {
          "data": {
            "text/plain": [
              "array([[25., 76., 99.],\n",
              "       [39., 65., 70.],\n",
              "       [59., 45., 77.],\n",
              "       ...,\n",
              "       [99., 62., 58.],\n",
              "       [70., 71., 91.],\n",
              "       [92., 39., 76.]])"
            ]
          },
          "execution_count": 45,
          "metadata": {},
          "output_type": "execute_result"
        }
      ],
      "source": [
        "climate_data"
      ]
    },
    {
      "cell_type": "code",
      "execution_count": null,
      "metadata": {
        "id": "tH_suVo4qEmI",
        "outputId": "38bf3ab6-ad81-4011-db1c-e381f520ae00"
      },
      "outputs": [
        {
          "data": {
            "text/plain": [
              "(10000, 3)"
            ]
          },
          "execution_count": 46,
          "metadata": {},
          "output_type": "execute_result"
        }
      ],
      "source": [
        "climate_data.shape"
      ]
    },
    {
      "cell_type": "markdown",
      "metadata": {
        "id": "AfXAG_VOqEmJ"
      },
      "source": [
        "We can now perform a matrix multiplication using the `@` operator to predict the yield of apples for the entire dataset using a given set of weights."
      ]
    },
    {
      "cell_type": "code",
      "execution_count": null,
      "metadata": {
        "id": "QxN3ghcOqEmJ"
      },
      "outputs": [],
      "source": [
        "weights = np.array([0.3, 0.2, 0.5])"
      ]
    },
    {
      "cell_type": "code",
      "execution_count": null,
      "metadata": {
        "id": "JgpjB29GqEmJ"
      },
      "outputs": [],
      "source": [
        "yields = climate_data @ weights"
      ]
    },
    {
      "cell_type": "code",
      "execution_count": null,
      "metadata": {
        "id": "lVh1qhUrqEmK",
        "outputId": "8161b06a-56f4-4757-9f8a-cf6fb09af93e"
      },
      "outputs": [
        {
          "data": {
            "text/plain": [
              "array([72.2, 59.7, 65.2, ..., 71.1, 80.7, 73.4])"
            ]
          },
          "execution_count": 49,
          "metadata": {},
          "output_type": "execute_result"
        }
      ],
      "source": [
        "yields"
      ]
    },
    {
      "cell_type": "code",
      "execution_count": null,
      "metadata": {
        "id": "mTZFiJSxqEmK",
        "outputId": "226e35d9-8ae1-4496-cc17-3be32ce44cd9"
      },
      "outputs": [
        {
          "data": {
            "text/plain": [
              "(10000,)"
            ]
          },
          "execution_count": 50,
          "metadata": {},
          "output_type": "execute_result"
        }
      ],
      "source": [
        "yields.shape"
      ]
    },
    {
      "cell_type": "markdown",
      "metadata": {
        "id": "vPlkFwdRqEmL"
      },
      "source": [
        "Let's add the `yields` to `climate_data` as a fourth column using the [`np.concatenate`](https://numpy.org/doc/stable/reference/generated/numpy.concatenate.html) function."
      ]
    },
    {
      "cell_type": "code",
      "execution_count": null,
      "metadata": {
        "id": "IHtJj218qEmL"
      },
      "outputs": [],
      "source": [
        "climate_results = np.concatenate((climate_data, yields.reshape(10000, 1)), axis=1)"
      ]
    },
    {
      "cell_type": "code",
      "execution_count": null,
      "metadata": {
        "id": "E8373pWWqEmL"
      },
      "outputs": [],
      "source": [
        "climate_results"
      ]
    },
    {
      "cell_type": "markdown",
      "metadata": {
        "id": "PYW-S7BTqEmM"
      },
      "source": [
        "There are a couple of subtleties here:\n",
        "\n",
        "* Since we wish to add new columns, we pass the argument `axis=1` to `np.concatenate`. The `axis` argument specifies the dimension for concatenation.\n",
        "\n",
        "*  The arrays should have the same number of dimensions, and the same length along each except the dimension used for concatenation. We use the [`np.reshape`](https://numpy.org/doc/stable/reference/generated/numpy.reshape.html) function to change the shape of `yields` from `(10000,)` to `(10000,1)`.\n",
        "\n",
        "Here's a visual explanation of `np.concatenate` along `axis=1` (can you guess what `axis=0` results in?):\n",
        "\n",
        "<img src=\"https://www.w3resource.com/w3r_images/python-numpy-image-exercise-58.png\" width=\"300\">\n",
        "\n",
        "The best way to understand what a Numpy function does is to experiment with it and read the documentation to learn about its arguments & return values. Use the cells below to experiment with `np.concatenate` and `np.reshape`."
      ]
    },
    {
      "cell_type": "code",
      "execution_count": null,
      "metadata": {
        "id": "nF7W851oqEmM",
        "outputId": "eef88ae7-9595-43f6-851b-d03671c42992"
      },
      "outputs": [
        {
          "data": {
            "text/plain": [
              "array([[25. , 76. , 99. , 72.2],\n",
              "       [39. , 65. , 70. , 59.7],\n",
              "       [59. , 45. , 77. , 65.2],\n",
              "       ...,\n",
              "       [99. , 62. , 58. , 71.1],\n",
              "       [70. , 71. , 91. , 80.7],\n",
              "       [92. , 39. , 76. , 73.4]])"
            ]
          },
          "execution_count": 58,
          "metadata": {},
          "output_type": "execute_result"
        }
      ],
      "source": [
        "climate_results"
      ]
    },
    {
      "cell_type": "code",
      "execution_count": null,
      "metadata": {
        "id": "B7JUjMo6qEmM"
      },
      "outputs": [],
      "source": [
        "np.savetxt('climate_results.txt', \n",
        "           climate_results, \n",
        "           fmt='%.2f', \n",
        "           delimiter=',',\n",
        "           header='temperature,rainfall,humidity,yeild_apples', \n",
        "           comments='')"
      ]
    },
    {
      "cell_type": "markdown",
      "metadata": {
        "id": "-1KGNVaQqEmN"
      },
      "source": [
        "The results are written back in the CSV format to the file `climate_results.txt`. \n",
        "\n",
        "```\n",
        "temperature,rainfall,humidity,yeild_apples\n",
        "25.00,76.00,99.00,72.20\n",
        "39.00,65.00,70.00,59.70\n",
        "59.00,45.00,77.00,65.20\n",
        "84.00,63.00,38.00,56.80\n",
        "...\n",
        "```\n",
        "\n"
      ]
    },
    {
      "cell_type": "markdown",
      "metadata": {
        "id": "y2nkOVqwqEmN"
      },
      "source": [
        "Numpy provides hundreds of functions for performing operations on arrays. Here are some commonly used functions:\n",
        "\n",
        "\n",
        "* Mathematics: `np.sum`, `np.exp`, `np.round`, arithemtic operators \n",
        "* Array manipulation: `np.reshape`, `np.stack`, `np.concatenate`, `np.split`\n",
        "* Linear Algebra: `np.matmul`, `np.dot`, `np.transpose`, `np.eigvals`\n",
        "* Statistics: `np.mean`, `np.median`, `np.std`, `np.max`\n",
        "\n",
        "> **How to find the function you need?** The easiest way to find the right function for a specific operation or use-case is to do a web search. For instance, searching for \"How to join numpy arrays\" leads to [this tutorial on array concatenation](https://cmdlinetips.com/2018/04/how-to-concatenate-arrays-in-numpy/). \n",
        "\n",
        "You can find a full list of array functions here: https://numpy.org/doc/stable/reference/routines.html"
      ]
    },
    {
      "cell_type": "markdown",
      "metadata": {
        "id": "C9e5alqtqEmN"
      },
      "source": [
        "### Save and upload your notebook\n",
        "\n",
        "Whether you're running this Jupyter notebook online or on your computer, it's essential to save your work from time to time. You can continue working on a saved notebook later or share it with friends and colleagues to let them execute your code. [Jovian](https://www.jovian.ai) offers an easy way of saving and sharing your Jupyter notebooks online."
      ]
    },
    {
      "cell_type": "code",
      "execution_count": null,
      "metadata": {
        "id": "s-XetN24qEmO"
      },
      "outputs": [],
      "source": [
        "# Install the library\n",
        "!pip install jovian --upgrade --quiet"
      ]
    },
    {
      "cell_type": "code",
      "execution_count": null,
      "metadata": {
        "id": "QrUG1OdZqEmO"
      },
      "outputs": [],
      "source": [
        "import jovian"
      ]
    },
    {
      "cell_type": "code",
      "execution_count": null,
      "metadata": {
        "id": "JGmdkGNQqEmO",
        "outputId": "bd5a0a6b-076e-4c3c-e9e2-87ea73288bd7"
      },
      "outputs": [
        {
          "data": {
            "application/javascript": [
              "window.require && require([\"base/js/namespace\"],function(Jupyter){Jupyter.notebook.save_checkpoint()})"
            ],
            "text/plain": [
              "<IPython.core.display.Javascript object>"
            ]
          },
          "metadata": {},
          "output_type": "display_data"
        },
        {
          "name": "stdout",
          "output_type": "stream",
          "text": [
            "[jovian] Updating notebook \"poojadas2014-pd/python-numerical-computing-with-numpy\" on https://jovian.ai\u001b[0m\n",
            "[jovian] Committed successfully! https://jovian.ai/poojadas2014-pd/python-numerical-computing-with-numpy\u001b[0m\n"
          ]
        },
        {
          "data": {
            "text/plain": [
              "'https://jovian.ai/poojadas2014-pd/python-numerical-computing-with-numpy'"
            ]
          },
          "execution_count": 62,
          "metadata": {},
          "output_type": "execute_result"
        }
      ],
      "source": [
        "jovian.commit()"
      ]
    },
    {
      "cell_type": "markdown",
      "metadata": {
        "id": "HTaYD766qEmP"
      },
      "source": [
        "The first time you run `jovian.commit`, you'll be asked to provide an API Key to securely upload the notebook to your Jovian account. You can get the API key from your [Jovian profile page](https://jovian.ai) after logging in / signing up.\n",
        "\n",
        "\n",
        "`jovian.commit` uploads the notebook to your Jovian account, captures the Python environment, and creates a shareable link for your notebook, as shown above. You can use this link to share your work and let anyone (including you) run your notebooks and reproduce your work."
      ]
    },
    {
      "cell_type": "markdown",
      "metadata": {
        "id": "oSoN2vwfqEmP"
      },
      "source": [
        "## Arithmetic operations, broadcasting and comparison\n",
        "\n",
        "Numpy arrays support arithmetic operators like `+`, `-`, `*`, etc. You can perform an arithmetic operation with a single number (also called scalar) or with another array of the same shape. Operators make it easy to write mathematical expressions with multi-dimensional arrays."
      ]
    },
    {
      "cell_type": "code",
      "execution_count": null,
      "metadata": {
        "id": "iwQmIBGmqEmP"
      },
      "outputs": [],
      "source": [
        "arr2 = np.array([[1, 2, 3, 4], \n",
        "                 [5, 6, 7, 8], \n",
        "                 [9, 1, 2, 3]])"
      ]
    },
    {
      "cell_type": "code",
      "execution_count": null,
      "metadata": {
        "id": "8HKfdUMzqEmP"
      },
      "outputs": [],
      "source": [
        "arr3 = np.array([[11, 12, 13, 14], \n",
        "                 [15, 16, 17, 18], \n",
        "                 [19, 11, 12, 13]])"
      ]
    },
    {
      "cell_type": "code",
      "execution_count": null,
      "metadata": {
        "id": "sxGgBiEuqEmQ",
        "outputId": "690d8b85-ad07-4df3-92ab-8850bb8d9868"
      },
      "outputs": [
        {
          "data": {
            "text/plain": [
              "array([[ 4,  5,  6,  7],\n",
              "       [ 8,  9, 10, 11],\n",
              "       [12,  4,  5,  6]])"
            ]
          },
          "execution_count": 65,
          "metadata": {},
          "output_type": "execute_result"
        }
      ],
      "source": [
        "# Adding a scalar\n",
        "arr2 + 3"
      ]
    },
    {
      "cell_type": "code",
      "execution_count": null,
      "metadata": {
        "id": "LzFAYiMzqEmQ",
        "outputId": "563427e3-c6ac-4b4e-8b09-871717a148d5"
      },
      "outputs": [
        {
          "data": {
            "text/plain": [
              "array([[10, 10, 10, 10],\n",
              "       [10, 10, 10, 10],\n",
              "       [10, 10, 10, 10]])"
            ]
          },
          "execution_count": 66,
          "metadata": {},
          "output_type": "execute_result"
        }
      ],
      "source": [
        "# Element-wise subtraction\n",
        "arr3 - arr2"
      ]
    },
    {
      "cell_type": "code",
      "execution_count": null,
      "metadata": {
        "id": "GuAT4x0YqEmQ",
        "outputId": "241008e9-9d2b-4819-a65d-0e77d44cb1de"
      },
      "outputs": [
        {
          "data": {
            "text/plain": [
              "array([[0.5, 1. , 1.5, 2. ],\n",
              "       [2.5, 3. , 3.5, 4. ],\n",
              "       [4.5, 0.5, 1. , 1.5]])"
            ]
          },
          "execution_count": 67,
          "metadata": {},
          "output_type": "execute_result"
        }
      ],
      "source": [
        "# Division by scalar\n",
        "arr2 / 2"
      ]
    },
    {
      "cell_type": "code",
      "execution_count": null,
      "metadata": {
        "id": "KJ0OqcnaqEmR",
        "outputId": "41e91485-b1f2-4482-f230-29deae48f217"
      },
      "outputs": [
        {
          "data": {
            "text/plain": [
              "array([[ 11,  24,  39,  56],\n",
              "       [ 75,  96, 119, 144],\n",
              "       [171,  11,  24,  39]])"
            ]
          },
          "execution_count": 68,
          "metadata": {},
          "output_type": "execute_result"
        }
      ],
      "source": [
        "# Element-wise multiplication\n",
        "arr2 * arr3"
      ]
    },
    {
      "cell_type": "code",
      "execution_count": null,
      "metadata": {
        "id": "dlMPfoy6qEmR",
        "outputId": "571d5259-cd57-47a7-f7cb-6190e7e29ec4"
      },
      "outputs": [
        {
          "data": {
            "text/plain": [
              "array([[1, 2, 3, 0],\n",
              "       [1, 2, 3, 0],\n",
              "       [1, 1, 2, 3]])"
            ]
          },
          "execution_count": 69,
          "metadata": {},
          "output_type": "execute_result"
        }
      ],
      "source": [
        "# Modulus with scalar\n",
        "arr2 % 4"
      ]
    },
    {
      "cell_type": "markdown",
      "metadata": {
        "id": "ElMW1Sh4qEmR"
      },
      "source": [
        "### Array Broadcasting\n",
        "\n",
        "Numpy arrays also support *broadcasting*, allowing arithmetic operations between two arrays with different numbers of dimensions but compatible shapes. Let's look at an example to see how it works."
      ]
    },
    {
      "cell_type": "code",
      "execution_count": null,
      "metadata": {
        "id": "ViPtMYJ1qEmS"
      },
      "outputs": [],
      "source": [
        "arr2 = np.array([[1, 2, 3, 4], \n",
        "                 [5, 6, 7, 8], \n",
        "                 [9, 1, 2, 3]])"
      ]
    },
    {
      "cell_type": "code",
      "execution_count": null,
      "metadata": {
        "id": "KFPym7VrqEmS",
        "outputId": "06ba1a83-3dca-4961-9e3b-4434352528a1"
      },
      "outputs": [
        {
          "data": {
            "text/plain": [
              "(3, 4)"
            ]
          },
          "execution_count": 71,
          "metadata": {},
          "output_type": "execute_result"
        }
      ],
      "source": [
        "arr2.shape"
      ]
    },
    {
      "cell_type": "code",
      "execution_count": null,
      "metadata": {
        "id": "C6XCjTbPqEmS"
      },
      "outputs": [],
      "source": [
        "arr4 = np.array([4, 5, 6, 7])"
      ]
    },
    {
      "cell_type": "code",
      "execution_count": null,
      "metadata": {
        "id": "6TIvwC7sqEmT",
        "outputId": "bc9fd124-079e-42b7-81f7-f39194998ab3"
      },
      "outputs": [
        {
          "data": {
            "text/plain": [
              "(4,)"
            ]
          },
          "execution_count": 73,
          "metadata": {},
          "output_type": "execute_result"
        }
      ],
      "source": [
        "arr4.shape"
      ]
    },
    {
      "cell_type": "code",
      "execution_count": null,
      "metadata": {
        "id": "MaO9RmPiqEmT",
        "outputId": "eae42d9e-4f5d-4b32-ea0d-4545a2d2d0a8"
      },
      "outputs": [
        {
          "data": {
            "text/plain": [
              "array([[ 5,  7,  9, 11],\n",
              "       [ 9, 11, 13, 15],\n",
              "       [13,  6,  8, 10]])"
            ]
          },
          "execution_count": 74,
          "metadata": {},
          "output_type": "execute_result"
        }
      ],
      "source": [
        "arr2 + arr4"
      ]
    },
    {
      "cell_type": "markdown",
      "metadata": {
        "id": "eK7BpYXoqEmU"
      },
      "source": [
        "When the expression `arr2 + arr4` is evaluated, `arr4` (which has the shape `(4,)`) is replicated three times to match the shape `(3, 4)` of `arr2`. Numpy performs the replication without actually creating three copies of the smaller dimension array, thus improving performance and using lower memory.\n",
        "\n",
        "<img src=\"https://jakevdp.github.io/PythonDataScienceHandbook/figures/02.05-broadcasting.png\" width=\"360\">\n",
        "\n",
        "Broadcasting only works if one of the arrays can be replicated to match the other array's shape."
      ]
    },
    {
      "cell_type": "code",
      "execution_count": null,
      "metadata": {
        "id": "fZYGICcCqEmU"
      },
      "outputs": [],
      "source": [
        "arr5 = np.array([7, 8])"
      ]
    },
    {
      "cell_type": "code",
      "execution_count": null,
      "metadata": {
        "id": "w1MiRcSnqEmU",
        "outputId": "83852ba8-a7c3-42d6-ba84-5d50102bb593"
      },
      "outputs": [
        {
          "data": {
            "text/plain": [
              "(2,)"
            ]
          },
          "execution_count": 76,
          "metadata": {},
          "output_type": "execute_result"
        }
      ],
      "source": [
        "arr5.shape"
      ]
    },
    {
      "cell_type": "code",
      "execution_count": null,
      "metadata": {
        "id": "Ab6rtWpbqEmU",
        "outputId": "b6646810-40ee-4c05-c8a4-7c1876f2b70a"
      },
      "outputs": [
        {
          "ename": "ValueError",
          "evalue": "operands could not be broadcast together with shapes (3,4) (2,) ",
          "output_type": "error",
          "traceback": [
            "\u001b[0;31m---------------------------------------------------------------------------\u001b[0m",
            "\u001b[0;31mValueError\u001b[0m                                Traceback (most recent call last)",
            "\u001b[0;32m/tmp/ipykernel_65/897499081.py\u001b[0m in \u001b[0;36m<module>\u001b[0;34m\u001b[0m\n\u001b[0;32m----> 1\u001b[0;31m \u001b[0marr2\u001b[0m \u001b[0;34m+\u001b[0m \u001b[0marr5\u001b[0m\u001b[0;34m\u001b[0m\u001b[0;34m\u001b[0m\u001b[0m\n\u001b[0m",
            "\u001b[0;31mValueError\u001b[0m: operands could not be broadcast together with shapes (3,4) (2,) "
          ]
        }
      ],
      "source": [
        "arr2 + arr5"
      ]
    },
    {
      "cell_type": "markdown",
      "metadata": {
        "id": "ILq4rVgTqEmV"
      },
      "source": [
        "In the above example, even if `arr5` is replicated three times, it will not match the shape of `arr2`. Hence `arr2 + arr5` cannot be evaluated successfully. Learn more about broadcasting here: https://numpy.org/doc/stable/user/basics.broadcasting.html ."
      ]
    },
    {
      "cell_type": "markdown",
      "metadata": {
        "id": "iRwy309tqEmV"
      },
      "source": [
        "### Array Comparison\n",
        "\n",
        "Numpy arrays also support comparison operations like `==`, `!=`, `>` etc. The result is an array of booleans."
      ]
    },
    {
      "cell_type": "code",
      "execution_count": null,
      "metadata": {
        "id": "IYO0EOk7qEmV"
      },
      "outputs": [],
      "source": [
        "arr1 = np.array([[1, 2, 3], [3, 4, 5]])\n",
        "arr2 = np.array([[2, 2, 3], [1, 2, 5]])"
      ]
    },
    {
      "cell_type": "code",
      "execution_count": null,
      "metadata": {
        "id": "VFh8ggBHqEmW",
        "outputId": "0e08626b-e730-4c08-8339-021b997906ea"
      },
      "outputs": [
        {
          "data": {
            "text/plain": [
              "array([[False,  True,  True],\n",
              "       [False, False,  True]])"
            ]
          },
          "execution_count": 79,
          "metadata": {},
          "output_type": "execute_result"
        }
      ],
      "source": [
        "arr1 == arr2"
      ]
    },
    {
      "cell_type": "code",
      "execution_count": null,
      "metadata": {
        "id": "M1vh4ej2qEmW",
        "outputId": "60fb4d39-dcd6-45ae-e36d-91dc3e19ea03"
      },
      "outputs": [
        {
          "data": {
            "text/plain": [
              "array([[ True, False, False],\n",
              "       [ True,  True, False]])"
            ]
          },
          "execution_count": 80,
          "metadata": {},
          "output_type": "execute_result"
        }
      ],
      "source": [
        "arr1 != arr2"
      ]
    },
    {
      "cell_type": "code",
      "execution_count": null,
      "metadata": {
        "id": "Y__Q004CqEmW",
        "outputId": "2f9da1da-dfcf-4570-a8f7-be5ba2072f6c"
      },
      "outputs": [
        {
          "data": {
            "text/plain": [
              "array([[False,  True,  True],\n",
              "       [ True,  True,  True]])"
            ]
          },
          "execution_count": 81,
          "metadata": {},
          "output_type": "execute_result"
        }
      ],
      "source": [
        "arr1 >= arr2"
      ]
    },
    {
      "cell_type": "code",
      "execution_count": null,
      "metadata": {
        "id": "6YD4aF_2qEmX",
        "outputId": "67b5dfc5-e292-46fb-c6ab-d02967b25440"
      },
      "outputs": [
        {
          "data": {
            "text/plain": [
              "array([[ True, False, False],\n",
              "       [False, False, False]])"
            ]
          },
          "execution_count": 82,
          "metadata": {},
          "output_type": "execute_result"
        }
      ],
      "source": [
        "arr1 < arr2"
      ]
    },
    {
      "cell_type": "markdown",
      "metadata": {
        "id": "Q1M0OIHGqEmX"
      },
      "source": [
        "Array comparison is frequently used to count the number of equal elements in two arrays using the `sum` method. Remember that `True` evaluates to `1` and `False` evaluates to `0` when booleans are used in arithmetic operations."
      ]
    },
    {
      "cell_type": "code",
      "execution_count": null,
      "metadata": {
        "id": "sUL8dwlqqEmX",
        "outputId": "e97ba4b8-3338-449a-8886-77206ab509ee"
      },
      "outputs": [
        {
          "data": {
            "text/plain": [
              "3"
            ]
          },
          "execution_count": 83,
          "metadata": {},
          "output_type": "execute_result"
        }
      ],
      "source": [
        "(arr1 == arr2).sum()"
      ]
    },
    {
      "cell_type": "markdown",
      "metadata": {
        "id": "jUS0GfTAqEmY"
      },
      "source": [
        "## Array indexing and slicing\n",
        "\n",
        "Numpy extends Python's list indexing notation using `[]` to multiple dimensions in an intuitive fashion. You can provide a comma-separated list of indices or ranges to select a specific element or a subarray (also called a slice) from a Numpy array."
      ]
    },
    {
      "cell_type": "code",
      "execution_count": null,
      "metadata": {
        "id": "Okt_deqmqEmY"
      },
      "outputs": [],
      "source": [
        "arr3 = np.array([\n",
        "    [[11, 12, 13, 14], \n",
        "     [13, 14, 15, 19]], \n",
        "    \n",
        "    [[15, 16, 17, 21], \n",
        "     [63, 92, 36, 18]], \n",
        "    \n",
        "    [[98, 32, 81, 23],      \n",
        "     [17, 18, 19.5, 43]]])"
      ]
    },
    {
      "cell_type": "code",
      "execution_count": null,
      "metadata": {
        "id": "71duR_qkqEmY",
        "outputId": "9cfc57c9-404e-4393-ff78-50ddbea44ae7"
      },
      "outputs": [
        {
          "data": {
            "text/plain": [
              "(3, 2, 4)"
            ]
          },
          "execution_count": 85,
          "metadata": {},
          "output_type": "execute_result"
        }
      ],
      "source": [
        "arr3.shape"
      ]
    },
    {
      "cell_type": "code",
      "execution_count": null,
      "metadata": {
        "id": "iRollVlAqEmY",
        "outputId": "1172c6d5-e2c4-49d6-8221-994db155db6c"
      },
      "outputs": [
        {
          "data": {
            "text/plain": [
              "36.0"
            ]
          },
          "execution_count": 86,
          "metadata": {},
          "output_type": "execute_result"
        }
      ],
      "source": [
        "# Single element\n",
        "arr3[1, 1, 2]"
      ]
    },
    {
      "cell_type": "code",
      "execution_count": null,
      "metadata": {
        "id": "D_jYYg9wqEmZ",
        "outputId": "cb79d6b5-8786-4ba1-c61a-23c1f8ab02d9"
      },
      "outputs": [
        {
          "data": {
            "text/plain": [
              "array([[[15., 16.]],\n",
              "\n",
              "       [[98., 32.]]])"
            ]
          },
          "execution_count": 87,
          "metadata": {},
          "output_type": "execute_result"
        }
      ],
      "source": [
        "# Subarray using ranges\n",
        "arr3[1:, 0:1, :2]"
      ]
    },
    {
      "cell_type": "code",
      "execution_count": null,
      "metadata": {
        "id": "Z0SUTfUcqEmZ",
        "outputId": "1e1eaf60-dfba-4b0d-ff96-3480fa07d1e2"
      },
      "outputs": [
        {
          "data": {
            "text/plain": [
              "array([18., 43.])"
            ]
          },
          "execution_count": 88,
          "metadata": {},
          "output_type": "execute_result"
        }
      ],
      "source": [
        "# Mixing indices and ranges\n",
        "arr3[1:, 1, 3]"
      ]
    },
    {
      "cell_type": "code",
      "execution_count": null,
      "metadata": {
        "id": "1IW5AY-1qEmb",
        "outputId": "388e9bb9-be26-4023-e5f2-6c0470e780ce"
      },
      "outputs": [
        {
          "data": {
            "text/plain": [
              "array([[63. , 92. , 36. ],\n",
              "       [17. , 18. , 19.5]])"
            ]
          },
          "execution_count": 89,
          "metadata": {},
          "output_type": "execute_result"
        }
      ],
      "source": [
        "# Mixing indices and ranges\n",
        "arr3[1:, 1, :3]"
      ]
    },
    {
      "cell_type": "code",
      "execution_count": null,
      "metadata": {
        "id": "w0n2pWjgqEmb",
        "outputId": "1ea5d785-7c0a-446c-f1df-90d4345ed4cd"
      },
      "outputs": [
        {
          "data": {
            "text/plain": [
              "array([[15., 16., 17., 21.],\n",
              "       [63., 92., 36., 18.]])"
            ]
          },
          "execution_count": 90,
          "metadata": {},
          "output_type": "execute_result"
        }
      ],
      "source": [
        "# Using fewer indices\n",
        "arr3[1]"
      ]
    },
    {
      "cell_type": "code",
      "execution_count": null,
      "metadata": {
        "id": "J4ETf8JdqEmc",
        "outputId": "a4982c5a-4a17-419d-b0de-3c27f4c1b10e"
      },
      "outputs": [
        {
          "data": {
            "text/plain": [
              "array([[13., 14., 15., 19.],\n",
              "       [63., 92., 36., 18.]])"
            ]
          },
          "execution_count": 91,
          "metadata": {},
          "output_type": "execute_result"
        }
      ],
      "source": [
        "# Using fewer indices\n",
        "arr3[:2, 1]"
      ]
    },
    {
      "cell_type": "code",
      "execution_count": null,
      "metadata": {
        "id": "AosglDDNqEmd",
        "outputId": "e332e693-cfb9-47ac-d103-33939ffbd025"
      },
      "outputs": [
        {
          "ename": "IndexError",
          "evalue": "too many indices for array: array is 3-dimensional, but 4 were indexed",
          "output_type": "error",
          "traceback": [
            "\u001b[0;31m---------------------------------------------------------------------------\u001b[0m",
            "\u001b[0;31mIndexError\u001b[0m                                Traceback (most recent call last)",
            "\u001b[0;32m/tmp/ipykernel_65/2043861726.py\u001b[0m in \u001b[0;36m<module>\u001b[0;34m\u001b[0m\n\u001b[1;32m      1\u001b[0m \u001b[0;31m# Using too many indices\u001b[0m\u001b[0;34m\u001b[0m\u001b[0;34m\u001b[0m\u001b[0;34m\u001b[0m\u001b[0m\n\u001b[0;32m----> 2\u001b[0;31m \u001b[0marr3\u001b[0m\u001b[0;34m[\u001b[0m\u001b[0;36m1\u001b[0m\u001b[0;34m,\u001b[0m\u001b[0;36m3\u001b[0m\u001b[0;34m,\u001b[0m\u001b[0;36m2\u001b[0m\u001b[0;34m,\u001b[0m\u001b[0;36m1\u001b[0m\u001b[0;34m]\u001b[0m\u001b[0;34m\u001b[0m\u001b[0;34m\u001b[0m\u001b[0m\n\u001b[0m",
            "\u001b[0;31mIndexError\u001b[0m: too many indices for array: array is 3-dimensional, but 4 were indexed"
          ]
        }
      ],
      "source": [
        "# Using too many indices\n",
        "arr3[1,3,2,1]"
      ]
    },
    {
      "cell_type": "markdown",
      "metadata": {
        "id": "_YklMaeyqEmd"
      },
      "source": [
        "The notation and its results can seem confusing at first, so take your time to experiment and become comfortable with it. Use the cells below to try out some examples of array indexing and slicing, with different combinations of indices and ranges. Here are some more examples demonstrated visually:\n",
        "\n",
        "<img src=\"https://scipy-lectures.org/_images/numpy_indexing.png\" width=\"360\">"
      ]
    },
    {
      "cell_type": "code",
      "execution_count": null,
      "metadata": {
        "id": "gWHxOHeEqEme"
      },
      "outputs": [],
      "source": [
        ""
      ]
    },
    {
      "cell_type": "code",
      "execution_count": null,
      "metadata": {
        "id": "ovtgJR7LqEme"
      },
      "outputs": [],
      "source": [
        ""
      ]
    },
    {
      "cell_type": "code",
      "execution_count": null,
      "metadata": {
        "id": "YkB7saWqqEme"
      },
      "outputs": [],
      "source": [
        ""
      ]
    },
    {
      "cell_type": "code",
      "execution_count": null,
      "metadata": {
        "id": "xsCOhvS7qEmf"
      },
      "outputs": [],
      "source": [
        ""
      ]
    },
    {
      "cell_type": "markdown",
      "metadata": {
        "id": "fgDLo9VuqEmf"
      },
      "source": [
        "## Other ways of creating Numpy arrays\n",
        "\n",
        "Numpy also provides some handy functions to create arrays of desired shapes with fixed or random values. Check out the [official documentation](https://numpy.org/doc/stable/reference/routines.array-creation.html) or use the `help` function to learn more."
      ]
    },
    {
      "cell_type": "code",
      "execution_count": null,
      "metadata": {
        "id": "-gQJeMEaqEmf",
        "outputId": "8de22c46-6171-475c-f781-73dc7ad3de3a"
      },
      "outputs": [
        {
          "data": {
            "text/plain": [
              "array([[0., 0.],\n",
              "       [0., 0.],\n",
              "       [0., 0.]])"
            ]
          },
          "execution_count": 93,
          "metadata": {},
          "output_type": "execute_result"
        }
      ],
      "source": [
        "# All zeros\n",
        "np.zeros((3, 2))"
      ]
    },
    {
      "cell_type": "code",
      "execution_count": null,
      "metadata": {
        "id": "fYJzoMN3qEmg",
        "outputId": "49d15980-8a3b-40f2-9473-7c96060c45dc"
      },
      "outputs": [
        {
          "data": {
            "text/plain": [
              "array([[[1., 1., 1.],\n",
              "        [1., 1., 1.]],\n",
              "\n",
              "       [[1., 1., 1.],\n",
              "        [1., 1., 1.]]])"
            ]
          },
          "execution_count": 94,
          "metadata": {},
          "output_type": "execute_result"
        }
      ],
      "source": [
        "# All ones\n",
        "np.ones([2, 2, 3])"
      ]
    },
    {
      "cell_type": "code",
      "execution_count": null,
      "metadata": {
        "scrolled": true,
        "id": "EXgG-rTbqEmg",
        "outputId": "e306070d-4010-4969-da3b-191849b828ca"
      },
      "outputs": [
        {
          "data": {
            "text/plain": [
              "array([[1., 0., 0.],\n",
              "       [0., 1., 0.],\n",
              "       [0., 0., 1.]])"
            ]
          },
          "execution_count": 95,
          "metadata": {},
          "output_type": "execute_result"
        }
      ],
      "source": [
        "# Identity matrix\n",
        "np.eye(3)"
      ]
    },
    {
      "cell_type": "code",
      "execution_count": null,
      "metadata": {
        "id": "Y_4o36K1qEmh",
        "outputId": "19f81d87-02a9-4502-d7cd-fb276e67eebb"
      },
      "outputs": [
        {
          "data": {
            "text/plain": [
              "array([0.32766476, 0.39437626, 0.02728545, 0.44601844, 0.75396786])"
            ]
          },
          "execution_count": 99,
          "metadata": {},
          "output_type": "execute_result"
        }
      ],
      "source": [
        "# Random vector\n",
        "np.random.rand(5)"
      ]
    },
    {
      "cell_type": "code",
      "execution_count": null,
      "metadata": {
        "id": "ONsbMrLlqEmi",
        "outputId": "05703cab-e28b-41e9-feaa-4bdea5293491"
      },
      "outputs": [
        {
          "data": {
            "text/plain": [
              "array([[-1.20005328e-03,  2.69401071e-01,  2.57271696e-01],\n",
              "       [-1.15288883e+00, -1.91989672e+00,  5.56870448e-01]])"
            ]
          },
          "execution_count": 97,
          "metadata": {},
          "output_type": "execute_result"
        }
      ],
      "source": [
        "# Random matrix\n",
        "np.random.randn(2, 3) # rand vs. randn - what's the difference?"
      ]
    },
    {
      "cell_type": "code",
      "execution_count": null,
      "metadata": {
        "id": "m0kzvY7OqEmi",
        "outputId": "4a25de73-6270-41f6-b9a4-21d6a76ce7af"
      },
      "outputs": [
        {
          "data": {
            "text/plain": [
              "array([[42, 42, 42],\n",
              "       [42, 42, 42]])"
            ]
          },
          "execution_count": 100,
          "metadata": {},
          "output_type": "execute_result"
        }
      ],
      "source": [
        "# Fixed value\n",
        "np.full([2, 3], 42)"
      ]
    },
    {
      "cell_type": "code",
      "execution_count": null,
      "metadata": {
        "id": "mDGAP_BMqEmj",
        "outputId": "7ed41611-b8be-47a7-a2d2-112f21c4c89b"
      },
      "outputs": [
        {
          "data": {
            "text/plain": [
              "array([10, 13, 16, 19, 22, 25, 28, 31, 34, 37, 40, 43, 46, 49, 52, 55, 58,\n",
              "       61, 64, 67, 70, 73, 76, 79, 82, 85, 88])"
            ]
          },
          "execution_count": 101,
          "metadata": {},
          "output_type": "execute_result"
        }
      ],
      "source": [
        "# Range with start, end and step\n",
        "np.arange(10, 90, 3)"
      ]
    },
    {
      "cell_type": "code",
      "execution_count": null,
      "metadata": {
        "id": "KTzg2cJLqEmj",
        "outputId": "82eda4cb-fe2d-46d4-b404-bd754c2ed6fc"
      },
      "outputs": [
        {
          "data": {
            "text/plain": [
              "(27,)"
            ]
          },
          "execution_count": 103,
          "metadata": {},
          "output_type": "execute_result"
        }
      ],
      "source": [
        "np.arange(10, 90, 3).shape"
      ]
    },
    {
      "cell_type": "code",
      "execution_count": null,
      "metadata": {
        "id": "JFLmbkxQqEmk",
        "outputId": "538208c1-6a8d-4d45-c94a-46f6f404b334"
      },
      "outputs": [
        {
          "data": {
            "text/plain": [
              "array([[[10, 13, 16],\n",
              "        [19, 22, 25],\n",
              "        [28, 31, 34]],\n",
              "\n",
              "       [[37, 40, 43],\n",
              "        [46, 49, 52],\n",
              "        [55, 58, 61]],\n",
              "\n",
              "       [[64, 67, 70],\n",
              "        [73, 76, 79],\n",
              "        [82, 85, 88]]])"
            ]
          },
          "execution_count": 108,
          "metadata": {},
          "output_type": "execute_result"
        }
      ],
      "source": [
        "np.arange(10, 90, 3).reshape(3,3,-1)"
      ]
    },
    {
      "cell_type": "code",
      "execution_count": null,
      "metadata": {
        "id": "7IELPVk5qEml",
        "outputId": "5c66d9a7-c72a-45d6-e165-70441d27c3a3"
      },
      "outputs": [
        {
          "data": {
            "text/plain": [
              "array([ 3.,  6.,  9., 12., 15., 18., 21., 24., 27.])"
            ]
          },
          "execution_count": 112,
          "metadata": {},
          "output_type": "execute_result"
        }
      ],
      "source": [
        "# Equally spaced numbers in a range\n",
        "np.linspace(3, 27, 9)"
      ]
    },
    {
      "cell_type": "markdown",
      "metadata": {
        "id": "-G8odupGqEml"
      },
      "source": [
        "### Save and commit\n",
        "\n",
        "Let's record a snapshot of our work using `jovian.commit`."
      ]
    },
    {
      "cell_type": "code",
      "execution_count": null,
      "metadata": {
        "id": "pDne_8Y8qEml"
      },
      "outputs": [],
      "source": [
        "# Install the library \n",
        "!pip install jovian --upgrade --quiet"
      ]
    },
    {
      "cell_type": "code",
      "execution_count": null,
      "metadata": {
        "id": "htP84JmdqEmm"
      },
      "outputs": [],
      "source": [
        "import jovian"
      ]
    },
    {
      "cell_type": "code",
      "execution_count": null,
      "metadata": {
        "id": "kq4gsbnuqEmm",
        "outputId": "3fd30365-000b-415d-b191-33dfd1fd09e9"
      },
      "outputs": [
        {
          "data": {
            "application/javascript": [
              "window.require && require([\"base/js/namespace\"],function(Jupyter){Jupyter.notebook.save_checkpoint()})"
            ],
            "text/plain": [
              "<IPython.core.display.Javascript object>"
            ]
          },
          "metadata": {},
          "output_type": "display_data"
        }
      ],
      "source": [
        "jovian.commit()"
      ]
    },
    {
      "cell_type": "markdown",
      "metadata": {
        "id": "s4sIcdi4qEmn"
      },
      "source": [
        "## Exercises\n",
        "\n",
        "Try the following exercises to become familiar with Numpy arrays and practice your skills:\n",
        "\n",
        "- Assignment on Numpy array functions: https://jovian.ai/aakashns/numpy-array-operations\n",
        "- (Optional) 100 numpy exercises: https://jovian.ai/aakashns/100-numpy-exercises\n"
      ]
    },
    {
      "cell_type": "markdown",
      "metadata": {
        "id": "9g4gsHrpqEmn"
      },
      "source": [
        "## Summary and Further Reading\n",
        "\n",
        "With this, we complete our discussion of numerical computing with Numpy. We've covered the following topics in this tutorial:\n",
        "\n",
        "- Going from Python lists to Numpy arrays\n",
        "- Operating on Numpy arrays\n",
        "- Benefits of using Numpy arrays over lists\n",
        "- Multi-dimensional Numpy arrays\n",
        "- Working with CSV data files\n",
        "- Arithmetic operations and broadcasting\n",
        "- Array indexing and slicing\n",
        "- Other ways of creating Numpy arrays\n",
        "\n",
        "\n",
        "Check out the following resources for learning more about Numpy:\n",
        "\n",
        "- Official tutorial: https://numpy.org/devdocs/user/quickstart.html\n",
        "- Numpy tutorial on W3Schools: https://www.w3schools.com/python/numpy_intro.asp\n",
        "- Advanced Numpy (exploring the internals): http://scipy-lectures.org/advanced/advanced_numpy/index.html\n",
        "\n",
        "You are ready to move on to the next tutorial: [Analyzing Tabular Data using Pandas](https://jovian.ai/aakashns/python-pandas-data-analysis)."
      ]
    },
    {
      "cell_type": "markdown",
      "metadata": {
        "id": "C_o8IQAwqEmo"
      },
      "source": [
        "## Questions for Revision\n",
        "\n",
        "Try answering the following questions to test your understanding of the topics covered in this notebook:\n",
        "\n",
        "1. What is a vector?\n",
        "2. How do you represent vectors using a Python list? Give an example.\n",
        "3. What is a dot product of two vectors?\n",
        "4. Write a function to compute the dot product of two vectors.\n",
        "5. What is Numpy?\n",
        "6. How do you install Numpy?\n",
        "7. How do you import the `numpy` module?\n",
        "8. What does it mean to import a module with an alias? Give an example.\n",
        "9. What is the commonly used alias for `numpy`?\n",
        "10. What is a Numpy array?\n",
        "11. How do you create a Numpy array? Give an example.\n",
        "12. What is the type of Numpy arrays?\n",
        "13. How do you access the elements of a Numpy array?\n",
        "14. How do you compute the dot product of two vectors using Numpy?\n",
        "15. What happens if you try to compute the dot product of two vectors which have different sizes?\n",
        "16. How do you compute the element-wise product of two Numpy arrays?\n",
        "17. How do you compute the sum of all the elements in a Numpy array?\n",
        "18. What are the benefits of using Numpy arrays over Python lists for operating on numerical data?\n",
        "19. Why do Numpy array operations have better performance compared to Python functions and loops?\n",
        "20. Illustrate the performance difference between Numpy array operations and Python loops using an example.\n",
        "21. What are multi-dimensional Numpy arrays? \n",
        "22. Illustrate the creation of Numpy arrays with 2, 3, and 4 dimensions.\n",
        "23. How do you inspect the number of dimensions and the length along each dimension in a Numpy array?\n",
        "24. Can the elements of a Numpy array have different data types?\n",
        "25. How do you check the data type of the elements of a Numpy array?\n",
        "26. What is the data type of a Numpy array?\n",
        "27. What is the difference between a matrix and a 2D Numpy array?\n",
        "28. How do you perform matrix multiplication using Numpy?\n",
        "29. What is the `@` operator used for in Numpy?\n",
        "30. What is the CSV file format?\n",
        "31. How do you read data from a CSV file using Numpy?\n",
        "32. How do you concatenate two Numpy arrays?\n",
        "33. What is the purpose of the `axis` argument of `np.concatenate`?\n",
        "34. When are two Numpy arrays compatible for concatenation?\n",
        "35. Give an example of two Numpy arrays that can be concatenated.\n",
        "36. Give an example of two Numpy arrays that cannot be concatenated.\n",
        "37. What is the purpose of the `np.reshape` function?\n",
        "38. What does it mean to “reshape” a Numpy array?\n",
        "39. How do you write a numpy array into a CSV file?\n",
        "40. Give some examples of Numpy functions for performing mathematical operations.\n",
        "41. Give some examples of Numpy functions for performing array manipulation.\n",
        "42. Give some examples of Numpy functions for performing linear algebra.\n",
        "43. Give some examples of Numpy functions for performing statistical operations.\n",
        "44. How do you find the right Numpy function for a specific operation or use case?\n",
        "45. Where can you see a list of all the Numpy array functions and operations?\n",
        "46. What are the arithmetic operators supported by Numpy arrays? Illustrate with examples.\n",
        "47. What is array broadcasting? How is it useful? Illustrate with an example.\n",
        "48. Give some examples of arrays that are compatible for broadcasting?\n",
        "49. Give some examples of arrays that are not compatible for broadcasting?\n",
        "50. What are the comparison operators supported by Numpy arrays? Illustrate with examples.\n",
        "51. How do you access a specific subarray or slice from a Numpy array?\n",
        "52. Illustrate array indexing and slicing in multi-dimensional Numpy arrays with some examples.\n",
        "53. How do you create a Numpy array with a given shape containing all zeros?\n",
        "54. How do you create a Numpy array with a given shape containing all ones?\n",
        "55. How do you create an identity matrix of a given shape?\n",
        "56. How do you create a random vector of a given length?\n",
        "57. How do you create a Numpy array with a given shape with a fixed value for each element?\n",
        "58. How do you create a Numpy array with a given shape containing randomly initialized elements?\n",
        "59. What is the difference between `np.random.rand` and `np.random.randn`? Illustrate with examples.\n",
        "60. What is the difference between `np.arange` and `np.linspace`? Illustrate with examples.\n"
      ]
    },
    {
      "cell_type": "code",
      "execution_count": null,
      "metadata": {
        "id": "ufwerZD4qEmp"
      },
      "outputs": [],
      "source": [
        ""
      ]
    }
  ],
  "metadata": {
    "kernelspec": {
      "display_name": "Python 3 (ipykernel)",
      "language": "python",
      "name": "python3"
    },
    "language_info": {
      "codemirror_mode": {
        "name": "ipython",
        "version": 3
      },
      "file_extension": ".py",
      "mimetype": "text/x-python",
      "name": "python",
      "nbconvert_exporter": "python",
      "pygments_lexer": "ipython3",
      "version": "3.9.6"
    },
    "colab": {
      "name": "python-numerical-computing-with-numpy.ipynb",
      "provenance": [],
      "include_colab_link": true
    }
  },
  "nbformat": 4,
  "nbformat_minor": 0
}