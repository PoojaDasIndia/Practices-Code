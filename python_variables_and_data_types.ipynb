{
  "cells": [
    {
      "cell_type": "markdown",
      "metadata": {
        "id": "view-in-github",
        "colab_type": "text"
      },
      "source": [
        "<a href=\"https://colab.research.google.com/github/PoojaDasIndia/Practices-Code/blob/main/python_variables_and_data_types.ipynb\" target=\"_parent\"><img src=\"https://colab.research.google.com/assets/colab-badge.svg\" alt=\"Open In Colab\"/></a>"
      ]
    },
    {
      "cell_type": "code",
      "execution_count": null,
      "metadata": {
        "id": "STan_7B1nEJ5"
      },
      "outputs": [],
      "source": [
        "# Jovian Commit Essentials\n",
        "# Please retain and execute this cell without modifying the contents for `jovian.commit` to work\n",
        "!pip install jovian --upgrade -q\n",
        "import jovian\n",
        "jovian.set_project('python-variables-and-data-types')\n",
        "jovian.set_colab_id('19F4ivojRaj5trAPVt39LiyNoGBZiOy7j')"
      ]
    },
    {
      "cell_type": "markdown",
      "metadata": {
        "id": "G44Btnx3nEJ_"
      },
      "source": [
        "# A Quick Tour of Variables and Data Types in Python\n",
        "\n",
        "![](https://i.imgur.com/6cg2E9Q.png)\n",
        "\n",
        "### Part 2 of \"Data Analysis with Python: Zero to Pandas\"\n",
        "\n",
        "\n",
        "This tutorial series is a beginner-friendly introduction to programming and data analysis using the Python programming language. These tutorials take a practical and coding-focused approach. The best way to learn the material is to execute the code and experiment with it yourself. Check out the full series here: \n",
        "\n",
        "1. [First Steps with Python and Jupyter](https://jovian.ai/aakashns/first-steps-with-python)\n",
        "2. [A Quick Tour of Variables and Data Types](https://jovian.ai/aakashns/python-variables-and-data-types)\n",
        "3. [Branching using Conditional Statements and Loops](https://jovian.ai/aakashns/python-branching-and-loops)\n",
        "4. [Writing Reusable Code Using Functions](https://jovian.ai/aakashns/python-functions-and-scope)\n",
        "5. [Reading from and Writing to Files](https://jovian.ai/aakashns/python-os-and-filesystem)\n",
        "6. [Numerical Computing with Python and Numpy](https://jovian.ai/aakashns/python-numerical-computing-with-numpy)\n",
        "7. [Analyzing Tabular Data using Pandas](https://jovian.ai/aakashns/python-pandas-data-analysis)\n",
        "8. [Data Visualization using Matplotlib & Seaborn](https://jovian.ai/aakashns/python-matplotlib-data-visualization)\n",
        "9. [Exploratory Data Analysis - A Case Study](https://jovian.ai/aakashns/python-eda-stackoverflow-survey)\n",
        "\n"
      ]
    },
    {
      "cell_type": "markdown",
      "metadata": {
        "id": "0TCc7mgqnEKD"
      },
      "source": [
        "This tutorial covers the following topics:\n",
        "\n",
        "- Storing information using variables\n",
        "- Primitive data types in Python: Integer, Float, Boolean, None and String\n",
        "- Built-in data structures in Python: List, Tuple and Dictionary\n",
        "- Methods and operators supported by built-in data types"
      ]
    },
    {
      "cell_type": "markdown",
      "metadata": {
        "id": "0X-BqiSmnEKE"
      },
      "source": [
        "### How to run the code\n",
        "\n",
        "This tutorial is an executable [Jupyter notebook](https://jupyter.org) hosted on [Jovian](https://www.jovian.ai). You can _run_ this tutorial and experiment with the code examples in a couple of ways: *using free online resources* (recommended) or *on your computer*.\n",
        "\n",
        "#### Option 1: Running using free online resources (1-click, recommended)\n",
        "\n",
        "The easiest way to start executing the code is to click the **Run** button at the top of this page and select **Run on Binder**. You can also select \"Run on Colab\" or \"Run on Kaggle\", but you'll need to create an account on [Google Colab](https://colab.research.google.com) or [Kaggle](https://kaggle.com) to use these platforms.\n",
        "\n",
        "\n",
        "#### Option 2: Running on your computer locally\n",
        "\n",
        "To run the code on your computer locally, you'll need to set up [Python](https://www.python.org), download the notebook and install the required libraries. We recommend using the [Conda](https://docs.conda.io/projects/conda/en/latest/user-guide/install/) distribution of Python. Click the **Run** button at the top of this page, select the **Run Locally** option, and follow the instructions.\n",
        "\n",
        ">  **Jupyter Notebooks**: This tutorial is a [Jupyter notebook](https://jupyter.org) - a document made of _cells_. Each cell can contain code written in Python or explanations in plain English. You can execute code cells and view the results, e.g., numbers, messages, graphs, tables, files, etc. instantly within the notebook. Jupyter is a powerful platform for experimentation and analysis. Don't be afraid to mess around with the code & break things - you'll learn a lot by encountering and fixing errors. You can use the \"Kernel > Restart & Clear Output\" menu option to clear all outputs and start again from the top."
      ]
    },
    {
      "cell_type": "markdown",
      "metadata": {
        "id": "cTxJFtiMnEKF"
      },
      "source": [
        "## Storing information using variables\n",
        "\n",
        "Computers are useful for two purposes: storing information (also known as data) and performing operations on stored data. While working with a programming language such as Python, data is stored in variables. You can think of variables are containers for storing data. The data stored within a variable is called its value. Creating variables in Python is pretty easy, as we've already seen in the [previous tutorial](https://jovian.ml/aakashns/first-steps-with-python/v/4#C15).\n",
        "\n"
      ]
    },
    {
      "cell_type": "code",
      "execution_count": null,
      "metadata": {
        "id": "YLFtY25QnEKG"
      },
      "outputs": [],
      "source": [
        "my_favorite_color = \"blue\""
      ]
    },
    {
      "cell_type": "code",
      "execution_count": null,
      "metadata": {
        "id": "Nf4jl507nEKH",
        "outputId": "a875db1c-1d85-4cd6-8aa5-2ed29b30533f"
      },
      "outputs": [
        {
          "data": {
            "text/plain": [
              "'blue'"
            ]
          },
          "execution_count": 2,
          "metadata": {},
          "output_type": "execute_result"
        }
      ],
      "source": [
        "my_favorite_color"
      ]
    },
    {
      "cell_type": "markdown",
      "metadata": {
        "id": "VCQkoaKBnEKJ"
      },
      "source": [
        "A variable is created using an assignment statement. It begins with the variable's name, followed by the assignment operator `=` followed by the value to be stored within the variable.  Note that the assignment operator `=` is different from the equality comparison operator `==`.\n",
        "\n",
        "You can also assign values to multiple variables in a single statement by separating the variable names and values with commas."
      ]
    },
    {
      "cell_type": "code",
      "execution_count": null,
      "metadata": {
        "id": "I-MeAzHWnEKK"
      },
      "outputs": [],
      "source": [
        "color1, color2, color3 = \"red\", \"green\", \"blue\""
      ]
    },
    {
      "cell_type": "code",
      "execution_count": null,
      "metadata": {
        "id": "S-4NxR8FnEKL",
        "outputId": "5f9dac87-70ba-4af0-b1c6-946233e36e86"
      },
      "outputs": [
        {
          "data": {
            "text/plain": [
              "'red'"
            ]
          },
          "execution_count": 4,
          "metadata": {},
          "output_type": "execute_result"
        }
      ],
      "source": [
        "color1"
      ]
    },
    {
      "cell_type": "code",
      "execution_count": null,
      "metadata": {
        "id": "6UkXmi_enEKM",
        "outputId": "41ef8684-e271-4fdf-c4fe-28aab197fa87"
      },
      "outputs": [
        {
          "data": {
            "text/plain": [
              "'green'"
            ]
          },
          "execution_count": 5,
          "metadata": {},
          "output_type": "execute_result"
        }
      ],
      "source": [
        "color2"
      ]
    },
    {
      "cell_type": "code",
      "execution_count": null,
      "metadata": {
        "id": "HI8fpoU_nEKN",
        "outputId": "d3fe75a4-4e5f-49dd-95b5-d2270b749208"
      },
      "outputs": [
        {
          "data": {
            "text/plain": [
              "'blue'"
            ]
          },
          "execution_count": 6,
          "metadata": {},
          "output_type": "execute_result"
        }
      ],
      "source": [
        "color3"
      ]
    },
    {
      "cell_type": "markdown",
      "metadata": {
        "id": "zXO7FRdgnEKO"
      },
      "source": [
        "You can assign the same value to multiple variables by chaining multiple assignment operations within a single statement."
      ]
    },
    {
      "cell_type": "code",
      "execution_count": null,
      "metadata": {
        "id": "1oO-kFUDnEKO"
      },
      "outputs": [],
      "source": [
        "color4 = color5 = color6 = \"magenta\""
      ]
    },
    {
      "cell_type": "code",
      "execution_count": null,
      "metadata": {
        "id": "6TVi70gdnEKO",
        "outputId": "2a6c43fa-338d-4c05-ae00-580479082a51"
      },
      "outputs": [
        {
          "data": {
            "text/plain": [
              "'magenta'"
            ]
          },
          "execution_count": 8,
          "metadata": {},
          "output_type": "execute_result"
        }
      ],
      "source": [
        "color4"
      ]
    },
    {
      "cell_type": "code",
      "execution_count": null,
      "metadata": {
        "id": "lzxmMjbUnEKP",
        "outputId": "168a0897-b0d1-4a0e-b9a4-d3089b89f524"
      },
      "outputs": [
        {
          "data": {
            "text/plain": [
              "'magenta'"
            ]
          },
          "execution_count": 9,
          "metadata": {},
          "output_type": "execute_result"
        }
      ],
      "source": [
        "color5"
      ]
    },
    {
      "cell_type": "code",
      "execution_count": null,
      "metadata": {
        "id": "dZzEHzQmnEKQ",
        "outputId": "5807853f-212b-4c2c-e51c-06e08d6d699d"
      },
      "outputs": [
        {
          "data": {
            "text/plain": [
              "'magenta'"
            ]
          },
          "execution_count": 10,
          "metadata": {},
          "output_type": "execute_result"
        }
      ],
      "source": [
        "color6"
      ]
    },
    {
      "cell_type": "markdown",
      "metadata": {
        "id": "3COCKUbBnEKQ"
      },
      "source": [
        "You can change the value stored within a variable by assigning a new value to it using another assignment statement. Be careful while reassigning variables: when you assign a new value to the variable, the old value is lost and no longer accessible."
      ]
    },
    {
      "cell_type": "code",
      "execution_count": null,
      "metadata": {
        "id": "OClzo3MlnEKR"
      },
      "outputs": [],
      "source": [
        "my_favorite_color = \"red\""
      ]
    },
    {
      "cell_type": "code",
      "execution_count": null,
      "metadata": {
        "id": "EcuslCqJnEKR",
        "outputId": "96f0d4e8-4e76-4eeb-81e2-00a144becc22"
      },
      "outputs": [
        {
          "data": {
            "text/plain": [
              "'red'"
            ]
          },
          "execution_count": 12,
          "metadata": {},
          "output_type": "execute_result"
        }
      ],
      "source": [
        "my_favorite_color"
      ]
    },
    {
      "cell_type": "markdown",
      "metadata": {
        "id": "6wMj4hronEKS"
      },
      "source": [
        "While reassigning a variable, you can also use the variable's previous value to compute the new value."
      ]
    },
    {
      "cell_type": "code",
      "execution_count": null,
      "metadata": {
        "id": "o1IPZTubnEKS"
      },
      "outputs": [],
      "source": [
        "counter = 10"
      ]
    },
    {
      "cell_type": "code",
      "execution_count": null,
      "metadata": {
        "id": "AQApvVtNnEKS"
      },
      "outputs": [],
      "source": [
        "counter = counter + 1"
      ]
    },
    {
      "cell_type": "code",
      "execution_count": null,
      "metadata": {
        "id": "OEipNkjRnEKT",
        "outputId": "b6f047f7-cb16-4600-a15f-b7b8a52e9cec"
      },
      "outputs": [
        {
          "data": {
            "text/plain": [
              "11"
            ]
          },
          "execution_count": 15,
          "metadata": {},
          "output_type": "execute_result"
        }
      ],
      "source": [
        "counter"
      ]
    },
    {
      "cell_type": "markdown",
      "metadata": {
        "id": "vYEXCx6BnEKT"
      },
      "source": [
        "The pattern `var = var op something` (where `op` is an arithmetic operator like `+`, `-`, `*`, `/`) is very common, so Python provides a *shorthand* syntax for it."
      ]
    },
    {
      "cell_type": "code",
      "execution_count": null,
      "metadata": {
        "id": "yOpX0gyjnEKT"
      },
      "outputs": [],
      "source": [
        "counter = 10"
      ]
    },
    {
      "cell_type": "code",
      "execution_count": null,
      "metadata": {
        "id": "vK9TAsXbnEKU"
      },
      "outputs": [],
      "source": [
        "# Same as `counter = counter + 4`\n",
        "counter += 4"
      ]
    },
    {
      "cell_type": "code",
      "execution_count": null,
      "metadata": {
        "id": "vje0PxGfnEKU",
        "outputId": "1ab4de02-d9ad-4167-b7fa-78288fa30373"
      },
      "outputs": [
        {
          "data": {
            "text/plain": [
              "14"
            ]
          },
          "execution_count": 18,
          "metadata": {},
          "output_type": "execute_result"
        }
      ],
      "source": [
        "counter"
      ]
    },
    {
      "cell_type": "markdown",
      "metadata": {
        "id": "xVxm1VF_nEKV"
      },
      "source": [
        "Variable names can be short (`a`, `x`, `y`, etc.) or descriptive ( `my_favorite_color`, `profit_margin`, `the_3_musketeers`, etc.). However, you must follow these rules while naming Python variables:\n",
        "\n",
        "* A variable's name must start with a letter or the underscore character `_`. It cannot begin with a number.\n",
        "* A variable name can only contain lowercase (small) or uppercase (capital) letters, digits, or underscores (`a`-`z`, `A`-`Z`, `0`-`9`, and `_`).\n",
        "* Variable names are case-sensitive, i.e., `a_variable`, `A_Variable`, and `A_VARIABLE` are all different variables.\n",
        "\n",
        "Here are some valid variable names:"
      ]
    },
    {
      "cell_type": "code",
      "execution_count": null,
      "metadata": {
        "id": "AHXTLr9ynEKV"
      },
      "outputs": [],
      "source": [
        "a_variable = 23\n",
        "is_today_Saturday = False\n",
        "my_favorite_car = \"Delorean\"\n",
        "the_3_musketeers = [\"Athos\", \"Porthos\", \"Aramis\"] "
      ]
    },
    {
      "cell_type": "markdown",
      "metadata": {
        "id": "jXMjzOCdnEKV"
      },
      "source": [
        "Let's try creating some variables with invalid names. Python prints a syntax error if your variable's name is invalid.\n",
        "\n",
        "> **Syntax**: The syntax of a programming language refers to the rules that govern the structure of a valid instruction or *statement*. If a statement does not follow these rules, Python stops execution and informs you that there is a *syntax error*. You can think of syntax as the rules of grammar for a programming language."
      ]
    },
    {
      "cell_type": "code",
      "execution_count": null,
      "metadata": {
        "id": "So42luTCnEKW",
        "outputId": "b88e512e-5f5c-486a-fef8-6e4eb2b9371f"
      },
      "outputs": [
        {
          "ename": "SyntaxError",
          "evalue": "invalid syntax (<ipython-input-24-c09ce14142a8>, line 1)",
          "output_type": "error",
          "traceback": [
            "\u001b[1;36m  File \u001b[1;32m\"<ipython-input-24-c09ce14142a8>\"\u001b[1;36m, line \u001b[1;32m1\u001b[0m\n\u001b[1;33m    a variable = 23 #error no underscrore\u001b[0m\n\u001b[1;37m      ^\u001b[0m\n\u001b[1;31mSyntaxError\u001b[0m\u001b[1;31m:\u001b[0m invalid syntax\n"
          ]
        }
      ],
      "source": [
        "a variable = 23 #error no underscrore"
      ]
    },
    {
      "cell_type": "code",
      "execution_count": null,
      "metadata": {
        "id": "gqRqUKR-nEKW",
        "outputId": "7e8c18f9-e1b9-46be-97fc-484c7b5b9e01"
      },
      "outputs": [
        {
          "ename": "SyntaxError",
          "evalue": "invalid syntax (<ipython-input-25-c9946c0de29e>, line 1)",
          "output_type": "error",
          "traceback": [
            "\u001b[1;36m  File \u001b[1;32m\"<ipython-input-25-c9946c0de29e>\"\u001b[1;36m, line \u001b[1;32m1\u001b[0m\n\u001b[1;33m    is_today_$aturday = False #error no sign\u001b[0m\n\u001b[1;37m             ^\u001b[0m\n\u001b[1;31mSyntaxError\u001b[0m\u001b[1;31m:\u001b[0m invalid syntax\n"
          ]
        }
      ],
      "source": [
        "is_today_$aturday = False #error no sign"
      ]
    },
    {
      "cell_type": "code",
      "execution_count": null,
      "metadata": {
        "id": "kwDf-i4VnEKW",
        "outputId": "450e74bf-94ca-427a-ca2d-eb201f215476"
      },
      "outputs": [
        {
          "ename": "SyntaxError",
          "evalue": "cannot assign to operator (<ipython-input-26-829f5ed5b10b>, line 1)",
          "output_type": "error",
          "traceback": [
            "\u001b[1;36m  File \u001b[1;32m\"<ipython-input-26-829f5ed5b10b>\"\u001b[1;36m, line \u001b[1;32m1\u001b[0m\n\u001b[1;33m    my-favorite-car = \"Delorean\"\u001b[0m\n\u001b[1;37m    ^\u001b[0m\n\u001b[1;31mSyntaxError\u001b[0m\u001b[1;31m:\u001b[0m cannot assign to operator\n"
          ]
        }
      ],
      "source": [
        "my-favorite-car = \"Delorean\""
      ]
    },
    {
      "cell_type": "code",
      "execution_count": null,
      "metadata": {
        "id": "ZWuRSZOvnEKX",
        "outputId": "b0c833f6-657f-4f6d-b08d-9141e850b60c"
      },
      "outputs": [
        {
          "ename": "SyntaxError",
          "evalue": "invalid decimal literal (<ipython-input-28-41d8638a15bb>, line 1)",
          "output_type": "error",
          "traceback": [
            "\u001b[1;36m  File \u001b[1;32m\"<ipython-input-28-41d8638a15bb>\"\u001b[1;36m, line \u001b[1;32m1\u001b[0m\n\u001b[1;33m    3_musketeers = [\"Athos\", \"Porthos\", \"Aramis\"]\u001b[0m\n\u001b[1;37m     ^\u001b[0m\n\u001b[1;31mSyntaxError\u001b[0m\u001b[1;31m:\u001b[0m invalid decimal literal\n"
          ]
        }
      ],
      "source": [
        "3_musketeers = [\"Athos\", \"Porthos\", \"Aramis\"]"
      ]
    },
    {
      "cell_type": "markdown",
      "metadata": {
        "id": "GmjVL8JunEKX"
      },
      "source": [
        "### Save and upload your notebook\n",
        "\n",
        "Whether you're running this Jupyter notebook online or on your computer, it's essential to save your work from time to time. You can continue working on a saved notebook later or share it with friends and colleagues to let them execute your code. [Jovian](https://www.jovian.ai) offers an easy way of saving and sharing your Jupyter notebooks online."
      ]
    },
    {
      "cell_type": "code",
      "execution_count": null,
      "metadata": {
        "id": "i3xuTywtnEKX"
      },
      "outputs": [],
      "source": [
        "# Install the jovian library\n",
        "!pip install jovian --upgrade --quiet"
      ]
    },
    {
      "cell_type": "code",
      "execution_count": null,
      "metadata": {
        "id": "mRjIFlVVnEKY"
      },
      "outputs": [],
      "source": [
        "import jovian"
      ]
    },
    {
      "cell_type": "code",
      "execution_count": null,
      "metadata": {
        "id": "iRqiCkWCnEKY",
        "outputId": "a1d82d9c-190b-4167-93fc-cb77d695eaa5"
      },
      "outputs": [
        {
          "data": {
            "application/javascript": [
              "window.require && require([\"base/js/namespace\"],function(Jupyter){Jupyter.notebook.save_checkpoint()})"
            ],
            "text/plain": [
              "<IPython.core.display.Javascript object>"
            ]
          },
          "metadata": {},
          "output_type": "display_data"
        },
        {
          "name": "stdout",
          "output_type": "stream",
          "text": [
            "[jovian] Attempting to save notebook..\n",
            "[jovian] Creating a new project \"poojadas2014-pd/python-variables-and-data-types\"\n",
            "[jovian] Uploading notebook..\n",
            "[jovian] Capturing environment..\n",
            "[jovian] Committed successfully! https://jovian.ai/poojadas2014-pd/python-variables-and-data-types\n"
          ]
        },
        {
          "data": {
            "text/plain": [
              "'https://jovian.ai/poojadas2014-pd/python-variables-and-data-types'"
            ]
          },
          "execution_count": 30,
          "metadata": {},
          "output_type": "execute_result"
        }
      ],
      "source": [
        "jovian.commit(project='python-variables-and-data-types')"
      ]
    },
    {
      "cell_type": "markdown",
      "metadata": {
        "id": "UhQNgXdTnEKZ"
      },
      "source": [
        "The first time you run `jovian.commit`, you'll be asked to provide an API Key to securely upload the notebook to your Jovian account. You can get the API key from your [Jovian profile page](https://jovian.ai) after logging in / signing up.\n",
        "\n",
        "\n",
        "`jovian.commit` uploads the notebook to your Jovian account, captures the Python environment, and creates a shareable link for your notebook, as shown above. You can use this link to share your work and let anyone (including you) run your notebooks and reproduce your work."
      ]
    },
    {
      "cell_type": "markdown",
      "metadata": {
        "id": "HnYefo8dnEKZ"
      },
      "source": [
        "## Built-in data types in Python\n",
        "\n",
        "Any data or information stored within a Python variable has a *type*. You can view the type of data stored within a variable using the `type` function."
      ]
    },
    {
      "cell_type": "code",
      "execution_count": null,
      "metadata": {
        "id": "vdZvNCMOnEKZ",
        "outputId": "9ae31af7-a153-427a-b6fe-13c4143ec2d0"
      },
      "outputs": [
        {
          "data": {
            "text/plain": [
              "23"
            ]
          },
          "execution_count": 31,
          "metadata": {},
          "output_type": "execute_result"
        }
      ],
      "source": [
        "a_variable"
      ]
    },
    {
      "cell_type": "code",
      "execution_count": null,
      "metadata": {
        "id": "fpnWxh2qnEKZ",
        "outputId": "e4a0a09a-d95b-4625-bab5-9549af51f26a"
      },
      "outputs": [
        {
          "data": {
            "text/plain": [
              "int"
            ]
          },
          "execution_count": 32,
          "metadata": {},
          "output_type": "execute_result"
        }
      ],
      "source": [
        "type(a_variable)"
      ]
    },
    {
      "cell_type": "code",
      "execution_count": null,
      "metadata": {
        "id": "FW8i7Of2nEKa",
        "outputId": "641f56c5-cac5-45ff-ab13-8a2693c7d70b"
      },
      "outputs": [
        {
          "data": {
            "text/plain": [
              "False"
            ]
          },
          "execution_count": 33,
          "metadata": {},
          "output_type": "execute_result"
        }
      ],
      "source": [
        "is_today_Saturday"
      ]
    },
    {
      "cell_type": "code",
      "execution_count": null,
      "metadata": {
        "id": "RSj6OvPYnEKa",
        "outputId": "82bf9f9b-d64d-4786-b0ff-4d642234ac03"
      },
      "outputs": [
        {
          "data": {
            "text/plain": [
              "bool"
            ]
          },
          "execution_count": 34,
          "metadata": {},
          "output_type": "execute_result"
        }
      ],
      "source": [
        "type(is_today_Saturday)"
      ]
    },
    {
      "cell_type": "code",
      "execution_count": null,
      "metadata": {
        "id": "XlDTpw6DnEKa",
        "outputId": "4ca2517b-bed3-4d04-cbfb-3324881bbd88"
      },
      "outputs": [
        {
          "data": {
            "text/plain": [
              "'Delorean'"
            ]
          },
          "execution_count": 35,
          "metadata": {},
          "output_type": "execute_result"
        }
      ],
      "source": [
        "my_favorite_car"
      ]
    },
    {
      "cell_type": "code",
      "execution_count": null,
      "metadata": {
        "id": "4gpj7TbjnEKb",
        "outputId": "14fb73c3-3714-4ddb-8980-9075cf65f1ae"
      },
      "outputs": [
        {
          "ename": "NameError",
          "evalue": "name 'my_favorite_car' is not defined",
          "output_type": "error",
          "traceback": [
            "\u001b[1;31m---------------------------------------------------------------------------\u001b[0m",
            "\u001b[1;31mNameError\u001b[0m                                 Traceback (most recent call last)",
            "\u001b[1;32m<ipython-input-1-afd506a75569>\u001b[0m in \u001b[0;36m<module>\u001b[1;34m\u001b[0m\n\u001b[1;32m----> 1\u001b[1;33m \u001b[0mtype\u001b[0m\u001b[1;33m(\u001b[0m\u001b[0mmy_favorite_car\u001b[0m\u001b[1;33m)\u001b[0m\u001b[1;33m\u001b[0m\u001b[1;33m\u001b[0m\u001b[0m\n\u001b[0m",
            "\u001b[1;31mNameError\u001b[0m: name 'my_favorite_car' is not defined"
          ]
        }
      ],
      "source": [
        "type(my_favorite_car)"
      ]
    },
    {
      "cell_type": "code",
      "execution_count": null,
      "metadata": {
        "id": "QdDN0v1-nEKb"
      },
      "outputs": [],
      "source": [
        "the_3_musketeers"
      ]
    },
    {
      "cell_type": "code",
      "execution_count": null,
      "metadata": {
        "id": "TsvRnezVnEKb"
      },
      "outputs": [],
      "source": [
        "type(the_3_musketeers)"
      ]
    },
    {
      "cell_type": "markdown",
      "metadata": {
        "id": "aqt_nsMknEKb"
      },
      "source": [
        "Python has several built-in data types for storing different kinds of information in variables. Following are some commonly used data types:\n",
        "\n",
        "1. Integer\n",
        "2. Float\n",
        "3. Boolean\n",
        "4. None\n",
        "5. String\n",
        "6. List\n",
        "7. Tuple\n",
        "8. Dictionary\n",
        "\n",
        "Integer, float, boolean, None, and string are *primitive data types* because they represent a single value. Other data types like list, tuple, and dictionary are often called *data structures* or *containers* because they hold multiple pieces of data together."
      ]
    },
    {
      "cell_type": "markdown",
      "metadata": {
        "id": "aKryYI3RnEKc"
      },
      "source": [
        "### Integer\n",
        "\n",
        "Integers represent positive or negative whole numbers, from negative infinity to infinity. Note that integers should not include decimal points. Integers have the type `int`."
      ]
    },
    {
      "cell_type": "code",
      "execution_count": null,
      "metadata": {
        "id": "Hxr0rDkBnEKc"
      },
      "outputs": [],
      "source": [
        "current_year = 2020"
      ]
    },
    {
      "cell_type": "code",
      "execution_count": null,
      "metadata": {
        "id": "JHX83UFfnEKc",
        "outputId": "1719550f-92b9-4bb2-858c-956e261c6b9c"
      },
      "outputs": [
        {
          "data": {
            "text/plain": [
              "2020"
            ]
          },
          "execution_count": 3,
          "metadata": {},
          "output_type": "execute_result"
        }
      ],
      "source": [
        "current_year"
      ]
    },
    {
      "cell_type": "code",
      "execution_count": null,
      "metadata": {
        "id": "s2l0ViBinEKd",
        "outputId": "385de049-bd0a-47e1-87bf-f3adc657d6d3"
      },
      "outputs": [
        {
          "data": {
            "text/plain": [
              "int"
            ]
          },
          "execution_count": 4,
          "metadata": {},
          "output_type": "execute_result"
        }
      ],
      "source": [
        "type(current_year)"
      ]
    },
    {
      "cell_type": "markdown",
      "metadata": {
        "id": "AhEqxgk8nEKd"
      },
      "source": [
        "Unlike some other programming languages, integers in Python can be arbitrarily large (or small). There's no lowest or highest value for integers, and there's just one `int` type (as opposed to `short`, `int`, `long`, `long long`, `unsigned int`, etc. in C/C++/Java)."
      ]
    },
    {
      "cell_type": "code",
      "execution_count": null,
      "metadata": {
        "id": "DhykUhcsnEKd"
      },
      "outputs": [],
      "source": [
        "a_large_negative_number = -23374038374832934334234317348343"
      ]
    },
    {
      "cell_type": "code",
      "execution_count": null,
      "metadata": {
        "id": "3FWo-xTpnEKd",
        "outputId": "50816563-0ce1-4e19-fe4c-5d31cc96687d"
      },
      "outputs": [
        {
          "data": {
            "text/plain": [
              "-23374038374832934334234317348343"
            ]
          },
          "execution_count": 6,
          "metadata": {},
          "output_type": "execute_result"
        }
      ],
      "source": [
        "a_large_negative_number"
      ]
    },
    {
      "cell_type": "code",
      "execution_count": null,
      "metadata": {
        "id": "viM-SZPunEKe",
        "outputId": "5891598f-4f52-46c8-dda7-45cf0d2bd8b3"
      },
      "outputs": [
        {
          "data": {
            "text/plain": [
              "int"
            ]
          },
          "execution_count": 7,
          "metadata": {},
          "output_type": "execute_result"
        }
      ],
      "source": [
        "type(a_large_negative_number)"
      ]
    },
    {
      "cell_type": "markdown",
      "metadata": {
        "id": "C5psmc0NnEKe"
      },
      "source": [
        "### Float\n",
        "\n",
        "Floats (or floating-point numbers) are numbers with a decimal point. There are no limits on the value or the number of digits before or after the decimal point. Floating-point numbers have the type `float`."
      ]
    },
    {
      "cell_type": "code",
      "execution_count": null,
      "metadata": {
        "id": "F6ErygNOnEKe"
      },
      "outputs": [],
      "source": [
        "pi = 3.141592653589793238"
      ]
    },
    {
      "cell_type": "code",
      "execution_count": null,
      "metadata": {
        "id": "HM-zwcQ8nEKf",
        "outputId": "f977cd41-2710-4a4a-f871-913d4fd4917b"
      },
      "outputs": [
        {
          "data": {
            "text/plain": [
              "3.141592653589793"
            ]
          },
          "execution_count": 9,
          "metadata": {},
          "output_type": "execute_result"
        }
      ],
      "source": [
        "pi"
      ]
    },
    {
      "cell_type": "code",
      "execution_count": null,
      "metadata": {
        "id": "J09GL6ranEKf",
        "outputId": "6ae63bdf-1509-45fb-d4ac-05d004656b75"
      },
      "outputs": [
        {
          "data": {
            "text/plain": [
              "float"
            ]
          },
          "execution_count": 10,
          "metadata": {},
          "output_type": "execute_result"
        }
      ],
      "source": [
        "type(pi)"
      ]
    },
    {
      "cell_type": "markdown",
      "metadata": {
        "id": "7WNfEEpLnEKf"
      },
      "source": [
        "Note that a whole number is treated as a float if written with a decimal point, even though the decimal portion of the number is zero."
      ]
    },
    {
      "cell_type": "code",
      "execution_count": null,
      "metadata": {
        "id": "sxIYLh-6nEKf"
      },
      "outputs": [],
      "source": [
        "a_number = 3.0"
      ]
    },
    {
      "cell_type": "code",
      "execution_count": null,
      "metadata": {
        "id": "i9aCsiuznEKg",
        "outputId": "10c4230f-2e29-40fc-a75a-21443dc54079"
      },
      "outputs": [
        {
          "data": {
            "text/plain": [
              "3.0"
            ]
          },
          "execution_count": 12,
          "metadata": {},
          "output_type": "execute_result"
        }
      ],
      "source": [
        "a_number"
      ]
    },
    {
      "cell_type": "code",
      "execution_count": null,
      "metadata": {
        "id": "MsAs-7u7nEKg",
        "outputId": "6e1e554a-af6d-4ca1-e165-1fc6223f49db"
      },
      "outputs": [
        {
          "data": {
            "text/plain": [
              "float"
            ]
          },
          "execution_count": 13,
          "metadata": {},
          "output_type": "execute_result"
        }
      ],
      "source": [
        "type(a_number)"
      ]
    },
    {
      "cell_type": "code",
      "execution_count": null,
      "metadata": {
        "id": "DckrVyrJnEKg"
      },
      "outputs": [],
      "source": [
        "another_number = 4."
      ]
    },
    {
      "cell_type": "code",
      "execution_count": null,
      "metadata": {
        "id": "Lr9HUeAKnEKh",
        "outputId": "1e92494e-6007-465f-ec1c-0f091c33492f"
      },
      "outputs": [
        {
          "data": {
            "text/plain": [
              "4.0"
            ]
          },
          "execution_count": 15,
          "metadata": {},
          "output_type": "execute_result"
        }
      ],
      "source": [
        "another_number"
      ]
    },
    {
      "cell_type": "code",
      "execution_count": null,
      "metadata": {
        "id": "zyHSK9xCnEKh",
        "outputId": "4bf78e7d-6ce3-4c24-99d0-ce2ef5a2590b"
      },
      "outputs": [
        {
          "data": {
            "text/plain": [
              "float"
            ]
          },
          "execution_count": 16,
          "metadata": {},
          "output_type": "execute_result"
        }
      ],
      "source": [
        "type(another_number)"
      ]
    },
    {
      "cell_type": "markdown",
      "metadata": {
        "id": "U5Xj4TMOnEKh"
      },
      "source": [
        "Floating point numbers can also be written using the scientific notation with an \"e\" to indicate the power of 10."
      ]
    },
    {
      "cell_type": "code",
      "execution_count": null,
      "metadata": {
        "id": "p7aeQH2CnEKh"
      },
      "outputs": [],
      "source": [
        "one_hundredth = 1e-2"
      ]
    },
    {
      "cell_type": "code",
      "execution_count": null,
      "metadata": {
        "id": "2Aek1K7MnEKi",
        "outputId": "89950a0c-7d27-4765-8ab6-739ff48944c1"
      },
      "outputs": [
        {
          "data": {
            "text/plain": [
              "0.01"
            ]
          },
          "execution_count": 18,
          "metadata": {},
          "output_type": "execute_result"
        }
      ],
      "source": [
        "one_hundredth"
      ]
    },
    {
      "cell_type": "code",
      "execution_count": null,
      "metadata": {
        "id": "0ppr-RhTnEKi",
        "outputId": "a57d5124-26c4-4095-c609-721a6627e42b"
      },
      "outputs": [
        {
          "data": {
            "text/plain": [
              "float"
            ]
          },
          "execution_count": 19,
          "metadata": {},
          "output_type": "execute_result"
        }
      ],
      "source": [
        "type(one_hundredth)"
      ]
    },
    {
      "cell_type": "code",
      "execution_count": null,
      "metadata": {
        "id": "yq7cUALjnEKi"
      },
      "outputs": [],
      "source": [
        "avogadro_number = 6.02214076e23"
      ]
    },
    {
      "cell_type": "code",
      "execution_count": null,
      "metadata": {
        "id": "BC3oCqA1nEKi",
        "outputId": "99071ecb-70a0-4d95-bbe7-13ac4da504ae"
      },
      "outputs": [
        {
          "data": {
            "text/plain": [
              "6.02214076e+23"
            ]
          },
          "execution_count": 21,
          "metadata": {},
          "output_type": "execute_result"
        }
      ],
      "source": [
        "avogadro_number"
      ]
    },
    {
      "cell_type": "code",
      "execution_count": null,
      "metadata": {
        "id": "0jhvv9RwnEKj",
        "outputId": "35177049-b00e-407d-b12f-66b20d387e00"
      },
      "outputs": [
        {
          "data": {
            "text/plain": [
              "float"
            ]
          },
          "execution_count": 22,
          "metadata": {},
          "output_type": "execute_result"
        }
      ],
      "source": [
        "type(avogadro_number)"
      ]
    },
    {
      "cell_type": "markdown",
      "metadata": {
        "id": "Vf42mnSNnEKj"
      },
      "source": [
        "You can convert floats into integers and vice versa using the `float` and `int` functions. The operation of converting one type of value into another is called casting."
      ]
    },
    {
      "cell_type": "code",
      "execution_count": null,
      "metadata": {
        "id": "pFSTJnWnnEKj",
        "outputId": "8ac196ff-c791-480e-fefc-e4adfc80849b"
      },
      "outputs": [
        {
          "data": {
            "text/plain": [
              "2020.0"
            ]
          },
          "execution_count": 23,
          "metadata": {},
          "output_type": "execute_result"
        }
      ],
      "source": [
        "float(current_year)"
      ]
    },
    {
      "cell_type": "code",
      "execution_count": null,
      "metadata": {
        "id": "0PqfpaSgnEKk",
        "outputId": "19db5855-fc10-45c2-bbf6-80f3fc033e3e"
      },
      "outputs": [
        {
          "data": {
            "text/plain": [
              "-2.3374038374832935e+31"
            ]
          },
          "execution_count": 24,
          "metadata": {},
          "output_type": "execute_result"
        }
      ],
      "source": [
        "float(a_large_negative_number)"
      ]
    },
    {
      "cell_type": "code",
      "execution_count": null,
      "metadata": {
        "id": "ur-2I5MJnEKk",
        "outputId": "a26403bd-9090-40b4-e0e3-43ddae7b2b56"
      },
      "outputs": [
        {
          "data": {
            "text/plain": [
              "3"
            ]
          },
          "execution_count": 25,
          "metadata": {},
          "output_type": "execute_result"
        }
      ],
      "source": [
        "int(pi)"
      ]
    },
    {
      "cell_type": "code",
      "execution_count": null,
      "metadata": {
        "id": "iTYQ395ZnEKk",
        "outputId": "33f4c552-571e-425d-8b79-6a0483bba034"
      },
      "outputs": [
        {
          "data": {
            "text/plain": [
              "602214075999999987023872"
            ]
          },
          "execution_count": 26,
          "metadata": {},
          "output_type": "execute_result"
        }
      ],
      "source": [
        "int(avogadro_number)"
      ]
    },
    {
      "cell_type": "markdown",
      "metadata": {
        "id": "OUgz95fGnEKk"
      },
      "source": [
        "While performing arithmetic operations, integers are automatically converted to `float`s if any of the operands is a `float`. Also, the division operator `/` always returns a `float`, even if both operands are integers. Use the `//` operator if you want the result of the division to be an `int`."
      ]
    },
    {
      "cell_type": "code",
      "execution_count": null,
      "metadata": {
        "id": "jaxAtZ6rnEKl",
        "outputId": "1adaf4a9-7d6a-436b-9810-f1931843f22d"
      },
      "outputs": [
        {
          "data": {
            "text/plain": [
              "float"
            ]
          },
          "execution_count": 27,
          "metadata": {},
          "output_type": "execute_result"
        }
      ],
      "source": [
        "type(45 * 3.0)"
      ]
    },
    {
      "cell_type": "code",
      "execution_count": null,
      "metadata": {
        "id": "e033o5r5nEKl",
        "outputId": "7d03a92d-584e-4860-fad6-bcb9adf7c841"
      },
      "outputs": [
        {
          "data": {
            "text/plain": [
              "int"
            ]
          },
          "execution_count": 28,
          "metadata": {},
          "output_type": "execute_result"
        }
      ],
      "source": [
        "type(45 * 3)"
      ]
    },
    {
      "cell_type": "code",
      "execution_count": null,
      "metadata": {
        "id": "F6TTwjeBnEKl",
        "outputId": "ba038cab-1ead-4d82-dca8-f7e7e45b93f1"
      },
      "outputs": [
        {
          "data": {
            "text/plain": [
              "float"
            ]
          },
          "execution_count": 29,
          "metadata": {},
          "output_type": "execute_result"
        }
      ],
      "source": [
        "type(10/3)"
      ]
    },
    {
      "cell_type": "code",
      "execution_count": null,
      "metadata": {
        "id": "Xws000Z4nEKm",
        "outputId": "662a00b6-069a-4db1-848b-e955b6e47feb"
      },
      "outputs": [
        {
          "data": {
            "text/plain": [
              "float"
            ]
          },
          "execution_count": 30,
          "metadata": {},
          "output_type": "execute_result"
        }
      ],
      "source": [
        "type(10/2)"
      ]
    },
    {
      "cell_type": "code",
      "execution_count": null,
      "metadata": {
        "id": "tN_2vMeGnEKm",
        "outputId": "278c5492-8114-463e-bb11-276c2dda5e36"
      },
      "outputs": [
        {
          "data": {
            "text/plain": [
              "int"
            ]
          },
          "execution_count": 31,
          "metadata": {},
          "output_type": "execute_result"
        }
      ],
      "source": [
        "type(10//2)"
      ]
    },
    {
      "cell_type": "markdown",
      "metadata": {
        "id": "pWlyAJ3pnEKm"
      },
      "source": [
        "### Boolean\n",
        "\n",
        "Booleans represent one of 2 values: `True` and `False`. Booleans have the type `bool`."
      ]
    },
    {
      "cell_type": "code",
      "execution_count": null,
      "metadata": {
        "id": "HYG_-i6znEKm"
      },
      "outputs": [],
      "source": [
        "is_today_Sunday = True"
      ]
    },
    {
      "cell_type": "code",
      "execution_count": null,
      "metadata": {
        "id": "_5vSlp71nEKn",
        "outputId": "8caedbf1-3141-4161-87df-22763bc146d7"
      },
      "outputs": [
        {
          "data": {
            "text/plain": [
              "True"
            ]
          },
          "execution_count": 33,
          "metadata": {},
          "output_type": "execute_result"
        }
      ],
      "source": [
        "is_today_Sunday"
      ]
    },
    {
      "cell_type": "code",
      "execution_count": null,
      "metadata": {
        "id": "5puysYIKnEKn",
        "outputId": "41fbbebe-d2ee-4d86-8280-8a798f8d3896"
      },
      "outputs": [
        {
          "ename": "NameError",
          "evalue": "name 'is_today_Saturday' is not defined",
          "output_type": "error",
          "traceback": [
            "\u001b[1;31m---------------------------------------------------------------------------\u001b[0m",
            "\u001b[1;31mNameError\u001b[0m                                 Traceback (most recent call last)",
            "\u001b[1;32m<ipython-input-34-2ae8e041fe6f>\u001b[0m in \u001b[0;36m<module>\u001b[1;34m\u001b[0m\n\u001b[1;32m----> 1\u001b[1;33m \u001b[0mtype\u001b[0m\u001b[1;33m(\u001b[0m\u001b[0mis_today_Saturday\u001b[0m\u001b[1;33m)\u001b[0m\u001b[1;33m\u001b[0m\u001b[1;33m\u001b[0m\u001b[0m\n\u001b[0m",
            "\u001b[1;31mNameError\u001b[0m: name 'is_today_Saturday' is not defined"
          ]
        }
      ],
      "source": [
        "type(is_today_Saturday)"
      ]
    },
    {
      "cell_type": "markdown",
      "metadata": {
        "id": "wsbvy1gDnEKn"
      },
      "source": [
        "Booleans are generally the result of a comparison operation, e.g., `==`, `>=`, etc."
      ]
    },
    {
      "cell_type": "code",
      "execution_count": null,
      "metadata": {
        "id": "tE5AlQQonEKo"
      },
      "outputs": [],
      "source": [
        "cost_of_ice_bag = 1.25\n",
        "is_ice_bag_expensive = cost_of_ice_bag >= 10"
      ]
    },
    {
      "cell_type": "code",
      "execution_count": null,
      "metadata": {
        "id": "9ZeiqxdLnEKo",
        "outputId": "06617283-77da-4a11-c44e-0f8d3701d141"
      },
      "outputs": [
        {
          "data": {
            "text/plain": [
              "False"
            ]
          },
          "execution_count": 36,
          "metadata": {},
          "output_type": "execute_result"
        }
      ],
      "source": [
        "is_ice_bag_expensive"
      ]
    },
    {
      "cell_type": "code",
      "execution_count": null,
      "metadata": {
        "id": "8PWZctgOnEKo",
        "outputId": "44920795-5305-4d6a-eba8-bde7f53e1ca5"
      },
      "outputs": [
        {
          "data": {
            "text/plain": [
              "bool"
            ]
          },
          "execution_count": 37,
          "metadata": {},
          "output_type": "execute_result"
        }
      ],
      "source": [
        "type(is_ice_bag_expensive)"
      ]
    },
    {
      "cell_type": "markdown",
      "metadata": {
        "id": "dK4LnfvgnEKo"
      },
      "source": [
        "Booleans are automatically converted to `int`s when used in arithmetic operations. `True` is converted to `1` and `False` is converted to `0`."
      ]
    },
    {
      "cell_type": "code",
      "execution_count": null,
      "metadata": {
        "id": "sTPRUT_HnEKp",
        "outputId": "fc5d4c36-19f1-46b1-c018-3cf6e12e7276"
      },
      "outputs": [
        {
          "data": {
            "text/plain": [
              "5"
            ]
          },
          "execution_count": 38,
          "metadata": {},
          "output_type": "execute_result"
        }
      ],
      "source": [
        "5 + False"
      ]
    },
    {
      "cell_type": "code",
      "execution_count": null,
      "metadata": {
        "id": "eU00tsNJnEKp",
        "outputId": "6b578c6a-07aa-4f9e-e974-804b9ca88b07"
      },
      "outputs": [
        {
          "data": {
            "text/plain": [
              "4.0"
            ]
          },
          "execution_count": 39,
          "metadata": {},
          "output_type": "execute_result"
        }
      ],
      "source": [
        "3. + True"
      ]
    },
    {
      "cell_type": "markdown",
      "metadata": {
        "id": "gUx6GwfInEKp"
      },
      "source": [
        "Any value in Python can be converted to a Boolean using the `bool` function. \n",
        "\n",
        "Only the following values evaluate to `False` (they are often called *falsy* values):\n",
        "\n",
        "1. The value `False` itself\n",
        "2. The integer `0`\n",
        "3. The float `0.0`\n",
        "4. The empty value `None`\n",
        "5. The empty text `\"\"`\n",
        "6. The empty list `[]`\n",
        "7. The empty tuple `()`\n",
        "8. The empty dictionary `{}`\n",
        "9. The empty set `set()`\n",
        "10. The empty range `range(0)`\n",
        "\n",
        "Everything else evaluates to `True` (a value that evaluates to `True` is often called a *truthy* value)."
      ]
    },
    {
      "cell_type": "code",
      "execution_count": null,
      "metadata": {
        "id": "l_FIqODLnEKq",
        "outputId": "13895054-fc6d-493f-e5e8-dcb6ab675b59"
      },
      "outputs": [
        {
          "data": {
            "text/plain": [
              "False"
            ]
          },
          "execution_count": 40,
          "metadata": {},
          "output_type": "execute_result"
        }
      ],
      "source": [
        "bool(False)"
      ]
    },
    {
      "cell_type": "code",
      "execution_count": null,
      "metadata": {
        "id": "xEsObdf6nEKq",
        "outputId": "b51c2ded-5de3-4772-b1d2-fa04e361f1f7"
      },
      "outputs": [
        {
          "data": {
            "text/plain": [
              "False"
            ]
          },
          "execution_count": 41,
          "metadata": {},
          "output_type": "execute_result"
        }
      ],
      "source": [
        "bool(0)"
      ]
    },
    {
      "cell_type": "code",
      "execution_count": null,
      "metadata": {
        "id": "B1ogRH8vnEKq",
        "outputId": "75aba42e-170b-43ea-9c2e-f8096ecec059"
      },
      "outputs": [
        {
          "data": {
            "text/plain": [
              "False"
            ]
          },
          "execution_count": 79,
          "metadata": {},
          "output_type": "execute_result"
        }
      ],
      "source": [
        "\n",
        "\n",
        "bool(0.0)"
      ]
    },
    {
      "cell_type": "code",
      "execution_count": null,
      "metadata": {
        "id": "vqUdiyXvnEKq",
        "outputId": "66daea69-c1ca-497b-f421-0b680600c430"
      },
      "outputs": [
        {
          "data": {
            "text/plain": [
              "False"
            ]
          },
          "execution_count": 80,
          "metadata": {},
          "output_type": "execute_result"
        }
      ],
      "source": [
        "bool(None)"
      ]
    },
    {
      "cell_type": "code",
      "execution_count": null,
      "metadata": {
        "id": "sXUMF4XvnEKr",
        "outputId": "3c4fcc96-645b-48b6-fed0-bf8e6b323852"
      },
      "outputs": [
        {
          "data": {
            "text/plain": [
              "False"
            ]
          },
          "execution_count": 81,
          "metadata": {},
          "output_type": "execute_result"
        }
      ],
      "source": [
        "bool(\"\")"
      ]
    },
    {
      "cell_type": "code",
      "execution_count": null,
      "metadata": {
        "id": "ngU6lRpinEKr",
        "outputId": "1c91be77-2ec3-41b1-b585-b3a98dcfc45a"
      },
      "outputs": [
        {
          "data": {
            "text/plain": [
              "False"
            ]
          },
          "execution_count": 82,
          "metadata": {},
          "output_type": "execute_result"
        }
      ],
      "source": [
        "bool([])"
      ]
    },
    {
      "cell_type": "code",
      "execution_count": null,
      "metadata": {
        "id": "dcmnVXPPnEKr",
        "outputId": "d0f4eb40-c4ad-4f82-b5a2-8ac7811e4314"
      },
      "outputs": [
        {
          "data": {
            "text/plain": [
              "False"
            ]
          },
          "execution_count": 83,
          "metadata": {},
          "output_type": "execute_result"
        }
      ],
      "source": [
        "bool(())"
      ]
    },
    {
      "cell_type": "code",
      "execution_count": null,
      "metadata": {
        "id": "zODRCRxWnEKs",
        "outputId": "2b45ec88-a3bd-40bf-efc8-177537d861ed"
      },
      "outputs": [
        {
          "data": {
            "text/plain": [
              "False"
            ]
          },
          "execution_count": 84,
          "metadata": {},
          "output_type": "execute_result"
        }
      ],
      "source": [
        "bool({})"
      ]
    },
    {
      "cell_type": "code",
      "execution_count": null,
      "metadata": {
        "id": "c4ZxrY1lnEKs",
        "outputId": "888f0a53-8f79-4d49-b94f-407f4b761718"
      },
      "outputs": [
        {
          "data": {
            "text/plain": [
              "False"
            ]
          },
          "execution_count": 85,
          "metadata": {},
          "output_type": "execute_result"
        }
      ],
      "source": [
        "bool(set())"
      ]
    },
    {
      "cell_type": "code",
      "execution_count": null,
      "metadata": {
        "id": "pWuXwATFnEKs",
        "outputId": "f7cadd03-93f2-4f5c-9d16-c6f4cbf53db9"
      },
      "outputs": [
        {
          "data": {
            "text/plain": [
              "False"
            ]
          },
          "execution_count": 86,
          "metadata": {},
          "output_type": "execute_result"
        }
      ],
      "source": [
        "bool(range(0))"
      ]
    },
    {
      "cell_type": "code",
      "execution_count": null,
      "metadata": {
        "id": "wXWvo5cLnEKt",
        "outputId": "39030a4c-20d2-4f6c-ecd3-de05bd2adf7f"
      },
      "outputs": [
        {
          "data": {
            "text/plain": [
              "(True, True, True, True, True, True, True)"
            ]
          },
          "execution_count": 87,
          "metadata": {},
          "output_type": "execute_result"
        }
      ],
      "source": [
        "bool(True), bool(1), bool(2.0), bool(\"hello\"), bool([1,2]), bool((2,3)), bool(range(10))"
      ]
    },
    {
      "cell_type": "markdown",
      "metadata": {
        "id": "5m46mvAfnEKt"
      },
      "source": [
        "### None\n",
        "\n",
        "The None type includes a single value `None`, used to indicate the absence of a value. `None` has the type `NoneType`. It is often used to declare a variable whose value may be assigned later."
      ]
    },
    {
      "cell_type": "code",
      "execution_count": null,
      "metadata": {
        "id": "tRiZEMn7nEKt"
      },
      "outputs": [],
      "source": [
        "nothing = None"
      ]
    },
    {
      "cell_type": "code",
      "execution_count": null,
      "metadata": {
        "id": "frt8JwL0nEKu",
        "outputId": "6a198da4-6eef-4068-cabd-7d008ca15de4"
      },
      "outputs": [
        {
          "data": {
            "text/plain": [
              "NoneType"
            ]
          },
          "execution_count": 89,
          "metadata": {},
          "output_type": "execute_result"
        }
      ],
      "source": [
        "type(nothing)"
      ]
    },
    {
      "cell_type": "markdown",
      "metadata": {
        "id": "nEc2_YDfnEKu"
      },
      "source": [
        "### String\n",
        "\n",
        "A string is used to represent text (*a string of characters*) in Python. Strings must be surrounded using quotations (either the single quote `'` or the double quote `\"`). Strings have the type `string`."
      ]
    },
    {
      "cell_type": "code",
      "execution_count": null,
      "metadata": {
        "id": "Rak7iGPTnEKu"
      },
      "outputs": [],
      "source": [
        "today = \"Saturday\""
      ]
    },
    {
      "cell_type": "code",
      "execution_count": null,
      "metadata": {
        "id": "iOyKt3bpnEKu",
        "outputId": "748497c4-fc4e-45ac-e4f5-5a3bf4bafeaa"
      },
      "outputs": [
        {
          "data": {
            "text/plain": [
              "'Saturday'"
            ]
          },
          "execution_count": 91,
          "metadata": {},
          "output_type": "execute_result"
        }
      ],
      "source": [
        "today"
      ]
    },
    {
      "cell_type": "code",
      "execution_count": null,
      "metadata": {
        "id": "EjX4iibcnEKv",
        "outputId": "50eedfa0-815c-460f-a582-97e2705f5e74"
      },
      "outputs": [
        {
          "data": {
            "text/plain": [
              "str"
            ]
          },
          "execution_count": 92,
          "metadata": {},
          "output_type": "execute_result"
        }
      ],
      "source": [
        "type(today)"
      ]
    },
    {
      "cell_type": "markdown",
      "metadata": {
        "id": "3Un3rBNbnEKv"
      },
      "source": [
        "You can use single quotes inside a string written with double quotes, and vice versa."
      ]
    },
    {
      "cell_type": "code",
      "execution_count": null,
      "metadata": {
        "id": "fn_vgxmGnEKv"
      },
      "outputs": [],
      "source": [
        "my_favorite_movie = \"One Flew over the Cuckoo's Nest\" "
      ]
    },
    {
      "cell_type": "code",
      "execution_count": null,
      "metadata": {
        "id": "3_DTmz9hnEKv",
        "outputId": "e7434c5a-ddbc-4f6c-f41c-2e51b7bac642"
      },
      "outputs": [
        {
          "data": {
            "text/plain": [
              "\"One Flew over the Cuckoo's Nest\""
            ]
          },
          "execution_count": 64,
          "metadata": {},
          "output_type": "execute_result"
        }
      ],
      "source": [
        "my_favorite_movie"
      ]
    },
    {
      "cell_type": "code",
      "execution_count": null,
      "metadata": {
        "id": "X9XoNUEFnEKw"
      },
      "outputs": [],
      "source": [
        "my_favorite_pun = 'Thanks for explaining the word \"many\" to me, it means a lot.'"
      ]
    },
    {
      "cell_type": "code",
      "execution_count": null,
      "metadata": {
        "id": "4_nI8cq9nEKw",
        "outputId": "5be87835-02df-49ec-834d-24bd2fc02441"
      },
      "outputs": [
        {
          "data": {
            "text/plain": [
              "'Thanks for explaining the word \"many\" to me, it means a lot.'"
            ]
          },
          "execution_count": 66,
          "metadata": {},
          "output_type": "execute_result"
        }
      ],
      "source": [
        "my_favorite_pun"
      ]
    },
    {
      "cell_type": "markdown",
      "metadata": {
        "id": "YE_96jmgnEKw"
      },
      "source": [
        "To use a double quote within a string written with double quotes, *escape* the inner quotes by prefixing them with the `\\` character."
      ]
    },
    {
      "cell_type": "code",
      "execution_count": null,
      "metadata": {
        "id": "hCxf5dILnEKx"
      },
      "outputs": [],
      "source": [
        "another_pun = \"The first time I got a universal remote control, I thought to myself \\\"This changes everything\\\".\""
      ]
    },
    {
      "cell_type": "code",
      "execution_count": null,
      "metadata": {
        "id": "CiLJ_9GPnEKx",
        "outputId": "9fbd9372-784a-44a5-a57f-ababdc2d60aa"
      },
      "outputs": [
        {
          "data": {
            "text/plain": [
              "'The first time I got a universal remote control, I thought to myself \"This changes everything\".'"
            ]
          },
          "execution_count": 68,
          "metadata": {},
          "output_type": "execute_result"
        }
      ],
      "source": [
        "another_pun"
      ]
    },
    {
      "cell_type": "markdown",
      "metadata": {
        "id": "KdQNCgAJnEKy"
      },
      "source": [
        "Strings created using single or double quotes must begin and end on the same line. To create multiline strings, use three single quotes `'''` or three double quotes `\"\"\"` to begin and end the string. Line breaks are represented using the newline character `\\n`."
      ]
    },
    {
      "cell_type": "code",
      "execution_count": null,
      "metadata": {
        "id": "BfSA40FAnEKy"
      },
      "outputs": [],
      "source": [
        "yet_another_pun = '''Son: \"Dad, can you tell me what a solar eclipse is?\" \n",
        "Dad: \"No sun.\"'''"
      ]
    },
    {
      "cell_type": "code",
      "execution_count": null,
      "metadata": {
        "id": "D3vnTxCRnEKy",
        "outputId": "c0023271-e87f-4a5f-8fa0-fb45e12e104d"
      },
      "outputs": [
        {
          "data": {
            "text/plain": [
              "'Son: \"Dad, can you tell me what a solar eclipse is?\" \\nDad: \"No sun.\"'"
            ]
          },
          "execution_count": 70,
          "metadata": {},
          "output_type": "execute_result"
        }
      ],
      "source": [
        "yet_another_pun"
      ]
    },
    {
      "cell_type": "markdown",
      "metadata": {
        "id": "iHNEhI9SnEKz"
      },
      "source": [
        "Multiline strings are best displayed using the `print` function."
      ]
    },
    {
      "cell_type": "code",
      "execution_count": null,
      "metadata": {
        "id": "-GocbL3ZnEKz",
        "outputId": "701dbe56-0aa8-48f2-9378-fca3e9abb277"
      },
      "outputs": [
        {
          "name": "stdout",
          "output_type": "stream",
          "text": [
            "Son: \"Dad, can you tell me what a solar eclipse is?\" \n",
            "Dad: \"No sun.\"\n"
          ]
        }
      ],
      "source": [
        "print(yet_another_pun)"
      ]
    },
    {
      "cell_type": "code",
      "execution_count": null,
      "metadata": {
        "id": "T_9QRBNWnEK0"
      },
      "outputs": [],
      "source": [
        "a_music_pun = \"\"\"\n",
        "Two windmills are standing in a field and one asks the other, \n",
        "\"What kind of music do you like?\"  \n",
        "\n",
        "The other says, \n",
        "\"I'm a big metal fan.\"\n",
        "\"\"\""
      ]
    },
    {
      "cell_type": "code",
      "execution_count": null,
      "metadata": {
        "id": "XKSeaeyCnEK0",
        "outputId": "06b85ab5-8f98-4930-bb32-c21b9a035b44"
      },
      "outputs": [
        {
          "name": "stdout",
          "output_type": "stream",
          "text": [
            "\n",
            "Two windmills are standing in a field and one asks the other, \n",
            "\"What kind of music do you like?\"  \n",
            "\n",
            "The other says, \n",
            "\"I'm a big metal fan.\"\n",
            "\n"
          ]
        }
      ],
      "source": [
        "print(a_music_pun)"
      ]
    },
    {
      "cell_type": "markdown",
      "metadata": {
        "id": "9xxpBr-OnEK1"
      },
      "source": [
        "You can check the length of a string using the `len` function."
      ]
    },
    {
      "cell_type": "code",
      "execution_count": null,
      "metadata": {
        "id": "TDLkgt49nEK1",
        "outputId": "040d115c-4a31-44af-f09a-81a611eefca0"
      },
      "outputs": [
        {
          "data": {
            "text/plain": [
              "31"
            ]
          },
          "execution_count": 74,
          "metadata": {},
          "output_type": "execute_result"
        }
      ],
      "source": [
        "len(my_favorite_movie)"
      ]
    },
    {
      "cell_type": "markdown",
      "metadata": {
        "id": "-A-TOaFPnEK1"
      },
      "source": [
        "Note that special characters like `\\n` and escaped characters like `\\\"` count as a single character, even though they are written and sometimes printed as two characters."
      ]
    },
    {
      "cell_type": "code",
      "execution_count": null,
      "metadata": {
        "id": "kv355wu7nEK2",
        "outputId": "1ded84f7-7811-4f64-de8a-dda33ee2ae99"
      },
      "outputs": [
        {
          "data": {
            "text/plain": [
              "'a\\nb'"
            ]
          },
          "execution_count": 75,
          "metadata": {},
          "output_type": "execute_result"
        }
      ],
      "source": [
        "multiline_string = \"\"\"a\n",
        "b\"\"\"\n",
        "multiline_string"
      ]
    },
    {
      "cell_type": "code",
      "execution_count": null,
      "metadata": {
        "id": "DaSf2qLinEK2",
        "outputId": "e76f8e51-84d1-404a-9beb-6c61c9843293"
      },
      "outputs": [
        {
          "data": {
            "text/plain": [
              "3"
            ]
          },
          "execution_count": 76,
          "metadata": {},
          "output_type": "execute_result"
        }
      ],
      "source": [
        "len(multiline_string)"
      ]
    },
    {
      "cell_type": "markdown",
      "metadata": {
        "id": "fZ36RfiCnEK4"
      },
      "source": [
        "A string can be converted into a list of characters using `list` function."
      ]
    },
    {
      "cell_type": "code",
      "execution_count": null,
      "metadata": {
        "id": "kOLe3bx-nEK5",
        "outputId": "1d8c6f27-e52e-4b57-e58b-123597d11f3b"
      },
      "outputs": [
        {
          "data": {
            "text/plain": [
              "['a', '\\n', 'b']"
            ]
          },
          "execution_count": 77,
          "metadata": {},
          "output_type": "execute_result"
        }
      ],
      "source": [
        "list(multiline_string)"
      ]
    },
    {
      "cell_type": "markdown",
      "metadata": {
        "id": "nlnXlF0dnEK5"
      },
      "source": [
        "Strings also support several list operations, which are discussed in the next section. We'll look at a couple of examples here.\n",
        "\n",
        "You can access individual characters within a string using the `[]` indexing notation. Note the character indices go from `0` to `n-1`, where `n` is the length of the string."
      ]
    },
    {
      "cell_type": "code",
      "execution_count": null,
      "metadata": {
        "id": "39LNiE-QnEK5"
      },
      "outputs": [],
      "source": [
        "today = \"Saturday\""
      ]
    },
    {
      "cell_type": "code",
      "execution_count": null,
      "metadata": {
        "id": "i4DMvRVXnEK6",
        "outputId": "e0e95b9c-368a-45d9-df80-c512a2efe235"
      },
      "outputs": [
        {
          "data": {
            "text/plain": [
              "'S'"
            ]
          },
          "execution_count": 79,
          "metadata": {},
          "output_type": "execute_result"
        }
      ],
      "source": [
        "today[0]"
      ]
    },
    {
      "cell_type": "code",
      "execution_count": null,
      "metadata": {
        "id": "akZo1Hf-nEK6",
        "outputId": "dbb01255-c9e9-4f8a-d0d7-066d70dd790d"
      },
      "outputs": [
        {
          "data": {
            "text/plain": [
              "'u'"
            ]
          },
          "execution_count": 80,
          "metadata": {},
          "output_type": "execute_result"
        }
      ],
      "source": [
        "today[3]"
      ]
    },
    {
      "cell_type": "code",
      "execution_count": null,
      "metadata": {
        "id": "BeE6uagTnEK6",
        "outputId": "2675448a-fccd-40d5-a221-d80aaedf30ae"
      },
      "outputs": [
        {
          "data": {
            "text/plain": [
              "'y'"
            ]
          },
          "execution_count": 81,
          "metadata": {},
          "output_type": "execute_result"
        }
      ],
      "source": [
        "today[7]"
      ]
    },
    {
      "cell_type": "markdown",
      "metadata": {
        "id": "PoOY-lbjnEK7"
      },
      "source": [
        "You can access a part of a string using by providing a `start:end` range instead of a single index in `[]`."
      ]
    },
    {
      "cell_type": "code",
      "execution_count": null,
      "metadata": {
        "id": "Qso6DyBSnEK7",
        "outputId": "9562c595-e02c-412b-a815-e14fa6e08a42"
      },
      "outputs": [
        {
          "data": {
            "text/plain": [
              "'day'"
            ]
          },
          "execution_count": 82,
          "metadata": {},
          "output_type": "execute_result"
        }
      ],
      "source": [
        "today[5:8]"
      ]
    },
    {
      "cell_type": "markdown",
      "metadata": {
        "id": "kroDETjNnEK7"
      },
      "source": [
        "You can also check whether a string contains a some text using the `in` operator. "
      ]
    },
    {
      "cell_type": "code",
      "execution_count": null,
      "metadata": {
        "id": "N4iu9FE9nEK7",
        "outputId": "bacd3378-fdb0-4bf1-90cc-51c187eb3b24"
      },
      "outputs": [
        {
          "data": {
            "text/plain": [
              "True"
            ]
          },
          "execution_count": 83,
          "metadata": {},
          "output_type": "execute_result"
        }
      ],
      "source": [
        "'day' in today"
      ]
    },
    {
      "cell_type": "code",
      "execution_count": null,
      "metadata": {
        "id": "-86JNBFLnEK8",
        "outputId": "c2977b05-38ba-484f-9885-becc04367dfc"
      },
      "outputs": [
        {
          "data": {
            "text/plain": [
              "False"
            ]
          },
          "execution_count": 84,
          "metadata": {},
          "output_type": "execute_result"
        }
      ],
      "source": [
        "'Sun' in today"
      ]
    },
    {
      "cell_type": "markdown",
      "metadata": {
        "id": "hy7YBCx3nEK8"
      },
      "source": [
        "Two or more strings can be joined or *concatenated* using the `+` operator. Be careful while concatenating strings, sometimes you may need to add a space character `\" \"` between words."
      ]
    },
    {
      "cell_type": "code",
      "execution_count": null,
      "metadata": {
        "id": "NQSR0vBsnEK8"
      },
      "outputs": [],
      "source": [
        "full_name = \"Derek O'Brien\""
      ]
    },
    {
      "cell_type": "code",
      "execution_count": null,
      "metadata": {
        "id": "m2toAfwMnEK9"
      },
      "outputs": [],
      "source": [
        "greeting = \"Hello\""
      ]
    },
    {
      "cell_type": "code",
      "execution_count": null,
      "metadata": {
        "id": "rmwGeQO9nEK9",
        "outputId": "a6bcdf8b-c23f-43aa-f003-869986edf7b2"
      },
      "outputs": [
        {
          "data": {
            "text/plain": [
              "\"HelloDerek O'Brien\""
            ]
          },
          "execution_count": 87,
          "metadata": {},
          "output_type": "execute_result"
        }
      ],
      "source": [
        "greeting + full_name"
      ]
    },
    {
      "cell_type": "code",
      "execution_count": null,
      "metadata": {
        "id": "FSY_qEEonEK9",
        "outputId": "c0609622-9e6f-475a-de11-8c2bc5736041"
      },
      "outputs": [
        {
          "data": {
            "text/plain": [
              "\"Hello Derek O'Brien!\""
            ]
          },
          "execution_count": 88,
          "metadata": {},
          "output_type": "execute_result"
        }
      ],
      "source": [
        "greeting + \" \" + full_name + \"!\" # additional space"
      ]
    },
    {
      "cell_type": "markdown",
      "metadata": {
        "id": "G-SVo2xanEK9"
      },
      "source": [
        "Strings in Python have many built-in *methods* that are used to manipulate them. Let's try out some common string methods.\n",
        "\n",
        "> **Methods**: Methods are functions associated with data types and are accessed using the `.` notation e.g. `variable_name.method()` or `\"a string\".method()`. Methods are a powerful technique for associating common operations with values of specific data types.\n",
        "\n",
        "The `.lower()`, `.upper()` and `.capitalize()` methods are used to change the case of the characters."
      ]
    },
    {
      "cell_type": "code",
      "execution_count": null,
      "metadata": {
        "id": "2OlUfEiCnEK-",
        "outputId": "62b9c7de-f609-419e-d6f3-3327500084ad"
      },
      "outputs": [
        {
          "data": {
            "text/plain": [
              "'saturday'"
            ]
          },
          "execution_count": 89,
          "metadata": {},
          "output_type": "execute_result"
        }
      ],
      "source": [
        "today.lower()"
      ]
    },
    {
      "cell_type": "code",
      "execution_count": null,
      "metadata": {
        "id": "9L1RN0uSnEK-",
        "outputId": "06e7c8b9-b220-4038-cc33-78047e57fc0f"
      },
      "outputs": [
        {
          "data": {
            "text/plain": [
              "'SATURDAY'"
            ]
          },
          "execution_count": 90,
          "metadata": {},
          "output_type": "execute_result"
        }
      ],
      "source": [
        "\"saturday\".upper()"
      ]
    },
    {
      "cell_type": "code",
      "execution_count": null,
      "metadata": {
        "id": "69k1rYgCnEK-",
        "outputId": "4816afea-ea9b-45f2-fe93-fd5328997984"
      },
      "outputs": [
        {
          "data": {
            "text/plain": [
              "'Monday'"
            ]
          },
          "execution_count": 91,
          "metadata": {},
          "output_type": "execute_result"
        }
      ],
      "source": [
        "\"monday\".capitalize() # changes first character to uppercase"
      ]
    },
    {
      "cell_type": "markdown",
      "metadata": {
        "id": "1gOb608qnEK_"
      },
      "source": [
        "The `.replace` method replaces a part of the string with another string. It takes the portion to be replaced and the replacement text as *inputs* or *arguments*."
      ]
    },
    {
      "cell_type": "code",
      "execution_count": null,
      "metadata": {
        "id": "FFWXCll9nEK_"
      },
      "outputs": [],
      "source": [
        "another_day = today.replace(\"Satur\", \"Wednes\")"
      ]
    },
    {
      "cell_type": "code",
      "execution_count": null,
      "metadata": {
        "id": "KMrX4A1WnEK_",
        "outputId": "63343d3d-1393-4373-8a62-72ace4bb1d57"
      },
      "outputs": [
        {
          "data": {
            "text/plain": [
              "'Wednesday'"
            ]
          },
          "execution_count": 93,
          "metadata": {},
          "output_type": "execute_result"
        }
      ],
      "source": [
        "another_day"
      ]
    },
    {
      "cell_type": "markdown",
      "metadata": {
        "id": "OG4mNfRpnEK_"
      },
      "source": [
        "Note that `replace` returns a new string, and the original string is not modified."
      ]
    },
    {
      "cell_type": "code",
      "execution_count": null,
      "metadata": {
        "id": "16NZtMvVnELA",
        "outputId": "0d8d27af-5c83-47d1-e023-6451456d40e3"
      },
      "outputs": [
        {
          "data": {
            "text/plain": [
              "'Saturday'"
            ]
          },
          "execution_count": 94,
          "metadata": {},
          "output_type": "execute_result"
        }
      ],
      "source": [
        "today"
      ]
    },
    {
      "cell_type": "markdown",
      "metadata": {
        "id": "P-4ZLyWvnELA"
      },
      "source": [
        "The `.split` method splits a string into a list of strings at every occurrence of provided character(s)."
      ]
    },
    {
      "cell_type": "code",
      "execution_count": null,
      "metadata": {
        "id": "88gwF9H0nELA",
        "outputId": "614aadf4-5bad-4761-ecfd-5a66e887434a"
      },
      "outputs": [
        {
          "data": {
            "text/plain": [
              "['Sun', 'Mon', 'Tue', 'Wed', 'Thu', 'Fri', 'Sat']"
            ]
          },
          "execution_count": 95,
          "metadata": {},
          "output_type": "execute_result"
        }
      ],
      "source": [
        "\"Sun,Mon,Tue,Wed,Thu,Fri,Sat\".split(\",\")"
      ]
    },
    {
      "cell_type": "markdown",
      "metadata": {
        "id": "Ji1ItR82nELB"
      },
      "source": [
        "The `.strip` method removes whitespace characters from the beginning and end of a string."
      ]
    },
    {
      "cell_type": "code",
      "execution_count": null,
      "metadata": {
        "id": "OeZBbA23nELB"
      },
      "outputs": [],
      "source": [
        "a_long_line = \"       This is a long line with some space before, after,     and some space in the middle..    \""
      ]
    },
    {
      "cell_type": "code",
      "execution_count": null,
      "metadata": {
        "id": "JS18vUvunELC"
      },
      "outputs": [],
      "source": [
        "a_long_line_stripped = a_long_line.strip()"
      ]
    },
    {
      "cell_type": "code",
      "execution_count": null,
      "metadata": {
        "id": "16j_ZnvYnELC",
        "outputId": "6de581d1-b211-4417-c211-8643afbb9e22"
      },
      "outputs": [
        {
          "data": {
            "text/plain": [
              "'This is a long line with some space before, after,     and some space in the middle..'"
            ]
          },
          "execution_count": 98,
          "metadata": {},
          "output_type": "execute_result"
        }
      ],
      "source": [
        "a_long_line_stripped"
      ]
    },
    {
      "cell_type": "markdown",
      "metadata": {
        "id": "MLtRm2tonELC"
      },
      "source": [
        "The `.format` method combines values of other data types, e.g., integers, floats, booleans, lists, etc. with strings. You can use `format` to construct output messages for display."
      ]
    },
    {
      "cell_type": "code",
      "execution_count": null,
      "metadata": {
        "id": "afaIRypvnELD",
        "outputId": "b4e43d9c-19b8-4a46-bd3f-1f979d6235b6"
      },
      "outputs": [
        {
          "name": "stdout",
          "output_type": "stream",
          "text": [
            "If a grocery store sells ice bags at $ {} per bag, with a profit margin of {} %, \n",
            "then the total profit it makes by selling {} ice bags is $ {}.\n"
          ]
        }
      ],
      "source": [
        "# Input variables\n",
        "cost_of_ice_bag = 1.25\n",
        "profit_margin = .2\n",
        "number_of_bags = 500\n",
        "\n",
        "# Template for output message\n",
        "output_template = \"\"\"If a grocery store sells ice bags at $ {} per bag, with a profit margin of {} %, \n",
        "then the total profit it makes by selling {} ice bags is $ {}.\"\"\"\n",
        "\n",
        "print(output_template)"
      ]
    },
    {
      "cell_type": "code",
      "execution_count": null,
      "metadata": {
        "id": "TXHx4yhZnELD",
        "outputId": "bbc17eb1-2e02-4426-a641-9d10ff9f8f8e"
      },
      "outputs": [
        {
          "name": "stdout",
          "output_type": "stream",
          "text": [
            "If a grocery store sells ice bags at $ 1.25 per bag, with a profit margin of 20.0 %, \n",
            "then the total profit it makes by selling 500 ice bags is $ 125.0.\n"
          ]
        }
      ],
      "source": [
        "# Inserting values into the string\n",
        "total_profit = cost_of_ice_bag * profit_margin * number_of_bags\n",
        "output_message = output_template.format(cost_of_ice_bag, profit_margin*100, number_of_bags, total_profit)\n",
        "\n",
        "print(output_message)"
      ]
    },
    {
      "cell_type": "markdown",
      "metadata": {
        "id": "plzDLX7PnELE"
      },
      "source": [
        "Notice how the placeholders `{}` in the `output_template` string are replaced with the arguments provided to the `.format` method.\n",
        "\n",
        "It is also possible to use the string concatenation operator `+` to combine strings with other values. However, those values must first be converted to strings using the `str` function."
      ]
    },
    {
      "cell_type": "code",
      "execution_count": null,
      "metadata": {
        "id": "WBPoKGQFnELE",
        "outputId": "dd2a7384-065e-435a-ccd7-98bbdd7b3d30"
      },
      "outputs": [
        {
          "ename": "TypeError",
          "evalue": "can only concatenate str (not \"float\") to str",
          "output_type": "error",
          "traceback": [
            "\u001b[1;31m---------------------------------------------------------------------------\u001b[0m",
            "\u001b[1;31mTypeError\u001b[0m                                 Traceback (most recent call last)",
            "\u001b[1;32m<ipython-input-103-78b7958ec7cc>\u001b[0m in \u001b[0;36m<module>\u001b[1;34m\u001b[0m\n\u001b[1;32m----> 1\u001b[1;33m \u001b[1;34m\"If a grocery store sells ice bags at $ \"\u001b[0m \u001b[1;33m+\u001b[0m \u001b[0mcost_of_ice_bag\u001b[0m \u001b[1;33m+\u001b[0m \u001b[1;34m\", with a profit margin of \"\u001b[0m \u001b[1;33m+\u001b[0m \u001b[0mprofit_margin\u001b[0m\u001b[1;33m\u001b[0m\u001b[1;33m\u001b[0m\u001b[0m\n\u001b[0m",
            "\u001b[1;31mTypeError\u001b[0m: can only concatenate str (not \"float\") to str"
          ]
        }
      ],
      "source": [
        "\"If a grocery store sells ice bags at $ \" + cost_of_ice_bag + \", with a profit margin of \" + profit_margin"
      ]
    },
    {
      "cell_type": "code",
      "execution_count": null,
      "metadata": {
        "id": "0YqZsLIvnELF",
        "outputId": "8c230a4c-8326-46b2-c4fa-fd9d2e430eba"
      },
      "outputs": [
        {
          "data": {
            "text/plain": [
              "'If a grocery store sells ice bags at $ 1.25, with a profit margin of 0.2'"
            ]
          },
          "execution_count": 104,
          "metadata": {},
          "output_type": "execute_result"
        }
      ],
      "source": [
        "\"If a grocery store sells ice bags at $ \" + str(cost_of_ice_bag) + \", with a profit margin of \" + str(profit_margin)"
      ]
    },
    {
      "cell_type": "markdown",
      "metadata": {
        "id": "jzF0Fyv-nELF"
      },
      "source": [
        "You can `str` to convert a value of any data type into a string."
      ]
    },
    {
      "cell_type": "code",
      "execution_count": null,
      "metadata": {
        "id": "njjX-R7SnELF",
        "outputId": "20a2531b-ea12-447b-cb6e-5d028d48c806"
      },
      "outputs": [
        {
          "data": {
            "text/plain": [
              "'23'"
            ]
          },
          "execution_count": 105,
          "metadata": {},
          "output_type": "execute_result"
        }
      ],
      "source": [
        "str(23)"
      ]
    },
    {
      "cell_type": "code",
      "execution_count": null,
      "metadata": {
        "id": "5B3-MjkvnELG",
        "outputId": "aa66bb13-e17f-4b82-a90b-d50d7980f37d"
      },
      "outputs": [
        {
          "data": {
            "text/plain": [
              "'23.432'"
            ]
          },
          "execution_count": 106,
          "metadata": {},
          "output_type": "execute_result"
        }
      ],
      "source": [
        "str(23.432)"
      ]
    },
    {
      "cell_type": "code",
      "execution_count": null,
      "metadata": {
        "id": "DtjCL0cfnELG",
        "outputId": "88b06f08-1c1d-4dd7-cacf-f10e50d8bc91"
      },
      "outputs": [
        {
          "data": {
            "text/plain": [
              "'True'"
            ]
          },
          "execution_count": 107,
          "metadata": {},
          "output_type": "execute_result"
        }
      ],
      "source": [
        "str(True)"
      ]
    },
    {
      "cell_type": "code",
      "execution_count": null,
      "metadata": {
        "id": "zuL1u03wnELH",
        "outputId": "8806a6ee-7de6-48f3-bae0-a55682e0ef1f"
      },
      "outputs": [
        {
          "data": {
            "text/plain": [
              "\"['Athos', 'Porthos', 'Aramis']\""
            ]
          },
          "execution_count": 108,
          "metadata": {},
          "output_type": "execute_result"
        }
      ],
      "source": [
        "the_3_musketeers = [\"Athos\", \"Porthos\", \"Aramis\"]\n",
        "str(the_3_musketeers)"
      ]
    },
    {
      "cell_type": "markdown",
      "metadata": {
        "id": "rBvlgW8pnELH"
      },
      "source": [
        "Note that all string methods return new values and DO NOT change the existing string. You can find a full list of string methods here: https://www.w3schools.com/python/python_ref_string.asp. "
      ]
    },
    {
      "cell_type": "markdown",
      "metadata": {
        "id": "dLRe8Fp7nELI"
      },
      "source": [
        "Strings also support the comparison operators `==` and `!=` for checking whether two strings are equal."
      ]
    },
    {
      "cell_type": "code",
      "execution_count": null,
      "metadata": {
        "id": "hQ9BgBatnELI"
      },
      "outputs": [],
      "source": [
        "first_name = \"John\""
      ]
    },
    {
      "cell_type": "code",
      "execution_count": null,
      "metadata": {
        "id": "r5KJYgyanELI",
        "outputId": "58950d4e-9876-4819-f048-d8f15760c137"
      },
      "outputs": [
        {
          "data": {
            "text/plain": [
              "False"
            ]
          },
          "execution_count": 110,
          "metadata": {},
          "output_type": "execute_result"
        }
      ],
      "source": [
        "first_name == \"Doe\""
      ]
    },
    {
      "cell_type": "code",
      "execution_count": null,
      "metadata": {
        "id": "lBG2EIS0nELJ",
        "outputId": "09835011-6547-4db7-a7a9-a18f01a0ca5e"
      },
      "outputs": [
        {
          "data": {
            "text/plain": [
              "True"
            ]
          },
          "execution_count": 111,
          "metadata": {},
          "output_type": "execute_result"
        }
      ],
      "source": [
        "first_name == \"John\""
      ]
    },
    {
      "cell_type": "code",
      "execution_count": null,
      "metadata": {
        "id": "4EIOlBMgnELK",
        "outputId": "9a647f69-c4ac-4dbd-8643-1f8d2626a321"
      },
      "outputs": [
        {
          "data": {
            "text/plain": [
              "True"
            ]
          },
          "execution_count": 112,
          "metadata": {},
          "output_type": "execute_result"
        }
      ],
      "source": [
        "first_name != \"Jane\""
      ]
    },
    {
      "cell_type": "markdown",
      "metadata": {
        "id": "3zBuOh0LnELL"
      },
      "source": [
        "We've looked at the primitive data types in Python. We're now ready to explore non-primitive data structures, also known as containers.\n",
        "\n",
        "Before continuing, let us run `jovian.commit` once again to record another snapshot of our notebook."
      ]
    },
    {
      "cell_type": "code",
      "execution_count": null,
      "metadata": {
        "id": "pbNpmbkqnELL",
        "outputId": "1b41d0bc-b7b8-437b-a5f0-c35677ff196e"
      },
      "outputs": [
        {
          "data": {
            "application/javascript": [
              "window.require && require([\"base/js/namespace\"],function(Jupyter){Jupyter.notebook.save_checkpoint()})"
            ],
            "text/plain": [
              "<IPython.core.display.Javascript object>"
            ]
          },
          "metadata": {},
          "output_type": "display_data"
        },
        {
          "name": "stdout",
          "output_type": "stream",
          "text": [
            "[jovian] Attempting to save notebook..\n",
            "[jovian] Updating notebook \"poojadas2014-pd/python-variables-and-data-types\" on https://jovian.ai/\n",
            "[jovian] Uploading notebook..\n",
            "[jovian] Capturing environment..\n",
            "[jovian] Committed successfully! https://jovian.ai/poojadas2014-pd/python-variables-and-data-types\n"
          ]
        },
        {
          "data": {
            "text/plain": [
              "'https://jovian.ai/poojadas2014-pd/python-variables-and-data-types'"
            ]
          },
          "execution_count": 113,
          "metadata": {},
          "output_type": "execute_result"
        }
      ],
      "source": [
        "jovian.commit()"
      ]
    },
    {
      "cell_type": "markdown",
      "metadata": {
        "id": "TAN2NctCnELM"
      },
      "source": [
        "Running `jovian.commit` multiple times within a notebook records new versions automatically. You will continue to have access to all the previous versions of your notebook, using the versions dropdown on the notebook's Jovian."
      ]
    },
    {
      "cell_type": "markdown",
      "metadata": {
        "id": "ylVBi3kDnELM"
      },
      "source": [
        "### List\n",
        "\n",
        "A list in Python is an ordered collection of values. Lists can hold values of different data types and support operations to add, remove, and change values. Lists have the type `list`.\n",
        "\n",
        "To create a list, enclose a sequence of values within square brackets `[` and `]`, separated by commas."
      ]
    },
    {
      "cell_type": "code",
      "execution_count": null,
      "metadata": {
        "id": "iJEqrErWnELM"
      },
      "outputs": [],
      "source": [
        "fruits = ['apple', 'banana', 'cherry']"
      ]
    },
    {
      "cell_type": "code",
      "execution_count": null,
      "metadata": {
        "id": "p8Qj5C1anELN",
        "outputId": "78c4897b-70ac-4c03-8f05-29e318959650"
      },
      "outputs": [
        {
          "data": {
            "text/plain": [
              "['apple', 'banana', 'cherry']"
            ]
          },
          "execution_count": 115,
          "metadata": {},
          "output_type": "execute_result"
        }
      ],
      "source": [
        "fruits"
      ]
    },
    {
      "cell_type": "code",
      "execution_count": null,
      "metadata": {
        "id": "5lp_Fnz-nELO",
        "outputId": "6223d5a9-24bd-4fc5-a4e0-c2470fc9412f"
      },
      "outputs": [
        {
          "data": {
            "text/plain": [
              "list"
            ]
          },
          "execution_count": 116,
          "metadata": {},
          "output_type": "execute_result"
        }
      ],
      "source": [
        "type(fruits)"
      ]
    },
    {
      "cell_type": "markdown",
      "metadata": {
        "id": "a4kmXlUdnELO"
      },
      "source": [
        "Let's try creating a list containing values of different data types, including another list."
      ]
    },
    {
      "cell_type": "code",
      "execution_count": null,
      "metadata": {
        "id": "mdBssO5WnELP"
      },
      "outputs": [],
      "source": [
        "a_list = [23, 'hello', None, 3.14, fruits, 3 <= 5]"
      ]
    },
    {
      "cell_type": "code",
      "execution_count": null,
      "metadata": {
        "id": "BtItfRK6nELP",
        "outputId": "6c835e64-b0d2-4f4e-fc47-3b903fce9e68"
      },
      "outputs": [
        {
          "data": {
            "text/plain": [
              "[23, 'hello', None, 3.14, ['apple', 'banana', 'cherry'], True]"
            ]
          },
          "execution_count": 118,
          "metadata": {},
          "output_type": "execute_result"
        }
      ],
      "source": [
        "a_list"
      ]
    },
    {
      "cell_type": "code",
      "execution_count": null,
      "metadata": {
        "id": "uUyVuLA6nELQ"
      },
      "outputs": [],
      "source": [
        "empty_list = []"
      ]
    },
    {
      "cell_type": "code",
      "execution_count": null,
      "metadata": {
        "id": "EPjTsAbInELR",
        "outputId": "3f46284a-aa0c-4dec-8bb5-5538c816da69"
      },
      "outputs": [
        {
          "data": {
            "text/plain": [
              "[]"
            ]
          },
          "execution_count": 120,
          "metadata": {},
          "output_type": "execute_result"
        }
      ],
      "source": [
        "empty_list"
      ]
    },
    {
      "cell_type": "markdown",
      "metadata": {
        "id": "VONzwjyjnELS"
      },
      "source": [
        "To determine the number of values in a list, use the `len` function. You can use `len`  to determine the number of values in several other data types."
      ]
    },
    {
      "cell_type": "code",
      "execution_count": null,
      "metadata": {
        "id": "5Sdnf15KnELT",
        "outputId": "95e799ae-80a0-4266-a570-5977e3abe67d"
      },
      "outputs": [
        {
          "data": {
            "text/plain": [
              "3"
            ]
          },
          "execution_count": 121,
          "metadata": {},
          "output_type": "execute_result"
        }
      ],
      "source": [
        "len(fruits)"
      ]
    },
    {
      "cell_type": "code",
      "execution_count": null,
      "metadata": {
        "id": "ijmXGz3VnELT",
        "outputId": "1e71f932-dfe8-4f6e-b506-352ccd183dbd"
      },
      "outputs": [
        {
          "name": "stdout",
          "output_type": "stream",
          "text": [
            "Number of fruits: 3\n"
          ]
        }
      ],
      "source": [
        "print(\"Number of fruits:\", len(fruits))"
      ]
    },
    {
      "cell_type": "code",
      "execution_count": null,
      "metadata": {
        "id": "8UC_tD0QnELU",
        "outputId": "40bc67ee-a585-404d-f75f-31039913adfb"
      },
      "outputs": [
        {
          "data": {
            "text/plain": [
              "6"
            ]
          },
          "execution_count": 123,
          "metadata": {},
          "output_type": "execute_result"
        }
      ],
      "source": [
        "len(a_list)"
      ]
    },
    {
      "cell_type": "code",
      "execution_count": null,
      "metadata": {
        "id": "MlZhLiQ2nELU",
        "outputId": "e10d6c48-6b3c-40ab-e4f7-939da4b89ac1"
      },
      "outputs": [
        {
          "data": {
            "text/plain": [
              "0"
            ]
          },
          "execution_count": 124,
          "metadata": {},
          "output_type": "execute_result"
        }
      ],
      "source": [
        "len(empty_list)"
      ]
    },
    {
      "cell_type": "markdown",
      "metadata": {
        "id": "wxJnJ_CMnELU"
      },
      "source": [
        "You can access an element from the list using its *index*, e.g., `fruits[2]` returns the element at index 2 within the list `fruits`. The starting index of a list is 0."
      ]
    },
    {
      "cell_type": "code",
      "execution_count": null,
      "metadata": {
        "id": "gNNt5SBrnELV",
        "outputId": "98ee4d6a-e422-4476-dcdb-d68fdc63fa23"
      },
      "outputs": [
        {
          "data": {
            "text/plain": [
              "'apple'"
            ]
          },
          "execution_count": 125,
          "metadata": {},
          "output_type": "execute_result"
        }
      ],
      "source": [
        "fruits[0]"
      ]
    },
    {
      "cell_type": "code",
      "execution_count": null,
      "metadata": {
        "id": "5CwvZmcMnELV",
        "outputId": "4cbf7ea3-e231-48cc-b1cc-71e9cb069dc0"
      },
      "outputs": [
        {
          "data": {
            "text/plain": [
              "'banana'"
            ]
          },
          "execution_count": 126,
          "metadata": {},
          "output_type": "execute_result"
        }
      ],
      "source": [
        "fruits[1]"
      ]
    },
    {
      "cell_type": "code",
      "execution_count": null,
      "metadata": {
        "id": "oL_3waJnnELV",
        "outputId": "2a739338-28bc-4f8e-b68b-172ce1c9dfc7"
      },
      "outputs": [
        {
          "data": {
            "text/plain": [
              "'cherry'"
            ]
          },
          "execution_count": 127,
          "metadata": {},
          "output_type": "execute_result"
        }
      ],
      "source": [
        "fruits[2]"
      ]
    },
    {
      "cell_type": "markdown",
      "metadata": {
        "id": "H5W9O_AOnELW"
      },
      "source": [
        "If you try to access an index equal to or higher than the length of the list, Python returns an `IndexError`."
      ]
    },
    {
      "cell_type": "code",
      "execution_count": null,
      "metadata": {
        "id": "UXUyf9c8nELW",
        "outputId": "fd733d96-fbab-4b6d-b860-7a040d905d3c"
      },
      "outputs": [
        {
          "ename": "IndexError",
          "evalue": "list index out of range",
          "output_type": "error",
          "traceback": [
            "\u001b[1;31m---------------------------------------------------------------------------\u001b[0m",
            "\u001b[1;31mIndexError\u001b[0m                                Traceback (most recent call last)",
            "\u001b[1;32m<ipython-input-128-7ceeafd384d7>\u001b[0m in \u001b[0;36m<module>\u001b[1;34m\u001b[0m\n\u001b[1;32m----> 1\u001b[1;33m \u001b[0mfruits\u001b[0m\u001b[1;33m[\u001b[0m\u001b[1;36m3\u001b[0m\u001b[1;33m]\u001b[0m\u001b[1;33m\u001b[0m\u001b[1;33m\u001b[0m\u001b[0m\n\u001b[0m",
            "\u001b[1;31mIndexError\u001b[0m: list index out of range"
          ]
        }
      ],
      "source": [
        "fruits[3]"
      ]
    },
    {
      "cell_type": "code",
      "execution_count": null,
      "metadata": {
        "id": "7vBCFBE5nELW",
        "outputId": "2c30b2df-8af9-449b-a19d-046e330476a8"
      },
      "outputs": [
        {
          "ename": "IndexError",
          "evalue": "list index out of range",
          "output_type": "error",
          "traceback": [
            "\u001b[1;31m---------------------------------------------------------------------------\u001b[0m",
            "\u001b[1;31mIndexError\u001b[0m                                Traceback (most recent call last)",
            "\u001b[1;32m<ipython-input-129-b8c91da6ba3a>\u001b[0m in \u001b[0;36m<module>\u001b[1;34m\u001b[0m\n\u001b[1;32m----> 1\u001b[1;33m \u001b[0mfruits\u001b[0m\u001b[1;33m[\u001b[0m\u001b[1;36m4\u001b[0m\u001b[1;33m]\u001b[0m\u001b[1;33m\u001b[0m\u001b[1;33m\u001b[0m\u001b[0m\n\u001b[0m",
            "\u001b[1;31mIndexError\u001b[0m: list index out of range"
          ]
        }
      ],
      "source": [
        "fruits[4]"
      ]
    },
    {
      "cell_type": "markdown",
      "metadata": {
        "id": "IQ2lfUfRnELX"
      },
      "source": [
        "You can use negative indices to access elements from the end of a list, e.g., `fruits[-1]` returns the last element, `fruits[-2]` returns the second last element, and so on."
      ]
    },
    {
      "cell_type": "code",
      "execution_count": null,
      "metadata": {
        "id": "VEBzluXZnELX",
        "outputId": "6dd64ebd-85ff-4912-a458-9860846facf2"
      },
      "outputs": [
        {
          "data": {
            "text/plain": [
              "'cherry'"
            ]
          },
          "execution_count": 130,
          "metadata": {},
          "output_type": "execute_result"
        }
      ],
      "source": [
        "fruits[-1]"
      ]
    },
    {
      "cell_type": "code",
      "execution_count": null,
      "metadata": {
        "id": "FVpOC-8jnELX",
        "outputId": "ba36d994-58b6-465a-96d1-467bcbd5620c"
      },
      "outputs": [
        {
          "data": {
            "text/plain": [
              "'banana'"
            ]
          },
          "execution_count": 131,
          "metadata": {},
          "output_type": "execute_result"
        }
      ],
      "source": [
        "fruits[-2]"
      ]
    },
    {
      "cell_type": "code",
      "execution_count": null,
      "metadata": {
        "id": "bJ_ic_wunELY",
        "outputId": "6af0c593-9198-4e0b-808c-421043e40c6e"
      },
      "outputs": [
        {
          "data": {
            "text/plain": [
              "'apple'"
            ]
          },
          "execution_count": 132,
          "metadata": {},
          "output_type": "execute_result"
        }
      ],
      "source": [
        "fruits[-3]"
      ]
    },
    {
      "cell_type": "code",
      "execution_count": null,
      "metadata": {
        "id": "sw7wCsCFnELY",
        "outputId": "1f9fac6e-a47e-4091-f1e2-744bb4296808"
      },
      "outputs": [
        {
          "ename": "IndexError",
          "evalue": "list index out of range",
          "output_type": "error",
          "traceback": [
            "\u001b[1;31m---------------------------------------------------------------------------\u001b[0m",
            "\u001b[1;31mIndexError\u001b[0m                                Traceback (most recent call last)",
            "\u001b[1;32m<ipython-input-133-1cb2d66442ee>\u001b[0m in \u001b[0;36m<module>\u001b[1;34m\u001b[0m\n\u001b[1;32m----> 1\u001b[1;33m \u001b[0mfruits\u001b[0m\u001b[1;33m[\u001b[0m\u001b[1;33m-\u001b[0m\u001b[1;36m4\u001b[0m\u001b[1;33m]\u001b[0m\u001b[1;33m\u001b[0m\u001b[1;33m\u001b[0m\u001b[0m\n\u001b[0m",
            "\u001b[1;31mIndexError\u001b[0m: list index out of range"
          ]
        }
      ],
      "source": [
        "fruits[-4]"
      ]
    },
    {
      "cell_type": "markdown",
      "metadata": {
        "id": "WYjyHGRrnELY"
      },
      "source": [
        "You can also access a range of values from the list. The result is itself a list. Let us look at some examples."
      ]
    },
    {
      "cell_type": "code",
      "execution_count": null,
      "metadata": {
        "id": "1VqlAyEXnELZ"
      },
      "outputs": [],
      "source": [
        "a_list = [23, 'hello', None, 3.14, fruits, 3 <= 5]"
      ]
    },
    {
      "cell_type": "code",
      "execution_count": null,
      "metadata": {
        "id": "cwzXUvMVnELZ",
        "outputId": "ca4e283a-72ae-4f9a-8903-b7f8e3780b6a"
      },
      "outputs": [
        {
          "data": {
            "text/plain": [
              "[23, 'hello', None, 3.14, ['apple', 'banana', 'cherry'], True]"
            ]
          },
          "execution_count": 135,
          "metadata": {},
          "output_type": "execute_result"
        }
      ],
      "source": [
        "a_list"
      ]
    },
    {
      "cell_type": "code",
      "execution_count": null,
      "metadata": {
        "id": "Q1Ge_9UKnELZ",
        "outputId": "89005e7c-3587-460a-bc22-bd211c68d069"
      },
      "outputs": [
        {
          "data": {
            "text/plain": [
              "6"
            ]
          },
          "execution_count": 136,
          "metadata": {},
          "output_type": "execute_result"
        }
      ],
      "source": [
        "len(a_list)"
      ]
    },
    {
      "cell_type": "code",
      "execution_count": null,
      "metadata": {
        "id": "iNIs-l18nELZ",
        "outputId": "0e0e5dfd-433b-4aa3-c805-dad1ae65773a"
      },
      "outputs": [
        {
          "data": {
            "text/plain": [
              "[23, 'hello', None, 3.14, ['apple', 'banana', 'cherry'], True]"
            ]
          },
          "execution_count": 137,
          "metadata": {},
          "output_type": "execute_result"
        }
      ],
      "source": [
        "a_list[2:5]\n",
        "a_list"
      ]
    },
    {
      "cell_type": "markdown",
      "metadata": {
        "id": "9BpW9VVMnELa"
      },
      "source": [
        "Note that the range `2:5` includes the element at the start index `2` but does not include the element at the end index `5`. So, the result has 3 values (index `2`, `3`, and `4`).\n",
        "\n",
        "Here are some experiments you should try out (use the empty cells below):\n",
        "\n",
        "* Try setting one or both indices of the range are larger than the size of the list, e.g., `a_list[2:10]`\n",
        "* Try setting the start index of the range to be larger than the end index, e.g., `list_a[2:10]`\n",
        "* Try leaving out the start or end index of a range, e.g., `a_list[2:]` or `a_list[:5]`\n",
        "* Try using negative indices for the range, e.g., `a_list[-2:-5]` or `a_list[-5:-2]` (can you explain the results?)\n",
        "\n",
        "> The flexible and interactive nature of Jupyter notebooks makes them an excellent tool for learning and experimentation. If you are new to Python, you can resolve most questions as soon as they arise simply by typing the code into a cell and executing it. Let your curiosity run wild, discover what Python is capable of and what it isn't! "
      ]
    },
    {
      "cell_type": "code",
      "execution_count": null,
      "metadata": {
        "id": "bZgClK-ZnELa",
        "outputId": "1de99a13-fbfc-44f8-af3f-ae864057c362"
      },
      "outputs": [
        {
          "data": {
            "text/plain": [
              "['hello', None, 3.14]"
            ]
          },
          "execution_count": 138,
          "metadata": {},
          "output_type": "execute_result"
        }
      ],
      "source": [
        "a_list[-2:-5] \n",
        "a_list[-5:-2]"
      ]
    },
    {
      "cell_type": "code",
      "execution_count": null,
      "metadata": {
        "id": "jMwB3tWunELb",
        "outputId": "55067cf1-ae09-4f4b-b4af-07759f5fedb1"
      },
      "outputs": [
        {
          "data": {
            "text/plain": [
              "[None, 3.14, ['apple', 'banana', 'cherry'], True]"
            ]
          },
          "execution_count": 139,
          "metadata": {},
          "output_type": "execute_result"
        }
      ],
      "source": [
        "a_list[2:10]"
      ]
    },
    {
      "cell_type": "code",
      "execution_count": null,
      "metadata": {
        "id": "xFMs_MHanELb",
        "outputId": "edde2faf-ec0b-479b-a6f2-7b7a68ca5f45"
      },
      "outputs": [
        {
          "data": {
            "text/plain": [
              "[None, 3.14, ['apple', 'banana', 'cherry'], True]"
            ]
          },
          "execution_count": 140,
          "metadata": {},
          "output_type": "execute_result"
        }
      ],
      "source": [
        "a_list[2:]"
      ]
    },
    {
      "cell_type": "code",
      "execution_count": null,
      "metadata": {
        "id": "hTuKEC0DnELb",
        "outputId": "4fc72fd9-4809-416d-9e01-fae3224d48af"
      },
      "outputs": [
        {
          "data": {
            "text/plain": [
              "[23, 'hello', None, 3.14, ['apple', 'banana', 'cherry']]"
            ]
          },
          "execution_count": 141,
          "metadata": {},
          "output_type": "execute_result"
        }
      ],
      "source": [
        "a_list[:5]"
      ]
    },
    {
      "cell_type": "markdown",
      "metadata": {
        "id": "KK-5rM1YnELc"
      },
      "source": [
        "You can also change the value at a specific index within a list using the assignment operation."
      ]
    },
    {
      "cell_type": "code",
      "execution_count": null,
      "metadata": {
        "id": "YnG87Lu5nELc",
        "outputId": "e2af0a51-618f-4a6e-b856-807e7ac44744"
      },
      "outputs": [
        {
          "data": {
            "text/plain": [
              "['apple', 'banana', 'cherry']"
            ]
          },
          "execution_count": 142,
          "metadata": {},
          "output_type": "execute_result"
        }
      ],
      "source": [
        "fruits"
      ]
    },
    {
      "cell_type": "code",
      "execution_count": null,
      "metadata": {
        "id": "QS27pxk-nELd"
      },
      "outputs": [],
      "source": [
        "fruits[1] = 'blueberry'"
      ]
    },
    {
      "cell_type": "code",
      "execution_count": null,
      "metadata": {
        "id": "mNgQ1AXKnELd",
        "outputId": "da6dd033-ea7d-4a72-f3db-7c2e1194a61e"
      },
      "outputs": [
        {
          "data": {
            "text/plain": [
              "['apple', 'blueberry', 'cherry']"
            ]
          },
          "execution_count": 144,
          "metadata": {},
          "output_type": "execute_result"
        }
      ],
      "source": [
        "fruits"
      ]
    },
    {
      "cell_type": "markdown",
      "metadata": {
        "id": "KqoHdEAvnELd"
      },
      "source": [
        "A new value can be added to the end of a list using the `append` method."
      ]
    },
    {
      "cell_type": "code",
      "execution_count": null,
      "metadata": {
        "id": "xPcXcFmxnELd"
      },
      "outputs": [],
      "source": [
        "fruits.append('dates')"
      ]
    },
    {
      "cell_type": "code",
      "execution_count": null,
      "metadata": {
        "id": "nnpinb-9nELe",
        "outputId": "8ff8bf5a-c987-4d18-af9f-a67356986328"
      },
      "outputs": [
        {
          "data": {
            "text/plain": [
              "['apple', 'blueberry', 'cherry', 'dates']"
            ]
          },
          "execution_count": 146,
          "metadata": {},
          "output_type": "execute_result"
        }
      ],
      "source": [
        "fruits"
      ]
    },
    {
      "cell_type": "markdown",
      "metadata": {
        "id": "gEHpslUznELe"
      },
      "source": [
        "A new value can also be inserted at a specific index using the `insert` method."
      ]
    },
    {
      "cell_type": "code",
      "execution_count": null,
      "metadata": {
        "id": "iDUQSqOenELf"
      },
      "outputs": [],
      "source": [
        "fruits.insert(1, 'banana')"
      ]
    },
    {
      "cell_type": "code",
      "execution_count": null,
      "metadata": {
        "id": "aKfBa5eXnELf",
        "outputId": "3587ce5f-e1bf-4bc2-8207-432af0b2960e"
      },
      "outputs": [
        {
          "data": {
            "text/plain": [
              "['apple', 'banana', 'blueberry', 'cherry', 'dates']"
            ]
          },
          "execution_count": 148,
          "metadata": {},
          "output_type": "execute_result"
        }
      ],
      "source": [
        "fruits"
      ]
    },
    {
      "cell_type": "markdown",
      "metadata": {
        "id": "42gxJWZxnELf"
      },
      "source": [
        "You can remove a value from a list using the `remove` method."
      ]
    },
    {
      "cell_type": "code",
      "execution_count": null,
      "metadata": {
        "id": "l3A0n24EnELg"
      },
      "outputs": [],
      "source": [
        "fruits.remove('blueberry')"
      ]
    },
    {
      "cell_type": "code",
      "execution_count": null,
      "metadata": {
        "id": "49TcSAXJnELg",
        "outputId": "35ebff21-dbf3-427b-80cb-2ab4cd7fbe1b"
      },
      "outputs": [
        {
          "data": {
            "text/plain": [
              "['apple', 'banana', 'cherry', 'dates']"
            ]
          },
          "execution_count": 150,
          "metadata": {},
          "output_type": "execute_result"
        }
      ],
      "source": [
        "fruits"
      ]
    },
    {
      "cell_type": "markdown",
      "metadata": {
        "id": "eP13OY5SnELh"
      },
      "source": [
        "What happens if a list has multiple instances of the value passed to `.remove`? Try it out."
      ]
    },
    {
      "cell_type": "code",
      "execution_count": null,
      "metadata": {
        "id": "9kzdTvuZnELh",
        "outputId": "6037cc4a-9055-42a5-c297-301cd5b84b96"
      },
      "outputs": [
        {
          "ename": "TypeError",
          "evalue": "remove() takes exactly one argument (2 given)",
          "output_type": "error",
          "traceback": [
            "\u001b[1;31m---------------------------------------------------------------------------\u001b[0m",
            "\u001b[1;31mTypeError\u001b[0m                                 Traceback (most recent call last)",
            "\u001b[1;32m<ipython-input-153-e3e86fc062f8>\u001b[0m in \u001b[0;36m<module>\u001b[1;34m\u001b[0m\n\u001b[0;32m      1\u001b[0m \u001b[1;31m# list= ['apple', 'banana', 'cherry', 'dates']\u001b[0m\u001b[1;33m\u001b[0m\u001b[1;33m\u001b[0m\u001b[1;33m\u001b[0m\u001b[0m\n\u001b[0;32m      2\u001b[0m \u001b[1;31m# del list[0:1]\u001b[0m\u001b[1;33m\u001b[0m\u001b[1;33m\u001b[0m\u001b[1;33m\u001b[0m\u001b[0m\n\u001b[1;32m----> 3\u001b[1;33m \u001b[0mfruits\u001b[0m\u001b[1;33m.\u001b[0m\u001b[0mremove\u001b[0m\u001b[1;33m(\u001b[0m\u001b[1;34m\"apple\"\u001b[0m\u001b[1;33m,\u001b[0m\u001b[1;34m\"banana\"\u001b[0m\u001b[1;33m)\u001b[0m\u001b[1;33m\u001b[0m\u001b[1;33m\u001b[0m\u001b[0m\n\u001b[0m",
            "\u001b[1;31mTypeError\u001b[0m: remove() takes exactly one argument (2 given)"
          ]
        }
      ],
      "source": [
        "# list= ['apple', 'banana', 'cherry', 'dates']\n",
        "# del list[0:1]\n",
        "fruits.remove(\"apple\",\"banana\")"
      ]
    },
    {
      "cell_type": "code",
      "execution_count": null,
      "metadata": {
        "id": "8EwDyFfrnELh",
        "outputId": "9c92892d-6b69-4248-ce04-867f5222969c"
      },
      "outputs": [
        {
          "data": {
            "text/plain": [
              "['apple', 'banana', 'cherry', 'dates']"
            ]
          },
          "execution_count": 154,
          "metadata": {},
          "output_type": "execute_result"
        }
      ],
      "source": [
        "fruits\n"
      ]
    },
    {
      "cell_type": "markdown",
      "metadata": {
        "id": "eZs3ifvbnELi"
      },
      "source": [
        "To remove an element from a specific index, use the `pop` method. The method also returns the removed element."
      ]
    },
    {
      "cell_type": "code",
      "execution_count": null,
      "metadata": {
        "id": "DKSC_g8mnELi",
        "outputId": "f1425fb0-d725-4ca4-bae4-952c4b7db407"
      },
      "outputs": [
        {
          "data": {
            "text/plain": [
              "['apple', 'banana', 'cherry', 'dates']"
            ]
          },
          "execution_count": 155,
          "metadata": {},
          "output_type": "execute_result"
        }
      ],
      "source": [
        "fruits"
      ]
    },
    {
      "cell_type": "code",
      "execution_count": null,
      "metadata": {
        "id": "0nk5MI_1nELi",
        "outputId": "9e0e509d-4f71-4b82-995f-8fa3d2d5583a"
      },
      "outputs": [
        {
          "data": {
            "text/plain": [
              "'banana'"
            ]
          },
          "execution_count": 156,
          "metadata": {},
          "output_type": "execute_result"
        }
      ],
      "source": [
        "fruits.pop(1)"
      ]
    },
    {
      "cell_type": "code",
      "execution_count": null,
      "metadata": {
        "id": "QrH-pNcFnELj",
        "outputId": "040e05b2-8844-43c5-f9f9-384fb4223aba"
      },
      "outputs": [
        {
          "data": {
            "text/plain": [
              "['apple', 'cherry', 'dates']"
            ]
          },
          "execution_count": 157,
          "metadata": {},
          "output_type": "execute_result"
        }
      ],
      "source": [
        "fruits"
      ]
    },
    {
      "cell_type": "markdown",
      "metadata": {
        "id": "oiHeFA6RnELj"
      },
      "source": [
        "If no index is provided, the `pop` method removes the last element of the list."
      ]
    },
    {
      "cell_type": "code",
      "execution_count": null,
      "metadata": {
        "id": "jtuttkkmnELj",
        "outputId": "2e3cff07-177a-4077-d568-0f28909a9172"
      },
      "outputs": [
        {
          "data": {
            "text/plain": [
              "'dates'"
            ]
          },
          "execution_count": 158,
          "metadata": {},
          "output_type": "execute_result"
        }
      ],
      "source": [
        "fruits.pop()"
      ]
    },
    {
      "cell_type": "code",
      "execution_count": null,
      "metadata": {
        "id": "SntyLqAjnELj",
        "outputId": "4e5d11ad-1678-4047-d4b9-808891af0370"
      },
      "outputs": [
        {
          "data": {
            "text/plain": [
              "['apple', 'cherry']"
            ]
          },
          "execution_count": 159,
          "metadata": {},
          "output_type": "execute_result"
        }
      ],
      "source": [
        "fruits"
      ]
    },
    {
      "cell_type": "markdown",
      "metadata": {
        "id": "3Pgy0blwnELk"
      },
      "source": [
        "You can test whether a list contains a value using the `in` operator."
      ]
    },
    {
      "cell_type": "code",
      "execution_count": null,
      "metadata": {
        "id": "ifJhER0CnELk",
        "outputId": "5db2f180-982d-457a-83e6-6338f51be7ec"
      },
      "outputs": [
        {
          "data": {
            "text/plain": [
              "False"
            ]
          },
          "execution_count": 160,
          "metadata": {},
          "output_type": "execute_result"
        }
      ],
      "source": [
        "'pineapple' in fruits"
      ]
    },
    {
      "cell_type": "code",
      "execution_count": null,
      "metadata": {
        "id": "P0eaMPFHnELk",
        "outputId": "2dcc8df7-685b-46d7-b881-f0ad758467c8"
      },
      "outputs": [
        {
          "data": {
            "text/plain": [
              "True"
            ]
          },
          "execution_count": 161,
          "metadata": {},
          "output_type": "execute_result"
        }
      ],
      "source": [
        "'cherry' in fruits"
      ]
    },
    {
      "cell_type": "markdown",
      "metadata": {
        "id": "qNBI4AXInELl"
      },
      "source": [
        "To combine two or more lists, use the `+` operator. This operation is also called *concatenation*."
      ]
    },
    {
      "cell_type": "code",
      "execution_count": null,
      "metadata": {
        "id": "GFh0K7hQnELl",
        "outputId": "f204f039-e59c-4390-9cc0-667a22711c03"
      },
      "outputs": [
        {
          "data": {
            "text/plain": [
              "['apple', 'cherry']"
            ]
          },
          "execution_count": 162,
          "metadata": {},
          "output_type": "execute_result"
        }
      ],
      "source": [
        "fruits"
      ]
    },
    {
      "cell_type": "code",
      "execution_count": null,
      "metadata": {
        "id": "1R07UNDFnELl"
      },
      "outputs": [],
      "source": [
        "more_fruits = fruits + ['pineapple', 'tomato', 'guava'] + ['dates', 'banana']"
      ]
    },
    {
      "cell_type": "code",
      "execution_count": null,
      "metadata": {
        "id": "_xmpKgCNnELl",
        "outputId": "8fc94e98-c584-468b-ee56-e6ce4488501d"
      },
      "outputs": [
        {
          "data": {
            "text/plain": [
              "['apple', 'cherry', 'pineapple', 'tomato', 'guava', 'dates', 'banana']"
            ]
          },
          "execution_count": 164,
          "metadata": {},
          "output_type": "execute_result"
        }
      ],
      "source": [
        "more_fruits"
      ]
    },
    {
      "cell_type": "markdown",
      "metadata": {
        "id": "Syn6gGq1nELm"
      },
      "source": [
        "To create a copy of a list, use the `copy` method. Modifying the copied list does not affect the original."
      ]
    },
    {
      "cell_type": "code",
      "execution_count": null,
      "metadata": {
        "id": "eAIUA7mmnELm"
      },
      "outputs": [],
      "source": [
        "more_fruits_copy = more_fruits.copy()"
      ]
    },
    {
      "cell_type": "code",
      "execution_count": null,
      "metadata": {
        "id": "T-cyafyNnELn",
        "outputId": "1c58c84e-136a-4652-e1c0-86b05853b804"
      },
      "outputs": [
        {
          "data": {
            "text/plain": [
              "['apple', 'cherry', 'pineapple', 'tomato', 'guava', 'dates', 'banana']"
            ]
          },
          "execution_count": 166,
          "metadata": {},
          "output_type": "execute_result"
        }
      ],
      "source": [
        "more_fruits_copy"
      ]
    },
    {
      "cell_type": "code",
      "execution_count": null,
      "metadata": {
        "id": "8zCfNZdJnELn",
        "outputId": "8ef82260-a73f-4eb8-fdf7-5d5280984caf"
      },
      "outputs": [
        {
          "data": {
            "text/plain": [
              "['apple', 'cherry', 'tomato', 'guava', 'dates']"
            ]
          },
          "execution_count": 167,
          "metadata": {},
          "output_type": "execute_result"
        }
      ],
      "source": [
        "# Modify the copy\n",
        "more_fruits_copy.remove('pineapple')\n",
        "more_fruits_copy.pop()\n",
        "more_fruits_copy"
      ]
    },
    {
      "cell_type": "code",
      "execution_count": null,
      "metadata": {
        "id": "eay7HSz6nELo",
        "outputId": "54f546e0-92a6-40df-9312-04bd8ad750c8"
      },
      "outputs": [
        {
          "data": {
            "text/plain": [
              "['apple', 'cherry', 'pineapple', 'tomato', 'guava', 'dates', 'banana']"
            ]
          },
          "execution_count": 168,
          "metadata": {},
          "output_type": "execute_result"
        }
      ],
      "source": [
        "# Original list remains unchanged\n",
        "more_fruits"
      ]
    },
    {
      "cell_type": "markdown",
      "metadata": {
        "id": "pg_XMk0pnELo"
      },
      "source": [
        "Note that you cannot create a copy of a list by simply creating a new variable using the assignment operator `=`. The new variable will point to the same list, and any modifications performed using either variable will affect the other."
      ]
    },
    {
      "cell_type": "code",
      "execution_count": null,
      "metadata": {
        "id": "Z_TyZoBNnELp",
        "outputId": "5dbb0589-7b81-457d-ed6e-bd490093111d"
      },
      "outputs": [
        {
          "data": {
            "text/plain": [
              "['apple', 'cherry', 'pineapple', 'tomato', 'guava', 'dates', 'banana']"
            ]
          },
          "execution_count": 169,
          "metadata": {},
          "output_type": "execute_result"
        }
      ],
      "source": [
        "more_fruits"
      ]
    },
    {
      "cell_type": "code",
      "execution_count": null,
      "metadata": {
        "id": "sStMjqZ9nELp"
      },
      "outputs": [],
      "source": [
        "more_fruits_not_a_copy = more_fruits"
      ]
    },
    {
      "cell_type": "code",
      "execution_count": null,
      "metadata": {
        "id": "H0Y1cMWKnELp",
        "outputId": "657bb307-a506-4a4a-8844-5e377321853b"
      },
      "outputs": [
        {
          "data": {
            "text/plain": [
              "'banana'"
            ]
          },
          "execution_count": 171,
          "metadata": {},
          "output_type": "execute_result"
        }
      ],
      "source": [
        "more_fruits_not_a_copy.remove('pineapple')\n",
        "more_fruits_not_a_copy.pop()"
      ]
    },
    {
      "cell_type": "code",
      "execution_count": null,
      "metadata": {
        "id": "OvbXC5BQnELq",
        "outputId": "4574cd0d-07dc-4db5-ec2f-14fc8c7fea44"
      },
      "outputs": [
        {
          "data": {
            "text/plain": [
              "['apple', 'cherry', 'tomato', 'guava', 'dates']"
            ]
          },
          "execution_count": 172,
          "metadata": {},
          "output_type": "execute_result"
        }
      ],
      "source": [
        "more_fruits_not_a_copy"
      ]
    },
    {
      "cell_type": "code",
      "execution_count": null,
      "metadata": {
        "id": "OwFqPwyunELq",
        "outputId": "9efee3d0-428c-40ca-adcc-bc1cbbcbdcb8"
      },
      "outputs": [
        {
          "data": {
            "text/plain": [
              "['apple', 'cherry', 'tomato', 'guava', 'dates']"
            ]
          },
          "execution_count": 173,
          "metadata": {},
          "output_type": "execute_result"
        }
      ],
      "source": [
        "more_fruits"
      ]
    },
    {
      "cell_type": "markdown",
      "metadata": {
        "id": "Jukz9Rc6nELq"
      },
      "source": [
        "Just like strings, there are several in-built methods to manipulate a list. However, unlike strings, most list methods modify the original list rather than returning a new one. Check out some common list operations here: https://www.w3schools.com/python/python_ref_list.asp .\n",
        "\n",
        "\n",
        "Following are some exercises you can try out with list methods (use the blank code cells below):\n",
        "\n",
        "* Reverse the order of elements in a list\n",
        "* Add the elements of one list at the end of another list\n",
        "* Sort a list of strings in alphabetical order\n",
        "* Sort a list of numbers in decreasing order"
      ]
    },
    {
      "cell_type": "markdown",
      "metadata": {
        "id": "Vywt9UAlnELr"
      },
      "source": [
        "### Reverse the order of elements in a list "
      ]
    },
    {
      "cell_type": "code",
      "execution_count": null,
      "metadata": {
        "id": "GynQdE-rnELr",
        "outputId": "52d0f1f5-e3f0-4adf-96da-63fbbb45e50c"
      },
      "outputs": [
        {
          "name": "stdout",
          "output_type": "stream",
          "text": [
            "['apple', 'banana', 'cherry']\n",
            "['cherry', 'banana', 'apple']\n"
          ]
        }
      ],
      "source": [
        "fruits=['apple', 'banana', 'cherry']\n",
        "print(fruits)\n",
        "fruits.reverse()\n",
        "print(fruits)"
      ]
    },
    {
      "cell_type": "markdown",
      "metadata": {
        "id": "jhzDoEz_nELr"
      },
      "source": [
        "### Add the elements of one list at the end of another list"
      ]
    },
    {
      "cell_type": "code",
      "execution_count": null,
      "metadata": {
        "scrolled": true,
        "id": "BvxeXVt_nELs",
        "outputId": "bda1b382-d079-4726-dda1-c851d859969f"
      },
      "outputs": [
        {
          "name": "stdout",
          "output_type": "stream",
          "text": [
            "['cherry', 'banana', 'apple', 'apple', 'cherry', 'tomato', 'guava', 'dates', 'apple', 'cherry', 'tomato', 'guava', 'dates', 'apple', 'cherry', 'tomato', 'guava', 'dates', 'apple', 'cherry', 'tomato', 'guava', 'dates', 'apple', 'cherry', 'tomato', 'guava', 'dates']\n",
            "**********************************************************************\n",
            "['cherry', 'banana', 'apple', 'apple', 'cherry', 'tomato', 'guava', 'dates', 'apple', 'cherry', 'tomato', 'guava', 'dates', 'apple', 'cherry', 'tomato', 'guava', 'dates', 'apple', 'cherry', 'tomato', 'guava', 'dates', 'apple', 'cherry', 'tomato', 'guava', 'dates', 'apple', 'cherry', 'tomato', 'guava', 'dates']\n"
          ]
        }
      ],
      "source": [
        "fruits.extend(more_fruits)\n",
        "print(fruits)\n",
        "print(\"**********************************************************************\")\n",
        "r=fruits+more_fruits\n",
        "print(r)"
      ]
    },
    {
      "cell_type": "markdown",
      "metadata": {
        "id": "2_GHcYWDnELs"
      },
      "source": [
        "### Sort a list of strings in alphabetical order"
      ]
    },
    {
      "cell_type": "code",
      "execution_count": null,
      "metadata": {
        "id": "N80BHHEUnELs",
        "outputId": "fc2f4790-75d9-48a8-b681-008b591b36bd"
      },
      "outputs": [
        {
          "name": "stdout",
          "output_type": "stream",
          "text": [
            "['apple', 'apple', 'apple', 'apple', 'apple', 'apple', 'banana', 'cherry', 'cherry', 'cherry', 'cherry', 'cherry', 'cherry', 'dates', 'dates', 'dates', 'dates', 'dates', 'guava', 'guava', 'guava', 'guava', 'guava', 'tomato', 'tomato', 'tomato', 'tomato', 'tomato']\n",
            "['tomato', 'tomato', 'tomato', 'tomato', 'tomato', 'tomato', 'guava', 'guava', 'guava', 'guava', 'guava', 'guava', 'dates', 'dates', 'dates', 'dates', 'dates', 'dates', 'cherry', 'cherry', 'cherry', 'cherry', 'cherry', 'cherry', 'cherry', 'banana', 'apple', 'apple', 'apple', 'apple', 'apple', 'apple', 'apple']\n"
          ]
        }
      ],
      "source": [
        "fruits.sort()\n",
        "print(fruits)\n",
        "r.sort(reverse=True)\n",
        "print(r)"
      ]
    },
    {
      "cell_type": "markdown",
      "metadata": {
        "id": "FJTm-PLFnELt"
      },
      "source": [
        "###  Sort a list of numbers in decreasing order"
      ]
    },
    {
      "cell_type": "code",
      "execution_count": null,
      "metadata": {
        "id": "RYwCGTRYnELt",
        "outputId": "f4846b79-481c-4b08-a6d6-a25b99a25d93"
      },
      "outputs": [
        {
          "name": "stdout",
          "output_type": "stream",
          "text": [
            "[100, 10, 9, 8, 7, 7, 5, 3, 2, 0, -5]\n"
          ]
        }
      ],
      "source": [
        "list_of_no=[5,8,2,7,9,3,7,10,-5,100,0]\n",
        "list_of_no.sort(reverse=True)\n",
        "print(list_of_no)"
      ]
    },
    {
      "cell_type": "markdown",
      "metadata": {
        "id": "OeC_si4jnELt"
      },
      "source": [
        "### Tuple\n",
        "\n",
        "A tuple is an ordered collection of values, similar to a list. However, it is not possible to add, remove, or modify values in a tuple. A tuple is created by enclosing values within parentheses `(` and `)`, separated by commas.\n",
        "\n",
        "> Any data structure that cannot be modified after creation is called *immutable*. You can think of tuples as immutable lists.\n",
        "\n",
        "Let's try some experiments with tuples."
      ]
    },
    {
      "cell_type": "code",
      "execution_count": null,
      "metadata": {
        "id": "5GEZS099nELt"
      },
      "outputs": [],
      "source": [
        "fruits = ('apple', 'cherry', 'dates')"
      ]
    },
    {
      "cell_type": "code",
      "execution_count": null,
      "metadata": {
        "id": "0UjK72LOnELu",
        "outputId": "6e229a05-dcb9-49a2-f250-9bf5cb94e1b5"
      },
      "outputs": [
        {
          "data": {
            "text/plain": [
              "3"
            ]
          },
          "execution_count": 200,
          "metadata": {},
          "output_type": "execute_result"
        }
      ],
      "source": [
        "# check no. of elements\n",
        "len(fruits)"
      ]
    },
    {
      "cell_type": "code",
      "execution_count": null,
      "metadata": {
        "id": "QcrFh4GhnELu",
        "outputId": "eca7b00e-ab56-4126-cb2f-7354a8936b18"
      },
      "outputs": [
        {
          "data": {
            "text/plain": [
              "'apple'"
            ]
          },
          "execution_count": 201,
          "metadata": {},
          "output_type": "execute_result"
        }
      ],
      "source": [
        "# get an element (positive index)\n",
        "fruits[0]"
      ]
    },
    {
      "cell_type": "code",
      "execution_count": null,
      "metadata": {
        "id": "YgfpCg-EnELv",
        "outputId": "1349881c-f404-4fd4-bbd6-e658f0fcf00c"
      },
      "outputs": [
        {
          "data": {
            "text/plain": [
              "'cherry'"
            ]
          },
          "execution_count": 202,
          "metadata": {},
          "output_type": "execute_result"
        }
      ],
      "source": [
        "# get an element (negative index)\n",
        "fruits[-2]"
      ]
    },
    {
      "cell_type": "code",
      "execution_count": null,
      "metadata": {
        "id": "xmNsRDn9nELv",
        "outputId": "ba8ed754-896f-4667-f365-a3dde0fd1891"
      },
      "outputs": [
        {
          "data": {
            "text/plain": [
              "True"
            ]
          },
          "execution_count": 203,
          "metadata": {},
          "output_type": "execute_result"
        }
      ],
      "source": [
        "# check if it contains an element\n",
        "'dates' in fruits"
      ]
    },
    {
      "cell_type": "code",
      "execution_count": null,
      "metadata": {
        "id": "YexhzvhbnELv",
        "outputId": "6c83b941-e749-462c-ce8e-3a5a758303f5"
      },
      "outputs": [
        {
          "ename": "TypeError",
          "evalue": "'tuple' object does not support item assignment",
          "output_type": "error",
          "traceback": [
            "\u001b[1;31m---------------------------------------------------------------------------\u001b[0m",
            "\u001b[1;31mTypeError\u001b[0m                                 Traceback (most recent call last)",
            "\u001b[1;32m<ipython-input-204-eea1d48cc8b5>\u001b[0m in \u001b[0;36m<module>\u001b[1;34m\u001b[0m\n\u001b[0;32m      1\u001b[0m \u001b[1;31m# try to change an element\u001b[0m\u001b[1;33m\u001b[0m\u001b[1;33m\u001b[0m\u001b[1;33m\u001b[0m\u001b[0m\n\u001b[1;32m----> 2\u001b[1;33m \u001b[0mfruits\u001b[0m\u001b[1;33m[\u001b[0m\u001b[1;36m0\u001b[0m\u001b[1;33m]\u001b[0m \u001b[1;33m=\u001b[0m \u001b[1;34m'avocado'\u001b[0m\u001b[1;33m\u001b[0m\u001b[1;33m\u001b[0m\u001b[0m\n\u001b[0m",
            "\u001b[1;31mTypeError\u001b[0m: 'tuple' object does not support item assignment"
          ]
        }
      ],
      "source": [
        "# try to change an element\n",
        "fruits[0] = 'avocado'"
      ]
    },
    {
      "cell_type": "code",
      "execution_count": null,
      "metadata": {
        "id": "hnSdz4_DnELw",
        "outputId": "c7558318-94fc-40eb-b922-aa0180117da9"
      },
      "outputs": [
        {
          "ename": "AttributeError",
          "evalue": "'tuple' object has no attribute 'append'",
          "output_type": "error",
          "traceback": [
            "\u001b[1;31m---------------------------------------------------------------------------\u001b[0m",
            "\u001b[1;31mAttributeError\u001b[0m                            Traceback (most recent call last)",
            "\u001b[1;32m<ipython-input-205-e5ea20adaaf8>\u001b[0m in \u001b[0;36m<module>\u001b[1;34m\u001b[0m\n\u001b[0;32m      1\u001b[0m \u001b[1;31m# try to append an element\u001b[0m\u001b[1;33m\u001b[0m\u001b[1;33m\u001b[0m\u001b[1;33m\u001b[0m\u001b[0m\n\u001b[1;32m----> 2\u001b[1;33m \u001b[0mfruits\u001b[0m\u001b[1;33m.\u001b[0m\u001b[0mappend\u001b[0m\u001b[1;33m(\u001b[0m\u001b[1;34m'blueberry'\u001b[0m\u001b[1;33m)\u001b[0m\u001b[1;33m\u001b[0m\u001b[1;33m\u001b[0m\u001b[0m\n\u001b[0m",
            "\u001b[1;31mAttributeError\u001b[0m: 'tuple' object has no attribute 'append'"
          ]
        }
      ],
      "source": [
        "# try to append an element\n",
        "fruits.append('blueberry')"
      ]
    },
    {
      "cell_type": "code",
      "execution_count": null,
      "metadata": {
        "id": "xDOvuYjTnELw",
        "outputId": "a5afe72f-767b-4f43-cfba-7abbacf0f045"
      },
      "outputs": [
        {
          "ename": "AttributeError",
          "evalue": "'tuple' object has no attribute 'remove'",
          "output_type": "error",
          "traceback": [
            "\u001b[1;31m---------------------------------------------------------------------------\u001b[0m",
            "\u001b[1;31mAttributeError\u001b[0m                            Traceback (most recent call last)",
            "\u001b[1;32m<ipython-input-206-37543d45b6b4>\u001b[0m in \u001b[0;36m<module>\u001b[1;34m\u001b[0m\n\u001b[0;32m      1\u001b[0m \u001b[1;31m# try to remove an element\u001b[0m\u001b[1;33m\u001b[0m\u001b[1;33m\u001b[0m\u001b[1;33m\u001b[0m\u001b[0m\n\u001b[1;32m----> 2\u001b[1;33m \u001b[0mfruits\u001b[0m\u001b[1;33m.\u001b[0m\u001b[0mremove\u001b[0m\u001b[1;33m(\u001b[0m\u001b[1;34m'apple'\u001b[0m\u001b[1;33m)\u001b[0m\u001b[1;33m\u001b[0m\u001b[1;33m\u001b[0m\u001b[0m\n\u001b[0m",
            "\u001b[1;31mAttributeError\u001b[0m: 'tuple' object has no attribute 'remove'"
          ]
        }
      ],
      "source": [
        "# try to remove an element\n",
        "fruits.remove('apple')"
      ]
    },
    {
      "cell_type": "markdown",
      "metadata": {
        "id": "g1UPZkijnELx"
      },
      "source": [
        "You can also skip the parantheses `(` and `)` while creating a tuple. Python automatically converts comma-separated values into a tuple."
      ]
    },
    {
      "cell_type": "code",
      "execution_count": null,
      "metadata": {
        "id": "Yw8kbovunELx"
      },
      "outputs": [],
      "source": [
        "the_3_musketeers = 'Athos', 'Porthos', 'Aramis'"
      ]
    },
    {
      "cell_type": "code",
      "execution_count": null,
      "metadata": {
        "id": "U4Hi0fZqnELx",
        "outputId": "ff834f93-311f-44fb-c05b-2a06ce395f6b"
      },
      "outputs": [
        {
          "data": {
            "text/plain": [
              "('Athos', 'Porthos', 'Aramis')"
            ]
          },
          "execution_count": 208,
          "metadata": {},
          "output_type": "execute_result"
        }
      ],
      "source": [
        "the_3_musketeers"
      ]
    },
    {
      "cell_type": "markdown",
      "metadata": {
        "id": "NYwcG-MFnELx"
      },
      "source": [
        "You can also create a tuple with just one element by typing a comma after it. Just wrapping it with parentheses `(` and `)` won't make it a tuple."
      ]
    },
    {
      "cell_type": "code",
      "execution_count": null,
      "metadata": {
        "id": "fTanQE36nELy"
      },
      "outputs": [],
      "source": [
        "single_element_tuple = 4,"
      ]
    },
    {
      "cell_type": "code",
      "execution_count": null,
      "metadata": {
        "id": "WAJEUF5knELy",
        "outputId": "55b8f474-8603-4646-c033-5d3614b71796"
      },
      "outputs": [
        {
          "data": {
            "text/plain": [
              "(4,)"
            ]
          },
          "execution_count": 210,
          "metadata": {},
          "output_type": "execute_result"
        }
      ],
      "source": [
        "single_element_tuple"
      ]
    },
    {
      "cell_type": "code",
      "execution_count": null,
      "metadata": {
        "id": "GJuJMwHunELy"
      },
      "outputs": [],
      "source": [
        "another_single_element_tuple = (4,)"
      ]
    },
    {
      "cell_type": "code",
      "execution_count": null,
      "metadata": {
        "id": "Dp2Dk16MnELz",
        "outputId": "2d1b181f-3b97-41b7-f82b-b39a7444ed29"
      },
      "outputs": [
        {
          "data": {
            "text/plain": [
              "(4,)"
            ]
          },
          "execution_count": 212,
          "metadata": {},
          "output_type": "execute_result"
        }
      ],
      "source": [
        "another_single_element_tuple"
      ]
    },
    {
      "cell_type": "code",
      "execution_count": null,
      "metadata": {
        "id": "lpIVOTs8nELz"
      },
      "outputs": [],
      "source": [
        "not_a_tuple = (4)"
      ]
    },
    {
      "cell_type": "code",
      "execution_count": null,
      "metadata": {
        "id": "3Q8IPr8nnELz",
        "outputId": "3acd9cff-feae-40ba-82a6-d7466c91d7ae"
      },
      "outputs": [
        {
          "data": {
            "text/plain": [
              "4"
            ]
          },
          "execution_count": 214,
          "metadata": {},
          "output_type": "execute_result"
        }
      ],
      "source": [
        "not_a_tuple"
      ]
    },
    {
      "cell_type": "markdown",
      "metadata": {
        "id": "nFYzUAu_nELz"
      },
      "source": [
        "Tuples are often used to create multiple variables with a single statement."
      ]
    },
    {
      "cell_type": "code",
      "execution_count": null,
      "metadata": {
        "id": "ODUASHAinEL0"
      },
      "outputs": [],
      "source": [
        "point = (3, 4)"
      ]
    },
    {
      "cell_type": "code",
      "execution_count": null,
      "metadata": {
        "id": "cZQLui3fnEL0"
      },
      "outputs": [],
      "source": [
        "point_x, point_y = point"
      ]
    },
    {
      "cell_type": "code",
      "execution_count": null,
      "metadata": {
        "id": "B9LBO6H5nEL0",
        "outputId": "4fe0324a-75e1-4493-d545-bd218629a3b5"
      },
      "outputs": [
        {
          "data": {
            "text/plain": [
              "3"
            ]
          },
          "execution_count": 217,
          "metadata": {},
          "output_type": "execute_result"
        }
      ],
      "source": [
        "point_x"
      ]
    },
    {
      "cell_type": "code",
      "execution_count": null,
      "metadata": {
        "id": "OyxF9PkBnEL0",
        "outputId": "9d4b754a-1917-46ee-8962-12c62b6bcd17"
      },
      "outputs": [
        {
          "data": {
            "text/plain": [
              "4"
            ]
          },
          "execution_count": 218,
          "metadata": {},
          "output_type": "execute_result"
        }
      ],
      "source": [
        "point_y"
      ]
    },
    {
      "cell_type": "markdown",
      "metadata": {
        "id": "xM7qmbvHnEL1"
      },
      "source": [
        "You can convert a list into a tuple using the `tuple` function, and vice versa using the `list` function"
      ]
    },
    {
      "cell_type": "code",
      "execution_count": null,
      "metadata": {
        "id": "3yB5DXZLnEL1",
        "outputId": "8a92b375-5073-4222-82cd-7780fa791f27"
      },
      "outputs": [
        {
          "data": {
            "text/plain": [
              "('one', 'two', 'three')"
            ]
          },
          "execution_count": 219,
          "metadata": {},
          "output_type": "execute_result"
        }
      ],
      "source": [
        "tuple(['one', 'two', 'three'])"
      ]
    },
    {
      "cell_type": "code",
      "execution_count": null,
      "metadata": {
        "id": "291041VunEL1",
        "outputId": "f4db742a-5330-4129-cd15-7c26969f11db"
      },
      "outputs": [
        {
          "ename": "TypeError",
          "evalue": "'list' object is not callable",
          "output_type": "error",
          "traceback": [
            "\u001b[1;31m---------------------------------------------------------------------------\u001b[0m",
            "\u001b[1;31mTypeError\u001b[0m                                 Traceback (most recent call last)",
            "\u001b[1;32m<ipython-input-220-4abb1c7a2542>\u001b[0m in \u001b[0;36m<module>\u001b[1;34m\u001b[0m\n\u001b[1;32m----> 1\u001b[1;33m \u001b[0mlist\u001b[0m\u001b[1;33m(\u001b[0m\u001b[1;34m'Athos'\u001b[0m\u001b[1;33m,\u001b[0m \u001b[1;34m'Porthos'\u001b[0m\u001b[1;33m,\u001b[0m \u001b[1;34m'Aramis'\u001b[0m\u001b[1;33m)\u001b[0m\u001b[1;33m\u001b[0m\u001b[1;33m\u001b[0m\u001b[0m\n\u001b[0m",
            "\u001b[1;31mTypeError\u001b[0m: 'list' object is not callable"
          ]
        }
      ],
      "source": [
        "list('Athos', 'Porthos', 'Aramis')"
      ]
    },
    {
      "cell_type": "markdown",
      "metadata": {
        "id": "QmnA77sunEL9"
      },
      "source": [
        "Tuples have just two built-in methods: `count` and `index`. Can you figure out what they do? While you look could look for documentation and examples online, there's an easier way to check a method's documentation, using the `help` function."
      ]
    },
    {
      "cell_type": "code",
      "execution_count": null,
      "metadata": {
        "id": "agKou_YtnEL9"
      },
      "outputs": [],
      "source": [
        "a_tuple = 23, \"hello\", False, None, 23, 37, \"hello\""
      ]
    },
    {
      "cell_type": "code",
      "execution_count": null,
      "metadata": {
        "id": "kwzL66HAnEL9",
        "outputId": "425ebfb6-a8d0-4fa6-f4cd-13ef965cf1c2"
      },
      "outputs": [
        {
          "name": "stdout",
          "output_type": "stream",
          "text": [
            "Help on built-in function count:\n",
            "\n",
            "count(value, /) method of builtins.tuple instance\n",
            "    Return number of occurrences of value.\n",
            "\n"
          ]
        }
      ],
      "source": [
        "help(a_tuple.count)"
      ]
    },
    {
      "cell_type": "markdown",
      "metadata": {
        "id": "LD-5p5T-nEL-"
      },
      "source": [
        "Within a Jupyter notebook, you can also start a code cell with `?` and type the name of a function or method. When you execute this cell, you will see the function/method's documentation in a pop-up window."
      ]
    },
    {
      "cell_type": "code",
      "execution_count": null,
      "metadata": {
        "id": "2YxHmLoEnEL-"
      },
      "outputs": [],
      "source": [
        "?a_tuple.index"
      ]
    },
    {
      "cell_type": "markdown",
      "metadata": {
        "id": "L7kdx5aXnEL-"
      },
      "source": [
        "Try using `count` and `index` with `a_tuple` in the code cells below."
      ]
    },
    {
      "cell_type": "code",
      "execution_count": null,
      "metadata": {
        "id": "zD4lrdAQnEL_",
        "outputId": "76db8dca-c85b-48ce-ad5e-0fc0d35b858c"
      },
      "outputs": [
        {
          "data": {
            "text/plain": [
              "(23, 'hello', False, None, 23, 37, 'hello')"
            ]
          },
          "execution_count": 228,
          "metadata": {},
          "output_type": "execute_result"
        }
      ],
      "source": [
        "a_tuple"
      ]
    },
    {
      "cell_type": "code",
      "execution_count": null,
      "metadata": {
        "id": "D2CqGpx2nEMA",
        "outputId": "85524cbf-a044-4797-8d37-2f4651d533f3"
      },
      "outputs": [
        {
          "data": {
            "text/plain": [
              "2"
            ]
          },
          "execution_count": 226,
          "metadata": {},
          "output_type": "execute_result"
        }
      ],
      "source": [
        "a_tuple.count(\"hello\")"
      ]
    },
    {
      "cell_type": "code",
      "execution_count": null,
      "metadata": {
        "id": "zxfjadynnEMA",
        "outputId": "1afbde61-40f2-400d-8ea3-9b87e9751019"
      },
      "outputs": [
        {
          "data": {
            "text/plain": [
              "1"
            ]
          },
          "execution_count": 227,
          "metadata": {},
          "output_type": "execute_result"
        }
      ],
      "source": [
        "a_tuple.index(\"hello\")"
      ]
    },
    {
      "cell_type": "code",
      "execution_count": null,
      "metadata": {
        "id": "adIsySHMnEMB",
        "outputId": "a4568eed-c9de-4441-a759-858bd4a11fbe"
      },
      "outputs": [
        {
          "data": {
            "text/plain": [
              "6"
            ]
          },
          "execution_count": 231,
          "metadata": {},
          "output_type": "execute_result"
        }
      ],
      "source": [
        "a_tuple.index(\"hello\",3)"
      ]
    },
    {
      "cell_type": "markdown",
      "metadata": {
        "id": "MHPJsXzRnEMC"
      },
      "source": [
        "### Dictionary\n",
        "\n",
        "A dictionary is an unordered collection of items. Each item stored in a dictionary has a key and value. You can use a key to retrieve the corresponding value from the dictionary.  Dictionaries have the type `dict`.\n",
        "\n",
        "Dictionaries are often used to store many pieces of information e.g. details about a person, in a single variable. Dictionaries are created by enclosing key-value pairs within braces or curly brackets `{` and `}`."
      ]
    },
    {
      "cell_type": "code",
      "execution_count": null,
      "metadata": {
        "id": "XsSL2c41nEMC"
      },
      "outputs": [],
      "source": [
        "person1 = {\n",
        "    'name': 'John Doe',\n",
        "    'sex': 'Male',\n",
        "    'age': 32,\n",
        "    'married': True\n",
        "}"
      ]
    },
    {
      "cell_type": "code",
      "execution_count": null,
      "metadata": {
        "id": "rc-oVErxnEMD",
        "outputId": "21539492-0fe3-4104-d14f-0cba60fae34e"
      },
      "outputs": [
        {
          "data": {
            "text/plain": [
              "{'name': 'John Doe', 'sex': 'Male', 'age': 32, 'married': True}"
            ]
          },
          "execution_count": 233,
          "metadata": {},
          "output_type": "execute_result"
        }
      ],
      "source": [
        "person1"
      ]
    },
    {
      "cell_type": "markdown",
      "metadata": {
        "id": "Alunb0EEnEMD"
      },
      "source": [
        "Dictionaries can also be created using the `dict` function."
      ]
    },
    {
      "cell_type": "code",
      "execution_count": null,
      "metadata": {
        "id": "eiIkX41snEME"
      },
      "outputs": [],
      "source": [
        "person2 = dict(name='Jane Judy', sex='Female', age=28, married=False)"
      ]
    },
    {
      "cell_type": "code",
      "execution_count": null,
      "metadata": {
        "id": "f1TtKLTLnEME",
        "outputId": "02409c77-5304-4320-9cc6-3cde1ecf31d6"
      },
      "outputs": [
        {
          "data": {
            "text/plain": [
              "{'name': 'Jane Judy', 'sex': 'Female', 'age': 28, 'married': False}"
            ]
          },
          "execution_count": 235,
          "metadata": {},
          "output_type": "execute_result"
        }
      ],
      "source": [
        "person2"
      ]
    },
    {
      "cell_type": "code",
      "execution_count": null,
      "metadata": {
        "id": "bkQ45kcvnEME",
        "outputId": "e7ee650c-341d-4ff8-e3e6-e2f75f72d0a9"
      },
      "outputs": [
        {
          "data": {
            "text/plain": [
              "dict"
            ]
          },
          "execution_count": 236,
          "metadata": {},
          "output_type": "execute_result"
        }
      ],
      "source": [
        "type(person1)"
      ]
    },
    {
      "cell_type": "markdown",
      "metadata": {
        "id": "GGUrEIDKnEMF"
      },
      "source": [
        "Keys can be used to access values using square brackets `[` and `]`."
      ]
    },
    {
      "cell_type": "code",
      "execution_count": null,
      "metadata": {
        "id": "5lO7fj2fnEMF",
        "outputId": "45190f41-579f-4e23-dcdc-1d0fef4d5d5e"
      },
      "outputs": [
        {
          "data": {
            "text/plain": [
              "'John Doe'"
            ]
          },
          "execution_count": 237,
          "metadata": {},
          "output_type": "execute_result"
        }
      ],
      "source": [
        "person1['name']"
      ]
    },
    {
      "cell_type": "code",
      "execution_count": null,
      "metadata": {
        "id": "7RXiAiBknEMG",
        "outputId": "e43fe45e-1346-4759-bd59-cdbedf4608e6"
      },
      "outputs": [
        {
          "data": {
            "text/plain": [
              "True"
            ]
          },
          "execution_count": 238,
          "metadata": {},
          "output_type": "execute_result"
        }
      ],
      "source": [
        "person1['married']"
      ]
    },
    {
      "cell_type": "code",
      "execution_count": null,
      "metadata": {
        "id": "7Hj_h6hunEMG",
        "outputId": "0d38931b-4dce-41d8-e128-b043814bcc35"
      },
      "outputs": [
        {
          "data": {
            "text/plain": [
              "'Jane Judy'"
            ]
          },
          "execution_count": 239,
          "metadata": {},
          "output_type": "execute_result"
        }
      ],
      "source": [
        "person2['name']"
      ]
    },
    {
      "cell_type": "markdown",
      "metadata": {
        "id": "O4R7cUxFnEMH"
      },
      "source": [
        "If a key isn't present in the dictionary, then a `KeyError` is *thrown*."
      ]
    },
    {
      "cell_type": "code",
      "execution_count": null,
      "metadata": {
        "id": "GOvGZr3onEMH",
        "outputId": "e9c16b80-de83-4763-84a5-8f445a09a15e"
      },
      "outputs": [
        {
          "ename": "KeyError",
          "evalue": "'address'",
          "output_type": "error",
          "traceback": [
            "\u001b[1;31m---------------------------------------------------------------------------\u001b[0m",
            "\u001b[1;31mKeyError\u001b[0m                                  Traceback (most recent call last)",
            "\u001b[1;32m<ipython-input-240-f2b8bd2476d4>\u001b[0m in \u001b[0;36m<module>\u001b[1;34m\u001b[0m\n\u001b[1;32m----> 1\u001b[1;33m \u001b[0mperson1\u001b[0m\u001b[1;33m[\u001b[0m\u001b[1;34m'address'\u001b[0m\u001b[1;33m]\u001b[0m\u001b[1;33m\u001b[0m\u001b[1;33m\u001b[0m\u001b[0m\n\u001b[0m",
            "\u001b[1;31mKeyError\u001b[0m: 'address'"
          ]
        }
      ],
      "source": [
        "person1['address']"
      ]
    },
    {
      "cell_type": "markdown",
      "metadata": {
        "id": "9ktnMn-znEMI"
      },
      "source": [
        "You can also use the `get` method to access the value associated with a key."
      ]
    },
    {
      "cell_type": "code",
      "execution_count": null,
      "metadata": {
        "id": "91m7wxHznEMJ",
        "outputId": "94617ec4-53fa-46c2-f394-ecc1dbaec4f4"
      },
      "outputs": [
        {
          "data": {
            "text/plain": [
              "'Jane Judy'"
            ]
          },
          "execution_count": 241,
          "metadata": {},
          "output_type": "execute_result"
        }
      ],
      "source": [
        "person2.get(\"name\")"
      ]
    },
    {
      "cell_type": "markdown",
      "metadata": {
        "id": "D6GqsBIEnEMJ"
      },
      "source": [
        "The `get` method also accepts a default value, returned if the key is not present in the dictionary."
      ]
    },
    {
      "cell_type": "code",
      "execution_count": null,
      "metadata": {
        "id": "W4FrtIeVnEMK",
        "outputId": "213faacd-56a1-4dd9-b2bb-e5447fd377c9"
      },
      "outputs": [
        {
          "data": {
            "text/plain": [
              "'Unknown'"
            ]
          },
          "execution_count": 242,
          "metadata": {},
          "output_type": "execute_result"
        }
      ],
      "source": [
        "person2.get(\"address\", \"Unknown\")"
      ]
    },
    {
      "cell_type": "markdown",
      "metadata": {
        "id": "6gUnnx8WnEMK"
      },
      "source": [
        "You can check whether a key is present in a dictionary using the `in` operator."
      ]
    },
    {
      "cell_type": "code",
      "execution_count": null,
      "metadata": {
        "id": "fuMKkgV8nEML",
        "outputId": "5b61a9ea-e11b-44bd-e714-5dba61046073"
      },
      "outputs": [
        {
          "data": {
            "text/plain": [
              "True"
            ]
          },
          "execution_count": 243,
          "metadata": {},
          "output_type": "execute_result"
        }
      ],
      "source": [
        "'name' in person1"
      ]
    },
    {
      "cell_type": "code",
      "execution_count": null,
      "metadata": {
        "id": "ljSA0_vQnEML",
        "outputId": "020d5174-b415-476a-ef9d-de8d08904502"
      },
      "outputs": [
        {
          "data": {
            "text/plain": [
              "False"
            ]
          },
          "execution_count": 244,
          "metadata": {},
          "output_type": "execute_result"
        }
      ],
      "source": [
        "'address' in person1"
      ]
    },
    {
      "cell_type": "markdown",
      "metadata": {
        "id": "G_JHHemBnEMM"
      },
      "source": [
        "You can change the value associated with a key using the assignment operator."
      ]
    },
    {
      "cell_type": "code",
      "execution_count": null,
      "metadata": {
        "id": "HnJos73pnEMM",
        "outputId": "e7d2195e-37f6-449f-bd1a-71b89aef5a3e"
      },
      "outputs": [
        {
          "data": {
            "text/plain": [
              "False"
            ]
          },
          "execution_count": 245,
          "metadata": {},
          "output_type": "execute_result"
        }
      ],
      "source": [
        "person2['married']"
      ]
    },
    {
      "cell_type": "code",
      "execution_count": null,
      "metadata": {
        "id": "7tz2a67-nEMN"
      },
      "outputs": [],
      "source": [
        "person2['married'] = True"
      ]
    },
    {
      "cell_type": "code",
      "execution_count": null,
      "metadata": {
        "id": "xhcwJBsPnEMN",
        "outputId": "466ea499-59c3-4362-f477-6d48e37ed541"
      },
      "outputs": [
        {
          "data": {
            "text/plain": [
              "True"
            ]
          },
          "execution_count": 247,
          "metadata": {},
          "output_type": "execute_result"
        }
      ],
      "source": [
        "person2['married']"
      ]
    },
    {
      "cell_type": "markdown",
      "metadata": {
        "id": "zEAJC824nEMO"
      },
      "source": [
        "The assignment operator can also be used to add new key-value pairs to the dictionary."
      ]
    },
    {
      "cell_type": "code",
      "execution_count": null,
      "metadata": {
        "id": "GOZs8pvlnEMO",
        "outputId": "2a71e4f9-efc2-462a-c524-c7db39277854"
      },
      "outputs": [
        {
          "data": {
            "text/plain": [
              "{'name': 'John Doe', 'sex': 'Male', 'age': 32, 'married': True}"
            ]
          },
          "execution_count": 248,
          "metadata": {},
          "output_type": "execute_result"
        }
      ],
      "source": [
        "person1"
      ]
    },
    {
      "cell_type": "code",
      "execution_count": null,
      "metadata": {
        "id": "eROlMWT7nEMO"
      },
      "outputs": [],
      "source": [
        "person1['address'] = '1, Penny Lane'"
      ]
    },
    {
      "cell_type": "code",
      "execution_count": null,
      "metadata": {
        "id": "QFKfTYNZnEMP",
        "outputId": "a1b26c0f-d2c6-49f8-e469-9c9ce4e66e67"
      },
      "outputs": [
        {
          "data": {
            "text/plain": [
              "{'name': 'John Doe',\n",
              " 'sex': 'Male',\n",
              " 'age': 32,\n",
              " 'married': True,\n",
              " 'address': '1, Penny Lane'}"
            ]
          },
          "execution_count": 250,
          "metadata": {},
          "output_type": "execute_result"
        }
      ],
      "source": [
        "person1"
      ]
    },
    {
      "cell_type": "markdown",
      "metadata": {
        "id": "YLp5rq0ynEMP"
      },
      "source": [
        "To remove a key and the associated value from a dictionary, use the `pop` method."
      ]
    },
    {
      "cell_type": "code",
      "execution_count": null,
      "metadata": {
        "id": "mkAE-01tnEMQ",
        "outputId": "64e970ef-3e77-4607-ef5f-c24d35226c56"
      },
      "outputs": [
        {
          "data": {
            "text/plain": [
              "'1, Penny Lane'"
            ]
          },
          "execution_count": 251,
          "metadata": {},
          "output_type": "execute_result"
        }
      ],
      "source": [
        "person1.pop('address')"
      ]
    },
    {
      "cell_type": "code",
      "execution_count": null,
      "metadata": {
        "id": "aoYb5v8-nEMQ",
        "outputId": "00f30ee0-95df-448e-8059-6ce74c998650"
      },
      "outputs": [
        {
          "data": {
            "text/plain": [
              "{'name': 'John Doe', 'sex': 'Male', 'age': 32, 'married': True}"
            ]
          },
          "execution_count": 252,
          "metadata": {},
          "output_type": "execute_result"
        }
      ],
      "source": [
        "person1"
      ]
    },
    {
      "cell_type": "markdown",
      "metadata": {
        "id": "4FTsNPVWnEMR"
      },
      "source": [
        "Dictionaries also provide methods to view the list of keys, values, or key-value pairs inside it."
      ]
    },
    {
      "cell_type": "code",
      "execution_count": null,
      "metadata": {
        "id": "e2P5_NIBnEMR",
        "outputId": "2b316bcc-489e-4aaa-a15c-5940a06777c4"
      },
      "outputs": [
        {
          "data": {
            "text/plain": [
              "dict_keys(['name', 'sex', 'age', 'married'])"
            ]
          },
          "execution_count": 260,
          "metadata": {},
          "output_type": "execute_result"
        }
      ],
      "source": [
        "person1.keys()"
      ]
    },
    {
      "cell_type": "code",
      "execution_count": null,
      "metadata": {
        "id": "qZy-XeOtnEMS",
        "outputId": "7795a5ad-6278-4065-bd0a-869bfa6b522c"
      },
      "outputs": [
        {
          "data": {
            "text/plain": [
              "dict_values(['John Doe', 'Male', 32, True])"
            ]
          },
          "execution_count": 254,
          "metadata": {},
          "output_type": "execute_result"
        }
      ],
      "source": [
        "person1.values()"
      ]
    },
    {
      "cell_type": "code",
      "execution_count": null,
      "metadata": {
        "id": "oOhjznN1nEMT",
        "outputId": "32baa4fe-3ad5-4ecd-88a1-60e3c4e118d5"
      },
      "outputs": [
        {
          "data": {
            "text/plain": [
              "dict_items([('name', 'John Doe'), ('sex', 'Male'), ('age', 32), ('married', True)])"
            ]
          },
          "execution_count": 255,
          "metadata": {},
          "output_type": "execute_result"
        }
      ],
      "source": [
        "person1.items()"
      ]
    },
    {
      "cell_type": "code",
      "execution_count": null,
      "metadata": {
        "id": "yOXldc_4nEMT",
        "outputId": "ef48423f-b2ca-4da6-d0fb-9e850402d0ee"
      },
      "outputs": [
        {
          "ename": "TypeError",
          "evalue": "items() takes no arguments (1 given)",
          "output_type": "error",
          "traceback": [
            "\u001b[1;31m---------------------------------------------------------------------------\u001b[0m",
            "\u001b[1;31mTypeError\u001b[0m                                 Traceback (most recent call last)",
            "\u001b[1;32m<ipython-input-257-7c98fc9c6ec7>\u001b[0m in \u001b[0;36m<module>\u001b[1;34m\u001b[0m\n\u001b[1;32m----> 1\u001b[1;33m \u001b[0mperson1\u001b[0m\u001b[1;33m.\u001b[0m\u001b[0mitems\u001b[0m\u001b[1;33m(\u001b[0m\u001b[1;33m[\u001b[0m\u001b[1;36m1\u001b[0m\u001b[1;33m]\u001b[0m\u001b[1;33m)\u001b[0m\u001b[1;33m\u001b[0m\u001b[1;33m\u001b[0m\u001b[0m\n\u001b[0m\u001b[0;32m      2\u001b[0m \u001b[0mperson1\u001b[0m\u001b[1;33m.\u001b[0m\u001b[0mitems\u001b[0m\u001b[1;33m(\u001b[0m\u001b[1;33m)\u001b[0m\u001b[1;33m[\u001b[0m\u001b[1;36m1\u001b[0m\u001b[1;33m]\u001b[0m\u001b[1;33m\u001b[0m\u001b[1;33m\u001b[0m\u001b[0m\n",
            "\u001b[1;31mTypeError\u001b[0m: items() takes no arguments (1 given)"
          ]
        }
      ],
      "source": [
        "person1.items([1])\n",
        "person1.items()[1]"
      ]
    },
    {
      "cell_type": "markdown",
      "metadata": {
        "id": "spuOqzNJnEMU"
      },
      "source": [
        "The results of `keys`, `values`, and `items` look like lists. However, they don't support the indexing operator `[]` for retrieving elements. \n",
        "\n",
        "Can you figure out how to access an element at a specific index from these results? Try it below. *Hint: Use the `list` function*"
      ]
    },
    {
      "cell_type": "code",
      "execution_count": null,
      "metadata": {
        "id": "zQOiubatnEMU",
        "outputId": "b2e0fd9d-0b5f-49ac-b2c1-747588d07b48"
      },
      "outputs": [
        {
          "data": {
            "text/plain": [
              "{'name': 'John Doe', 'sex': 'Male', 'age': 32, 'married': True}"
            ]
          },
          "execution_count": 258,
          "metadata": {},
          "output_type": "execute_result"
        }
      ],
      "source": [
        "person1"
      ]
    },
    {
      "cell_type": "code",
      "execution_count": null,
      "metadata": {
        "id": "zVu2mtYXnEMV",
        "outputId": "955d9a0f-19cf-4692-8a47-446bc23c3af3"
      },
      "outputs": [
        {
          "data": {
            "text/plain": [
              "'John Doe'"
            ]
          },
          "execution_count": 264,
          "metadata": {},
          "output_type": "execute_result"
        }
      ],
      "source": [
        "person1['name'][0:]"
      ]
    },
    {
      "cell_type": "markdown",
      "metadata": {
        "id": "l5uTfXWunEMV"
      },
      "source": [
        "Dictionaries provide many other methods. You can learn more about them here: https://www.w3schools.com/python/python_ref_dictionary.asp .\n",
        "\n",
        "Here are some experiments you can try out with dictionaries (use the empty cells below):\n",
        "* What happens if you use the same key multiple times while creating a dictionary?\n",
        "* How can you create a copy of a dictionary (modifying the copy should not change the original)?\n",
        "* Can the value associated with a key itself be a dictionary?\n",
        "* How can you add the key-value pairs from one dictionary into another dictionary? Hint: See the `update` method.\n",
        "* Can the dictionary's keys be something other than a string, e.g., a number, boolean, list, etc.?"
      ]
    },
    {
      "cell_type": "markdown",
      "metadata": {
        "id": "LYfx9D7PnEMW"
      },
      "source": [
        "### What happens if you use the same key multiple times while creating a dictionary?"
      ]
    },
    {
      "cell_type": "code",
      "execution_count": null,
      "metadata": {
        "id": "rpwpB5ZInEMW",
        "outputId": "20d5677d-f7ae-435f-a3c4-8f5df9694af1"
      },
      "outputs": [
        {
          "data": {
            "text/plain": [
              "{'name': 'Pooja', 'sex': 'Male', 'age': 32, 'married': True}"
            ]
          },
          "execution_count": 280,
          "metadata": {},
          "output_type": "execute_result"
        }
      ],
      "source": [
        "person={'name': 'John Doe', 'sex': 'Male', 'age': 32, 'married': True,'name':'Pooja'}\n",
        "person  #override the pervious value "
      ]
    },
    {
      "cell_type": "markdown",
      "metadata": {
        "id": "RyYtbtNFnEMX"
      },
      "source": [
        "### How can you create a copy of a dictionary (modifying the copy should not change the original)?"
      ]
    },
    {
      "cell_type": "code",
      "execution_count": null,
      "metadata": {
        "id": "fMMg4jiynEMX",
        "outputId": "a4bb1531-7d92-4e96-ae71-96a35335a4a5"
      },
      "outputs": [
        {
          "name": "stdout",
          "output_type": "stream",
          "text": [
            "{'name': 'Pooja', 'sex': 'Male', 'age': 32, 'married': True}\n",
            "{'name': 'Pooja', 'sex': 'Male', 'age': 32, 'married': True}\n",
            "***********************after modifying copy******************* \n",
            "{'name': 'Pooja', 'sex': 'Male', 'age': 32, 'married': True}\n",
            "{'name': 'Das', 'sex': 'Male', 'age': 32, 'married': True}\n"
          ]
        }
      ],
      "source": [
        "person_copy=person.copy()\n",
        "print(person)\n",
        "print(person_copy)\n",
        "person_copy['name']=\"Das\"\n",
        "print(\"***********************after modifying copy******************* \")\n",
        "print(person)\n",
        "print(person_copy)"
      ]
    },
    {
      "cell_type": "markdown",
      "metadata": {
        "id": "paMgjkganEMY"
      },
      "source": [
        "### Can the value associated with a key itself be a dictionary?"
      ]
    },
    {
      "cell_type": "code",
      "execution_count": null,
      "metadata": {
        "id": "6_akwghWnEMY",
        "outputId": "15f59dbf-640f-446c-b03f-8a8a74e47ab1"
      },
      "outputs": [
        {
          "data": {
            "text/plain": [
              "dict_keys(['name', 'sex', 'age', 'married'])"
            ]
          },
          "execution_count": 288,
          "metadata": {},
          "output_type": "execute_result"
        }
      ],
      "source": [
        "person.keys() # its list"
      ]
    },
    {
      "cell_type": "markdown",
      "metadata": {
        "id": "XlkM0FLNnEMZ"
      },
      "source": [
        "### How can you add the key-value pairs from one dictionary into another dictionary? Hint: See the `update` method.\n"
      ]
    },
    {
      "cell_type": "code",
      "execution_count": null,
      "metadata": {
        "id": "na3Lwer2nEMZ",
        "outputId": "beb047a5-8c35-4d62-e36f-a9a9473a4a43"
      },
      "outputs": [
        {
          "name": "stdout",
          "output_type": "stream",
          "text": [
            "person:- {'name': 'Pooja Das', 'sex': 'Male', 'age': 32, 'married': True}\n",
            "person:- {'name': 'DODO', 'sex': 'Male', 'age': 32, 'married': True}\n"
          ]
        }
      ],
      "source": [
        "person.update(person_copy)\n",
        "print(\"person:-\",person)\n",
        "person_copy[\"name\"]=\"DODO\"\n",
        "person.update(person_copy)\n",
        "print(\"person:-\",person)"
      ]
    },
    {
      "cell_type": "markdown",
      "metadata": {
        "id": "QV4dPvtxnEMa"
      },
      "source": [
        "### Can the dictionary's keys be something other than a string, e.g., a number, boolean, list, etc.?"
      ]
    },
    {
      "cell_type": "code",
      "execution_count": null,
      "metadata": {
        "id": "vX7EQN1PnEMa",
        "outputId": "13f56715-974c-4c1c-b6e3-7e37bc364b18"
      },
      "outputs": [
        {
          "data": {
            "text/plain": [
              "{'name': 'Pooja Das', 7: 'emp', 8000.5: 'salary', True: 'married'}"
            ]
          },
          "execution_count": 295,
          "metadata": {},
          "output_type": "execute_result"
        }
      ],
      "source": [
        "person= {'name': 'Pooja Das', 7: 'emp', 8000.5: \"salary\", True: \"married\"}\n",
        "person"
      ]
    },
    {
      "cell_type": "markdown",
      "metadata": {
        "id": "jZ9j2gTwnEMb"
      },
      "source": [
        "## Further Reading\n",
        "\n",
        "We've now completed our exploration of variables and common data types in Python. Following are some resources to learn more about data types in Python:\n",
        "\n",
        "* Python official documentation: https://docs.python.org/3/tutorial/index.html\n",
        "* Python Tutorial at W3Schools: https://www.w3schools.com/python/\n",
        "* Practical Python Programming: https://dabeaz-course.github.io/practical-python/Notes/Contents.html\n",
        "\n",
        "You are now ready to move on to the next tutorial: [Branching using conditional statements and loops in Python](https://jovian.ml/aakashns/python-branching-and-loops)"
      ]
    },
    {
      "cell_type": "markdown",
      "metadata": {
        "id": "SkUs5loXnEMb"
      },
      "source": [
        "Let's save a snapshot of our notebook one final time using `jovian.commit`."
      ]
    },
    {
      "cell_type": "code",
      "execution_count": null,
      "metadata": {
        "id": "VSZZsyNInEMc",
        "outputId": "089a9adc-c85e-4d1b-936f-47690ed7d331"
      },
      "outputs": [
        {
          "data": {
            "application/javascript": [
              "window.require && require([\"base/js/namespace\"],function(Jupyter){Jupyter.notebook.save_checkpoint()})"
            ],
            "text/plain": [
              "<IPython.core.display.Javascript object>"
            ]
          },
          "metadata": {},
          "output_type": "display_data"
        },
        {
          "name": "stdout",
          "output_type": "stream",
          "text": [
            "[jovian] Attempting to save notebook..\r\n"
          ]
        }
      ],
      "source": [
        "jovian.commit()"
      ]
    },
    {
      "cell_type": "markdown",
      "metadata": {
        "id": "aMP2wJjZnEMc"
      },
      "source": [
        "## Questions for Revision\n",
        "\n",
        "Try answering the following questions to test your understanding of the topics covered in this notebook:\n",
        "\n",
        "1. What is a variable in Python?\n",
        "2. How do you create a variable?\n",
        "3. How do you check the value within a variable?\n",
        "4. How do you create multiple variables in a single statement?\n",
        "5. How do you create multiple variables with the same value?\n",
        "6. How do you change the value of a variable?\n",
        "7. How do you reassign a variable by modifying the previous value?\n",
        "8. What does the statement `counter += 4` do?\n",
        "9. What are the rules for naming a variable?\n",
        "10. Are variable names case-sensitive? Do `a_variable`, `A_Variable`, and `A_VARIABLE` represent the same variable or different ones?\n",
        "11. What is Syntax? Why is it important?\n",
        "12. What happens if you execute a statement with invalid syntax?\n",
        "13. How do you check the data type of a variable?\n",
        "14. What are the built-in data types in Python?\n",
        "15. What is a primitive data type? \n",
        "16. What are the primitive data types available in Python?\n",
        "17. What is a data structure or container data type?\n",
        "18. What are the container types available in Python?\n",
        "19. What kind of data does the Integer data type represent?\n",
        "20. What are the numerical limits of the integer data type?\n",
        "21. What kind of data does the float data type represent?\n",
        "22. How does Python decide if a given number is a float or an integer?\n",
        "23. How can you create a variable which stores a whole number, e.g., 4 but has the float data type?\n",
        "24. How do you create floats representing very large (e.g., 6.023 x 10^23) or very small numbers (0.000000123)?\n",
        "25. What does the expression `23e-12` represent?\n",
        "26. Can floats be used to store numbers with unlimited precision?\n",
        "27. What are the differences between integers and floats?\n",
        "28. How do you convert an integer to a float?\n",
        "29. How do you convert a float to an integer?\n",
        "30. What is the result obtained when you convert 1.99 to an integer?\n",
        "31. What are the data types of the results of the division operators `/` and `//`?\n",
        "32. What kind of data does the Boolean data type represent?\n",
        "33. Which types of Python operators return booleans as a result?\n",
        "34. What happens if you try to use a boolean in arithmetic operation?\n",
        "35. How can any value in Python be covered to a boolean?\n",
        "36. What are truthy and falsy values?\n",
        "37. What are the values in Python that evaluate to False?\n",
        "38. Give some examples of values that evaluate to True.\n",
        "39. What kind of data does the None data type represent?\n",
        "40. What is the purpose of None?\n",
        "41. What kind of data does the String data type represent?\n",
        "42. What are the different ways of creating strings in Python?\n",
        "43. What is the difference between strings creating using single quotes, i.e. `'` and `'` vs. those created using double quotes, i.e. `\"` and `\"`?\n",
        "44. How do you create multi-line strings in Python?\n",
        "45. What is the newline character, `\\n`?\n",
        "46. What are escaped characters? How are they useful?\n",
        "47. How do you check the length of a string?\n",
        "48. How do you convert a string into a list of characters?\n",
        "49. How do you access a specific character from a string?\n",
        "50. How do you access a range of characters from a string?\n",
        "51. How do you check if a specific character occurs in a string?\n",
        "52. How do you check if a smaller string occurs within a bigger string?\n",
        "53. How do you join two or more strings?\n",
        "54. What are \"methods\" in Python? How are they different from functions?\n",
        "55. What do the `.lower`, `.upper` and `.capitalize` methods on strings do?\n",
        "56. How do you replace a specific part of a string with something else?\n",
        "57. How do you split the string \"Sun,Mon,Tue,Wed,Thu,Fri,Sat\" into a list of days?\n",
        "58. How do you remove whitespace from the beginning and end of a string?\n",
        "59. What is the string `.format` method used for? Can you give an example?\n",
        "60. What are the benefits of using the `.format` method instead of string concatenation?\n",
        "61. How do you convert a value of another type to a string?\n",
        "62. How do you check if two strings have the same value?\n",
        "63. Where can you find the list of all the methods supported by strings?\n",
        "64. What is a list in Python?\n",
        "65. How do you create a list?\n",
        "66. Can a Python list contain values of different data types?\n",
        "67. Can a list contain another list as an element within it?\n",
        "68. Can you create a list without any values?\n",
        "69. How do you check the length of a list in Python?\n",
        "70. How do you retrieve a value from a list?\n",
        "71. What is the smallest and largest index you can use to access elements from a list containing five elements?\n",
        "72. What happens if you try to access an index equal to or larger than the size of a list?\n",
        "73. What happens if you try to access a negative index within a list?\n",
        "74. How do you access a range of elements from a list?\n",
        "75. How many elements does the list returned by the expression `a_list[2:5]` contain?\n",
        "76. What do the ranges `a_list[:2]` and `a_list[2:]` represent?\n",
        "77. How do you change the item stored at a specific index within a list?\n",
        "78. How do you insert a new item at the beginning, middle, or end of a list?\n",
        "79. How do you remove an item from al list?\n",
        "80. How do you remove the item at a given index from a list?\n",
        "81. How do you check if a list contains a value?\n",
        "82. How do you combine two or most lists to create a larger list?\n",
        "83. How do you create a copy of a list?\n",
        "84. Does the expression `a_new_list = a_list` create a copy of the list `a_list`?\n",
        "85. Where can you find the list of all the methods supported by lists?\n",
        "86. What is a Tuple in Python?\n",
        "87. How is a tuple different from a list?\n",
        "88. Can you add or remove elements in a tuple?\n",
        "89. How do you create a tuple with just one element?\n",
        "90. How do you convert a tuple to a list and vice versa?\n",
        "91. What are the `count` and `index` method of a Tuple used for?\n",
        "92. What is a dictionary in Python?\n",
        "93. How do you create a dictionary?\n",
        "94. What are keys and values?\n",
        "95. How do you access the value associated with a specific key in a dictionary?\n",
        "96. What happens if you try to access the value for a key that doesn't exist in a dictionary?\n",
        "97. What is the `.get` method of a dictionary used for?\n",
        "98. How do you change the value associated with a key in a dictionary?\n",
        "99. How do you add or remove a key-value pair in a dictionary?\n",
        "100. How do you access the keys, values, and key-value pairs within a dictionary?\n"
      ]
    },
    {
      "cell_type": "code",
      "execution_count": null,
      "metadata": {
        "id": "_rQ9IWnbnEMe"
      },
      "outputs": [],
      "source": [
        ""
      ]
    },
    {
      "cell_type": "code",
      "execution_count": null,
      "metadata": {
        "id": "g_75hXcnnEMe"
      },
      "outputs": [],
      "source": [
        ""
      ]
    }
  ],
  "metadata": {
    "kernelspec": {
      "display_name": "Python 3",
      "language": "python",
      "name": "python3"
    },
    "language_info": {
      "codemirror_mode": {
        "name": "ipython",
        "version": 3
      },
      "file_extension": ".py",
      "mimetype": "text/x-python",
      "name": "python",
      "nbconvert_exporter": "python",
      "pygments_lexer": "ipython3",
      "version": "3.8.5"
    },
    "colab": {
      "name": "python-variables-and-data-types.ipynb",
      "provenance": [],
      "include_colab_link": true
    }
  },
  "nbformat": 4,
  "nbformat_minor": 0
}